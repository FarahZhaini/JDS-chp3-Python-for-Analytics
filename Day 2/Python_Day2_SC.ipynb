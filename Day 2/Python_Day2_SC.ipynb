{
 "cells": [
  {
   "cell_type": "markdown",
   "metadata": {},
   "source": [
    "<img src=\"../images/cads-logo.png\" style=\"height: 100px;\" align=left> \n",
    "<img src=\"../images/python-logo.png\" style=\"height: 100px;\" align=right>"
   ]
  },
  {
   "cell_type": "markdown",
   "metadata": {},
   "source": [
    "# Python Fundamentals Day 2\n",
    "\n",
    "Welcome to Python Fundamentals Day 2.\n",
    "\n",
    "So what is on the menu for today? \n",
    "\n",
    "We start with the While loop and provide you some additional useful tricks to apply in the For loop. We spend a bit of time on casting objects from one type to the other and explain you what these \\_\\_double\\_\\_ underscores are about.\n",
    "\n",
    "Then we go through the overviews of list and dictionary operations. There is quite a lot you can do with these 2 powerfull and common used objects. \n",
    "\n",
    "Then list comprehension. This is a very powerful construct that allows you to create a new list from another while applying a filter and an expression to each item. It is a for loop inside a list.\n",
    "\n",
    "And finally the nameless lambda function, which comes in very handy in numerous applications."
   ]
  },
  {
   "cell_type": "markdown",
   "metadata": {},
   "source": [
    "## Table of Contents\n",
    "\n",
    "- [More on loops](#More-on-loops)\n",
    "    - [While loop](#While-loop)\n",
    "    - [Range](#Range)\n",
    "    - [Enumerate](#Enumerate)\n",
    "    - [Casting](#Casting)\n",
    "    - [Dunder methods](#Dunder-methods)\n",
    "    - [Summary - More on loops](#Summary---More-on-loops)\n",
    "        - [while](#while)\n",
    "        - [range](#range)\n",
    "        - [enumerate](#enumerate)\n",
    "        - [casting](#casting)\n",
    "        - [dunder methods](#dunder-methods)\n",
    "- [List operations](#List-operations)\n",
    "    - [Summary - List operations](#Summary---List-operations)\n",
    "        - [list operations](#list-operations)\n",
    "    - [RUN ME](#RUN-ME)\n",
    "    - [Exercises - List operations](#Exercises---List-operations)\n",
    "        - [Exercise 1 - Month days](#Exercise-1---Month-days)\n",
    "        - [Exercise 2 - Get unevens](#Exercise-2---Get-unevens)\n",
    "        - [Exercise 3 - Sum top](#Exercise-3---Sum-top)\n",
    "        - [Exercise 4 - Match ends](#Exercise-4---Match-ends)\n",
    "- [Dictionary operations](#Dictionary-operations)\n",
    "    - [Summary - Dictionary operations](#Summary---Dictionary-operations)\n",
    "        - [dictionary operations](#dictionary-operations)\n",
    "    - [RUN ME](#RUN-ME)\n",
    "    - [Exercises - Dictionary operations](#Exercises---Dictionary-operations)\n",
    "        - [Exercise 1 - Numbers info](#Exercise-1---Numbers-info)\n",
    "        - [Exercice 2 - Cart checkout](#Exercice-2---Cart-checkout)\n",
    "        - [Exercise 3 - Grade students](#Exercise-3---Grade-students)\n",
    "- [List comprehension and lambda](#List-comprehension-and-lambda)\n",
    "    - [List Comprehensions](#List-Comprehensions)\n",
    "    - [Lambda](#Lambda)\n",
    "    - [Summary - List comprehension and lambda](#Summary---List-comprehension-and-lambda)\n",
    "        - [list comprehension](#list-comprehension)\n",
    "        - [lambda](#lambda)\n",
    "    - [RUN ME](#RUN-ME)\n",
    "    - [Exercises - List comprehension and lambda](#Exercises---List-comprehension-and-lambda)\n",
    "        - [Exercise 1 - Negative ints](#Exercise-1---Negative-ints)\n",
    "        - [Exercise 2 - Power odds](#Exercise-2---Power-odds)\n",
    "        - [Exercise 3 - Word lengths](#Exercise-3---Word-lengths)\n",
    "        - [Exercise 4 - Celsius to Fahrenheit](#Exercise-4---Celsius-to-Fahrenheit)\n",
    "        - [Exercise 5 - Square odds lambda](#Exercise-5---Square-odds-lambda)\n",
    "        - [Exercise 6 - Square odds lc](#-Exercise-6---Square-odds-lc)\n",
    "        - [Exercise 7 - Extract A names lambda](#Exercise-7---Extract-A-names-lambda)\n",
    "        - [Exercise 8 - Extract B names lc](#Exercise-8---Extract-B-names-lc)\n",
    "        - [Exercise 9 - Sort last](#Exercise-9---Sort-last)\n",
    "        - [Exercise 10 - Coordinates](#Exercise-10---Coordinates)\n",
    "        - [Exercise 11 - Ball Cake](#Exercise-11---Ball-Cake)\n",
    "        - [Exercise 12 - Front x](#Exercise-12---Front-x)"
   ]
  },
  {
   "cell_type": "markdown",
   "metadata": {
    "toc-hr-collapsed": false
   },
   "source": [
    "## More on loops"
   ]
  },
  {
   "cell_type": "markdown",
   "metadata": {},
   "source": [
    "### While loop"
   ]
  },
  {
   "cell_type": "markdown",
   "metadata": {},
   "source": [
    "Besides the for loop there is also the while loop.\n",
    "\n",
    "The while loop continues iterating until it's condition stops being True.\n",
    "\n",
    "Let's see it."
   ]
  },
  {
   "cell_type": "code",
   "execution_count": 1,
   "metadata": {},
   "outputs": [
    {
     "name": "stdout",
     "output_type": "stream",
     "text": [
      "1\n",
      "2\n",
      "3\n",
      "4\n",
      "5\n",
      "6\n",
      "7\n",
      "8\n",
      "9\n",
      "10\n"
     ]
    }
   ],
   "source": [
    "i = 0\n",
    "\n",
    "while i<10: #start and end loop with this condition, i=10 loop stop\n",
    "    i+=1\n",
    "    print(i)"
   ]
  },
  {
   "cell_type": "markdown",
   "metadata": {},
   "source": [
    "Let's write a code that asks the user for integer numbers until the total is 50."
   ]
  },
  {
   "cell_type": "code",
   "execution_count": 4,
   "metadata": {},
   "outputs": [
    {
     "name": "stdout",
     "output_type": "stream",
     "text": [
      "20\n",
      "\n",
      "x: 20 \n",
      "Total: 20\n",
      "30\n",
      "\n",
      "x: 30 \n",
      "Total: 50\n"
     ]
    }
   ],
   "source": [
    "total = 0\n",
    "\n",
    "while total <50:\n",
    "    x=int(input())\n",
    "    total+=x\n",
    "    print(\"\\nx:\",x,\"\\nTotal:\",total)"
   ]
  },
  {
   "cell_type": "markdown",
   "metadata": {},
   "source": [
    "What did we do here?\n",
    "\n",
    "Notice the condition \"total < 50\". The loop keeps iterating until that condition stops being True. The input() function asks the user for input. The int() function casts a string to a float. This is called casting, we cast an object of one type to be of another type. Then we add the resulting number x to the total. We repeat until the total is 50 or higher.\n",
    "\n",
    "Now we want to check if the input string is convertible to an integer. Let's use dir(str) to see which method we could use for that."
   ]
  },
  {
   "cell_type": "code",
   "execution_count": null,
   "metadata": {},
   "outputs": [],
   "source": []
  },
  {
   "cell_type": "markdown",
   "metadata": {},
   "source": [
    "**Question:** Which string function can we use to check can cast a string to an int?\n",
    "<br><br><br><br><br><br>\n",
    "**Answer:**"
   ]
  },
  {
   "cell_type": "code",
   "execution_count": 5,
   "metadata": {},
   "outputs": [
    {
     "name": "stdout",
     "output_type": "stream",
     "text": [
      "Help on method_descriptor:\n",
      "\n",
      "isnumeric(self, /)\n",
      "    Return True if the string is a numeric string, False otherwise.\n",
      "    \n",
      "    A string is numeric if all characters in the string are numeric and there is at\n",
      "    least one character in the string.\n",
      "\n"
     ]
    }
   ],
   "source": [
    "help(str.isnumeric)"
   ]
  },
  {
   "cell_type": "markdown",
   "metadata": {},
   "source": [
    "We can now add this if-else statement to make it more robust."
   ]
  },
  {
   "cell_type": "code",
   "execution_count": 6,
   "metadata": {},
   "outputs": [
    {
     "name": "stdout",
     "output_type": "stream",
     "text": [
      "20\n",
      "\n",
      "x: 20 \n",
      "Total: 20\n",
      "30\n",
      "\n",
      "x: 30 \n",
      "Total: 50\n"
     ]
    }
   ],
   "source": [
    "total = 0\n",
    "\n",
    "while total < 50:\n",
    "    x = input()\n",
    "    if x.isnumeric(): #isnumeric is all character (0-9), if not jdi False\n",
    "        total += int(x)\n",
    "    else:\n",
    "        print(\"{} is not a valid round number!\".format(x)) #syntax sama macam --> print(\"Answer= {}\".format(a))\n",
    "    print(\"\\nx:\",x,\"\\nTotal:\",total)"
   ]
  },
  {
   "cell_type": "markdown",
   "metadata": {},
   "source": [
    "What did we do here?\n",
    "\n",
    "Variable x is a string. If that string is numeric it can be casted to an int. Else we print that it is not a valid round number. "
   ]
  },
  {
   "cell_type": "markdown",
   "metadata": {},
   "source": [
    "### Range\n",
    "\n",
    "The for loop is used often in combination with range(). Let's have a look."
   ]
  },
  {
   "cell_type": "code",
   "execution_count": 7,
   "metadata": {},
   "outputs": [
    {
     "name": "stdout",
     "output_type": "stream",
     "text": [
      "Help on class range in module builtins:\n",
      "\n",
      "class range(object)\n",
      " |  range(stop) -> range object\n",
      " |  range(start, stop[, step]) -> range object\n",
      " |  \n",
      " |  Return an object that produces a sequence of integers from start (inclusive)\n",
      " |  to stop (exclusive) by step.  range(i, j) produces i, i+1, i+2, ..., j-1.\n",
      " |  start defaults to 0, and stop is omitted!  range(4) produces 0, 1, 2, 3.\n",
      " |  These are exactly the valid indices for a list of 4 elements.\n",
      " |  When step is given, it specifies the increment (or decrement).\n",
      " |  \n",
      " |  Methods defined here:\n",
      " |  \n",
      " |  __bool__(self, /)\n",
      " |      True if self else False\n",
      " |  \n",
      " |  __contains__(self, key, /)\n",
      " |      Return key in self.\n",
      " |  \n",
      " |  __eq__(self, value, /)\n",
      " |      Return self==value.\n",
      " |  \n",
      " |  __ge__(self, value, /)\n",
      " |      Return self>=value.\n",
      " |  \n",
      " |  __getattribute__(self, name, /)\n",
      " |      Return getattr(self, name).\n",
      " |  \n",
      " |  __getitem__(self, key, /)\n",
      " |      Return self[key].\n",
      " |  \n",
      " |  __gt__(self, value, /)\n",
      " |      Return self>value.\n",
      " |  \n",
      " |  __hash__(self, /)\n",
      " |      Return hash(self).\n",
      " |  \n",
      " |  __iter__(self, /)\n",
      " |      Implement iter(self).\n",
      " |  \n",
      " |  __le__(self, value, /)\n",
      " |      Return self<=value.\n",
      " |  \n",
      " |  __len__(self, /)\n",
      " |      Return len(self).\n",
      " |  \n",
      " |  __lt__(self, value, /)\n",
      " |      Return self<value.\n",
      " |  \n",
      " |  __ne__(self, value, /)\n",
      " |      Return self!=value.\n",
      " |  \n",
      " |  __reduce__(...)\n",
      " |      Helper for pickle.\n",
      " |  \n",
      " |  __repr__(self, /)\n",
      " |      Return repr(self).\n",
      " |  \n",
      " |  __reversed__(...)\n",
      " |      Return a reverse iterator.\n",
      " |  \n",
      " |  count(...)\n",
      " |      rangeobject.count(value) -> integer -- return number of occurrences of value\n",
      " |  \n",
      " |  index(...)\n",
      " |      rangeobject.index(value) -> integer -- return index of value.\n",
      " |      Raise ValueError if the value is not present.\n",
      " |  \n",
      " |  ----------------------------------------------------------------------\n",
      " |  Static methods defined here:\n",
      " |  \n",
      " |  __new__(*args, **kwargs) from builtins.type\n",
      " |      Create and return a new object.  See help(type) for accurate signature.\n",
      " |  \n",
      " |  ----------------------------------------------------------------------\n",
      " |  Data descriptors defined here:\n",
      " |  \n",
      " |  start\n",
      " |  \n",
      " |  step\n",
      " |  \n",
      " |  stop\n",
      "\n"
     ]
    }
   ],
   "source": [
    "help(range)"
   ]
  },
  {
   "cell_type": "code",
   "execution_count": 6,
   "metadata": {},
   "outputs": [
    {
     "data": {
      "text/plain": [
       "range(0, 10)"
      ]
     },
     "execution_count": 6,
     "metadata": {},
     "output_type": "execute_result"
    }
   ],
   "source": [
    "range(10)"
   ]
  },
  {
   "cell_type": "code",
   "execution_count": 7,
   "metadata": {},
   "outputs": [
    {
     "name": "stdout",
     "output_type": "stream",
     "text": [
      "0\n",
      "1\n",
      "2\n",
      "3\n",
      "4\n",
      "5\n",
      "6\n",
      "7\n",
      "8\n",
      "9\n"
     ]
    }
   ],
   "source": [
    "for i in range (10):\n",
    "    print(i)"
   ]
  },
  {
   "cell_type": "code",
   "execution_count": 8,
   "metadata": {},
   "outputs": [
    {
     "name": "stdout",
     "output_type": "stream",
     "text": [
      "0\n",
      "2\n",
      "4\n",
      "6\n",
      "8\n",
      "10\n"
     ]
    }
   ],
   "source": [
    "for i in range (0,11,2): #from 0 to 10 (before 11), increment 2\n",
    "    print(i)"
   ]
  },
  {
   "cell_type": "code",
   "execution_count": 8,
   "metadata": {},
   "outputs": [
    {
     "name": "stdout",
     "output_type": "stream",
     "text": [
      "0\n",
      "3\n",
      "6\n",
      "9\n",
      "12\n",
      "15\n",
      "18\n",
      "21\n",
      "24\n",
      "27\n",
      "30\n"
     ]
    }
   ],
   "source": [
    "for i in range (0,31,3):\n",
    "    print(i)"
   ]
  },
  {
   "cell_type": "markdown",
   "metadata": {},
   "source": [
    "### Enumerate\n",
    "\n",
    "Sometimes you want to loop over a list of items and also use the index numbers. For this we can use the numerate function."
   ]
  },
  {
   "cell_type": "code",
   "execution_count": 9,
   "metadata": {},
   "outputs": [],
   "source": [
    "items = [\"banana\",\"orange\",\"apple\"] #list"
   ]
  },
  {
   "cell_type": "code",
   "execution_count": 10,
   "metadata": {
    "scrolled": true
   },
   "outputs": [
    {
     "data": {
      "text/plain": [
       "[(0, 'banana'), (1, 'orange'), (2, 'apple')]"
      ]
     },
     "execution_count": 10,
     "metadata": {},
     "output_type": "execute_result"
    }
   ],
   "source": [
    "list(enumerate(items)) #numberkan dalam list"
   ]
  },
  {
   "cell_type": "code",
   "execution_count": 11,
   "metadata": {
    "scrolled": true
   },
   "outputs": [
    {
     "data": {
      "text/plain": [
       "[(301, 'banana'), (302, 'orange'), (303, 'apple')]"
      ]
     },
     "execution_count": 11,
     "metadata": {},
     "output_type": "execute_result"
    }
   ],
   "source": [
    "list(enumerate(items, start=301)) #list start from 301, not default 0"
   ]
  },
  {
   "cell_type": "code",
   "execution_count": 12,
   "metadata": {
    "scrolled": false
   },
   "outputs": [
    {
     "name": "stdout",
     "output_type": "stream",
     "text": [
      "101 banana\n",
      "102 orange\n",
      "103 apple\n"
     ]
    }
   ],
   "source": [
    "items = [\"banana\",\"orange\",\"apple\"]\n",
    "for i, item in enumerate(items,start=101): #syntax? remember\n",
    "    print(i,item)"
   ]
  },
  {
   "cell_type": "code",
   "execution_count": 13,
   "metadata": {},
   "outputs": [],
   "source": [
    "games = [\"Candy Crush\",\"PVZ\",\"Harvest Moon\",\"Stardew Valley\"]"
   ]
  },
  {
   "cell_type": "code",
   "execution_count": 14,
   "metadata": {},
   "outputs": [
    {
     "data": {
      "text/plain": [
       "[(1001, 'Candy Crush'),\n",
       " (1002, 'PVZ'),\n",
       " (1003, 'Harvest Moon'),\n",
       " (1004, 'Stardew Valley')]"
      ]
     },
     "execution_count": 14,
     "metadata": {},
     "output_type": "execute_result"
    }
   ],
   "source": [
    "list(enumerate(games, start=1001))"
   ]
  },
  {
   "cell_type": "code",
   "execution_count": 15,
   "metadata": {},
   "outputs": [
    {
     "name": "stdout",
     "output_type": "stream",
     "text": [
      "1001 Candy Crush\n",
      "1002 PVZ\n",
      "1003 Harvest Moon\n",
      "1004 Stardew Valley\n"
     ]
    }
   ],
   "source": [
    "for i, item in enumerate(games,start=1001):\n",
    "    print(i,item)"
   ]
  },
  {
   "cell_type": "markdown",
   "metadata": {},
   "source": [
    "### Casting"
   ]
  },
  {
   "cell_type": "markdown",
   "metadata": {},
   "source": [
    "We casted a str to an int. We can do this for any of types. If the obj is not castable then we will get an Exception.\n",
    "\n",
    "***Question:*** Which of these conversions will work?"
   ]
  },
  {
   "cell_type": "code",
   "execution_count": null,
   "metadata": {},
   "outputs": [],
   "source": []
  },
  {
   "cell_type": "code",
   "execution_count": null,
   "metadata": {},
   "outputs": [],
   "source": []
  },
  {
   "cell_type": "code",
   "execution_count": 17,
   "metadata": {},
   "outputs": [
    {
     "data": {
      "text/plain": [
       "{'a': 1, 'b': 2}"
      ]
     },
     "execution_count": 17,
     "metadata": {},
     "output_type": "execute_result"
    }
   ],
   "source": [
    "dict ([('a',1),('b',2)])"
   ]
  },
  {
   "cell_type": "markdown",
   "metadata": {},
   "source": [
    "### Dunder methods\n",
    "\n",
    "So what's with all the '\\_\\_blah\\_\\_'?\n",
    "\n",
    "Object methods with two underscores are called \"dunder methods\". This stands for double underscore. These tell Python what to do in certain operations, for example \\_\\_eq\\_\\_ is a function to compare with another object and \\_\\_add\\_\\_ handles the + operation under the hood."
   ]
  },
  {
   "cell_type": "code",
   "execution_count": 18,
   "metadata": {},
   "outputs": [
    {
     "data": {
      "text/plain": [
       "['__add__',\n",
       " '__class__',\n",
       " '__class_getitem__',\n",
       " '__contains__',\n",
       " '__delattr__',\n",
       " '__delitem__',\n",
       " '__dir__',\n",
       " '__doc__',\n",
       " '__eq__',\n",
       " '__format__',\n",
       " '__ge__',\n",
       " '__getattribute__',\n",
       " '__getitem__',\n",
       " '__gt__',\n",
       " '__hash__',\n",
       " '__iadd__',\n",
       " '__imul__',\n",
       " '__init__',\n",
       " '__init_subclass__',\n",
       " '__iter__',\n",
       " '__le__',\n",
       " '__len__',\n",
       " '__lt__',\n",
       " '__mul__',\n",
       " '__ne__',\n",
       " '__new__',\n",
       " '__reduce__',\n",
       " '__reduce_ex__',\n",
       " '__repr__',\n",
       " '__reversed__',\n",
       " '__rmul__',\n",
       " '__setattr__',\n",
       " '__setitem__',\n",
       " '__sizeof__',\n",
       " '__str__',\n",
       " '__subclasshook__',\n",
       " 'append',\n",
       " 'clear',\n",
       " 'copy',\n",
       " 'count',\n",
       " 'extend',\n",
       " 'index',\n",
       " 'insert',\n",
       " 'pop',\n",
       " 'remove',\n",
       " 'reverse',\n",
       " 'sort']"
      ]
     },
     "execution_count": 18,
     "metadata": {},
     "output_type": "execute_result"
    }
   ],
   "source": [
    "dir(list)"
   ]
  },
  {
   "cell_type": "markdown",
   "metadata": {},
   "source": [
    "We can get help on these methods as well."
   ]
  },
  {
   "cell_type": "code",
   "execution_count": 19,
   "metadata": {},
   "outputs": [
    {
     "name": "stdout",
     "output_type": "stream",
     "text": [
      "Help on wrapper_descriptor:\n",
      "\n",
      "__add__(self, value, /)\n",
      "    Return self+value.\n",
      "\n"
     ]
    }
   ],
   "source": [
    "help(list.__add__)"
   ]
  },
  {
   "cell_type": "code",
   "execution_count": 20,
   "metadata": {},
   "outputs": [
    {
     "data": {
      "text/plain": [
       "[1, 2, 3, 4, 5, 6]"
      ]
     },
     "execution_count": 20,
     "metadata": {},
     "output_type": "execute_result"
    }
   ],
   "source": [
    "list_1=[1,2,3]\n",
    "list_2=[4,5,6]\n",
    "\n",
    "list_3=list_1 + list_2\n",
    "list_3"
   ]
  },
  {
   "cell_type": "code",
   "execution_count": 21,
   "metadata": {},
   "outputs": [
    {
     "data": {
      "text/plain": [
       "[1, 2, 3, 4, 5, 6]"
      ]
     },
     "execution_count": 21,
     "metadata": {},
     "output_type": "execute_result"
    }
   ],
   "source": [
    "list_1.__add__(list_2) #syntax format mmg mcm ni"
   ]
  },
  {
   "cell_type": "markdown",
   "metadata": {},
   "source": [
    "So dunder method \\_\\_add\\_\\_ implements what happens when the + operator is applied."
   ]
  },
  {
   "cell_type": "markdown",
   "metadata": {},
   "source": [
    "### Summary - More on loops"
   ]
  },
  {
   "cell_type": "markdown",
   "metadata": {},
   "source": [
    "> #### while\n",
    "A while loop statement in Python programming language repeatedly executes a target statement as long as a given condition is true.\n",
    "```python\n",
    "while i < 5:\n",
    "    i+=1\n",
    "    print(i)\n",
    "```"
   ]
  },
  {
   "cell_type": "markdown",
   "metadata": {},
   "source": [
    "> #### range\n",
    "A sequence of integers from start (inclusive) to stop (exclusive) by step.\n",
    "```python\n",
    "range(5)\n",
    "range(1,6)\n",
    "range(0,11,2)\n",
    "for i in range(5):\n",
    "    print(i)\n",
    "```\n"
   ]
  },
  {
   "cell_type": "markdown",
   "metadata": {},
   "source": [
    "> #### enumerate\n",
    "Returns a tuple containing a count (default starts with 0) and the values obtained from iterating over iterable.\n",
    "```python\n",
    "items = ['orange','apple','mango']\n",
    "enumerate(items)\n",
    "for i,item in enumerate(items):\n",
    "    print(i,item)\n",
    "```"
   ]
  },
  {
   "cell_type": "markdown",
   "metadata": {},
   "source": [
    "> #### casting\n",
    "Specify a type on to a variable.\n",
    "```python\n",
    "int(\"10\")\n",
    "float(\"10.2\")\n",
    "dict([('a',1), ('b', 2)])\n",
    "```"
   ]
  },
  {
   "cell_type": "markdown",
   "metadata": {},
   "source": [
    "> #### dunder methods\n",
    "Double underscore methods. This is how Python operations as + and == or implemented for the object.\n",
    "```python\n",
    "str.__add__\n",
    "str.__eq__\n",
    "```"
   ]
  },
  {
   "cell_type": "markdown",
   "metadata": {
    "toc-hr-collapsed": false
   },
   "source": [
    "## List operations\n",
    "\n",
    "The <font style=\"font-family:courier\" color=green>list</font> is a very power object with many functionalities. \n",
    "\n",
    "Here is an overview of the most important functionality.\n",
    "\n",
    "- <font style=\"font-family:courier\"><font color=green>len</font>(`dict`)</font> – Gives the total length of the dictionary. This would be equal to the number of items in the dictionary.\n",
    "- <font style=\"font-family:courier\"><font color=green>list</font>.clear()</font> – Removes all elements of the list\n",
    "- <font style=\"font-family:courier\"><font color=green>list</font>.copy()</font> – Returns a shallow copy of the list\n",
    "- <font style=\"font-family:courier\"><font color=green>list</font>.append(`element`)</font> – adds a single element to the end of the list. Common error: does not <font style=\"font-family:courier\" color=green><strong>return</strong></font> the new list, just modifies the original.\n",
    "- <font style=\"font-family:courier\"><font color=green>list</font>.insert(`index`, `element`)</font> – inserts the element at the given index, shifting elements to the right.\n",
    "- <font style=\"font-family:courier\"><font color=green>list</font>.extend(`list2`)</font> adds the elements in `list2` to the end of the list. Using <font style=\"font-family:courier\" color=purple><strong>+</strong></font> or <font style=\"font-family:courier\" color=purple><strong>+=</strong></font> on a list is similar to using <font style=\"font-family:courier\">extend()</font>.\n",
    "- <font style=\"font-family:courier\"><font color=green>list</font>.index(`element`)</font> – searches for the given element from the start of the list and <font style=\"font-family:courier\" color=green><strong>return</strong></font>s its index. Throws a <font style=\"font-family:courier\" color=red>ValueError</font> if the element does not appear (use <font style=\"font-family:courier\" color=green><strong>in</strong></font> to check without a <font style=\"font-family:courier\" color=red>ValueError</font>).\n",
    "- `item` in `list` – check if the item is in the list\n",
    "- <font style=\"font-family:courier\"><font color=green>list</font>.remove(`element`)</font> – searches for the first instance of the given element and removes it (throws <font style=\"font-family:courier\" color=red>ValueError</font> if not present)\n",
    "- <font style=\"font-family:courier\"><font color=green>list</font>.sort()</font> – sorts the list in place (does not <font style=\"font-family:courier\" color=green><strong>return</strong></font> it).\n",
    "- <font style=\"font-family:courier\" color=green>sorted(`list`)</font> – <font style=\"font-family:courier\" color=green><strong>return</strong></font> sorted list but keeps the original order of the list\n",
    "- <font style=\"font-family:courier\"><font color=green>list</font>.reverse()</font> – reverses the list in place (does not <font style=\"font-family:courier\" color=green><strong>return</strong></font> it)\n",
    "- <font style=\"font-family:courier\"><font color=green>list</font>.pop(`index`)</font> – removes and <font style=\"font-family:courier\" color=green><strong>return</strong></font>s the element at the given index. <font style=\"font-family:courier\" color=green><strong>returns</strong></font> the rightmost element if index is omitted (roughly the opposite of <font style=\"font-family:courier\">append()</font>).\n",
    "\n",
    "This is to give a overview, so that you know of the existence of these functionalities. <br>Do you need to learn these by heart? __*No*__. Because you can always look it up using <font style=\"font-family:courier\"><font color=green>help</font>()</font> or <font style=\"font-family:courier\"><font color=green>dir</font>()</font> or the online python documentation."
   ]
  },
  {
   "cell_type": "markdown",
   "metadata": {},
   "source": [
    "Let's go through these functionalities. \n",
    "\n",
    "Create a list, show the size, clear it"
   ]
  },
  {
   "cell_type": "code",
   "execution_count": 22,
   "metadata": {},
   "outputs": [
    {
     "data": {
      "text/plain": [
       "[1, 2, 3, 4]"
      ]
     },
     "execution_count": 22,
     "metadata": {},
     "output_type": "execute_result"
    }
   ],
   "source": [
    "numbers = [1,2,3,4]\n",
    "numbers"
   ]
  },
  {
   "cell_type": "code",
   "execution_count": 23,
   "metadata": {},
   "outputs": [
    {
     "data": {
      "text/plain": [
       "list"
      ]
     },
     "execution_count": 23,
     "metadata": {},
     "output_type": "execute_result"
    }
   ],
   "source": [
    "type(numbers)"
   ]
  },
  {
   "cell_type": "code",
   "execution_count": 24,
   "metadata": {},
   "outputs": [],
   "source": [
    "numbers.clear()"
   ]
  },
  {
   "cell_type": "code",
   "execution_count": 25,
   "metadata": {},
   "outputs": [
    {
     "data": {
      "text/plain": [
       "[]"
      ]
     },
     "execution_count": 25,
     "metadata": {},
     "output_type": "execute_result"
    }
   ],
   "source": [
    "numbers"
   ]
  },
  {
   "cell_type": "markdown",
   "metadata": {},
   "source": [
    "You can use the <font style=\"font-family:courier\"><font color=green>list</font>.copy()</font> method when you want to copy the list and make a new object out of it."
   ]
  },
  {
   "cell_type": "code",
   "execution_count": 26,
   "metadata": {},
   "outputs": [
    {
     "data": {
      "text/plain": [
       "[1, 2, 3, 4]"
      ]
     },
     "execution_count": 26,
     "metadata": {},
     "output_type": "execute_result"
    }
   ],
   "source": [
    "numbers = [1,2,3,4]\n",
    "numbers"
   ]
  },
  {
   "cell_type": "code",
   "execution_count": 27,
   "metadata": {},
   "outputs": [],
   "source": [
    "numbers_2 = numbers #this one rujuk yg numbers1, same box\n",
    "numbers_3 = numbers.copy() #just copy je value, duplicate"
   ]
  },
  {
   "cell_type": "code",
   "execution_count": 28,
   "metadata": {},
   "outputs": [
    {
     "data": {
      "text/plain": [
       "[1, 2, 3, 4]"
      ]
     },
     "execution_count": 28,
     "metadata": {},
     "output_type": "execute_result"
    }
   ],
   "source": [
    "numbers_2"
   ]
  },
  {
   "cell_type": "code",
   "execution_count": 29,
   "metadata": {},
   "outputs": [
    {
     "data": {
      "text/plain": [
       "[1, 2, 3, 4]"
      ]
     },
     "execution_count": 29,
     "metadata": {},
     "output_type": "execute_result"
    }
   ],
   "source": [
    "numbers_3"
   ]
  },
  {
   "cell_type": "code",
   "execution_count": 30,
   "metadata": {},
   "outputs": [
    {
     "name": "stdout",
     "output_type": "stream",
     "text": [
      "2090401830272\n",
      "2090401830272\n",
      "2090402475136\n"
     ]
    }
   ],
   "source": [
    "print(id(numbers))\n",
    "print(id(numbers_2))\n",
    "print(id(numbers_3))"
   ]
  },
  {
   "cell_type": "markdown",
   "metadata": {},
   "source": [
    "Append an item at the end."
   ]
  },
  {
   "cell_type": "code",
   "execution_count": 31,
   "metadata": {},
   "outputs": [
    {
     "data": {
      "text/plain": [
       "[1, 2, 3, 4, 5]"
      ]
     },
     "execution_count": 31,
     "metadata": {},
     "output_type": "execute_result"
    }
   ],
   "source": [
    "numbers.append(5)\n",
    "numbers"
   ]
  },
  {
   "cell_type": "markdown",
   "metadata": {},
   "source": [
    "Notice this doesn't <font style=\"font-family:courier\" color=green><strong>return</strong></font> a object. This is an **in-place** operation. The original object is changed. Now <font style=\"font-family:courier\" color=green>5</font> is added to the list. Let's see what happened to variable `numbers_2` and variable `numbers_3`."
   ]
  },
  {
   "cell_type": "code",
   "execution_count": 32,
   "metadata": {},
   "outputs": [
    {
     "name": "stdout",
     "output_type": "stream",
     "text": [
      "[1, 2, 3, 4, 5]\n",
      "[1, 2, 3, 4, 5]\n",
      "[1, 2, 3, 4]\n"
     ]
    }
   ],
   "source": [
    "print(numbers)\n",
    "print(numbers_2)\n",
    "print(numbers_3)"
   ]
  },
  {
   "cell_type": "code",
   "execution_count": 33,
   "metadata": {},
   "outputs": [
    {
     "name": "stdout",
     "output_type": "stream",
     "text": [
      "2090401830272\n",
      "2090401830272\n",
      "2090402475136\n"
     ]
    }
   ],
   "source": [
    "print(id(numbers))\n",
    "print(id(numbers_2))\n",
    "print(id(numbers_3))"
   ]
  },
  {
   "cell_type": "markdown",
   "metadata": {},
   "source": [
    "**Be careful not to assign an <u>in-place</u> operation to a variable.**"
   ]
  },
  {
   "cell_type": "code",
   "execution_count": 34,
   "metadata": {},
   "outputs": [
    {
     "name": "stdout",
     "output_type": "stream",
     "text": [
      "numbers= [1, 2, 3, 4, 5, 6]\n",
      "new_numbers= None\n"
     ]
    }
   ],
   "source": [
    "new_numbers = numbers.append(6) #!!!append and assign cannot be in one code\n",
    "\n",
    "print(\"numbers=\",numbers)\n",
    "print(\"new_numbers=\",new_numbers)"
   ]
  },
  {
   "cell_type": "code",
   "execution_count": 35,
   "metadata": {},
   "outputs": [
    {
     "name": "stdout",
     "output_type": "stream",
     "text": [
      "numbers [1, 2, 3, 4, 5, 6, 6]\n",
      "new_numbers [1, 2, 3, 4, 5, 6, 6]\n"
     ]
    }
   ],
   "source": [
    "numbers.append(6)\n",
    "new_numbers = numbers\n",
    "\n",
    "print(\"numbers\",numbers)\n",
    "print(\"new_numbers\",new_numbers)"
   ]
  },
  {
   "cell_type": "markdown",
   "metadata": {},
   "source": [
    "Notice that the value of `new_numbers` is <font style=\"font-family:courier\" color=green><strong>None</strong></font>. This is what happens when you assign an in-place operation to a variable."
   ]
  },
  {
   "cell_type": "code",
   "execution_count": 36,
   "metadata": {},
   "outputs": [
    {
     "data": {
      "text/plain": [
       "[1, 2, 3, 4, 5, 6, 6]"
      ]
     },
     "execution_count": 36,
     "metadata": {},
     "output_type": "execute_result"
    }
   ],
   "source": [
    "numbers"
   ]
  },
  {
   "cell_type": "code",
   "execution_count": 37,
   "metadata": {},
   "outputs": [
    {
     "data": {
      "text/plain": [
       "[1, 2, 100, 3, 4, 5, 6, 6]"
      ]
     },
     "execution_count": 37,
     "metadata": {},
     "output_type": "execute_result"
    }
   ],
   "source": [
    "numbers.insert(2,100) #insert(IndexPlace,ValueInsert)\n",
    "numbers #index 0,1,2,3,4"
   ]
  },
  {
   "cell_type": "markdown",
   "metadata": {},
   "source": [
    "We can also extend a list with another list. Notice this in an **in-place** operation."
   ]
  },
  {
   "cell_type": "code",
   "execution_count": 38,
   "metadata": {},
   "outputs": [
    {
     "data": {
      "text/plain": [
       "[1, 2, 100, 3, 4, 5, 6, 6, 10, 20, 30]"
      ]
     },
     "execution_count": 38,
     "metadata": {},
     "output_type": "execute_result"
    }
   ],
   "source": [
    "numbers.extend([10,20,30]) #like append, but extend can add more than one item??\n",
    "numbers"
   ]
  },
  {
   "cell_type": "code",
   "execution_count": 39,
   "metadata": {},
   "outputs": [
    {
     "data": {
      "text/plain": [
       "[1, 2, 100, 3, 4, 5, 6, 6, 10, 20, 30, [10, 20, 30]]"
      ]
     },
     "execution_count": 39,
     "metadata": {},
     "output_type": "execute_result"
    }
   ],
   "source": [
    "numbers.append([10,20,30]) #try function append, macam biasa, add list in list\n",
    "numbers"
   ]
  },
  {
   "cell_type": "markdown",
   "metadata": {},
   "source": [
    "We can add two lists with the + operator."
   ]
  },
  {
   "cell_type": "code",
   "execution_count": 40,
   "metadata": {},
   "outputs": [
    {
     "data": {
      "text/plain": [
       "[1, 2, 3, 4, 5, 6]"
      ]
     },
     "execution_count": 40,
     "metadata": {},
     "output_type": "execute_result"
    }
   ],
   "source": [
    "[1,2,3]+[4,5,6]"
   ]
  },
  {
   "cell_type": "markdown",
   "metadata": {},
   "source": [
    "We can get the index of the first occurence of an item."
   ]
  },
  {
   "cell_type": "code",
   "execution_count": 41,
   "metadata": {},
   "outputs": [
    {
     "data": {
      "text/plain": [
       "8"
      ]
     },
     "execution_count": 41,
     "metadata": {},
     "output_type": "execute_result"
    }
   ],
   "source": [
    "numbers.index(10) #cari index placement, first '10' is at 8th index"
   ]
  },
  {
   "cell_type": "markdown",
   "metadata": {},
   "source": [
    "And then get the list until the 10 value."
   ]
  },
  {
   "cell_type": "code",
   "execution_count": 42,
   "metadata": {},
   "outputs": [
    {
     "name": "stdout",
     "output_type": "stream",
     "text": [
      "[1, 2, 100, 3, 4, 5, 6, 6, 10, 20, 30, [10, 20, 30]]\n",
      "[1, 2, 100, 3, 4, 5, 6, 6]\n"
     ]
    }
   ],
   "source": [
    "print(numbers)\n",
    "print(numbers[0:numbers.index(10)]) #show only from index 0 till value before 10\n",
    "\n",
    "#actually slice function tu utk format index je\n",
    "#from yesterday\n",
    "#print(text[0:3])\n",
    "#print(text[:3])\n",
    "#print(text[3:])\n",
    "#print(text[-3:])\n",
    "#print(text[1:3])\n",
    "#print(text[:])"
   ]
  },
  {
   "cell_type": "markdown",
   "metadata": {},
   "source": [
    "Check if the list `numbers` holds <font style=\"font-family:courier\" color=green>200</font>."
   ]
  },
  {
   "cell_type": "code",
   "execution_count": 43,
   "metadata": {},
   "outputs": [
    {
     "data": {
      "text/plain": [
       "False"
      ]
     },
     "execution_count": 43,
     "metadata": {},
     "output_type": "execute_result"
    }
   ],
   "source": [
    "200 in numbers #is there any '200' in numbers list?"
   ]
  },
  {
   "cell_type": "code",
   "execution_count": 44,
   "metadata": {},
   "outputs": [
    {
     "data": {
      "text/plain": [
       "True"
      ]
     },
     "execution_count": 44,
     "metadata": {},
     "output_type": "execute_result"
    }
   ],
   "source": [
    "100 in numbers #is there any '100' in numbers list?"
   ]
  },
  {
   "cell_type": "markdown",
   "metadata": {},
   "source": [
    "We can remove an item. It will remove the first occurence of that item."
   ]
  },
  {
   "cell_type": "code",
   "execution_count": 45,
   "metadata": {},
   "outputs": [
    {
     "name": "stdout",
     "output_type": "stream",
     "text": [
      "[1, 2, 100, 3, 4, 5, 6, 6, 10, 20, 30, [10, 20, 30]]\n",
      "[1, 2, 100, 3, 4, 5, 6, 10, 20, 30, [10, 20, 30]]\n"
     ]
    }
   ],
   "source": [
    "print(numbers)\n",
    "numbers.remove(6)\n",
    "print(numbers)"
   ]
  },
  {
   "cell_type": "markdown",
   "metadata": {},
   "source": [
    "We can sort the list in-place."
   ]
  },
  {
   "cell_type": "code",
   "execution_count": 46,
   "metadata": {},
   "outputs": [
    {
     "name": "stdout",
     "output_type": "stream",
     "text": [
      "[1, 2, 200, 5]\n",
      "[1, 2, 5, 200]\n"
     ]
    }
   ],
   "source": [
    "numbers=[1,2,200,5]\n",
    "print(numbers)\n",
    "\n",
    "numbers.sort() #by default sort ascending, original berubah\n",
    "print(numbers)"
   ]
  },
  {
   "cell_type": "markdown",
   "metadata": {},
   "source": [
    "We can also sort reversed by adding keyword argument <font style=\"font-family:courier\">reverse <strong><font color=purple>=</font> <font color=green>True</font></strong></font>. The <font style=\"font-family:courier\"><font color=green>sorted</font>()</font> built-in function returns a sorted list but it does not affect the original."
   ]
  },
  {
   "cell_type": "code",
   "execution_count": 47,
   "metadata": {},
   "outputs": [
    {
     "name": "stdout",
     "output_type": "stream",
     "text": [
      "[200, 5, 2, 1]\n",
      "[1, 2, 5, 200]\n"
     ]
    }
   ],
   "source": [
    "print(sorted(numbers,reverse=True)) #sorted boleh edit ascending/decsending\n",
    "print(numbers) #sorted() function just sort je tpi original still sama\n",
    "\n",
    "# function() print() range() sort() type()\n",
    "# [] list\n",
    "# {} dict"
   ]
  },
  {
   "cell_type": "markdown",
   "metadata": {},
   "source": [
    "We can reverse a list in place."
   ]
  },
  {
   "cell_type": "code",
   "execution_count": 48,
   "metadata": {},
   "outputs": [
    {
     "data": {
      "text/plain": [
       "[50, 60, 500, 20, 10]"
      ]
     },
     "execution_count": 48,
     "metadata": {},
     "output_type": "execute_result"
    }
   ],
   "source": [
    "numbers=[10,20,500,60,50]\n",
    "numbers.reverse() #not sort decsending, just reverse list\n",
    "numbers"
   ]
  },
  {
   "cell_type": "markdown",
   "metadata": {},
   "source": [
    "The pop function returns the last items and removes it from the list."
   ]
  },
  {
   "cell_type": "code",
   "execution_count": 49,
   "metadata": {},
   "outputs": [
    {
     "name": "stdout",
     "output_type": "stream",
     "text": [
      "[10, 20, 500, 60, 50]\n",
      "\n",
      "[10, 20, 500, 60] 50\n",
      "[10, 20, 500] 60\n",
      "[10, 20] 500\n",
      "[10] 20\n",
      "[] 10\n"
     ]
    }
   ],
   "source": [
    "numbers=[10,20,500,60,50]\n",
    "print(numbers)\n",
    "\n",
    "print()\n",
    "while numbers: #after every element is popped out, list empty, loop exit\n",
    "    print(numbers,numbers.pop()) #print numbers list, print number that pop"
   ]
  },
  {
   "cell_type": "markdown",
   "metadata": {},
   "source": [
    "A list can be casted to a bool, which happens if a list is evaluated like here in the while statement."
   ]
  },
  {
   "cell_type": "code",
   "execution_count": 50,
   "metadata": {},
   "outputs": [
    {
     "data": {
      "text/plain": [
       "True"
      ]
     },
     "execution_count": 50,
     "metadata": {},
     "output_type": "execute_result"
    }
   ],
   "source": [
    "bool([1,2,3])"
   ]
  },
  {
   "cell_type": "code",
   "execution_count": 51,
   "metadata": {},
   "outputs": [
    {
     "data": {
      "text/plain": [
       "False"
      ]
     },
     "execution_count": 51,
     "metadata": {},
     "output_type": "execute_result"
    }
   ],
   "source": [
    "bool([])"
   ]
  },
  {
   "cell_type": "code",
   "execution_count": 52,
   "metadata": {},
   "outputs": [
    {
     "name": "stdout",
     "output_type": "stream",
     "text": [
      "kit: ['medic', 'hotdog', 'soap', 555]\n",
      "\n",
      "I consumed 555\n",
      "I consumed soap\n",
      "I consumed hotdog\n",
      "I consumed medic\n",
      "\n",
      "kit: []\n"
     ]
    }
   ],
   "source": [
    "kit = ['medic','hotdog','soap',555]\n",
    "\n",
    "print('kit:', kit,end='\\n\\n')\n",
    "\n",
    "while kit: #after every element is popped out, list empty, loop exit\n",
    "    print('I consumed', kit.pop()) \n",
    "    \n",
    "print('\\nkit:', kit) #list empty"
   ]
  },
  {
   "cell_type": "markdown",
   "metadata": {
    "toc-hr-collapsed": false
   },
   "source": [
    "### Summary - List operations"
   ]
  },
  {
   "cell_type": "markdown",
   "metadata": {},
   "source": [
    "> #### list operations\n",
    "The <font style=\"font-family:courier\" color=green>list</font> is a powerful object with many functionalities. The <font style=\"font-family:courier\" color=green>list</font> is a mutable object.\n",
    "```python\n",
    "numbers = []\n",
    "numbers = [1,2,3,4]\n",
    "numbers[0]\n",
    "numbers[0] == 100\n",
    "numbers.append(0)\n",
    "numbers.insert(1, 100) # insert at index 1\n",
    "numbers.extend([5,6,7])\n",
    "numbers.remove(5)\n",
    "numbers.copy()\n",
    "numbers.clear()\n",
    "numbers.index(5)\n",
    "numbers.sort()\n",
    "numbers.sort(reverse=True)\n",
    "item = numbers.pop()\n",
    "sorted(numbers, reverse=True)\n",
    "5 in numbers\n",
    "len(numbers)\n",
    "```"
   ]
  },
  {
   "cell_type": "markdown",
   "metadata": {
    "toc-hr-collapsed": false
   },
   "source": [
    "### RUN ME\n",
    "\n",
    "Please run the below code snippet. It is required for running tests for your solution."
   ]
  },
  {
   "cell_type": "code",
   "execution_count": 53,
   "metadata": {},
   "outputs": [],
   "source": [
    "def test(got, expected):\n",
    "    if got == expected:\n",
    "        prefix = ' OK '\n",
    "    else:\n",
    "        prefix = '  FAIL '\n",
    "    print((f' {prefix} got: {got} expected: {expected}'))"
   ]
  },
  {
   "cell_type": "code",
   "execution_count": 54,
   "metadata": {},
   "outputs": [
    {
     "name": "stdout",
     "output_type": "stream",
     "text": [
      "   FAIL  got: a expected: ab\n",
      "  OK  got: a expected: a\n"
     ]
    }
   ],
   "source": [
    "test('a', 'ab')\n",
    "test('a', 'a')"
   ]
  },
  {
   "cell_type": "markdown",
   "metadata": {},
   "source": [
    "### Exercises - List operations"
   ]
  },
  {
   "cell_type": "markdown",
   "metadata": {},
   "source": [
    "#### Exercise 1 - Month days\n",
    "\n",
    "Define a function that inputs a string and returns the numbers of days in that month.\n",
    "\n",
    "Hints: help(str.index)"
   ]
  },
  {
   "cell_type": "code",
   "execution_count": 55,
   "metadata": {},
   "outputs": [],
   "source": [
    "months = [\"January\", \"February\", \"March\", \"April\", \"May\", \"June\", \"July\",\\\n",
    "          \"August\", \"September\", \"October\", \"November\", \"December\"]\n",
    "days = [31,28,31,30,31,30,31,31,30,31,30,31]"
   ]
  },
  {
   "cell_type": "code",
   "execution_count": 56,
   "metadata": {},
   "outputs": [
    {
     "name": "stdout",
     "output_type": "stream",
     "text": [
      "month_days\n",
      "  OK  got: 31 expected: 31\n",
      "  OK  got: 28 expected: 28\n",
      "  OK  got: 30 expected: 30\n",
      "  OK  got: 31 expected: 31\n"
     ]
    }
   ],
   "source": [
    "#exercise 1 - farah\n",
    "\n",
    "def month_days(month): #blue font=function\n",
    "    months = [\"January\", \"February\", \"March\", \"April\", \"May\", \"June\", \"July\",\\\n",
    "          \"August\", \"September\", \"October\", \"November\", \"December\"]\n",
    "    days = [31,28,31,30,31,30,31,31,30,31,30,31]\n",
    "    \n",
    "    i= months.index(month)\n",
    "    return days[i]\n",
    "\n",
    "\n",
    "print(\"month_days\")\n",
    "test(month_days(\"January\"), 31)\n",
    "test(month_days(\"February\"), 28)\n",
    "test(month_days(\"September\"), 30)\n",
    "test(month_days(\"December\"), 31)\n"
   ]
  },
  {
   "cell_type": "code",
   "execution_count": 57,
   "metadata": {},
   "outputs": [
    {
     "name": "stdout",
     "output_type": "stream",
     "text": [
      "month_days\n",
      "  OK  got: 31 expected: 31\n",
      "  OK  got: 28 expected: 28\n",
      "  OK  got: 30 expected: 30\n",
      "  OK  got: 31 expected: 31\n"
     ]
    }
   ],
   "source": [
    "def month_days(month): #blue font=function\n",
    "    months = [\"January\", \"February\", \"March\", \"April\", \"May\", \"June\", \"July\",\\\n",
    "          \"August\", \"September\", \"October\", \"November\", \"December\"]\n",
    "    days = [31,28,31,30,31,30,31,31,30,31,30,31]\n",
    "    \n",
    "    i = months.index(month)\n",
    "    return days[i]\n",
    "\n",
    "\n",
    "print(\"month_days\")\n",
    "test(month_days(\"January\"), 31)\n",
    "test(month_days(\"February\"), 28)\n",
    "test(month_days(\"September\"), 30)\n",
    "test(month_days(\"December\"), 31)"
   ]
  },
  {
   "cell_type": "code",
   "execution_count": 58,
   "metadata": {},
   "outputs": [
    {
     "name": "stdout",
     "output_type": "stream",
     "text": [
      "Help on method_descriptor:\n",
      "\n",
      "index(...)\n",
      "    S.index(sub[, start[, end]]) -> int\n",
      "    \n",
      "    Return the lowest index in S where substring sub is found,\n",
      "    such that sub is contained within S[start:end].  Optional\n",
      "    arguments start and end are interpreted as in slice notation.\n",
      "    \n",
      "    Raises ValueError when the substring is not found.\n",
      "\n"
     ]
    }
   ],
   "source": [
    "help(str.index)"
   ]
  },
  {
   "cell_type": "markdown",
   "metadata": {},
   "source": [
    "#### Exercise 2 - Get unevens\n",
    "\n",
    "Define a function called remove_even that returns a list after removing the even numbers from it.\n",
    "\n",
    "Hints: define a new list, help(str.append)"
   ]
  },
  {
   "cell_type": "code",
   "execution_count": null,
   "metadata": {},
   "outputs": [],
   "source": []
  },
  {
   "cell_type": "code",
   "execution_count": 59,
   "metadata": {},
   "outputs": [
    {
     "name": "stdout",
     "output_type": "stream",
     "text": [
      "get_unevens\n",
      "  OK  got: [7, 25, 27] expected: [7, 25, 27]\n"
     ]
    }
   ],
   "source": [
    "#exercise 2 - farah\n",
    "num_list = [7,8, 120, 25, 44, 20, 27]\n",
    "\n",
    "def remove_even(num_list):\n",
    "    new_list=[] #empty list\n",
    "    \n",
    "    for x in num_list:\n",
    "        if x%2 != 0:\n",
    "            new_list.append(x)\n",
    "    return new_list\n",
    "\n",
    "\n",
    "#print(remove_even(num_list))\n",
    "print(\"get_unevens\")\n",
    "\n",
    "test(remove_even(num_list), [7,25,27])"
   ]
  },
  {
   "cell_type": "code",
   "execution_count": 60,
   "metadata": {},
   "outputs": [
    {
     "name": "stdout",
     "output_type": "stream",
     "text": [
      "get_unevens\n",
      "\n",
      "  OK  got: [7, 25, 27] expected: [7, 25, 27]\n"
     ]
    }
   ],
   "source": [
    "num = [7, 8, 120, 25, 44, 20, 27]\n",
    "\n",
    "def remove_even(numbers_list):\n",
    "    new_list=[]\n",
    "    for n in numbers_list:\n",
    "        if n%2!=0:\n",
    "            new_list.append(n)\n",
    "        \n",
    "    return new_list\n",
    "\n",
    "print(\"get_unevens\", end = '\\n\\n')\n",
    "test(remove_even(num), [7,25,27])"
   ]
  },
  {
   "cell_type": "markdown",
   "metadata": {},
   "source": [
    "#### Exercise 3 - Sum top\n",
    "\n",
    "What is the total of the 3 highest numbers in this list?\n",
    "\n",
    "Hints: sorted()[:3]"
   ]
  },
  {
   "cell_type": "code",
   "execution_count": 61,
   "metadata": {},
   "outputs": [
    {
     "name": "stdout",
     "output_type": "stream",
     "text": [
      "505\n",
      "sum_top\n",
      "  OK  got: 505 expected: 505\n"
     ]
    }
   ],
   "source": [
    "#exercise 3 - farah\n",
    "numbers = [50, 23, 1, -50, 4, 400, 55, 32]\n",
    "\n",
    "def sum_top(numbers):\n",
    "    numbers.sort(reverse=True)\n",
    "    return sum(numbers[0:3])\n",
    "\n",
    "print(sum_top(numbers))\n",
    "print(\"sum_top\")\n",
    "\n",
    "\n",
    "test(sum_top(numbers), 505)"
   ]
  },
  {
   "cell_type": "code",
   "execution_count": 62,
   "metadata": {},
   "outputs": [
    {
     "name": "stdout",
     "output_type": "stream",
     "text": [
      "[50, 23, 1, -50, 4, 400, 55, 32]\n",
      "sum_top\n",
      "\n",
      "  OK  got: 505 expected: 505\n"
     ]
    }
   ],
   "source": [
    "numbers = [50, 23, 1, -50, 4, 400, 55, 32]\n",
    "\n",
    "def sum_top(numbers_list):\n",
    "    top3=sorted(numbers_list,reverse=True)[0:3] #sorted tak ubah original\n",
    "    return sum(top3)\n",
    "\n",
    "print(numbers)\n",
    "print(\"sum_top\", end = '\\n\\n')\n",
    "test(sum_top(numbers), 505)"
   ]
  },
  {
   "cell_type": "code",
   "execution_count": 63,
   "metadata": {},
   "outputs": [
    {
     "name": "stdout",
     "output_type": "stream",
     "text": [
      "[50, 23, 1, -50, 4, 400, 55, 32]\n",
      "sum_top\n",
      "\n",
      "  OK  got: 505 expected: 505\n"
     ]
    }
   ],
   "source": [
    "numbers = [50, 23, 1, -50, 4, 400, 55, 32]\n",
    "\n",
    "def sum_top(numbers):\n",
    "    numbers.sort(reverse=True) #sort ubah original #reverse=descending order\n",
    "    return sum(numbers[0:3])\n",
    "\n",
    "print(numbers)\n",
    "print(\"sum_top\", end = '\\n\\n')\n",
    "test(sum_top(numbers), 505)"
   ]
  },
  {
   "cell_type": "markdown",
   "metadata": {},
   "source": [
    "#### Exercise 4 - Match ends \n",
    "\n",
    "Given a list of strings, return the count of the number of\n",
    "strings where the string length is 2 or more and the first\n",
    "and last chars of the string are the same. <br/>"
   ]
  },
  {
   "cell_type": "code",
   "execution_count": 64,
   "metadata": {},
   "outputs": [
    {
     "name": "stdout",
     "output_type": "stream",
     "text": [
      "match ends\n",
      "\n",
      "   FAIL  got: 0 expected: 3\n",
      "   FAIL  got: 0 expected: 2\n",
      "   FAIL  got: 0 expected: 1\n"
     ]
    }
   ],
   "source": [
    "text1 = (['aba', 'xyz', 'aa', 'x', 'bbb']) #3\n",
    "text2 = (['', 'x', 'xy', 'xyx', 'xx']) #2\n",
    "text3 = (['aaa', 'be', 'abc', 'hello']) #1\n",
    "\n",
    "def match_ends(words):\n",
    "    counter = 0\n",
    "    for word in words:\n",
    "        pass # your code here\n",
    "    return counter\n",
    "\n",
    "print('match ends', end = '\\n\\n')\n",
    "test(match_ends(text1), 3)\n",
    "test(match_ends(text2), 2)\n",
    "test(match_ends(text3), 1)"
   ]
  },
  {
   "cell_type": "code",
   "execution_count": 65,
   "metadata": {},
   "outputs": [
    {
     "name": "stdout",
     "output_type": "stream",
     "text": [
      "match ends\n",
      "\n",
      "  OK  got: 3 expected: 3\n",
      "  OK  got: 2 expected: 2\n",
      "  OK  got: 1 expected: 1\n"
     ]
    }
   ],
   "source": [
    "text1 = (['aba', 'xyz', 'aa', 'x', 'bbb']) #3\n",
    "text2 = (['', 'x', 'xy', 'xyx', 'xx']) #2\n",
    "text3 = (['aaa', 'be', 'abc', 'hello']) #1\n",
    "\n",
    "def match_ends(words):\n",
    "    counter = 0\n",
    "    for word in words:\n",
    "        if len(word)>=2 and word[0:1]==word[-1:]:\n",
    "            counter+=1\n",
    "        else:\n",
    "            counter+=0\n",
    "            \n",
    "    return counter\n",
    "\n",
    "print('match ends', end = '\\n\\n')\n",
    "test(match_ends(text1), 3)\n",
    "test(match_ends(text2), 2)\n",
    "test(match_ends(text3), 1)"
   ]
  },
  {
   "cell_type": "code",
   "execution_count": 66,
   "metadata": {},
   "outputs": [
    {
     "name": "stdout",
     "output_type": "stream",
     "text": [
      "3\n",
      "2\n",
      "1\n",
      "  OK  got: 3 expected: 3\n",
      "  OK  got: 2 expected: 2\n",
      "  OK  got: 1 expected: 1\n"
     ]
    }
   ],
   "source": [
    "#exercise 4 - farah\n",
    "text1 = (['aba', 'xyz', 'aa', 'x', 'bbb']) #3\n",
    "text2 = (['', 'x', 'xy', 'xyx', 'xx']) #2\n",
    "text3 = (['aaa', 'be', 'abc', 'hello']) #1\n",
    "\n",
    "def match_ends(words):\n",
    "    counter = 0\n",
    "    for word in words:\n",
    "        if len(word)>=2 and word[0]==word[-1]:\n",
    "            counter +=1\n",
    "        \n",
    "    return counter\n",
    "\n",
    "print(match_ends(text1))\n",
    "print(match_ends(text2))\n",
    "print(match_ends(text3))\n",
    "\n",
    "\n",
    "# TEST\n",
    "test(match_ends(text1), 3)\n",
    "test(match_ends(text2), 2)\n",
    "test(match_ends(text3), 1)"
   ]
  },
  {
   "cell_type": "code",
   "execution_count": 67,
   "metadata": {},
   "outputs": [
    {
     "name": "stdout",
     "output_type": "stream",
     "text": [
      "Help on built-in function len in module builtins:\n",
      "\n",
      "len(obj, /)\n",
      "    Return the number of items in a container.\n",
      "\n"
     ]
    }
   ],
   "source": [
    "#len = length\n",
    "help(len)"
   ]
  },
  {
   "cell_type": "markdown",
   "metadata": {
    "toc-hr-collapsed": false
   },
   "source": [
    "## Dictionary operations\n",
    "\n",
    "A dictionary is a collection of key-value pairs. It is used to look up things and a very common used type. Notice the { } curly brackets and the \"key\": \"value\" notation. Notice the squared bracket for looking up.\n",
    "\n",
    "- <font style=\"font-family:courier\"><font color=green>len</font>(<font color=green>dict</font>)</font> – Gives the total length of the dictionary. This would be equal to the number of items in the dictionary.\n",
    "- <font style=\"font-family:courier\"><font color=green>dict</font>.clear()</font> -- Removes all elements of dictionary dict\n",
    "- <font style=\"font-family:courier\"><font color=green>dict</font>.copy()</font> – Returns a shallow copy of dictionary dict\n",
    "- <font style=\"font-family:courier\"><font color=green>dict</font>.update(dict2)</font> – Adds dictionary dict2's key-values pairs to dict\n",
    "- <font style=\"font-family:courier\"><font color=green>dict</font>.fromkeys()</font> – Create a new dictionary with keys from seq and values set to value.\n",
    "- <font style=\"font-family:courier\"><font color=green>dict</font>.get(key, default<strong><font color=purple>=</font><font color=green>None</font></strong>)</font> – For key key, returns value or default if key not in dictionary\n",
    "- <font style=\"font-family:courier\"><font color=green>dict</font>.setdefault(key, default<strong><font color=purple>=</font><font color=green>None</font></strong>)</font> – Similar to get(), but will set dict[key]=default if key is not already in dict\n",
    "- <font style=\"font-family:courier\"><font color=green>dict</font>.items()</font> – Returns an iterator of dict's (key, value) tuple pairs\n",
    "- <font style=\"font-family:courier\"><font color=green>dict</font>.keys()</font> – Returns iterator of dictionary dict's keys\n",
    "- <font style=\"font-family:courier\"><font color=green>dict</font>.values()</font> – Returns list of dictionary dict's values"
   ]
  },
  {
   "cell_type": "markdown",
   "metadata": {},
   "source": [
    "Let's create a dictionary to go try out these functionalities."
   ]
  },
  {
   "cell_type": "code",
   "execution_count": 68,
   "metadata": {},
   "outputs": [
    {
     "data": {
      "text/plain": [
       "1.5"
      ]
     },
     "execution_count": 68,
     "metadata": {},
     "output_type": "execute_result"
    }
   ],
   "source": [
    "prices = {\"apple\":1.5,\"orange\":3.25} #dict{}\n",
    "prices[\"apple\"]"
   ]
  },
  {
   "cell_type": "markdown",
   "metadata": {},
   "source": [
    "The dictionary has now 2 items."
   ]
  },
  {
   "cell_type": "code",
   "execution_count": 69,
   "metadata": {},
   "outputs": [
    {
     "data": {
      "text/plain": [
       "2"
      ]
     },
     "execution_count": 69,
     "metadata": {},
     "output_type": "execute_result"
    }
   ],
   "source": [
    "len(prices)"
   ]
  },
  {
   "cell_type": "markdown",
   "metadata": {},
   "source": [
    "We can copy and clear similar as a list."
   ]
  },
  {
   "cell_type": "code",
   "execution_count": 70,
   "metadata": {},
   "outputs": [
    {
     "name": "stdout",
     "output_type": "stream",
     "text": [
      "{'apple': 1.5, 'orange': 3.25}\n",
      "{'apple': 1.5, 'orange': 3.25}\n",
      "{'apple': 1.5, 'orange': 3.25}\n"
     ]
    }
   ],
   "source": [
    "prices_2=prices\n",
    "prices_3=prices.copy()\n",
    "\n",
    "print(prices)\n",
    "print(prices_2)\n",
    "print(prices_3)"
   ]
  },
  {
   "cell_type": "code",
   "execution_count": 71,
   "metadata": {},
   "outputs": [
    {
     "name": "stdout",
     "output_type": "stream",
     "text": [
      "{}\n",
      "{}\n",
      "{'apple': 1.5, 'orange': 3.25}\n"
     ]
    }
   ],
   "source": [
    "prices.clear()\n",
    "\n",
    "print(prices)\n",
    "print(prices_2)\n",
    "print(prices_3)"
   ]
  },
  {
   "cell_type": "code",
   "execution_count": null,
   "metadata": {},
   "outputs": [],
   "source": []
  },
  {
   "cell_type": "markdown",
   "metadata": {},
   "source": [
    "The dictionary is  mutable like a list. This is how we can update the dictionary item with a new value."
   ]
  },
  {
   "cell_type": "code",
   "execution_count": 72,
   "metadata": {},
   "outputs": [
    {
     "data": {
      "text/plain": [
       "{'papaya': 1.2, 'mango': 1.4, 'melon': 2.3}"
      ]
     },
     "execution_count": 72,
     "metadata": {},
     "output_type": "execute_result"
    }
   ],
   "source": [
    "fruit = {\"papaya\":1.2, \"mango\":1.4}\n",
    "\n",
    "fruit [\"melon\"]=2.3\n",
    "fruit"
   ]
  },
  {
   "cell_type": "markdown",
   "metadata": {},
   "source": [
    "To update one dictionary with the another dictionary we can use update. Notice this is an in-place operation."
   ]
  },
  {
   "cell_type": "code",
   "execution_count": 73,
   "metadata": {},
   "outputs": [
    {
     "data": {
      "text/plain": [
       "{'papaya': 1.2, 'mango': 1.4, 'melon': 2.3, 'orange': 3.1, 'kiwi': 2.2}"
      ]
     },
     "execution_count": 73,
     "metadata": {},
     "output_type": "execute_result"
    }
   ],
   "source": [
    "fruit.update({\"orange\":3.1,\"kiwi\":2.2})\n",
    "fruit"
   ]
  },
  {
   "cell_type": "markdown",
   "metadata": {},
   "source": [
    "You can initiate a dictionary with a list of keys."
   ]
  },
  {
   "cell_type": "code",
   "execution_count": 74,
   "metadata": {},
   "outputs": [
    {
     "data": {
      "text/plain": [
       "{'Jeremy': [], 'Nani': [], 'Amin': []}"
      ]
     },
     "execution_count": 74,
     "metadata": {},
     "output_type": "execute_result"
    }
   ],
   "source": [
    "names =[\"Jeremy\",\"Nani\",\"Amin\"] #list\n",
    "dict.fromkeys(names,[]) #list can become dict"
   ]
  },
  {
   "cell_type": "code",
   "execution_count": null,
   "metadata": {},
   "outputs": [],
   "source": []
  },
  {
   "cell_type": "markdown",
   "metadata": {},
   "source": [
    "We can get values out of the dictionary in these 3 ways.\n",
    "\n",
    "1. prices[\"orange\"] -- simple. throws error when \"orange\" is not in the dict.\n",
    "2. prices.get(\"orange\") -- returns None or a default when \"orange\" is not in the dict.\n",
    "3. prices.setdefault(\"orange\", 1) -- returns None or a default when \"orange\" is not in the dict and updates the dictionary with the default."
   ]
  },
  {
   "cell_type": "code",
   "execution_count": 75,
   "metadata": {},
   "outputs": [
    {
     "data": {
      "text/plain": [
       "{'apple': 1.5, 'orange': 3.25}"
      ]
     },
     "execution_count": 75,
     "metadata": {},
     "output_type": "execute_result"
    }
   ],
   "source": [
    "prices = {\"apple\":1.5,\"orange\":3.25}\n",
    "prices"
   ]
  },
  {
   "cell_type": "markdown",
   "metadata": {},
   "source": [
    "Stay calm."
   ]
  },
  {
   "cell_type": "code",
   "execution_count": 76,
   "metadata": {},
   "outputs": [
    {
     "ename": "KeyError",
     "evalue": "'pineapple'",
     "output_type": "error",
     "traceback": [
      "\u001b[1;31m---------------------------------------------------------------------------\u001b[0m",
      "\u001b[1;31mKeyError\u001b[0m                                  Traceback (most recent call last)",
      "Input \u001b[1;32mIn [76]\u001b[0m, in \u001b[0;36m<cell line: 1>\u001b[1;34m()\u001b[0m\n\u001b[1;32m----> 1\u001b[0m \u001b[43mprices\u001b[49m\u001b[43m[\u001b[49m\u001b[38;5;124;43m\"\u001b[39;49m\u001b[38;5;124;43mpineapple\u001b[39;49m\u001b[38;5;124;43m\"\u001b[39;49m\u001b[43m]\u001b[49m\n",
      "\u001b[1;31mKeyError\u001b[0m: 'pineapple'"
     ]
    }
   ],
   "source": [
    "prices[\"pineapple\"]"
   ]
  },
  {
   "cell_type": "markdown",
   "metadata": {},
   "source": [
    "Since 'pineapple' is not in the dictionary this throws a KeyError."
   ]
  },
  {
   "cell_type": "code",
   "execution_count": 77,
   "metadata": {},
   "outputs": [
    {
     "data": {
      "text/plain": [
       "{'apple': 1.5, 'orange': 3.25}"
      ]
     },
     "execution_count": 77,
     "metadata": {},
     "output_type": "execute_result"
    }
   ],
   "source": [
    "prices.get('pineapple')\n",
    "prices"
   ]
  },
  {
   "cell_type": "code",
   "execution_count": 78,
   "metadata": {},
   "outputs": [
    {
     "data": {
      "text/plain": [
       "{'apple': 1.5, 'orange': 3.25, 'pineapple': 1.0}"
      ]
     },
     "execution_count": 78,
     "metadata": {},
     "output_type": "execute_result"
    }
   ],
   "source": [
    "prices.update({'pineapple':1.0})\n",
    "prices"
   ]
  },
  {
   "cell_type": "code",
   "execution_count": 79,
   "metadata": {},
   "outputs": [],
   "source": [
    " #tambah if takde\n"
   ]
  },
  {
   "cell_type": "markdown",
   "metadata": {},
   "source": [
    "Let's say we have a dictionary of lists. We can use setdefault and append in one go."
   ]
  },
  {
   "cell_type": "code",
   "execution_count": 80,
   "metadata": {},
   "outputs": [
    {
     "data": {
      "text/plain": [
       "{'pineapple': [10]}"
      ]
     },
     "execution_count": 80,
     "metadata": {},
     "output_type": "execute_result"
    }
   ],
   "source": [
    "fruits={}\n",
    "fruits.setdefault(\"pineapple\",[]).append(10)\n",
    "fruits"
   ]
  },
  {
   "cell_type": "markdown",
   "metadata": {},
   "source": [
    "Back to the fruit prices.\n",
    "\n",
    "**These 3 methods can be used for looping over dictionaries.**\n",
    "\n",
    "1. prices.keys() -- the keys\n",
    "2. prices.values() -- the values\n",
    "3. prices.items() -- the key-value pairs"
   ]
  },
  {
   "cell_type": "code",
   "execution_count": 81,
   "metadata": {},
   "outputs": [
    {
     "data": {
      "text/plain": [
       "{'apple': 1.5, 'orange': 3.25, 'pineapple': 1.0}"
      ]
     },
     "execution_count": 81,
     "metadata": {},
     "output_type": "execute_result"
    }
   ],
   "source": [
    "prices"
   ]
  },
  {
   "cell_type": "code",
   "execution_count": 82,
   "metadata": {},
   "outputs": [
    {
     "data": {
      "text/plain": [
       "dict_keys(['apple', 'orange', 'pineapple'])"
      ]
     },
     "execution_count": 82,
     "metadata": {},
     "output_type": "execute_result"
    }
   ],
   "source": [
    "prices.keys()"
   ]
  },
  {
   "cell_type": "code",
   "execution_count": 83,
   "metadata": {},
   "outputs": [
    {
     "data": {
      "text/plain": [
       "dict_values([1.5, 3.25, 1.0])"
      ]
     },
     "execution_count": 83,
     "metadata": {},
     "output_type": "execute_result"
    }
   ],
   "source": [
    "prices.values()"
   ]
  },
  {
   "cell_type": "code",
   "execution_count": 84,
   "metadata": {},
   "outputs": [
    {
     "data": {
      "text/plain": [
       "dict_items([('apple', 1.5), ('orange', 3.25), ('pineapple', 1.0)])"
      ]
     },
     "execution_count": 84,
     "metadata": {},
     "output_type": "execute_result"
    }
   ],
   "source": [
    "prices.items()"
   ]
  },
  {
   "cell_type": "markdown",
   "metadata": {},
   "source": [
    "By default looping over a dictionary gives you the keys."
   ]
  },
  {
   "cell_type": "code",
   "execution_count": 85,
   "metadata": {},
   "outputs": [
    {
     "name": "stdout",
     "output_type": "stream",
     "text": [
      "apple 1.5\n",
      "orange 3.25\n",
      "pineapple 1.0\n"
     ]
    }
   ],
   "source": [
    "for x in prices:\n",
    "    print(x,prices[x]) #x=keys"
   ]
  },
  {
   "cell_type": "markdown",
   "metadata": {},
   "source": [
    "The best way to loop over the key-value pairs is using **prices.items()**"
   ]
  },
  {
   "cell_type": "code",
   "execution_count": 86,
   "metadata": {},
   "outputs": [
    {
     "name": "stdout",
     "output_type": "stream",
     "text": [
      "apple 1.5\n",
      "orange 3.25\n",
      "pineapple 1.0\n"
     ]
    }
   ],
   "source": [
    "for k,v in prices.items():\n",
    "    print(k,v) #k=keys, v=values"
   ]
  },
  {
   "cell_type": "code",
   "execution_count": 87,
   "metadata": {},
   "outputs": [
    {
     "name": "stdout",
     "output_type": "stream",
     "text": [
      "('apple', 1.5)\n",
      "('orange', 3.25)\n",
      "('pineapple', 1.0)\n"
     ]
    }
   ],
   "source": [
    "for y in prices.items():\n",
    "    print(y) #printing whole key and value"
   ]
  },
  {
   "cell_type": "markdown",
   "metadata": {},
   "source": [
    "### Summary - Dictionary operations"
   ]
  },
  {
   "cell_type": "markdown",
   "metadata": {},
   "source": [
    "> #### dictionary operations\n",
    "Dictionary. A collection of key-value pairs. Used to look up things. The dict class provides many functionalities. The dict is a mutable object.\n",
    "```python\n",
    "prices = {}\n",
    "prices = {\"apple\": 1.5, \"orange\":3.5, \"banana\":2.5}\n",
    "prices[\"mango\"] = 2.0\n",
    "prices.update({\"strawberry\":4.0, \"melon\":10.0})\n",
    "prices[\"orange\"]\n",
    "prices.get(\"pineapple\", 1.0)\n",
    "prices.setdefault(\"pineapple\", 1.0)\n",
    "prices.keys()\n",
    "prices.values()\n",
    "prices.items()\n",
    "for k in price:\n",
    "    print(k)\n",
    "for k,v in prices.items():\n",
    "    print(k,v)\n",
    "prices.clear()\n",
    "prices.copy()\n",
    "prices.fromkeys([\"apple\", \"orange\", \"banana\"], 1.0)\n",
    "len(prices)\n",
    "```"
   ]
  },
  {
   "cell_type": "markdown",
   "metadata": {
    "toc-hr-collapsed": false
   },
   "source": [
    "### RUN ME\n",
    "\n",
    "Please run the below code snippet. It is required for running tests for your solution."
   ]
  },
  {
   "cell_type": "code",
   "execution_count": 90,
   "metadata": {},
   "outputs": [],
   "source": [
    "def test(got, expected):\n",
    "    if got == expected:\n",
    "        prefix = ' OK '\n",
    "    else:\n",
    "        prefix = '  FAIL '\n",
    "    print((f' {prefix} got: {got} expected: {expected}'))"
   ]
  },
  {
   "cell_type": "code",
   "execution_count": 91,
   "metadata": {},
   "outputs": [
    {
     "name": "stdout",
     "output_type": "stream",
     "text": [
      "   FAIL  got: a expected: ab\n",
      "  OK  got: a expected: a\n"
     ]
    }
   ],
   "source": [
    "test('a', 'ab')\n",
    "test('a', 'a')"
   ]
  },
  {
   "cell_type": "markdown",
   "metadata": {},
   "source": []
  },
  {
   "cell_type": "markdown",
   "metadata": {},
   "source": [
    "#### Exercise 1 - Numbers info\n",
    "\n",
    "Given a list of numbers return a dictionary with info about the numbers. The dictionary should contain keys \"len\", \"max\", \"min\", \"sum\", \"avg\" with those measures as the respective values. Round avg to 2 decimals.\n",
    "\n",
    "Hints: sum()/len()"
   ]
  },
  {
   "cell_type": "code",
   "execution_count": null,
   "metadata": {},
   "outputs": [],
   "source": [
    "numbers = [1, 4, 9, 16, 25]\n",
    "\n",
    "def info(numbers):\n",
    "    ## your code\n",
    "\n",
    "print(\"numbers_info\")\n",
    "test(info(numbers), {'avg': 11.0, 'len': 5, 'max': 25, 'min': 1, 'sum': 55})"
   ]
  },
  {
   "cell_type": "code",
   "execution_count": 109,
   "metadata": {},
   "outputs": [
    {
     "name": "stdout",
     "output_type": "stream",
     "text": [
      "numbers_info\n",
      "  OK  got: {'len': 5, 'max': 25, 'min': 1, 'sum': 55, 'avg': 11.0} expected: {'avg': 11.0, 'len': 5, 'max': 25, 'min': 1, 'sum': 55}\n"
     ]
    }
   ],
   "source": [
    "numbers = [1, 4, 9, 16, 25]\n",
    "\n",
    "def info(numbers):\n",
    "    result = {\"len\":len(numbers), \"max\":max(numbers), \"min\":min(numbers), \"sum\":sum(numbers), \n",
    "              \"avg\":round(sum(numbers)/len(numbers),2)} #put 2 dp\n",
    "    return result\n",
    "\n",
    "print(\"numbers_info\")\n",
    "test(info(numbers), {'avg': 11.0, 'len': 5, 'max': 25, 'min': 1, 'sum': 55})"
   ]
  },
  {
   "cell_type": "code",
   "execution_count": 96,
   "metadata": {},
   "outputs": [
    {
     "name": "stdout",
     "output_type": "stream",
     "text": [
      "numbers_info\n",
      "  OK  got: {'len': 5, 'max': 25, 'min': 1, 'sum': 55, 'avg': 11.0} expected: {'len': 5, 'max': 25, 'min': 1, 'sum': 55, 'avg': 11.0}\n"
     ]
    }
   ],
   "source": [
    "#exercise 1-farah\n",
    "\n",
    "numbers = [1, 4, 9, 16, 25]\n",
    "\n",
    "def info(numbers):\n",
    "    result = { \"len\":len(numbers),\n",
    "              \"max\":max(numbers),\n",
    "              \"min\":min(numbers),\n",
    "              \"sum\":sum(numbers),\n",
    "              \"avg\":round(sum(numbers)/len(numbers),2)}\n",
    "    return result\n",
    "\n",
    "print(\"numbers_info\")\n",
    "test(info(numbers), {'len': 5, 'max': 25, 'min': 1, 'sum': 55,'avg': 11.0})"
   ]
  },
  {
   "cell_type": "markdown",
   "metadata": {},
   "source": [
    "#### Exercice 2 - Cart checkout\n",
    "Compute the total price of this cart. By default everything cost RM 1, except when prices are written.\n",
    "\n",
    "Hints: dict.get(), dict.items()"
   ]
  },
  {
   "cell_type": "code",
   "execution_count": 301,
   "metadata": {},
   "outputs": [],
   "source": [
    "cart = {'apple':12, \n",
    "       'banana': 1,\n",
    "       'orange': 2,\n",
    "       'pear':10}\n",
    "\n",
    "prices = {'mango':12,\n",
    "         'apple':2.5,\n",
    "         'orange':5.5,\n",
    "         'banana':3}"
   ]
  },
  {
   "cell_type": "code",
   "execution_count": 122,
   "metadata": {},
   "outputs": [
    {
     "name": "stdout",
     "output_type": "stream",
     "text": [
      "Help on method_descriptor:\n",
      "\n",
      "get(self, key, default=None, /)\n",
      "    Return the value for key if key is in the dictionary, else default.\n",
      "\n"
     ]
    }
   ],
   "source": [
    "help(dict.get)"
   ]
  },
  {
   "cell_type": "code",
   "execution_count": 164,
   "metadata": {},
   "outputs": [
    {
     "name": "stdout",
     "output_type": "stream",
     "text": [
      "apple : 12 x $ 2.5 = 30.0\n",
      "banana : 1 x $ 3 = 3\n",
      "orange : 2 x $ 5.5 = 11.0\n",
      "pear : 10 x $ 1 = 10\n",
      "\n",
      "Total: 54.0 \n",
      "\n",
      "  OK  got: 54.0 expected: 54.0\n"
     ]
    }
   ],
   "source": [
    "cart = {'apple':12, \n",
    "       'banana': 1,\n",
    "       'orange': 2,\n",
    "       'pear':10}\n",
    "\n",
    "prices = {'mango':12,\n",
    "         'apple':2.5,\n",
    "         'orange':5.5,\n",
    "         'banana':3}\n",
    "\n",
    "total=0\n",
    "for k,v in cart.items():\n",
    "    print (k,\":\",v,\"x $\",prices.get(k,1),\"=\",(v*prices.get(k,1))) #k=keys, v=values\n",
    "    total+=v*prices.get(k,1) #for key, else default=1\n",
    "    \n",
    "\n",
    "print(\"\\nTotal:\",total,\"\\n\")\n",
    "\n",
    "test(total, 54.0)"
   ]
  },
  {
   "cell_type": "code",
   "execution_count": 333,
   "metadata": {},
   "outputs": [
    {
     "data": {
      "text/plain": [
       "dict_items([('apple', 12), ('banana', 1), ('orange', 2), ('pear', 10)])"
      ]
     },
     "execution_count": 333,
     "metadata": {},
     "output_type": "execute_result"
    }
   ],
   "source": [
    "cart.items()"
   ]
  },
  {
   "cell_type": "code",
   "execution_count": 139,
   "metadata": {},
   "outputs": [
    {
     "name": "stdout",
     "output_type": "stream",
     "text": [
      "apple 12\n",
      "banana 1\n",
      "orange 2\n",
      "pear 10\n",
      "\n",
      "Total: 54.0 \n",
      "\n",
      "  OK  got: 54.0 expected: 54.0\n"
     ]
    }
   ],
   "source": [
    "#exercise 2-farah\n",
    "\n",
    "cart = {'apple':12, \n",
    "       'banana': 1,\n",
    "       'orange': 2,\n",
    "       'pear':10} #no prices for pear, default 1\n",
    "\n",
    "prices = {'mango':12,\n",
    "         'apple':2.5,\n",
    "         'orange':5.5,\n",
    "         'banana':3}\n",
    "\n",
    "total=0\n",
    "for k,v in cart.items():\n",
    "    print (k,v) #k=keys, v=values\n",
    "    total += v*prices.get(k,1)\n",
    "    \n",
    "print(\"\\nTotal:\",total,\"\\n\")\n",
    "\n",
    "test(total, 54.0)"
   ]
  },
  {
   "cell_type": "code",
   "execution_count": 155,
   "metadata": {},
   "outputs": [
    {
     "name": "stdout",
     "output_type": "stream",
     "text": [
      "apple : 12 * 2.5 = 30.0\n",
      "banana : 1 * 3 = 33.0\n",
      "orange : 2 * 5.5 = 44.0\n",
      "pear : 10 * 1 = 54.0\n",
      "\n",
      "Total: 54.0 \n",
      "\n",
      "dict_items([('apple', 12), ('banana', 1), ('orange', 2), ('pear', 10)])\n",
      "  OK  got: 54.0 expected: 54.0\n"
     ]
    }
   ],
   "source": [
    "#exercise 2-farah\n",
    "\n",
    "total=0\n",
    "for k,v in cart.items():\n",
    "    \n",
    "    total += v*prices.get(k,1)\n",
    "    print (k,\":\",v,\"*\",prices.get(k,1),\"=\",total)\n",
    "    \n",
    "    \n",
    "print(\"\\nTotal:\",total,\"\\n\")\n",
    "\n",
    "print(cart.items())\n",
    "test(total, 54.0)"
   ]
  },
  {
   "cell_type": "code",
   "execution_count": null,
   "metadata": {},
   "outputs": [],
   "source": []
  },
  {
   "cell_type": "markdown",
   "metadata": {},
   "source": [
    "#### Exercise 3 - Grade students\n",
    "1. Write a function that add a grade to a student. Make sure the function can handle new students!\n",
    "1. Add 20 to Narjes, add 11 to Jeremy and add 5 to Darren\n",
    "1. Compute the average grade of Jeremy. Round it to 2 decimals\n",
    "\n",
    "Hints: dict.setdefault, sum()/len()"
   ]
  },
  {
   "cell_type": "code",
   "execution_count": 180,
   "metadata": {},
   "outputs": [
    {
     "name": "stdout",
     "output_type": "stream",
     "text": [
      "grade_students\n",
      "  OK  got: {'Amin': [12, 14, 20], 'Jeremy': [5, 12, 11], 'Narjes': [10, 20], 'Darren': [5]} expected: {'Amin': [12, 14, 20], 'Jeremy': [5, 12, 11], 'Narjes': [10, 20], 'Darren': [5]}\n",
      "  OK  got: 9.33 expected: 9.33\n"
     ]
    }
   ],
   "source": [
    "grades = {\n",
    "    'Amin':[12, 14, 20],\n",
    "    'Jeremy':[5, 12],\n",
    "    'Narjes':[10]\n",
    "}\n",
    "\n",
    "# 1. Write a function that adds a grade to a student.\n",
    "\n",
    "def add_grade(student_name, grade):\n",
    "    ## your code here #fruits.setdefault(\"pineapple\",[]).append(10)\n",
    "    grades.setdefault(student_name,[]).append(grade)\n",
    "    \n",
    "    \n",
    "# 2. Add 20 to Narjes, add 11 to Jeremy and add 5 to Darren\n",
    "\n",
    "add_grade(\"Narjes\", 20)\n",
    "add_grade(\"Jeremy\", 11)\n",
    "add_grade(\"Darren\", 5)\n",
    "\n",
    "#print(grades, \"\\n\\n\")\n",
    "\n",
    "# 3. Compute the average grade of Jeremy\n",
    "\n",
    "average_jeremy = round(sum(grades[\"Jeremy\"])/len(grades[\"Jeremy\"]),2) #dont forget to round 2 dp\n",
    "\n",
    "# TEST\n",
    "print(\"grade_students\")\n",
    "test(grades, {'Amin': [12, 14, 20], 'Jeremy': [5, 12, 11], 'Narjes': [10, 20], 'Darren': [5]})\n",
    "test(average_jeremy, 9.33)"
   ]
  },
  {
   "cell_type": "code",
   "execution_count": 181,
   "metadata": {},
   "outputs": [
    {
     "data": {
      "text/plain": [
       "[5, 12, 11]"
      ]
     },
     "execution_count": 181,
     "metadata": {},
     "output_type": "execute_result"
    }
   ],
   "source": [
    "grades[\"Jeremy\"]"
   ]
  },
  {
   "cell_type": "code",
   "execution_count": 182,
   "metadata": {},
   "outputs": [
    {
     "data": {
      "text/plain": [
       "9.333333333333334"
      ]
     },
     "execution_count": 182,
     "metadata": {},
     "output_type": "execute_result"
    }
   ],
   "source": [
    "sum(grades[\"Jeremy\"])/len(grades[\"Jeremy\"])"
   ]
  },
  {
   "cell_type": "code",
   "execution_count": 369,
   "metadata": {},
   "outputs": [
    {
     "name": "stdout",
     "output_type": "stream",
     "text": [
      "grade_students\n",
      "  OK  got: {'Amin': [12, 14, 20], 'Jeremy': [5, 12, 11], 'Narjes': [10, 20], 'Darren': [5]} expected: {'Amin': [12, 14, 20], 'Jeremy': [5, 12, 11], 'Narjes': [10, 20], 'Darren': [5]}\n",
      "  OK  got: 9.33 expected: 9.33\n"
     ]
    }
   ],
   "source": [
    "#exercise 3-farah\n",
    "\n",
    "grades = {\n",
    "    'Amin':[12, 14, 20],\n",
    "    'Jeremy':[5, 12],\n",
    "    'Narjes':[10]\n",
    "}\n",
    "\n",
    "# 1. Write a function that adds a grade to a student.\n",
    "#define function\n",
    "\n",
    "def add_grade(student_name, grade):\n",
    "    grades.setdefault(student_name,[]).append(grade)\n",
    "    \n",
    "# 2. Add 20 to Narjes, add 11 to Jeremy and add 5 to Darren\n",
    "#use function add_grade\n",
    "\n",
    "add_grade(\"Narjes\", 20) \n",
    "add_grade(\"Jeremy\", 11)\n",
    "add_grade(\"Darren\", 5) #new student\n",
    "\n",
    "\n",
    "# 3. Compute the average grade of Jeremy\n",
    "\n",
    "j=grades[\"Jeremy\"]\n",
    "average_jeremy = round(sum(j)/len(j),2)\n",
    "\n",
    "\n",
    "# TEST\n",
    "print(\"grade_students\")\n",
    "test(grades, {'Amin': [12, 14, 20], 'Jeremy': [5, 12, 11], 'Narjes': [10, 20], 'Darren': [5]})\n",
    "test(average_jeremy, 9.33)"
   ]
  },
  {
   "cell_type": "code",
   "execution_count": null,
   "metadata": {
    "collapsed": true
   },
   "outputs": [],
   "source": []
  },
  {
   "cell_type": "markdown",
   "metadata": {
    "toc-hr-collapsed": false
   },
   "source": [
    "## List comprehension and lambda"
   ]
  },
  {
   "cell_type": "markdown",
   "metadata": {},
   "source": [
    "### List Comprehensions\n",
    "\n",
    "A list comprehension is a compact expression to create a new list out of another list while applying filters and expressions. All in one line!\n",
    "\n",
    "We have a list of numbers: 1, 2, 3, 4, 5, 6, 7, 8, 9, 10\n",
    "\n",
    "We want to create a new list with these numbers, but we only want the uneven numbers and we want to square those.\n",
    "\n",
    "This will give us: 1, 9, 25, 49, 81\n",
    "\n",
    "Let's try."
   ]
  },
  {
   "cell_type": "code",
   "execution_count": 371,
   "metadata": {},
   "outputs": [],
   "source": [
    "numbers = [1,2,3,4,5,6,7,8,9,10]"
   ]
  },
  {
   "cell_type": "code",
   "execution_count": 373,
   "metadata": {},
   "outputs": [
    {
     "data": {
      "text/plain": [
       "[1, 3, 5, 7, 9]"
      ]
     },
     "execution_count": 373,
     "metadata": {},
     "output_type": "execute_result"
    }
   ],
   "source": [
    "# Using for loop \n",
    "# Create new list which contains the elements of numbers \\\n",
    "\n",
    "numbers = [1,2,3,4,5,6,7,8,9,10]\n",
    "ans =[]\n",
    "for n in numbers:\n",
    "    if n%2 != 0:\n",
    "        ans.append(n)\n",
    "ans"
   ]
  },
  {
   "cell_type": "code",
   "execution_count": 186,
   "metadata": {},
   "outputs": [
    {
     "data": {
      "text/plain": [
       "[1, 9, 25, 49, 81]"
      ]
     },
     "execution_count": 186,
     "metadata": {},
     "output_type": "execute_result"
    }
   ],
   "source": [
    "numbers = [1,2,3,4,5,6,7,8,9,10]\n",
    "\n",
    "ans=[]\n",
    "for n in numbers:\n",
    "    if n%2 != 0:\n",
    "        ans.append(n**2)\n",
    "ans"
   ]
  },
  {
   "cell_type": "markdown",
   "metadata": {},
   "source": [
    "Now we have a new list with the same items.\n",
    "\n",
    "Let's filter so that we keep the **odd** numbers."
   ]
  },
  {
   "cell_type": "code",
   "execution_count": 187,
   "metadata": {},
   "outputs": [
    {
     "data": {
      "text/plain": [
       "[1, 3, 5, 7, 9]"
      ]
     },
     "execution_count": 187,
     "metadata": {},
     "output_type": "execute_result"
    }
   ],
   "source": [
    "newlist = [n for n in numbers if n%2 != 0]\n",
    "newlist"
   ]
  },
  {
   "cell_type": "markdown",
   "metadata": {},
   "source": [
    "Now let's **square** those uneven numbers."
   ]
  },
  {
   "cell_type": "code",
   "execution_count": 188,
   "metadata": {},
   "outputs": [
    {
     "data": {
      "text/plain": [
       "[1, 9, 25, 49, 81]"
      ]
     },
     "execution_count": 188,
     "metadata": {},
     "output_type": "execute_result"
    }
   ],
   "source": [
    "newlist = [n**2 for n in numbers if n%2 != 0]\n",
    "newlist"
   ]
  },
  {
   "cell_type": "markdown",
   "metadata": {},
   "source": [
    "Done! All in one line.\n",
    "\n",
    "So what did we do here?\n",
    "\n",
    "We looped over the numbers, applied a filter and applied an expression on each item n.\n",
    "- iterable: numbers\n",
    "- element: n\n",
    "- condition: n%2!=0\n",
    "- expression: n**2\n",
    "\n",
    "```python\n",
    "[ expression(element) for element in iterable if condition(element) ]\n",
    "```"
   ]
  },
  {
   "cell_type": "markdown",
   "metadata": {},
   "source": [
    "### Lambda\n",
    "\n",
    "The lambda is a nameless function. \n",
    "\n",
    "Sometimes your want to define a function for a single time usage. In that case a lambda function is more elegant than predefining a whole named function, that you will only use once.\n",
    "\n",
    "Lambda functions are mainly used in combination with the functions sort(), filter() and map()."
   ]
  },
  {
   "cell_type": "code",
   "execution_count": 189,
   "metadata": {},
   "outputs": [],
   "source": [
    "tuples = [(40,1,1), (1,2,3,4), (1000,2), (-1,5,5,5,5,55,5,5)]"
   ]
  },
  {
   "cell_type": "markdown",
   "metadata": {},
   "source": [
    "Let's say we want to sort this list of tuples based in the total value of the tuple."
   ]
  },
  {
   "cell_type": "code",
   "execution_count": 190,
   "metadata": {},
   "outputs": [
    {
     "data": {
      "text/plain": [
       "[(-1, 5, 5, 5, 5, 55, 5, 5), (1, 2, 3, 4), (40, 1, 1), (1000, 2)]"
      ]
     },
     "execution_count": 190,
     "metadata": {},
     "output_type": "execute_result"
    }
   ],
   "source": [
    "sorted(tuples)"
   ]
  },
  {
   "cell_type": "markdown",
   "metadata": {},
   "source": [
    "By default it is sorted based on the first value."
   ]
  },
  {
   "cell_type": "code",
   "execution_count": 193,
   "metadata": {},
   "outputs": [
    {
     "data": {
      "text/plain": [
       "[(1, 2, 3, 4), (40, 1, 1), (-1, 5, 5, 5, 5, 55, 5, 5), (1000, 2)]"
      ]
     },
     "execution_count": 193,
     "metadata": {},
     "output_type": "execute_result"
    }
   ],
   "source": [
    "def total(item):\n",
    "    return sum(item)\n",
    "\n",
    "sorted(tuples, key=total) #sorted based on total"
   ]
  },
  {
   "cell_type": "markdown",
   "metadata": {},
   "source": [
    "The nameless lambda function enables us to do this in a more clean way."
   ]
  },
  {
   "cell_type": "code",
   "execution_count": 194,
   "metadata": {},
   "outputs": [
    {
     "data": {
      "text/plain": [
       "[(1, 2, 3, 4), (40, 1, 1), (-1, 5, 5, 5, 5, 55, 5, 5), (1000, 2)]"
      ]
     },
     "execution_count": 194,
     "metadata": {},
     "output_type": "execute_result"
    }
   ],
   "source": [
    "sorted(tuples, key=lambda x:sum(x))"
   ]
  },
  {
   "cell_type": "markdown",
   "metadata": {},
   "source": [
    "We can also filter based on the last item."
   ]
  },
  {
   "cell_type": "code",
   "execution_count": 196,
   "metadata": {},
   "outputs": [
    {
     "data": {
      "text/plain": [
       "[(40, 1, 1), (1000, 2), (1, 2, 3, 4), (-1, 5, 5, 5, 5, 55, 5, 5)]"
      ]
     },
     "execution_count": 196,
     "metadata": {},
     "output_type": "execute_result"
    }
   ],
   "source": [
    "sorted(tuples, key=lambda x:x[-1])"
   ]
  },
  {
   "cell_type": "markdown",
   "metadata": {},
   "source": [
    "The filter() function applies a filter function on a iterable data structue. The outcome of the filter function is an iterator were the items are filtered through a function. \n",
    "\n",
    "Let's filter out the even numbers."
   ]
  },
  {
   "cell_type": "code",
   "execution_count": 199,
   "metadata": {},
   "outputs": [
    {
     "data": {
      "text/plain": [
       "<filter at 0x1e6b6c79280>"
      ]
     },
     "execution_count": 199,
     "metadata": {},
     "output_type": "execute_result"
    }
   ],
   "source": [
    "numbers = [1,2,3,4,5]\n",
    "filter(lambda x:x%2==0, numbers)"
   ]
  },
  {
   "cell_type": "markdown",
   "metadata": {},
   "source": [
    "If None is passed instead of a function, all the items of the sequence which evaluates to False are removed."
   ]
  },
  {
   "cell_type": "markdown",
   "metadata": {},
   "source": [
    "We got a filter object. To see the result we need to cast it to list."
   ]
  },
  {
   "cell_type": "code",
   "execution_count": 200,
   "metadata": {},
   "outputs": [
    {
     "data": {
      "text/plain": [
       "[2, 4]"
      ]
     },
     "execution_count": 200,
     "metadata": {},
     "output_type": "execute_result"
    }
   ],
   "source": [
    "list(filter(lambda x:x%2==0, numbers))"
   ]
  },
  {
   "cell_type": "markdown",
   "metadata": {},
   "source": [
    "And now apply a mapping using map() to take the power of 3"
   ]
  },
  {
   "cell_type": "code",
   "execution_count": 201,
   "metadata": {},
   "outputs": [
    {
     "data": {
      "text/plain": [
       "[1, 4, 9, 16, 25]"
      ]
     },
     "execution_count": 201,
     "metadata": {},
     "output_type": "execute_result"
    }
   ],
   "source": [
    "def power_2(x):\n",
    "    return x**2\n",
    "\n",
    "list(map(lambda x:x**2, numbers))"
   ]
  },
  {
   "cell_type": "code",
   "execution_count": 202,
   "metadata": {},
   "outputs": [
    {
     "data": {
      "text/plain": [
       "[4, 16]"
      ]
     },
     "execution_count": 202,
     "metadata": {},
     "output_type": "execute_result"
    }
   ],
   "source": [
    "list(map(lambda x:x**2, filter(lambda x: x%2==0, numbers)))"
   ]
  },
  {
   "cell_type": "markdown",
   "metadata": {},
   "source": [
    "### Summary - List comprehension and lambda"
   ]
  },
  {
   "cell_type": "markdown",
   "metadata": {},
   "source": [
    "> #### list comprehension\n",
    "A compact way to process all or part of the elements in a sequence and return a list with the results.\n",
    "```python\n",
    "numbers = [1,2,3,4,5]\n",
    "newlist = [n for n in numbers]\n",
    "newlist = [n for n in numbers if n%2==0]\n",
    "newlist = [n**2 for n in numbers if n%2==0]\n",
    "```"
   ]
  },
  {
   "cell_type": "markdown",
   "metadata": {},
   "source": [
    "> #### lambda\n",
    "An anonymous inline function consisting of a single expression which is evaluated when the function is called. The syntax to create a lambda function is lambda [parameters]: expression\n",
    "```python\n",
    "sorted(numbers, key=lambda x: sum(x))\n",
    "filter(lambda x: x%2==0, numbers)\n",
    "map(lambda x: x**2, numbers)\n",
    "```"
   ]
  },
  {
   "cell_type": "markdown",
   "metadata": {
    "toc-hr-collapsed": false
   },
   "source": [
    "### RUN ME\n",
    "\n",
    "Please run the below code snippet. It is required for running tests for your solution."
   ]
  },
  {
   "cell_type": "code",
   "execution_count": 1,
   "metadata": {},
   "outputs": [],
   "source": [
    "def test(got, expected):\n",
    "    if got == expected:\n",
    "        prefix = ' OK '\n",
    "    else:\n",
    "        prefix = '  FAIL '\n",
    "    print((f' {prefix} got: {got} expected: {expected}'))"
   ]
  },
  {
   "cell_type": "code",
   "execution_count": 2,
   "metadata": {},
   "outputs": [
    {
     "name": "stdout",
     "output_type": "stream",
     "text": [
      "   FAIL  got: a expected: ab\n",
      "  OK  got: a expected: a\n"
     ]
    }
   ],
   "source": [
    "test('a', 'ab')\n",
    "test('a', 'a')"
   ]
  },
  {
   "cell_type": "markdown",
   "metadata": {
    "toc-hr-collapsed": false
   },
   "source": [
    "### Exercises - List comprehension and lambda"
   ]
  },
  {
   "cell_type": "markdown",
   "metadata": {},
   "source": [
    "#### Exercise 1 - Negative ints\n",
    "\n",
    "Write a list comprehension to create a new list that contains only the negative numbers as integers and store it as newlist."
   ]
  },
  {
   "cell_type": "code",
   "execution_count": 3,
   "metadata": {},
   "outputs": [
    {
     "ename": "SyntaxError",
     "evalue": "invalid syntax (3293830783.py, line 3)",
     "output_type": "error",
     "traceback": [
      "\u001b[1;36m  Input \u001b[1;32mIn [3]\u001b[1;36m\u001b[0m\n\u001b[1;33m    newlist = ## your code\u001b[0m\n\u001b[1;37m              ^\u001b[0m\n\u001b[1;31mSyntaxError\u001b[0m\u001b[1;31m:\u001b[0m invalid syntax\n"
     ]
    }
   ],
   "source": [
    "numbers = [34.6, -203.4, 44.9, -68.3, -12.2, 44.6, 12.7]\n",
    "\n",
    "newlist = ## your code\n",
    "\n",
    "# TEST\n",
    "print(\"negative_ints\")\n",
    "test(newlist, [-203, -68, -12])"
   ]
  },
  {
   "cell_type": "code",
   "execution_count": 4,
   "metadata": {},
   "outputs": [
    {
     "name": "stdout",
     "output_type": "stream",
     "text": [
      "[-203.4, -68.3, -12.2]\n",
      "\n",
      "negative_ints\n"
     ]
    }
   ],
   "source": [
    "numbers = [34.6, -203.4, 44.9, -68.3, -12.2, 44.6, 12.7]\n",
    "#newlist = [n**2 for n in numbers if n%2 != 0]\n",
    "\n",
    "newlist = []\n",
    "for n in numbers:\n",
    "    if n<0:\n",
    "        newlist.append(n)\n",
    "print(newlist)\n",
    "\n",
    "# TEST\n",
    "print(\"\\nnegative_ints\")\n",
    "#test(newlist, [-203, -68, -12])"
   ]
  },
  {
   "cell_type": "code",
   "execution_count": 5,
   "metadata": {},
   "outputs": [
    {
     "name": "stdout",
     "output_type": "stream",
     "text": [
      "[-203, -68, -12]\n",
      "\n",
      "negative_ints\n",
      "  OK  got: [-203, -68, -12] expected: [-203, -68, -12]\n"
     ]
    }
   ],
   "source": [
    "numbers = [34.6, -203.4, 44.9, -68.3, -12.2, 44.6, 12.7]\n",
    "#newlist = [n**2 for n in numbers if n%2 != 0]\n",
    "\n",
    "newlist = [round(n) for n in numbers if n<0] #MC use int, round also can use\n",
    "print(newlist)\n",
    "\n",
    "# TEST\n",
    "print(\"\\nnegative_ints\")\n",
    "test(newlist, [-203, -68, -12])"
   ]
  },
  {
   "cell_type": "markdown",
   "metadata": {},
   "source": [
    "#### Exercise 2 - Power odds\n",
    "\n",
    "Write one line of Python that takes this list and makes a new list that only has the odd elements and power it with 3.\n",
    "\n",
    "Hints: x**3"
   ]
  },
  {
   "cell_type": "code",
   "execution_count": 6,
   "metadata": {},
   "outputs": [
    {
     "ename": "SyntaxError",
     "evalue": "invalid syntax (4068843068.py, line 3)",
     "output_type": "error",
     "traceback": [
      "\u001b[1;36m  Input \u001b[1;32mIn [6]\u001b[1;36m\u001b[0m\n\u001b[1;33m    result = ##\u001b[0m\n\u001b[1;37m             ^\u001b[0m\n\u001b[1;31mSyntaxError\u001b[0m\u001b[1;31m:\u001b[0m invalid syntax\n"
     ]
    }
   ],
   "source": [
    "numbers = [1, 4, 9, 16, 25, 36, 49, 64, 81, 100]\n",
    "\n",
    "result = ##\n",
    "\n",
    "print(\"power_odds\")\n",
    "test(result, [1, 729, 15625, 117649, 531441])"
   ]
  },
  {
   "cell_type": "code",
   "execution_count": 7,
   "metadata": {},
   "outputs": [
    {
     "name": "stdout",
     "output_type": "stream",
     "text": [
      "[1, 729, 15625, 117649, 531441]\n",
      "power_odds\n"
     ]
    }
   ],
   "source": [
    "numbers = [1, 4, 9, 16, 25, 36, 49, 64, 81, 100]\n",
    "\n",
    "result = []\n",
    "for n in numbers:\n",
    "    if n%2 != 0:\n",
    "        result.append(n**3)\n",
    "print(result)\n",
    "\n",
    "print(\"power_odds\")\n",
    "#test(result, [1, 729, 15625, 117649, 531441])"
   ]
  },
  {
   "cell_type": "code",
   "execution_count": 8,
   "metadata": {},
   "outputs": [
    {
     "name": "stdout",
     "output_type": "stream",
     "text": [
      "[1, 729, 15625, 117649, 531441]\n",
      "power_odds\n",
      "  OK  got: [1, 729, 15625, 117649, 531441] expected: [1, 729, 15625, 117649, 531441]\n"
     ]
    }
   ],
   "source": [
    "numbers = [1, 4, 9, 16, 25, 36, 49, 64, 81, 100]\n",
    "\n",
    "result = [n**3 for n in numbers if n%2 != 0]\n",
    "\n",
    "print(result)\n",
    "\n",
    "print(\"power_odds\")\n",
    "test(result, [1, 729, 15625, 117649, 531441])"
   ]
  },
  {
   "cell_type": "markdown",
   "metadata": {},
   "source": [
    "#### Exercise 3 - Word lengths\n",
    "\n",
    "Write a list comprehsion to determine the length of each word except 'the' and store as word_lengths"
   ]
  },
  {
   "cell_type": "code",
   "execution_count": 9,
   "metadata": {},
   "outputs": [],
   "source": [
    "#result = []\n",
    "#for n in numbers:\n",
    "#    if n%2 != 0:\n",
    "#        result.append(n**3)\n",
    "#print(result)"
   ]
  },
  {
   "cell_type": "code",
   "execution_count": 10,
   "metadata": {},
   "outputs": [
    {
     "ename": "SyntaxError",
     "evalue": "invalid syntax (3570130514.py, line 4)",
     "output_type": "error",
     "traceback": [
      "\u001b[1;36m  Input \u001b[1;32mIn [10]\u001b[1;36m\u001b[0m\n\u001b[1;33m    word_lengths = ## your code\u001b[0m\n\u001b[1;37m                   ^\u001b[0m\n\u001b[1;31mSyntaxError\u001b[0m\u001b[1;31m:\u001b[0m invalid syntax\n"
     ]
    }
   ],
   "source": [
    "sentence = \"the quick brown fox jumps over the lazy dog\"\n",
    "\n",
    "## your code\n",
    "word_lengths = ## your code\n",
    "\n",
    "# TEST\n",
    "print(\"words_lengths\")\n",
    "test(word_lengths, [5, 5, 3, 5, 4, 4, 3])"
   ]
  },
  {
   "cell_type": "code",
   "execution_count": 11,
   "metadata": {},
   "outputs": [
    {
     "name": "stdout",
     "output_type": "stream",
     "text": [
      "['quick', 'brown', 'fox', 'jumps', 'over', 'lazy', 'dog']\n",
      "words_lengths\n"
     ]
    }
   ],
   "source": [
    "sentence = \"the quick brown fox jumps over the lazy dog\"\n",
    "\n",
    "## your code\n",
    "\n",
    "sentence = sentence.split(\" \") #spit sentence at \" \" into indovidual string\n",
    "word_lengths = []\n",
    "for w in sentence:\n",
    "    if w != \"the\":\n",
    "        word_lengths.append(w)\n",
    "    \n",
    "print(word_lengths)\n",
    "    \n",
    "# TEST\n",
    "print(\"words_lengths\")\n",
    "#test(word_lengths, [5, 5, 3, 5, 4, 4, 3])"
   ]
  },
  {
   "cell_type": "code",
   "execution_count": 12,
   "metadata": {},
   "outputs": [
    {
     "name": "stdout",
     "output_type": "stream",
     "text": [
      "[5, 5, 3, 5, 4, 4, 3]\n",
      "words_lengths\n"
     ]
    }
   ],
   "source": [
    "sentence = \"the quick brown fox jumps over the lazy dog\"\n",
    "\n",
    "## your code\n",
    "\n",
    "sentence = sentence.split(\" \") #spit sentence at \" \" into indovidual string\n",
    "word_lengths = []\n",
    "for w in sentence:\n",
    "    if w != \"the\":\n",
    "        word_lengths.append(len(w))\n",
    "    \n",
    "print(word_lengths)\n",
    "    \n",
    "# TEST\n",
    "print(\"words_lengths\")\n",
    "#test(word_lengths, [5, 5, 3, 5, 4, 4, 3])"
   ]
  },
  {
   "cell_type": "code",
   "execution_count": 13,
   "metadata": {},
   "outputs": [
    {
     "name": "stdout",
     "output_type": "stream",
     "text": [
      "[5, 5, 3, 5, 4, 4, 3]\n",
      "\n",
      "words_lengths\n",
      "  OK  got: [5, 5, 3, 5, 4, 4, 3] expected: [5, 5, 3, 5, 4, 4, 3]\n"
     ]
    }
   ],
   "source": [
    "sentence = \"the quick brown fox jumps over the lazy dog\"\n",
    "\n",
    "## your code\n",
    "\n",
    "sentence = sentence.split(\" \") #spit sentence at \" \" into indovidual string\n",
    "word_lengths = [len(w) for w in sentence if w != \"the\"] # dont forget square bracket\n",
    "    \n",
    "print(word_lengths)\n",
    "    \n",
    "# TEST\n",
    "print(\"\\nwords_lengths\")\n",
    "test(word_lengths, [5, 5, 3, 5, 4, 4, 3])"
   ]
  },
  {
   "cell_type": "markdown",
   "metadata": {},
   "source": [
    "#### Exercise 4 - Celsius to Fahrenheit\n",
    "\n",
    "Convert the following list of temperatures in Celsius to Fahrenheit. Round the results to 2 decimals.\n",
    "\n",
    "Fahrenheit = 9/5*Celsius + 32"
   ]
  },
  {
   "cell_type": "code",
   "execution_count": 14,
   "metadata": {},
   "outputs": [
    {
     "ename": "SyntaxError",
     "evalue": "invalid syntax (109980271.py, line 2)",
     "output_type": "error",
     "traceback": [
      "\u001b[1;36m  Input \u001b[1;32mIn [14]\u001b[1;36m\u001b[0m\n\u001b[1;33m    fahrenheit = ## your code here\u001b[0m\n\u001b[1;37m                 ^\u001b[0m\n\u001b[1;31mSyntaxError\u001b[0m\u001b[1;31m:\u001b[0m invalid syntax\n"
     ]
    }
   ],
   "source": [
    "celsius = [43.6, 67.3, 43.6, 56.4]\n",
    "fahrenheit = ## your code here\n",
    "\n",
    "# TEST\n",
    "print(\"celsius_to_fahrenheit\")\n",
    "test(fahrenheit, [110.48, 153.14, 110.48, 133.52])"
   ]
  },
  {
   "cell_type": "code",
   "execution_count": 15,
   "metadata": {},
   "outputs": [
    {
     "name": "stdout",
     "output_type": "stream",
     "text": [
      "[110.48, 153.14, 110.48, 133.52]\n",
      "\n",
      "celsius_to_fahrenheit\n",
      "  OK  got: [110.48, 153.14, 110.48, 133.52] expected: [110.48, 153.14, 110.48, 133.52]\n"
     ]
    }
   ],
   "source": [
    "#(0°C × 9/5) + 32 = 32°F\n",
    "celsius = [43.6, 67.3, 43.6, 56.4]\n",
    "fahrenheit = []\n",
    "\n",
    "for C in celsius:\n",
    "    F=(C*9/5)+32\n",
    "    fahrenheit.append(round(F,2))\n",
    "    \n",
    "print(fahrenheit)\n",
    "    \n",
    "\n",
    "# TEST\n",
    "print(\"\\ncelsius_to_fahrenheit\")\n",
    "test(fahrenheit, [110.48, 153.14, 110.48, 133.52])"
   ]
  },
  {
   "cell_type": "code",
   "execution_count": 16,
   "metadata": {},
   "outputs": [
    {
     "name": "stdout",
     "output_type": "stream",
     "text": [
      "[110.48, 153.14, 110.48, 133.52]\n",
      "\n",
      "celsius_to_fahrenheit\n",
      "  OK  got: [110.48, 153.14, 110.48, 133.52] expected: [110.48, 153.14, 110.48, 133.52]\n"
     ]
    }
   ],
   "source": [
    "#(0°C × 9/5) + 32 = 32°F\n",
    "celsius = [43.6, 67.3, 43.6, 56.4]\n",
    "\n",
    "\n",
    "fahrenheit = [round((C*9/5)+32,2) for C in celsius]\n",
    "    \n",
    "print(fahrenheit)\n",
    "    \n",
    "\n",
    "# TEST\n",
    "print(\"\\ncelsius_to_fahrenheit\")\n",
    "test(fahrenheit, [110.48, 153.14, 110.48, 133.52])"
   ]
  },
  {
   "cell_type": "markdown",
   "metadata": {},
   "source": [
    "#### Exercise 5 - Square odds lambda\n",
    "\n",
    "Write a **lambda** function that squares number for all odd numbers from 1 to 100\n",
    "\n",
    "Hints: filter(), map(), list()"
   ]
  },
  {
   "cell_type": "code",
   "execution_count": 17,
   "metadata": {},
   "outputs": [
    {
     "ename": "SyntaxError",
     "evalue": "invalid syntax (524679976.py, line 3)",
     "output_type": "error",
     "traceback": [
      "\u001b[1;36m  Input \u001b[1;32mIn [17]\u001b[1;36m\u001b[0m\n\u001b[1;33m    answer = ## your code\u001b[0m\n\u001b[1;37m             ^\u001b[0m\n\u001b[1;31mSyntaxError\u001b[0m\u001b[1;31m:\u001b[0m invalid syntax\n"
     ]
    }
   ],
   "source": [
    "numbers = list(range(1,100+1))\n",
    "\n",
    "answer = ## your code\n",
    "\n",
    "# TEST\n",
    "print(\"square_odds_lambda\")\n",
    "test_answer = [1, 9, 25, 49, 81, 121, 169, 225, 289, 361, 441, 529, 625, 729, 841, 961, 1089, 1225, 1369, 1521, 1681, 1849, 2025, 2209, 2401, 2601, 2809, 3025, 3249, 3481, 3721, 3969, 4225, 4489, 4761, 5041, 5329, 5625, 5929, 6241, 6561, 6889, 7225, 7569, 7921, 8281, 8649, 9025, 9409, 9801]\n",
    "test(answer, test_answer)"
   ]
  },
  {
   "cell_type": "code",
   "execution_count": 18,
   "metadata": {},
   "outputs": [
    {
     "name": "stdout",
     "output_type": "stream",
     "text": [
      "[1, 9, 25, 49, 81, 121, 169, 225, 289, 361, 441, 529, 625, 729, 841, 961, 1089, 1225, 1369, 1521, 1681, 1849, 2025, 2209, 2401, 2601, 2809, 3025, 3249, 3481, 3721, 3969, 4225, 4489, 4761, 5041, 5329, 5625, 5929, 6241, 6561, 6889, 7225, 7569, 7921, 8281, 8649, 9025, 9409, 9801]\n",
      "\n",
      "square_odds_lambda\n",
      "  OK  got: [1, 9, 25, 49, 81, 121, 169, 225, 289, 361, 441, 529, 625, 729, 841, 961, 1089, 1225, 1369, 1521, 1681, 1849, 2025, 2209, 2401, 2601, 2809, 3025, 3249, 3481, 3721, 3969, 4225, 4489, 4761, 5041, 5329, 5625, 5929, 6241, 6561, 6889, 7225, 7569, 7921, 8281, 8649, 9025, 9409, 9801] expected: [1, 9, 25, 49, 81, 121, 169, 225, 289, 361, 441, 529, 625, 729, 841, 961, 1089, 1225, 1369, 1521, 1681, 1849, 2025, 2209, 2401, 2601, 2809, 3025, 3249, 3481, 3721, 3969, 4225, 4489, 4761, 5041, 5329, 5625, 5929, 6241, 6561, 6889, 7225, 7569, 7921, 8281, 8649, 9025, 9409, 9801]\n"
     ]
    }
   ],
   "source": [
    "numbers = list(range(1,100+1)) #from 1 until before 101\n",
    "\n",
    "answer = []\n",
    "for n in numbers:\n",
    "    if n%2!=0:\n",
    "        answer.append(n**2)\n",
    "\n",
    "print(answer)\n",
    "\n",
    "# TEST\n",
    "print(\"\\nsquare_odds_lambda\")\n",
    "test_answer = [1, 9, 25, 49, 81, 121, 169, 225, 289, 361, 441, 529, 625, 729, 841, 961, 1089, 1225, 1369, 1521, 1681, 1849, 2025, 2209, 2401, 2601, 2809, 3025, 3249, 3481, 3721, 3969, 4225, 4489, 4761, 5041, 5329, 5625, 5929, 6241, 6561, 6889, 7225, 7569, 7921, 8281, 8649, 9025, 9409, 9801]\n",
    "test(answer, test_answer)"
   ]
  },
  {
   "cell_type": "code",
   "execution_count": 19,
   "metadata": {},
   "outputs": [
    {
     "name": "stdout",
     "output_type": "stream",
     "text": [
      "[1, 9, 25, 49, 81, 121, 169, 225, 289, 361, 441, 529, 625, 729, 841, 961, 1089, 1225, 1369, 1521, 1681, 1849, 2025, 2209, 2401, 2601, 2809, 3025, 3249, 3481, 3721, 3969, 4225, 4489, 4761, 5041, 5329, 5625, 5929, 6241, 6561, 6889, 7225, 7569, 7921, 8281, 8649, 9025, 9409, 9801]\n",
      "\n",
      "square_odds_lambda\n",
      "  OK  got: [1, 9, 25, 49, 81, 121, 169, 225, 289, 361, 441, 529, 625, 729, 841, 961, 1089, 1225, 1369, 1521, 1681, 1849, 2025, 2209, 2401, 2601, 2809, 3025, 3249, 3481, 3721, 3969, 4225, 4489, 4761, 5041, 5329, 5625, 5929, 6241, 6561, 6889, 7225, 7569, 7921, 8281, 8649, 9025, 9409, 9801] expected: [1, 9, 25, 49, 81, 121, 169, 225, 289, 361, 441, 529, 625, 729, 841, 961, 1089, 1225, 1369, 1521, 1681, 1849, 2025, 2209, 2401, 2601, 2809, 3025, 3249, 3481, 3721, 3969, 4225, 4489, 4761, 5041, 5329, 5625, 5929, 6241, 6561, 6889, 7225, 7569, 7921, 8281, 8649, 9025, 9409, 9801]\n"
     ]
    }
   ],
   "source": [
    "numbers = list(range(1,100+1)) #from 1 until before 101\n",
    "\n",
    "answer = [n**2 for n in numbers if n%2!=0]\n",
    "        \n",
    "print(answer)\n",
    "\n",
    "# TEST\n",
    "print(\"\\nsquare_odds_lambda\")\n",
    "test_answer = [1, 9, 25, 49, 81, 121, 169, 225, 289, 361, 441, 529, 625, 729, 841, 961, 1089, 1225, 1369, 1521, 1681, 1849, 2025, 2209, 2401, 2601, 2809, 3025, 3249, 3481, 3721, 3969, 4225, 4489, 4761, 5041, 5329, 5625, 5929, 6241, 6561, 6889, 7225, 7569, 7921, 8281, 8649, 9025, 9409, 9801]\n",
    "test(answer, test_answer)"
   ]
  },
  {
   "cell_type": "code",
   "execution_count": 20,
   "metadata": {},
   "outputs": [
    {
     "name": "stdout",
     "output_type": "stream",
     "text": [
      "[1, 9, 25, 49, 81, 121, 169, 225, 289, 361, 441, 529, 625, 729, 841, 961, 1089, 1225, 1369, 1521, 1681, 1849, 2025, 2209, 2401, 2601, 2809, 3025, 3249, 3481, 3721, 3969, 4225, 4489, 4761, 5041, 5329, 5625, 5929, 6241, 6561, 6889, 7225, 7569, 7921, 8281, 8649, 9025, 9409, 9801]\n",
      "\n",
      "square_odds_lambda\n",
      "  OK  got: [1, 9, 25, 49, 81, 121, 169, 225, 289, 361, 441, 529, 625, 729, 841, 961, 1089, 1225, 1369, 1521, 1681, 1849, 2025, 2209, 2401, 2601, 2809, 3025, 3249, 3481, 3721, 3969, 4225, 4489, 4761, 5041, 5329, 5625, 5929, 6241, 6561, 6889, 7225, 7569, 7921, 8281, 8649, 9025, 9409, 9801] expected: [1, 9, 25, 49, 81, 121, 169, 225, 289, 361, 441, 529, 625, 729, 841, 961, 1089, 1225, 1369, 1521, 1681, 1849, 2025, 2209, 2401, 2601, 2809, 3025, 3249, 3481, 3721, 3969, 4225, 4489, 4761, 5041, 5329, 5625, 5929, 6241, 6561, 6889, 7225, 7569, 7921, 8281, 8649, 9025, 9409, 9801]\n"
     ]
    }
   ],
   "source": [
    "numbers = list(range(1,100+1))\n",
    "\n",
    "#lambda function\n",
    "answer=list(map(lambda x:x**2, filter(lambda x: x%2!=0, numbers)))\n",
    "\n",
    "print(answer)\n",
    "\n",
    "# TEST\n",
    "print(\"\\nsquare_odds_lambda\")\n",
    "test_answer = [1, 9, 25, 49, 81, 121, 169, 225, 289, 361, 441, 529, 625, 729, 841, 961, 1089, 1225, 1369, 1521, 1681, 1849, 2025, 2209, 2401, 2601, 2809, 3025, 3249, 3481, 3721, 3969, 4225, 4489, 4761, 5041, 5329, 5625, 5929, 6241, 6561, 6889, 7225, 7569, 7921, 8281, 8649, 9025, 9409, 9801]\n",
    "test(answer, test_answer)"
   ]
  },
  {
   "cell_type": "markdown",
   "metadata": {},
   "source": [
    "####  Exercise 6 - Square odds lc\n",
    "\n",
    "Write a list comprehension that square number for all odd numbers from 1 to 100\n",
    "\n",
    "Hints: range(1,100)"
   ]
  },
  {
   "cell_type": "code",
   "execution_count": 21,
   "metadata": {},
   "outputs": [
    {
     "ename": "SyntaxError",
     "evalue": "invalid syntax (1694793637.py, line 1)",
     "output_type": "error",
     "traceback": [
      "\u001b[1;36m  Input \u001b[1;32mIn [21]\u001b[1;36m\u001b[0m\n\u001b[1;33m    answer = ## your code here\u001b[0m\n\u001b[1;37m             ^\u001b[0m\n\u001b[1;31mSyntaxError\u001b[0m\u001b[1;31m:\u001b[0m invalid syntax\n"
     ]
    }
   ],
   "source": [
    "answer = ## your code here\n",
    "\n",
    "# TEST\n",
    "test(answer, [1, 9, 25, 49, 81, 121, 169, 225, 289, 361, 441, 529, 625, 729, 841, \n",
    "              961, 1089, 1225, 1369, 1521, 1681, 1849, 2025, 2209, 2401, 2601, 2809, \n",
    "              3025, 3249, 3481, 3721, 3969, 4225, 4489, 4761, 5041, 5329, 5625, 5929, 6241, 6561, 6889, \n",
    "              7225, 7569, 7921, 8281, 8649, 9025, 9409, 9801])"
   ]
  },
  {
   "cell_type": "code",
   "execution_count": 22,
   "metadata": {},
   "outputs": [
    {
     "name": "stdout",
     "output_type": "stream",
     "text": [
      "[1, 9, 25, 49, 81, 121, 169, 225, 289, 361, 441, 529, 625, 729, 841, 961, 1089, 1225, 1369, 1521, 1681, 1849, 2025, 2209, 2401, 2601, 2809, 3025, 3249, 3481, 3721, 3969, 4225, 4489, 4761, 5041, 5329, 5625, 5929, 6241, 6561, 6889, 7225, 7569, 7921, 8281, 8649, 9025, 9409, 9801] \n",
      "\n",
      "  OK  got: [1, 9, 25, 49, 81, 121, 169, 225, 289, 361, 441, 529, 625, 729, 841, 961, 1089, 1225, 1369, 1521, 1681, 1849, 2025, 2209, 2401, 2601, 2809, 3025, 3249, 3481, 3721, 3969, 4225, 4489, 4761, 5041, 5329, 5625, 5929, 6241, 6561, 6889, 7225, 7569, 7921, 8281, 8649, 9025, 9409, 9801] expected: [1, 9, 25, 49, 81, 121, 169, 225, 289, 361, 441, 529, 625, 729, 841, 961, 1089, 1225, 1369, 1521, 1681, 1849, 2025, 2209, 2401, 2601, 2809, 3025, 3249, 3481, 3721, 3969, 4225, 4489, 4761, 5041, 5329, 5625, 5929, 6241, 6561, 6889, 7225, 7569, 7921, 8281, 8649, 9025, 9409, 9801]\n"
     ]
    }
   ],
   "source": [
    "answer = [n**2 for n in range(1,100+1) if n%2!=0]\n",
    "        \n",
    "print(answer,\"\\n\")\n",
    "\n",
    "# TEST\n",
    "test(answer, [1, 9, 25, 49, 81, 121, 169, 225, 289, 361, 441, 529, 625, 729, 841, \n",
    "              961, 1089, 1225, 1369, 1521, 1681, 1849, 2025, 2209, 2401, 2601, 2809, \n",
    "              3025, 3249, 3481, 3721, 3969, 4225, 4489, 4761, 5041, 5329, 5625, 5929, 6241, 6561, 6889, \n",
    "              7225, 7569, 7921, 8281, 8649, 9025, 9409, 9801])"
   ]
  },
  {
   "cell_type": "markdown",
   "metadata": {},
   "source": [
    "#### Exercise 7 - Extract A names lambda \n",
    "\n",
    "Write a **lambda** function to extract names that begin with 'A'"
   ]
  },
  {
   "cell_type": "code",
   "execution_count": 23,
   "metadata": {},
   "outputs": [
    {
     "name": "stdout",
     "output_type": "stream",
     "text": [
      "  OK  got: ['Anne', 'Amy'] expected: ['Anne', 'Amy']\n"
     ]
    }
   ],
   "source": [
    "names = ['Anne', 'Amy', 'Bob', 'David', 'Carrie', 'Barbara', 'Zach']\n",
    "answer = list(filter(lambda x:x.startswith(\"A\"), names))\n",
    "#list(filter(lambda x:x%2==0, numbers))\n",
    "\n",
    "# TEST\n",
    "test(answer, ['Anne', 'Amy'])"
   ]
  },
  {
   "cell_type": "code",
   "execution_count": 24,
   "metadata": {},
   "outputs": [
    {
     "ename": "AttributeError",
     "evalue": "'list' object has no attribute 'startswith'",
     "output_type": "error",
     "traceback": [
      "\u001b[1;31m---------------------------------------------------------------------------\u001b[0m",
      "\u001b[1;31mAttributeError\u001b[0m                            Traceback (most recent call last)",
      "Input \u001b[1;32mIn [24]\u001b[0m, in \u001b[0;36m<cell line: 1>\u001b[1;34m()\u001b[0m\n\u001b[1;32m----> 1\u001b[0m \u001b[43mnames\u001b[49m\u001b[38;5;241;43m.\u001b[39;49m\u001b[43mstartswith\u001b[49m(\u001b[38;5;124m'\u001b[39m\u001b[38;5;124mA\u001b[39m\u001b[38;5;124m'\u001b[39m)\n",
      "\u001b[1;31mAttributeError\u001b[0m: 'list' object has no attribute 'startswith'"
     ]
    }
   ],
   "source": [
    "names.startswith('A')"
   ]
  },
  {
   "cell_type": "code",
   "execution_count": null,
   "metadata": {},
   "outputs": [],
   "source": []
  },
  {
   "cell_type": "markdown",
   "metadata": {},
   "source": [
    "#### Exercise 8 - Extract B names lc\n",
    "\n",
    "Write a list comprehension to extract the names that begin with 'B'"
   ]
  },
  {
   "cell_type": "code",
   "execution_count": 25,
   "metadata": {},
   "outputs": [
    {
     "name": "stdout",
     "output_type": "stream",
     "text": [
      "extract_b_names_lc\n",
      "  OK  got: ['Bob', 'Barbara'] expected: ['Bob', 'Barbara']\n"
     ]
    }
   ],
   "source": [
    "names = ['Anne', 'Amy', 'Bob', 'David', 'Carrie', 'Barbara', 'Zach']\n",
    "answer = []\n",
    "for n in names:\n",
    "    if n.startswith(\"B\"):\n",
    "        answer.append(n)\n",
    "#answer = [n**2 for n in range(1,100+1) if n%2!=0]\n",
    "\n",
    "# TEST\n",
    "print(\"extract_b_names_lc\")\n",
    "test(answer, ['Bob', 'Barbara'])"
   ]
  },
  {
   "cell_type": "code",
   "execution_count": 26,
   "metadata": {},
   "outputs": [
    {
     "name": "stdout",
     "output_type": "stream",
     "text": [
      "extract_b_names_lc\n",
      "  OK  got: ['Bob', 'Barbara'] expected: ['Bob', 'Barbara']\n"
     ]
    }
   ],
   "source": [
    "names = ['Anne', 'Amy', 'Bob', 'David', 'Carrie', 'Barbara', 'Zach']\n",
    "answer = [n for n in names if n.startswith(\"B\")]\n",
    "#answer = [n**2 for n in range(1,100+1) if n%2!=0]\n",
    "\n",
    "# TEST\n",
    "print(\"extract_b_names_lc\")\n",
    "test(answer, ['Bob', 'Barbara'])"
   ]
  },
  {
   "cell_type": "markdown",
   "metadata": {},
   "source": [
    "#### Exercise 9 - Sort last\n",
    "\n",
    "Given a list of non-empty tuples, return a list sorted in increasing\n",
    "order by the last element in each tuple. <br/>\n",
    "e.g. [(1, 7), (1, 3), (3, 4, 5), (2, 2)] yields\n",
    "[(2, 2), (1, 3), (3, 4, 5), (1, 7)] <br/>\n",
    "\n",
    "Hint: use a custom key= function to extract the last element form each tuple."
   ]
  },
  {
   "cell_type": "code",
   "execution_count": null,
   "metadata": {},
   "outputs": [],
   "source": [
    "#output: [(2, 1), (3, 2), (1, 3)]\n",
    "list1 = [(1, 3), (3, 2), (2, 1)]\n",
    "\n",
    "#output: [(3, 1), (1, 2), (2, 3)]\n",
    "list2 = [(2, 3), (1, 2), (3, 1)]\n",
    "\n",
    "#output: [(2, 2), (1, 3), (3, 4, 5), (1, 7)]\n",
    "list3 = [(1, 7), (1, 3), (3, 4, 5), (2, 2)]\n",
    "\n",
    "def sort_last(tuples):\n",
    "    ## your code here\n",
    "\n",
    "\n",
    "# TEST\n",
    "test(sort_last(list1), [(2, 1), (3, 2), (1, 3)])\n",
    "test(sort_last(list2), [(3, 1), (1, 2), (2, 3)])\n",
    "test(sort_last(list3), [(2, 2), (1, 3), (3, 4, 5), (1, 7)])"
   ]
  },
  {
   "cell_type": "code",
   "execution_count": 28,
   "metadata": {},
   "outputs": [
    {
     "name": "stdout",
     "output_type": "stream",
     "text": [
      "  OK  got: [(2, 1), (3, 2), (1, 3)] expected: [(2, 1), (3, 2), (1, 3)]\n",
      "  OK  got: [(3, 1), (1, 2), (2, 3)] expected: [(3, 1), (1, 2), (2, 3)]\n",
      "  OK  got: [(2, 2), (1, 3), (3, 4, 5), (1, 7)] expected: [(2, 2), (1, 3), (3, 4, 5), (1, 7)]\n"
     ]
    }
   ],
   "source": [
    "#sorted(tuples, key=lambda x:x[-1])\n",
    "\n",
    "#output: [(2, 1), (3, 2), (1, 3)]\n",
    "list1 = [(1, 3), (3, 2), (2, 1)]\n",
    "\n",
    "#output: [(3, 1), (1, 2), (2, 3)]\n",
    "list2 = [(2, 3), (1, 2), (3, 1)]\n",
    "\n",
    "#output: [(2, 2), (1, 3), (3, 4, 5), (1, 7)]\n",
    "list3 = [(1, 7), (1, 3), (3, 4, 5), (2, 2)]\n",
    "\n",
    "def sort_last(tuples):\n",
    "    return sorted(tuples, key=lambda x:x[-1])\n",
    "\n",
    "\n",
    "# TEST\n",
    "test(sort_last(list1), [(2, 1), (3, 2), (1, 3)])\n",
    "test(sort_last(list2), [(3, 1), (1, 2), (2, 3)])\n",
    "test(sort_last(list3), [(2, 2), (1, 3), (3, 4, 5), (1, 7)])"
   ]
  },
  {
   "cell_type": "markdown",
   "metadata": {},
   "source": [
    "#### Exercise 10 - Coordinates\n",
    "\n",
    "Convert the following for loop code to list comprehension\n",
    "\n",
    "Hint: double list comprehension"
   ]
  },
  {
   "cell_type": "code",
   "execution_count": 29,
   "metadata": {},
   "outputs": [
    {
     "name": "stdout",
     "output_type": "stream",
     "text": [
      "[(0, 0), (0, 1), (1, 0), (1, 1), (2, 0), (2, 1), (3, 0), (3, 1)]\n"
     ]
    }
   ],
   "source": [
    "coords = []\n",
    "for x in range(4):\n",
    "    for y in range(2):\n",
    "        coordinate = (x, y)\n",
    "        coords.append(coordinate)\n",
    "print(coords)"
   ]
  },
  {
   "cell_type": "code",
   "execution_count": 30,
   "metadata": {},
   "outputs": [
    {
     "name": "stdout",
     "output_type": "stream",
     "text": [
      "coordinates\n",
      "  OK  got: [(0, 0), (0, 1), (1, 0), (1, 1), (2, 0), (2, 1), (3, 0), (3, 1)] expected: [(0, 0), (0, 1), (1, 0), (1, 1), (2, 0), (2, 1), (3, 0), (3, 1)]\n"
     ]
    }
   ],
   "source": [
    "coords_lc = [(x, y) for x in range(4) for y in range(2)]\n",
    "\n",
    "# TEST\n",
    "print(\"coordinates\") \n",
    "test(coords_lc, [(0, 0), (0, 1), (1, 0), (1, 1), (2, 0), (2, 1), (3, 0), (3, 1)])"
   ]
  },
  {
   "cell_type": "code",
   "execution_count": null,
   "metadata": {},
   "outputs": [],
   "source": []
  },
  {
   "cell_type": "markdown",
   "metadata": {},
   "source": [
    "#### Exercise 11 - Ball Cake\n",
    "\n",
    "Write a list comprehension to list all combinations from the two list of words. \n",
    "\n",
    "This is the expected output: </br>\n",
    "    \n",
    "    ['s1:ball s2:cake', 's1:ball s2:rice', 's1:ball s2:ham'.......]\n",
    "\n",
    "Hints: str.format(), double listcomprehension"
   ]
  },
  {
   "cell_type": "code",
   "execution_count": null,
   "metadata": {},
   "outputs": [],
   "source": [
    "set1 = ['ball','cheese','round']\n",
    "set2 = ['cake','rice','ham']\n",
    "\n",
    "answer = ## your code here\n",
    "\n",
    "# TEST\n",
    "print(\"ball_cake\")\n",
    "test(answer, ['s1:ball s2:cake', 's1:ball s2:rice', 's1:ball s2:ham', 's1:cheese s2:cake', \n",
    "              's1:cheese s2:rice', 's1:cheese s2:ham', 's1:round s2:cake', 's1:round s2:rice', \n",
    "              's1:round s2:ham'])"
   ]
  },
  {
   "cell_type": "code",
   "execution_count": 36,
   "metadata": {},
   "outputs": [
    {
     "name": "stdout",
     "output_type": "stream",
     "text": [
      "['s1:ball s2:cake', 's1:ball s2:rice', 's1:ball s2:ham', 's1:cheese s2:cake', 's1:cheese s2:rice', 's1:cheese s2:ham', 's1:round s2:cake', 's1:round s2:rice', 's1:round s2:ham']\n",
      "ball_cake\n",
      "  OK  got: ['s1:ball s2:cake', 's1:ball s2:rice', 's1:ball s2:ham', 's1:cheese s2:cake', 's1:cheese s2:rice', 's1:cheese s2:ham', 's1:round s2:cake', 's1:round s2:rice', 's1:round s2:ham'] expected: ['s1:ball s2:cake', 's1:ball s2:rice', 's1:ball s2:ham', 's1:cheese s2:cake', 's1:cheese s2:rice', 's1:cheese s2:ham', 's1:round s2:cake', 's1:round s2:rice', 's1:round s2:ham']\n"
     ]
    }
   ],
   "source": [
    "set1 = ['ball','cheese','round']\n",
    "set2 = ['cake','rice','ham']\n",
    "\n",
    "answer = []## your code here\n",
    "\n",
    "for x in set1:\n",
    "    for y in set2:\n",
    "        s1s2=\"s1:\"+str(x)+\" s2:\"+str(y)\n",
    "        answer.append(s1s2)\n",
    "\n",
    "print(answer)\n",
    "\n",
    "# TEST\n",
    "print(\"ball_cake\")\n",
    "test(answer, ['s1:ball s2:cake', 's1:ball s2:rice', 's1:ball s2:ham', 's1:cheese s2:cake', \n",
    "              's1:cheese s2:rice', 's1:cheese s2:ham', 's1:round s2:cake', 's1:round s2:rice', \n",
    "              's1:round s2:ham'])"
   ]
  },
  {
   "cell_type": "code",
   "execution_count": 38,
   "metadata": {},
   "outputs": [
    {
     "name": "stdout",
     "output_type": "stream",
     "text": [
      "['s1:ball s2:cake', 's1:ball s2:rice', 's1:ball s2:ham', 's1:cheese s2:cake', 's1:cheese s2:rice', 's1:cheese s2:ham', 's1:round s2:cake', 's1:round s2:rice', 's1:round s2:ham']\n",
      "ball_cake\n",
      "  OK  got: ['s1:ball s2:cake', 's1:ball s2:rice', 's1:ball s2:ham', 's1:cheese s2:cake', 's1:cheese s2:rice', 's1:cheese s2:ham', 's1:round s2:cake', 's1:round s2:rice', 's1:round s2:ham'] expected: ['s1:ball s2:cake', 's1:ball s2:rice', 's1:ball s2:ham', 's1:cheese s2:cake', 's1:cheese s2:rice', 's1:cheese s2:ham', 's1:round s2:cake', 's1:round s2:rice', 's1:round s2:ham']\n"
     ]
    }
   ],
   "source": [
    "set1 = ['ball','cheese','round']\n",
    "set2 = ['cake','rice','ham']\n",
    "\n",
    "answer = [(\"s1:\"+str(x)+\" s2:\"+str(y)) for x in set1 for y in set2]\n",
    "\n",
    "print(answer)\n",
    "\n",
    "# TEST\n",
    "print(\"ball_cake\")\n",
    "test(answer, ['s1:ball s2:cake', 's1:ball s2:rice', 's1:ball s2:ham', 's1:cheese s2:cake', \n",
    "              's1:cheese s2:rice', 's1:cheese s2:ham', 's1:round s2:cake', 's1:round s2:rice', \n",
    "              's1:round s2:ham'])"
   ]
  },
  {
   "cell_type": "markdown",
   "metadata": {},
   "source": [
    "#### Exercise 12 - Front x \n",
    "Given a list of strings, return a list with the strings\n",
    "in sorted order, except group all the strings that begin with 'x' first. <br/>\n",
    "e.g. ['mix', 'xyz', 'apple', 'xanadu', 'aardvark'] yields\n",
    "['xanadu', 'xyz', 'aardvark', 'apple', 'mix'] <br/>\n",
    "\n",
    "Hint: this can be done by making 2 lists and sorting each of them\n",
    "before combining them."
   ]
  },
  {
   "cell_type": "code",
   "execution_count": null,
   "metadata": {},
   "outputs": [],
   "source": [
    "# ['xaa', 'xzz', 'axx', 'bbb', 'ccc']\n",
    "text1 = (['bbb', 'ccc', 'axx', 'xzz', 'xaa'])\n",
    "\n",
    "# ['xaa', 'xcc', 'aaa', 'bbb', 'ccc']\n",
    "text2 = (['ccc', 'bbb', 'aaa', 'xcc', 'xaa'])\n",
    "\n",
    "# ['xanadu', 'xyz', 'aardvark', 'apple', 'mix']\n",
    "text3 = (['mix', 'xyz', 'apple', 'xanadu', 'aardvark'])\n",
    "\n",
    "def front_x(words):\n",
    "    ## your code here\n",
    "    \n",
    " \n",
    "    \n",
    "# TEST\n",
    "print(\"front_x\")\n",
    "test(front_x(text1), ['xaa', 'xzz', 'axx', 'bbb', 'ccc'])\n",
    "test(front_x(text2), ['xaa', 'xcc', 'aaa', 'bbb', 'ccc'])\n",
    "test(front_x(text3), ['xanadu', 'xyz', 'aardvark', 'apple', 'mix'])"
   ]
  },
  {
   "cell_type": "code",
   "execution_count": 85,
   "metadata": {},
   "outputs": [
    {
     "name": "stdout",
     "output_type": "stream",
     "text": [
      "front_x\n",
      "  OK  got: ['xaa', 'xzz', 'axx', 'bbb', 'ccc'] expected: ['xaa', 'xzz', 'axx', 'bbb', 'ccc']\n",
      "  OK  got: ['xaa', 'xcc', 'aaa', 'bbb', 'ccc'] expected: ['xaa', 'xcc', 'aaa', 'bbb', 'ccc']\n",
      "  OK  got: ['xanadu', 'xyz', 'aardvark', 'apple', 'mix'] expected: ['xanadu', 'xyz', 'aardvark', 'apple', 'mix']\n"
     ]
    }
   ],
   "source": [
    "# ['xaa', 'xzz', 'axx', 'bbb', 'ccc']\n",
    "text1 = (['bbb', 'ccc', 'axx', 'xzz', 'xaa'])\n",
    "\n",
    "# ['xaa', 'xcc', 'aaa', 'bbb', 'ccc']\n",
    "text2 = (['ccc', 'bbb', 'aaa', 'xcc', 'xaa'])\n",
    "\n",
    "# ['xanadu', 'xyz', 'aardvark', 'apple', 'mix']\n",
    "text3 = (['mix', 'xyz', 'apple', 'xanadu', 'aardvark'])\n",
    "\n",
    "def front_x(words):\n",
    "    front = sorted([n for n in words if n.startswith(\"x\")])\n",
    "    back= sorted(filter(lambda x:x[0]!='x', words))\n",
    "    return front+back\n",
    "\n",
    "#n for n in names if n.startswith(\"B\")\n",
    "#filter(lambda x:x%2==0, numbers)\n",
    "#sorted(tuples, key=lambda x:x[-1])\n",
    "    \n",
    "# TEST\n",
    "print(\"front_x\")\n",
    "test(front_x(text1), ['xaa', 'xzz', 'axx', 'bbb', 'ccc'])\n",
    "test(front_x(text2), ['xaa', 'xcc', 'aaa', 'bbb', 'ccc'])\n",
    "test(front_x(text3), ['xanadu', 'xyz', 'aardvark', 'apple', 'mix'])"
   ]
  },
  {
   "cell_type": "code",
   "execution_count": null,
   "metadata": {},
   "outputs": [],
   "source": []
  }
 ],
 "metadata": {
  "kernelspec": {
   "display_name": "Python 3 (ipykernel)",
   "language": "python",
   "name": "python3"
  },
  "language_info": {
   "codemirror_mode": {
    "name": "ipython",
    "version": 3
   },
   "file_extension": ".py",
   "mimetype": "text/x-python",
   "name": "python",
   "nbconvert_exporter": "python",
   "pygments_lexer": "ipython3",
   "version": "3.9.12"
  },
  "toc-autonumbering": false
 },
 "nbformat": 4,
 "nbformat_minor": 2
}
