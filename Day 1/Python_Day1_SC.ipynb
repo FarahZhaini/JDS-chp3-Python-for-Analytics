{
 "cells": [
  {
   "cell_type": "markdown",
   "metadata": {},
   "source": [
    "<img src=\"images/cads-logo.png\" style=\"height: 100px\" align=left> \n",
    "<img src=\"images/python-logo.png\" style=\"height: 100px\" align=right>"
   ]
  },
  {
   "cell_type": "code",
   "execution_count": 261,
   "metadata": {},
   "outputs": [
    {
     "name": "stdout",
     "output_type": "stream",
     "text": [
      "35\n"
     ]
    }
   ],
   "source": [
    "def add(a,b,c=10):\n",
    "    print(a+b+c)\n",
    "    \n",
    "answer = add(10,15)"
   ]
  },
  {
   "cell_type": "code",
   "execution_count": 262,
   "metadata": {},
   "outputs": [
    {
     "ename": "SyntaxError",
     "evalue": "invalid syntax (1288753881.py, line 2)",
     "output_type": "error",
     "traceback": [
      "\u001b[1;36m  Input \u001b[1;32mIn [262]\u001b[1;36m\u001b[0m\n\u001b[1;33m    f.write(\"\"hey!\"\")\u001b[0m\n\u001b[1;37m              ^\u001b[0m\n\u001b[1;31mSyntaxError\u001b[0m\u001b[1;31m:\u001b[0m invalid syntax\n"
     ]
    }
   ],
   "source": [
    "f=open('file.txt','w')\n",
    "f.write(\"\"hey!\"\")"
   ]
  },
  {
   "cell_type": "code",
   "execution_count": 263,
   "metadata": {},
   "outputs": [],
   "source": [
    "L = [1,5,8,2]\n",
    "\n",
    "M = [item**2-1 for item in L]"
   ]
  },
  {
   "cell_type": "code",
   "execution_count": 264,
   "metadata": {},
   "outputs": [
    {
     "name": "stdout",
     "output_type": "stream",
     "text": [
      "[0, 24, 63, 3]\n"
     ]
    }
   ],
   "source": [
    "print (M)"
   ]
  },
  {
   "cell_type": "markdown",
   "metadata": {},
   "source": [
    "# Python Fundamentals Day 1\n",
    "\n",
    "Welcome to Python Fundamentals Day 1.\n",
    "\n",
    "So what is on the menu for today? \n",
    "\n",
    "At first we talk about what is programming and what is so great about the programming language Python. Then we have a look at this programming environment we are working in, Jupyter.\n",
    "\n",
    "Then we get started. \n",
    "\n",
    "Today you will learn how to print text, numeric calculations, to use variables, make a list, loop over a list, do an if-else statement, define a function and do string operations. "
   ]
  },
  {
   "cell_type": "markdown",
   "metadata": {},
   "source": [
    "## Table of Contents\n",
    "\n",
    "- [Introduction to Python programming](#Introduction-to-Python-programming)\n",
    "    - [What is programming](#What-is-programming)\n",
    "    - [Why learn how to program](#Why-learn-how-to-program)\n",
    "    - [Programming languages](#Programming-languages)\n",
    "    - [What is Python](#What-is-Python)\n",
    "    - [Programming basics](#Programming-basics)\n",
    "- [Introduction to Jupyter](#Introduction-to-Jupyter)\n",
    "    - [What is Jupyter](#What-is-Jupyter)\n",
    "    - [Jupyter short keys](#Jupyter-short-keys)\n",
    "- [Getting started](#Getting-started)\n",
    "    - [Hello world](#Hello-world)\n",
    "    - [Python as a Calculator](#Python-as-a-Calculator)\n",
    "    - [Summary Getting started](#Summary-Getting-started)\n",
    "        - [print](#print)\n",
    "        - [arithmetic operations](#arithmetic-operations)\n",
    "- [Variables For loop and If Else](#Variables-For-loop-and-If-Else)\n",
    "    - [Your first Error](#Your-first-Error)\n",
    "    - [Variables](#Variables)\n",
    "    - [For Loop](#For-Loop)\n",
    "    - [If elif else](#If-elif-else)\n",
    "    - [If else inside a For loop](#If-else-inside-a-For-loop)\n",
    "    - [Summary Variables](#Summary-Variables)\n",
    "        - [variable](#variable)\n",
    "        - [whos](#whos)\n",
    "        - [del](#del)\n",
    "        - [list](#list)\n",
    "        - [for loop](#for-loop)\n",
    "        - [condition](#condition)\n",
    "        - [if elif else](#if-elif-else)\n",
    "    - [Exercises](#Exercises)\n",
    "        - [Exercise 1 - Seconds in course](#Exercise-1---Seconds-in-course)\n",
    "        - [Exercise 2 - Teambuilding](#Exercise-2---Teambuilding)\n",
    "        - [Exercise 3 - Total value](#Exercise-3---Total-value)\n",
    "        - [Exercise 4 - Uneven numbers](#Exercise-4---Uneven-numbers)\n",
    "        - [Exercise 5 - Even numbers](#Exercise-5---Even-numbers)\n",
    "        - [Exercise 6 - Find the maximum](#Exercise-6---Find-the-maximum)\n",
    "- [In Python everything is objects](#In-Python-everything-is-objects)\n",
    "    - [Types](#Types)\n",
    "    - [Integer and Float](#Integer-and-Float)\n",
    "    - [String](#String)\n",
    "    - [Boolean](#Boolean)\n",
    "    - [List](#List)\n",
    "    - [Tuple](#Tuple)\n",
    "    - [Dictionary](#Dictionary)\n",
    "    - [None](#None)\n",
    "    - [Mutable and Immutable objects](#Mutable-and-Immutable-objects)\n",
    "    - [Avoid overwriting built-in function](#Avoid-overwriting-built-in-function)\n",
    "    - [Show types using a function and a loop](#Show-types-using-a-function-and-a-loop)\n",
    "    - [Getting help on objects](#Getting-help-on-objects)\n",
    "    - [Summary Objects](#Summary-Objects)\n",
    "        - [object](#object)\n",
    "        - [function](#function)\n",
    "        - [method](#method)\n",
    "        - [int](#int)\n",
    "        - [float](#float)\n",
    "        - [str](#str)\n",
    "        - [bool](#bool)\n",
    "        - [list](#list)\n",
    "        - [tuple](#tuple)\n",
    "        - [dict](#dict)\n",
    "        - [None](#None)\n",
    "    - [RUN ME](#RUN-ME)\n",
    "    - [Practice Exercise together](#Practice-Exercise-together)\n",
    "        - [Practice Exercise 1 - Starts with B](#Practice-Exercise-1---Starts-with-B)\n",
    "    - [Exercises](#Exercises)\n",
    "        - [Exercise 1 - My name is](#Exercise-1---My-name-is)\n",
    "        - [Exercise 2 - Count occurences](#Exercise-2---Count-occurences)\n",
    "        - [Exercise 3 - Bigger](#Exercise-3---Bigger)\n",
    "        - [Exercise 4 - Donuts](#Exercise-4---Donuts)\n",
    "        - [Exercise 5 - Both ends](#Exercise-5---Both-ends)\n",
    "        - [Exercise 6 - Fix start](#Exercise-6---Fix-start)\n",
    "        - [Exercise 7 - Mix up](#Exercise-7---Mix-up)\n",
    "        - [Exercise 8 - Verbing](#Exercise-8---Verbing)\n",
    "        - [Exercise 9 - Weekend](#Exercise-9---Weekend)\n",
    "        - [Exercise 10 - Leap baby](#Exercise-10---Leap-baby)"
   ]
  },
  {
   "cell_type": "markdown",
   "metadata": {
    "toc-hr-collapsed": false
   },
   "source": [
    "## Introduction to Python programming"
   ]
  },
  {
   "cell_type": "markdown",
   "metadata": {},
   "source": [
    "### What is programming\n",
    "\n",
    "Programming is writing a series of instructions to a computer to complete a task.\n",
    "\n",
    "The Instructions must be written in such a way that the computer can understand.\n",
    "\n",
    "Programming languages, such as Python are used to write programs.\n",
    "\n",
    "Programming is Fun!\n",
    "\n",
    "Programming is Frustrating!\n",
    "\n",
    "Programming is Creative!\n",
    "\n",
    "Programming is Communication!\n",
    "- between you and the computer\n",
    "- between you and other coders"
   ]
  },
  {
   "cell_type": "code",
   "execution_count": 265,
   "metadata": {},
   "outputs": [
    {
     "ename": "SyntaxError",
     "evalue": "invalid syntax (768968464.py, line 1)",
     "output_type": "error",
     "traceback": [
      "\u001b[1;36m  Input \u001b[1;32mIn [265]\u001b[1;36m\u001b[0m\n\u001b[1;33m    cat 5 = 1\u001b[0m\n\u001b[1;37m        ^\u001b[0m\n\u001b[1;31mSyntaxError\u001b[0m\u001b[1;31m:\u001b[0m invalid syntax\n"
     ]
    }
   ],
   "source": [
    "cat 5 = 1\n",
    "cat\n",
    "\n"
   ]
  },
  {
   "cell_type": "code",
   "execution_count": 266,
   "metadata": {},
   "outputs": [
    {
     "data": {
      "text/plain": [
       "'10101010'"
      ]
     },
     "execution_count": 266,
     "metadata": {},
     "output_type": "execute_result"
    }
   ],
   "source": [
    "\"10\" * 4"
   ]
  },
  {
   "cell_type": "code",
   "execution_count": 267,
   "metadata": {},
   "outputs": [
    {
     "name": "stdout",
     "output_type": "stream",
     "text": [
      "10101010\n"
     ]
    }
   ],
   "source": [
    "print(\"10\" * 4)"
   ]
  },
  {
   "cell_type": "code",
   "execution_count": 268,
   "metadata": {},
   "outputs": [
    {
     "data": {
      "text/plain": [
       "5"
      ]
     },
     "execution_count": 268,
     "metadata": {},
     "output_type": "execute_result"
    }
   ],
   "source": [
    "int(2.3)+3"
   ]
  },
  {
   "cell_type": "code",
   "execution_count": 269,
   "metadata": {},
   "outputs": [
    {
     "data": {
      "text/plain": [
       "2"
      ]
     },
     "execution_count": 269,
     "metadata": {},
     "output_type": "execute_result"
    }
   ],
   "source": [
    "9//4"
   ]
  },
  {
   "cell_type": "code",
   "execution_count": 270,
   "metadata": {},
   "outputs": [
    {
     "name": "stdout",
     "output_type": "stream",
     "text": [
      "40\n",
      "41\n"
     ]
    }
   ],
   "source": [
    "a = 20\n",
    "a = a*2\n",
    "b = a\n",
    "b += 1\n",
    "print(a)\n",
    "print(b)"
   ]
  },
  {
   "cell_type": "code",
   "execution_count": null,
   "metadata": {},
   "outputs": [],
   "source": []
  },
  {
   "cell_type": "markdown",
   "metadata": {},
   "source": [
    "### Why learn how to program\n",
    "\n",
    "Why would you want to learn programming?\n",
    "\n",
    "**Automate.** Programming gives you the ability to automate tasks.\n",
    "\n",
    "**Problem solving.** It teaches you how to decompose problems into smaller parts, which is great for your problem solving ability.\n",
    "\n",
    "**Understand code.** Being able to read and understand other's code.\n",
    "\n",
    "**Productive.** This makes you more effective, efficient and productive."
   ]
  },
  {
   "cell_type": "markdown",
   "metadata": {},
   "source": [
    "### Programming languages\n",
    "\n",
    "There are many programming languages out there such as Java, C, C++ and R. Each has its own strenghts and weaknesses and is very suitable for certain applications."
   ]
  },
  {
   "cell_type": "markdown",
   "metadata": {},
   "source": [
    "### What is Python\n",
    "\n",
    "Python was created by Guido van Rossum and first released in 1991.\n",
    "\n",
    "**Open source.** The Python interpreter is open source software and managed by the non-profit Python Software Foundation.\n",
    "\n",
    "**Readability.** Python has a design philosophy that emphasizes code readability, notably using significant whitespace.\n",
    "\n",
    "**High-level.** Python is a very high-level programming language. High-level programming languages have strong abstraction from the details of the computer. For example memory management has been taken care of. So in the code you will see commands that sound natural like english and the details under the hood of those commands are already being taken care of. Handy!\n",
    "\n",
    "**Interpreted.** Python is an interpreted language. It's means that Python code will not be compiled but each command will be translated into machine instructions and executed directly by the interpreter. This enables interactive computing as we will be doing in this course.\n",
    "\n",
    "**Object Oriented.** Python is an Object Oriented Programming Language. It means that functionality is bundled together in objects and you can reason with those objects and let them interact.\n",
    "\n",
    "**Dynamic typing.** Python has dynamic typing which means you don't have to declare the type of your variables.\n",
    "\n",
    "**Large standard library.** Python has a large and comprehensive standard library with lot's of functionality available right out of the box.\n",
    "\n",
    "**Large 3rd party libraries.** Python has a large collection of 3rd party libraries available as well. There are lot's of data science Python libraries that provide functionality for table operations, querying, visualisation, machine learning, data scraping and more.\n",
    "\n",
    "**Great for data science.** Python is easy to learn and very powerful. Python enables high productivity. It's has numerous data science libraries and a large supporting open source community."
   ]
  },
  {
   "cell_type": "markdown",
   "metadata": {},
   "source": [
    "### Programming basics\n",
    "\n",
    "**Code.** The sequence of instructions in a program.\n",
    "\n",
    "**Syntax.** The legal set of instructions that can be used in a programming language. It's a collection of allowed commands and allowed grammar applied.\n",
    "\n",
    "**Output.** Messages printed to the user by a program.\n",
    "\n",
    "**Console.** Text box onto which output is printed. In Jupyter this is the outputbox for each cell.\n",
    "\n",
    "**Kernel / Interpreter.** The kernel is a running program that takes the instructions as input, translates it to machine code and executes it. A interpreter is a kernel that executes line by line and as opposed to a compiler that evaluates that whole program and then translates and executes the whole program at once. Python is an interpreted languages and has an Interpreter. "
   ]
  },
  {
   "cell_type": "markdown",
   "metadata": {},
   "source": [
    "## Introduction to Jupyter"
   ]
  },
  {
   "cell_type": "markdown",
   "metadata": {},
   "source": [
    "### What is Jupyter\n",
    "\n",
    "The Jupyter Notebook is an open-source web application that allows you to create and share documents that contain live code, equations, visualizations and narrative text. Uses include: data cleaning and transformation, numerical simulation, statistical modeling, data visualization, machine learning, and much more.\n",
    "\n",
    "Jupyter is a server-client application that allows editing and running notebook documents via a web browser. The Jupyter Notebook app can be executed on a local desktop requiring no internet access or can be installed on a remote server and accessed through the internet.\n",
    "\n",
    "Notice the different cell types; Code, Markdown and Raw.\n",
    "\n",
    "Also learn how to use the short-keys from the start, they will make you productive!"
   ]
  },
  {
   "cell_type": "markdown",
   "metadata": {},
   "source": [
    "### Jupyter short keys\n",
    "\n",
    "These are the most common used short keys:\n",
    "\n",
    "- Esc + a -- Open a new cell above\n",
    "- Esc + b -- Open a new cell below\n",
    "- Shift + Enter -- Run the cell, and go to next one\n",
    "- Ctrl + Enter -- Run the cell and stay there\n",
    "- Alt + Enter -- Run the cell, and make a new one (Option-key for Mac)\n",
    "- Ctrl + / -- Comment or Uncomment your selection\n",
    "- Esc + m -- Change cell type into Markdown (text modus). Then run again with Crtl+Enter\n",
    "- Esc + y -- Change cell type into Code (code modus). Then run again with Crtl+Enter\n",
    "\n",
    "Let's try them out and get familiar."
   ]
  },
  {
   "cell_type": "markdown",
   "metadata": {},
   "source": [
    "## Getting started"
   ]
  },
  {
   "cell_type": "markdown",
   "metadata": {},
   "source": [
    "### Hello world\n",
    "\n",
    "Let's get started! \n",
    "\n",
    "Since programming is best learned by typing yourself we will do it quite a bit in this class.\n",
    "\n",
    "You don't have to type over the \"# MC\" part. This is something we use to remove cells from the MasterCopy to the StudentCopy. \n",
    "\n",
    "The # is used for commenting. Python wil not evaluate the text as code.\n",
    "\n",
    "Type down the following code and run it with Crtl+Enter."
   ]
  },
  {
   "cell_type": "code",
   "execution_count": 271,
   "metadata": {
    "scrolled": true
   },
   "outputs": [
    {
     "name": "stdout",
     "output_type": "stream",
     "text": [
      "Hello world\n"
     ]
    }
   ],
   "source": [
    "print('Hello world') #like cout"
   ]
  },
  {
   "cell_type": "code",
   "execution_count": 272,
   "metadata": {},
   "outputs": [
    {
     "data": {
      "text/plain": [
       "'Hello world'"
      ]
     },
     "execution_count": 272,
     "metadata": {},
     "output_type": "execute_result"
    }
   ],
   "source": [
    "\"Hello world\" #tak print pon actually"
   ]
  },
  {
   "cell_type": "markdown",
   "metadata": {},
   "source": [
    "**Question:** See a difference between the first and the second output? \n",
    "<br>\n",
    "**Answer:**"
   ]
  },
  {
   "cell_type": "markdown",
   "metadata": {},
   "source": [
    "The print() function prints whatever you give it to the console. You see the text printed to the console. \n",
    "\n",
    "When your last statement is an object, it is shown as an output of your cell, that's why you get the number corresponding to the cell."
   ]
  },
  {
   "cell_type": "markdown",
   "metadata": {},
   "source": [
    "This is better demonstrated by the following example.\n",
    "\n",
    "\"\\\\\" is an escape character. \"\\n\" means a line break."
   ]
  },
  {
   "cell_type": "code",
   "execution_count": 273,
   "metadata": {},
   "outputs": [
    {
     "name": "stdout",
     "output_type": "stream",
     "text": [
      "Farah \n",
      "likes ice creams\n"
     ]
    }
   ],
   "source": [
    "print ('Farah \\nlikes ice creams')"
   ]
  },
  {
   "cell_type": "code",
   "execution_count": 274,
   "metadata": {},
   "outputs": [
    {
     "data": {
      "text/plain": [
       "'Farah \\nIce creams'"
      ]
     },
     "execution_count": 274,
     "metadata": {},
     "output_type": "execute_result"
    }
   ],
   "source": [
    "'Farah \\nIce creams'"
   ]
  },
  {
   "cell_type": "markdown",
   "metadata": {},
   "source": [
    "Both Hello's will be printed."
   ]
  },
  {
   "cell_type": "code",
   "execution_count": 275,
   "metadata": {},
   "outputs": [
    {
     "name": "stdout",
     "output_type": "stream",
     "text": [
      "Hello\n",
      "Mellow\n",
      "Hello\n"
     ]
    }
   ],
   "source": [
    "print(\"Hello\")\n",
    "print(\"Mellow\")\n",
    "print(\"Hello\")"
   ]
  },
  {
   "cell_type": "code",
   "execution_count": 276,
   "metadata": {},
   "outputs": [
    {
     "name": "stdout",
     "output_type": "stream",
     "text": [
      "Hello \n",
      "Mellow \n",
      "Hello\n"
     ]
    }
   ],
   "source": [
    "print(\"Hello \\nMellow \\nHello\")"
   ]
  },
  {
   "cell_type": "markdown",
   "metadata": {},
   "source": [
    "Only the last Hello will be displayed in the console."
   ]
  },
  {
   "cell_type": "code",
   "execution_count": 277,
   "metadata": {},
   "outputs": [
    {
     "data": {
      "text/plain": [
       "'Hello'"
      ]
     },
     "execution_count": 277,
     "metadata": {},
     "output_type": "execute_result"
    }
   ],
   "source": [
    "\"Hello\"\n",
    "\"Mellow\"\n",
    "\"Hello\" #yg last code je tunjuk"
   ]
  },
  {
   "cell_type": "markdown",
   "metadata": {},
   "source": [
    "You can chain inputs in the print function by giving the print function what we call multiple arguments. By default the inputs are separated by a space."
   ]
  },
  {
   "cell_type": "code",
   "execution_count": 278,
   "metadata": {},
   "outputs": [
    {
     "name": "stdout",
     "output_type": "stream",
     "text": [
      "Hello Mellow Hello\n"
     ]
    }
   ],
   "source": [
    "print(\"Hello\", \"Mellow\", \"Hello\")"
   ]
  },
  {
   "cell_type": "markdown",
   "metadata": {},
   "source": [
    "### Python as a Calculator\n",
    "\n",
    "Did you know you can use Python as a calculator? The basic operations like adding, subtracting etc are all there. Quite handy. \n",
    "\n",
    "| Symbol | Task Performed |\n",
    "|----|---|\n",
    "| +  | Addition |\n",
    "| -  | Subtraction |\n",
    "| /  | division |\n",
    "| *  | multiplication |\n",
    "| **  | to the power of |\n",
    "| //  | floor division |\n",
    "| %  | modulo |\n"
   ]
  },
  {
   "cell_type": "markdown",
   "metadata": {},
   "source": [
    "Type along."
   ]
  },
  {
   "cell_type": "code",
   "execution_count": 279,
   "metadata": {},
   "outputs": [
    {
     "data": {
      "text/plain": [
       "4"
      ]
     },
     "execution_count": 279,
     "metadata": {},
     "output_type": "execute_result"
    }
   ],
   "source": [
    "1+3"
   ]
  },
  {
   "cell_type": "code",
   "execution_count": 280,
   "metadata": {},
   "outputs": [
    {
     "name": "stdout",
     "output_type": "stream",
     "text": [
      "4\n"
     ]
    }
   ],
   "source": [
    "print (1+               3) #python ignore space"
   ]
  },
  {
   "cell_type": "code",
   "execution_count": 281,
   "metadata": {},
   "outputs": [
    {
     "data": {
      "text/plain": [
       "20"
      ]
     },
     "execution_count": 281,
     "metadata": {},
     "output_type": "execute_result"
    }
   ],
   "source": [
    "5+ 5*3"
   ]
  },
  {
   "cell_type": "code",
   "execution_count": 282,
   "metadata": {},
   "outputs": [
    {
     "data": {
      "text/plain": [
       "3"
      ]
     },
     "execution_count": 282,
     "metadata": {},
     "output_type": "execute_result"
    }
   ],
   "source": [
    "23%5 #remainder"
   ]
  },
  {
   "cell_type": "code",
   "execution_count": 283,
   "metadata": {},
   "outputs": [
    {
     "data": {
      "text/plain": [
       "0"
      ]
     },
     "execution_count": 283,
     "metadata": {},
     "output_type": "execute_result"
    }
   ],
   "source": [
    "10%2"
   ]
  },
  {
   "cell_type": "markdown",
   "metadata": {},
   "source": [
    "Floor division is like normal division but rounded down to the nearest integer."
   ]
  },
  {
   "cell_type": "code",
   "execution_count": 284,
   "metadata": {},
   "outputs": [
    {
     "data": {
      "text/plain": [
       "4"
      ]
     },
     "execution_count": 284,
     "metadata": {},
     "output_type": "execute_result"
    }
   ],
   "source": [
    "23//5 #dapat integer value after divide"
   ]
  },
  {
   "cell_type": "code",
   "execution_count": null,
   "metadata": {},
   "outputs": [],
   "source": []
  },
  {
   "cell_type": "markdown",
   "metadata": {},
   "source": [
    "Modulo is the remainder of that division. Modulo can be used to determine if a number is even or uneven."
   ]
  },
  {
   "cell_type": "code",
   "execution_count": 285,
   "metadata": {},
   "outputs": [
    {
     "data": {
      "text/plain": [
       "3"
      ]
     },
     "execution_count": 285,
     "metadata": {},
     "output_type": "execute_result"
    }
   ],
   "source": [
    "23%5"
   ]
  },
  {
   "cell_type": "code",
   "execution_count": null,
   "metadata": {},
   "outputs": [],
   "source": []
  },
  {
   "cell_type": "markdown",
   "metadata": {},
   "source": [
    "Modulo can also be used to check if a number is divisible by a number"
   ]
  },
  {
   "cell_type": "code",
   "execution_count": 286,
   "metadata": {},
   "outputs": [
    {
     "data": {
      "text/plain": [
       "0"
      ]
     },
     "execution_count": 286,
     "metadata": {},
     "output_type": "execute_result"
    }
   ],
   "source": [
    "10%2 #even number"
   ]
  },
  {
   "cell_type": "code",
   "execution_count": 287,
   "metadata": {},
   "outputs": [
    {
     "data": {
      "text/plain": [
       "True"
      ]
     },
     "execution_count": 287,
     "metadata": {},
     "output_type": "execute_result"
    }
   ],
   "source": [
    "10%2==0"
   ]
  },
  {
   "cell_type": "code",
   "execution_count": 288,
   "metadata": {},
   "outputs": [
    {
     "data": {
      "text/plain": [
       "True"
      ]
     },
     "execution_count": 288,
     "metadata": {},
     "output_type": "execute_result"
    }
   ],
   "source": [
    "16%4==0"
   ]
  },
  {
   "cell_type": "markdown",
   "metadata": {
    "toc-hr-collapsed": false
   },
   "source": [
    "### Summary Getting started"
   ]
  },
  {
   "cell_type": "markdown",
   "metadata": {},
   "source": [
    "> #### print\n",
    "The print function in Python is a function that outputs to your console window whatever you say you want to print out. At first blush, it might appear that the print function is rather useless for programming, but it is actually one of the most widely used functions in all of python.\n",
    "\n",
    "```python\n",
    "print(\"Hello world!\")\n",
    "print(\"Jan\", \"Jeremy\", \"Akmal\")\n",
    "```"
   ]
  },
  {
   "cell_type": "markdown",
   "metadata": {},
   "source": [
    "> #### arithmetic operations\n",
    "These are numeric operation.\n",
    "```python\n",
    "1+1\n",
    "2-1\n",
    "10/2\n",
    "5*2\n",
    "5**2\n",
    "23//4\n",
    "23%5\n",
    "```"
   ]
  },
  {
   "cell_type": "markdown",
   "metadata": {
    "toc-hr-collapsed": false
   },
   "source": [
    "## Variables For loop and If Else"
   ]
  },
  {
   "cell_type": "markdown",
   "metadata": {},
   "source": [
    "### Your first Error"
   ]
  },
  {
   "cell_type": "markdown",
   "metadata": {},
   "source": [
    "Now let's try this. Stay calm."
   ]
  },
  {
   "cell_type": "code",
   "execution_count": null,
   "metadata": {},
   "outputs": [],
   "source": []
  },
  {
   "cell_type": "code",
   "execution_count": null,
   "metadata": {},
   "outputs": [],
   "source": []
  },
  {
   "cell_type": "markdown",
   "metadata": {},
   "source": [
    "Oh no! What happened?\n",
    "\n",
    "This is what we call an Error. There are many types of Errors. This one is a SyntaxError. It means the Python grammar is not correct. You get a SyntaxError when you give a command that does not make sense. You also get a SyntaxError when you make a typo.\n",
    "\n",
    "In python \"=\" is an assignment operator. This means that python assigns what is on the right to the container that is on the left. \"11%2\" is not a container, so Python cannot do what you ask, so you get the Error."
   ]
  },
  {
   "cell_type": "markdown",
   "metadata": {},
   "source": [
    "### Variables"
   ]
  },
  {
   "cell_type": "markdown",
   "metadata": {},
   "source": [
    "You can assign things to a variable. Then you can use the value inside the variable later on.\n",
    "\n",
    "Let's try."
   ]
  },
  {
   "cell_type": "code",
   "execution_count": 289,
   "metadata": {},
   "outputs": [],
   "source": [
    "number=20"
   ]
  },
  {
   "cell_type": "markdown",
   "metadata": {},
   "source": [
    "Notice there is no output for this cell. \n",
    "\n",
    "We have stored 10 inside variable \"number\". We can now get the number like this."
   ]
  },
  {
   "cell_type": "code",
   "execution_count": 290,
   "metadata": {},
   "outputs": [
    {
     "data": {
      "text/plain": [
       "20"
      ]
     },
     "execution_count": 290,
     "metadata": {},
     "output_type": "execute_result"
    }
   ],
   "source": [
    "number"
   ]
  },
  {
   "cell_type": "code",
   "execution_count": 291,
   "metadata": {},
   "outputs": [
    {
     "data": {
      "text/plain": [
       "10"
      ]
     },
     "execution_count": 291,
     "metadata": {},
     "output_type": "execute_result"
    }
   ],
   "source": [
    "number=10\n",
    "number"
   ]
  },
  {
   "cell_type": "code",
   "execution_count": 292,
   "metadata": {},
   "outputs": [
    {
     "data": {
      "text/plain": [
       "11"
      ]
     },
     "execution_count": 292,
     "metadata": {},
     "output_type": "execute_result"
    }
   ],
   "source": [
    "number+=1 #number = number + 1\n",
    "number"
   ]
  },
  {
   "cell_type": "markdown",
   "metadata": {},
   "source": [
    "We can write this more compact.\n",
    "\n",
    "With the \"+=\" operator we can add a number."
   ]
  },
  {
   "cell_type": "code",
   "execution_count": null,
   "metadata": {},
   "outputs": [],
   "source": []
  },
  {
   "cell_type": "code",
   "execution_count": null,
   "metadata": {},
   "outputs": [],
   "source": []
  },
  {
   "cell_type": "markdown",
   "metadata": {},
   "source": [
    "### For Loop"
   ]
  },
  {
   "cell_type": "markdown",
   "metadata": {},
   "source": [
    "Now we will make a list of numbers and sum up the total value. "
   ]
  },
  {
   "cell_type": "code",
   "execution_count": 293,
   "metadata": {},
   "outputs": [
    {
     "name": "stdout",
     "output_type": "stream",
     "text": [
      "ready to loop\n",
      "\n",
      "1\n",
      "2\n",
      "3\n",
      "4\n",
      "5\n"
     ]
    },
    {
     "data": {
      "text/plain": [
       "15"
      ]
     },
     "execution_count": 293,
     "metadata": {},
     "output_type": "execute_result"
    }
   ],
   "source": [
    "numbers_chain=[1,2,3,4,5]\n",
    "total=0\n",
    "\n",
    "print(\"ready to loop\", end = 2*'\\n') #2*'\\n' is '\\n\\n'\n",
    "\n",
    "for number in numbers_chain: #'in' is pointer #number is the temp variable\n",
    "    total+=number #jgn lupa letak : after for loop\n",
    "    print(number)\n",
    "total"
   ]
  },
  {
   "cell_type": "code",
   "execution_count": 294,
   "metadata": {},
   "outputs": [
    {
     "name": "stdout",
     "output_type": "stream",
     "text": [
      "ready looping\n",
      "\n",
      "\n",
      "1, 1\n",
      "2, 3\n",
      "3, 6\n",
      "4, 10\n",
      "5, 15\n",
      "15\n"
     ]
    }
   ],
   "source": [
    "numbers_chain=[1,2,3,4,5]\n",
    "total=0\n",
    "\n",
    "print(\"ready looping\", end='\\n\\n\\n')\n",
    "\n",
    "for n in numbers_chain: #loop end after habis items in list\n",
    "    total+=n\n",
    "    print(str(n)+', '+str(total))\n",
    "    \n",
    "print(total)"
   ]
  },
  {
   "cell_type": "code",
   "execution_count": 295,
   "metadata": {},
   "outputs": [
    {
     "name": "stdout",
     "output_type": "stream",
     "text": [
      "ready looping\n",
      "\n",
      "\n",
      "1, 1\n",
      "\n",
      "2, 3\n",
      "\n",
      "3, 6\n",
      "\n",
      "4, 10\n",
      "\n",
      "5, 15\n",
      "\n",
      "15\n"
     ]
    }
   ],
   "source": [
    "numbers_chain=[1,2,3,4,5]\n",
    "total=0\n",
    "\n",
    "print(\"ready looping\", end='\\n\\n\\n')\n",
    "\n",
    "for n in numbers_chain: #loop end after habis items in list\n",
    "    total+=n\n",
    "    print(n, total, sep=\", \", end='\\n\\n')\n",
    "    \n",
    "print(total)\n",
    "\n",
    "#print('a={} and b={}'.format(a,b)) #option 1\n",
    "#print(\"a={}\".format(a)+\" and b={}\".format(b))  #option 2"
   ]
  },
  {
   "cell_type": "code",
   "execution_count": 296,
   "metadata": {},
   "outputs": [
    {
     "name": "stdout",
     "output_type": "stream",
     "text": [
      "ready looping\n",
      "\n",
      "\n",
      "1 ,  1 \n",
      "\n",
      "2 ,  3 \n",
      "\n",
      "3 ,  6 \n",
      "\n",
      "4 ,  10 \n",
      "\n",
      "5 ,  15 \n",
      "\n",
      "15\n"
     ]
    }
   ],
   "source": [
    "numbers_chain=[1,2,3,4,5]\n",
    "total=0\n",
    "\n",
    "print(\"ready looping\", end='\\n\\n\\n')\n",
    "\n",
    "for n in numbers_chain: #loop end after habis items in list\n",
    "    total+=n\n",
    "    print(n,\", \",total,\"\\n\")\n",
    "    \n",
    "print(total)\n",
    "\n",
    "#print('a={} and b={}'.format(a,b)) #option 1\n",
    "#print(\"a={}\".format(a)+\" and b={}\".format(b))  #option 2"
   ]
  },
  {
   "cell_type": "markdown",
   "metadata": {},
   "source": [
    "What did we do here?\n",
    "\n",
    "We defined a variable called \"numbers\" and assigned it with a list of numbers. Notice the [ ] squared brackets, this is how you define a list.\n",
    "\n",
    "We defined another variable called \"total\" and assigned it with value 0.\n",
    "\n",
    "Then we defined a \"for loop\". We iterate over all the items in the list and do something for each of those items. The variable \"numbers\" refers to the list. The variable \"number\" refers to one item and the value of \"number\" changes during the loop.\n",
    "\n",
    "Notice the indent. It is a \"tab\" or \"4 spaces\". It means that the code inside that block is executed for each item in the list that we are looping over.\n",
    "\n",
    "Also notice the colors here. Purple is used for operators, green for numbers and fat-green for Python keywords. Keywords are reserved Python and cannot be used for variable names.\n",
    "\n",
    "Let's add some print statements to clarify our understanding of what happens in this loop."
   ]
  },
  {
   "cell_type": "code",
   "execution_count": 297,
   "metadata": {},
   "outputs": [
    {
     "name": "stdout",
     "output_type": "stream",
     "text": [
      "ready to loop\n",
      "\n",
      "ice flake =  1 \n",
      "ice block = [1, 2, 3, 4, 5] \n",
      "total frozen = 1\n",
      "\n",
      "ice flake =  2 \n",
      "ice block = [1, 2, 3, 4, 5] \n",
      "total frozen = 3\n",
      "\n",
      "ice flake =  3 \n",
      "ice block = [1, 2, 3, 4, 5] \n",
      "total frozen = 6\n",
      "\n",
      "ice flake =  4 \n",
      "ice block = [1, 2, 3, 4, 5] \n",
      "total frozen = 10\n",
      "\n",
      "ice flake =  5 \n",
      "ice block = [1, 2, 3, 4, 5] \n",
      "total frozen = 15\n",
      "\n",
      "There is 15 ice flakes frozen from ice block\n",
      "There is 15 ice flakeshvashvhdvahd\n"
     ]
    }
   ],
   "source": [
    "ice_block = [1,2,3,4,5]\n",
    "amount_frozen=0\n",
    "\n",
    "print(\"ready to loop\", end = 2*'\\n')\n",
    "\n",
    "for ice_flake in ice_block: #ice_flake is pointer\n",
    "    amount_frozen += ice_flake\n",
    "    print (\"ice flake = \", ice_flake,\n",
    "          \"\\nice block =\", ice_block,\n",
    "          \"\\ntotal frozen =\", amount_frozen,\n",
    "          end = '\\n\\n')\n",
    "\n",
    "print(\"There is\", amount_frozen, \"ice flakes frozen from ice block\")\n",
    "print(\"There is\", amount_frozen, \"ice flakeshvashvhdvahd\")\n"
   ]
  },
  {
   "cell_type": "code",
   "execution_count": 298,
   "metadata": {},
   "outputs": [
    {
     "name": "stdout",
     "output_type": "stream",
     "text": [
      "ready to loop\n",
      "\n",
      "pointer =  1 \n",
      "list = [1, 2, 3, 4, 5] \n",
      "total  = 1\n",
      "\n",
      "pointer =  2 \n",
      "list = [1, 2, 3, 4, 5] \n",
      "total  = 3\n",
      "\n",
      "pointer =  3 \n",
      "list = [1, 2, 3, 4, 5] \n",
      "total  = 6\n",
      "\n",
      "pointer =  4 \n",
      "list = [1, 2, 3, 4, 5] \n",
      "total  = 10\n",
      "\n",
      "pointer =  5 \n",
      "list = [1, 2, 3, 4, 5] \n",
      "total  = 15\n",
      "\n",
      "There is 15 total from block list\n"
     ]
    }
   ],
   "source": [
    "#farah\n",
    "\n",
    "block_list = [1,2,3,4,5]\n",
    "amount_total=0\n",
    "\n",
    "print(\"ready to loop\", end = 2*'\\n')\n",
    "\n",
    "for pointer in ice_block: #ice_flake is pointer\n",
    "    amount_total += pointer\n",
    "    print (\"pointer = \", pointer,\n",
    "          \"\\nlist =\", block_list,\n",
    "          \"\\ntotal  =\", amount_total,\n",
    "          end = '\\n\\n')\n",
    "\n",
    "print(\"There is\", amount_total, \"total from block list\")"
   ]
  },
  {
   "cell_type": "markdown",
   "metadata": {},
   "source": [
    "We can use the following Jupyter magic function to show the variables in our namespace."
   ]
  },
  {
   "cell_type": "code",
   "execution_count": 299,
   "metadata": {},
   "outputs": [
    {
     "name": "stdout",
     "output_type": "stream",
     "text": [
      "Variable        Type        Data/Info\n",
      "-------------------------------------\n",
      "L               list        n=4\n",
      "M               list        n=4\n",
      "a               int         40\n",
      "add             function    <function add at 0x000001E7A3256700>\n",
      "age             int         31\n",
      "amount_frozen   int         15\n",
      "amount_total    int         15\n",
      "answer          NoneType    None\n",
      "b               int         41\n",
      "bigger          function    <function bigger at 0x000001E7A31704C0>\n",
      "block_list      list        n=5\n",
      "both_ends       function    <function both_ends at 0x000001E7A326E820>\n",
      "c               str         His name is\n",
      "contains        function    <function contains at 0x000001E7A2FBA940>\n",
      "count_uneven    int         0\n",
      "d               str         likes to eat wetpud\n",
      "donuts          function    <function donuts at 0x000001E7A3256DC0>\n",
      "e               str         likes to sleep\n",
      "group_size      int         6\n",
      "groups          int         9\n",
      "hour            int         24\n",
      "ice_block       list        n=5\n",
      "ice_flake       int         5\n",
      "leftovers       int         3\n",
      "list            list        n=3\n",
      "max_number      int         400\n",
      "max_value       int         400\n",
      "n               int         5\n",
      "name            str         ali\n",
      "num             int         9\n",
      "number          int         5\n",
      "numbers         list        n=4\n",
      "numbers_chain   list        n=5\n",
      "obj             NoneType    None\n",
      "object_info     function    <function object_info at 0x000001E7A31E00D0>\n",
      "objects         list        n=8\n",
      "people          int         57\n",
      "pointer         int         5\n",
      "prices          dict        n=4\n",
      "second          int         86400\n",
      "show_name       function    <function show_name at 0x000001E7A3256820>\n",
      "starts_with_B   function    <function starts_with_B at 0x000001E7A31E0AF0>\n",
      "sub             function    <function sub at 0x000001E7A30FF820>\n",
      "test            function    <function test at 0x000001E7A31A33A0>\n",
      "text            str         Joyce\n",
      "total           int         15\n",
      "total_even      int         10\n",
      "total_uneven    int         22\n",
      "total_value     int         112\n",
      "v               int         7\n",
      "x               int         7\n"
     ]
    }
   ],
   "source": [
    "%whos"
   ]
  },
  {
   "cell_type": "markdown",
   "metadata": {},
   "source": [
    "We can use the \"del\" command to remove a variable."
   ]
  },
  {
   "cell_type": "code",
   "execution_count": 300,
   "metadata": {},
   "outputs": [],
   "source": [
    "del number #delete number variable"
   ]
  },
  {
   "cell_type": "code",
   "execution_count": 301,
   "metadata": {},
   "outputs": [
    {
     "name": "stdout",
     "output_type": "stream",
     "text": [
      "Variable        Type        Data/Info\n",
      "-------------------------------------\n",
      "L               list        n=4\n",
      "M               list        n=4\n",
      "a               int         40\n",
      "add             function    <function add at 0x000001E7A3256700>\n",
      "age             int         31\n",
      "amount_frozen   int         15\n",
      "amount_total    int         15\n",
      "answer          NoneType    None\n",
      "b               int         41\n",
      "bigger          function    <function bigger at 0x000001E7A31704C0>\n",
      "block_list      list        n=5\n",
      "both_ends       function    <function both_ends at 0x000001E7A326E820>\n",
      "c               str         His name is\n",
      "contains        function    <function contains at 0x000001E7A2FBA940>\n",
      "count_uneven    int         0\n",
      "d               str         likes to eat wetpud\n",
      "donuts          function    <function donuts at 0x000001E7A3256DC0>\n",
      "e               str         likes to sleep\n",
      "group_size      int         6\n",
      "groups          int         9\n",
      "hour            int         24\n",
      "ice_block       list        n=5\n",
      "ice_flake       int         5\n",
      "leftovers       int         3\n",
      "list            list        n=3\n",
      "max_number      int         400\n",
      "max_value       int         400\n",
      "n               int         5\n",
      "name            str         ali\n",
      "num             int         9\n",
      "numbers         list        n=4\n",
      "numbers_chain   list        n=5\n",
      "obj             NoneType    None\n",
      "object_info     function    <function object_info at 0x000001E7A31E00D0>\n",
      "objects         list        n=8\n",
      "people          int         57\n",
      "pointer         int         5\n",
      "prices          dict        n=4\n",
      "second          int         86400\n",
      "show_name       function    <function show_name at 0x000001E7A3256820>\n",
      "starts_with_B   function    <function starts_with_B at 0x000001E7A31E0AF0>\n",
      "sub             function    <function sub at 0x000001E7A30FF820>\n",
      "test            function    <function test at 0x000001E7A31A33A0>\n",
      "text            str         Joyce\n",
      "total           int         15\n",
      "total_even      int         10\n",
      "total_uneven    int         22\n",
      "total_value     int         112\n",
      "v               int         7\n",
      "x               int         7\n"
     ]
    }
   ],
   "source": [
    "%whos"
   ]
  },
  {
   "cell_type": "code",
   "execution_count": 302,
   "metadata": {},
   "outputs": [
    {
     "data": {
      "application/json": {
       "cell": {
        "!": "OSMagics",
        "HTML": "Other",
        "SVG": "Other",
        "bash": "Other",
        "capture": "ExecutionMagics",
        "cmd": "Other",
        "debug": "ExecutionMagics",
        "file": "Other",
        "html": "DisplayMagics",
        "javascript": "DisplayMagics",
        "js": "DisplayMagics",
        "latex": "DisplayMagics",
        "markdown": "DisplayMagics",
        "perl": "Other",
        "prun": "ExecutionMagics",
        "pypy": "Other",
        "python": "Other",
        "python2": "Other",
        "python3": "Other",
        "ruby": "Other",
        "script": "ScriptMagics",
        "sh": "Other",
        "svg": "DisplayMagics",
        "sx": "OSMagics",
        "system": "OSMagics",
        "time": "ExecutionMagics",
        "timeit": "ExecutionMagics",
        "writefile": "OSMagics"
       },
       "line": {
        "alias": "OSMagics",
        "alias_magic": "BasicMagics",
        "autoawait": "AsyncMagics",
        "autocall": "AutoMagics",
        "automagic": "AutoMagics",
        "autosave": "KernelMagics",
        "bookmark": "OSMagics",
        "cd": "OSMagics",
        "clear": "KernelMagics",
        "cls": "KernelMagics",
        "colors": "BasicMagics",
        "conda": "PackagingMagics",
        "config": "ConfigMagics",
        "connect_info": "KernelMagics",
        "copy": "Other",
        "ddir": "Other",
        "debug": "ExecutionMagics",
        "dhist": "OSMagics",
        "dirs": "OSMagics",
        "doctest_mode": "BasicMagics",
        "echo": "Other",
        "ed": "Other",
        "edit": "KernelMagics",
        "env": "OSMagics",
        "gui": "BasicMagics",
        "hist": "Other",
        "history": "HistoryMagics",
        "killbgscripts": "ScriptMagics",
        "ldir": "Other",
        "less": "KernelMagics",
        "load": "CodeMagics",
        "load_ext": "ExtensionMagics",
        "loadpy": "CodeMagics",
        "logoff": "LoggingMagics",
        "logon": "LoggingMagics",
        "logstart": "LoggingMagics",
        "logstate": "LoggingMagics",
        "logstop": "LoggingMagics",
        "ls": "Other",
        "lsmagic": "BasicMagics",
        "macro": "ExecutionMagics",
        "magic": "BasicMagics",
        "matplotlib": "PylabMagics",
        "mkdir": "Other",
        "more": "KernelMagics",
        "notebook": "BasicMagics",
        "page": "BasicMagics",
        "pastebin": "CodeMagics",
        "pdb": "ExecutionMagics",
        "pdef": "NamespaceMagics",
        "pdoc": "NamespaceMagics",
        "pfile": "NamespaceMagics",
        "pinfo": "NamespaceMagics",
        "pinfo2": "NamespaceMagics",
        "pip": "PackagingMagics",
        "popd": "OSMagics",
        "pprint": "BasicMagics",
        "precision": "BasicMagics",
        "prun": "ExecutionMagics",
        "psearch": "NamespaceMagics",
        "psource": "NamespaceMagics",
        "pushd": "OSMagics",
        "pwd": "OSMagics",
        "pycat": "OSMagics",
        "pylab": "PylabMagics",
        "qtconsole": "KernelMagics",
        "quickref": "BasicMagics",
        "recall": "HistoryMagics",
        "rehashx": "OSMagics",
        "reload_ext": "ExtensionMagics",
        "ren": "Other",
        "rep": "Other",
        "rerun": "HistoryMagics",
        "reset": "NamespaceMagics",
        "reset_selective": "NamespaceMagics",
        "rmdir": "Other",
        "run": "ExecutionMagics",
        "save": "CodeMagics",
        "sc": "OSMagics",
        "set_env": "OSMagics",
        "store": "StoreMagics",
        "sx": "OSMagics",
        "system": "OSMagics",
        "tb": "ExecutionMagics",
        "time": "ExecutionMagics",
        "timeit": "ExecutionMagics",
        "unalias": "OSMagics",
        "unload_ext": "ExtensionMagics",
        "who": "NamespaceMagics",
        "who_ls": "NamespaceMagics",
        "whos": "NamespaceMagics",
        "xdel": "NamespaceMagics",
        "xmode": "BasicMagics"
       }
      },
      "text/plain": [
       "Available line magics:\n",
       "%alias  %alias_magic  %autoawait  %autocall  %automagic  %autosave  %bookmark  %cd  %clear  %cls  %colors  %conda  %config  %connect_info  %copy  %ddir  %debug  %dhist  %dirs  %doctest_mode  %echo  %ed  %edit  %env  %gui  %hist  %history  %killbgscripts  %ldir  %less  %load  %load_ext  %loadpy  %logoff  %logon  %logstart  %logstate  %logstop  %ls  %lsmagic  %macro  %magic  %matplotlib  %mkdir  %more  %notebook  %page  %pastebin  %pdb  %pdef  %pdoc  %pfile  %pinfo  %pinfo2  %pip  %popd  %pprint  %precision  %prun  %psearch  %psource  %pushd  %pwd  %pycat  %pylab  %qtconsole  %quickref  %recall  %rehashx  %reload_ext  %ren  %rep  %rerun  %reset  %reset_selective  %rmdir  %run  %save  %sc  %set_env  %store  %sx  %system  %tb  %time  %timeit  %unalias  %unload_ext  %who  %who_ls  %whos  %xdel  %xmode\n",
       "\n",
       "Available cell magics:\n",
       "%%!  %%HTML  %%SVG  %%bash  %%capture  %%cmd  %%debug  %%file  %%html  %%javascript  %%js  %%latex  %%markdown  %%perl  %%prun  %%pypy  %%python  %%python2  %%python3  %%ruby  %%script  %%sh  %%svg  %%sx  %%system  %%time  %%timeit  %%writefile\n",
       "\n",
       "Automagic is ON, % prefix IS NOT needed for line magics."
      ]
     },
     "execution_count": 302,
     "metadata": {},
     "output_type": "execute_result"
    }
   ],
   "source": [
    "%lsmagic\n",
    "# explore at  own time "
   ]
  },
  {
   "cell_type": "markdown",
   "metadata": {},
   "source": [
    "### If elif else"
   ]
  },
  {
   "cell_type": "markdown",
   "metadata": {},
   "source": [
    "Let's get the total value of the \"even numbers\" and the \"uneven numbers\".\n",
    "\n",
    "First let's see how we can separate even and uneven."
   ]
  },
  {
   "cell_type": "code",
   "execution_count": 303,
   "metadata": {},
   "outputs": [
    {
     "data": {
      "text/plain": [
       "False"
      ]
     },
     "execution_count": 303,
     "metadata": {},
     "output_type": "execute_result"
    }
   ],
   "source": [
    "1==0"
   ]
  },
  {
   "cell_type": "code",
   "execution_count": 304,
   "metadata": {},
   "outputs": [
    {
     "data": {
      "text/plain": [
       "True"
      ]
     },
     "execution_count": 304,
     "metadata": {},
     "output_type": "execute_result"
    }
   ],
   "source": [
    "0==0"
   ]
  },
  {
   "cell_type": "code",
   "execution_count": 305,
   "metadata": {},
   "outputs": [
    {
     "data": {
      "text/plain": [
       "True"
      ]
     },
     "execution_count": 305,
     "metadata": {},
     "output_type": "execute_result"
    }
   ],
   "source": [
    "number = 4\n",
    "number % 2 == 0"
   ]
  },
  {
   "cell_type": "code",
   "execution_count": 306,
   "metadata": {},
   "outputs": [
    {
     "data": {
      "text/plain": [
       "False"
      ]
     },
     "execution_count": 306,
     "metadata": {},
     "output_type": "execute_result"
    }
   ],
   "source": [
    "number = 5\n",
    "number % 2 == 0"
   ]
  },
  {
   "cell_type": "code",
   "execution_count": 307,
   "metadata": {},
   "outputs": [
    {
     "name": "stdout",
     "output_type": "stream",
     "text": [
      "Odd number.\n"
     ]
    }
   ],
   "source": [
    "number = 5\n",
    "if number % 2 == 0:\n",
    "    print (\"Even number.\")\n",
    "else:\n",
    "    print (\"Odd number.\")"
   ]
  },
  {
   "cell_type": "code",
   "execution_count": 308,
   "metadata": {},
   "outputs": [
    {
     "name": "stdout",
     "output_type": "stream",
     "text": [
      "Even number.\n"
     ]
    }
   ],
   "source": [
    "number = 6\n",
    "if number % 2 == 0:\n",
    "    print (\"Even number.\")\n",
    "else:\n",
    "    print (\"Odd number.\")"
   ]
  },
  {
   "cell_type": "code",
   "execution_count": 309,
   "metadata": {},
   "outputs": [
    {
     "name": "stdout",
     "output_type": "stream",
     "text": [
      "Uneven number.\n"
     ]
    }
   ],
   "source": [
    "number = 5\n",
    "\n",
    "if number % 2 != 0: #even num remainder 0 so False, odd num true #terbalik with %2==0\n",
    "    print(\"Uneven number.\") \n"
   ]
  },
  {
   "cell_type": "code",
   "execution_count": 310,
   "metadata": {},
   "outputs": [
    {
     "name": "stdout",
     "output_type": "stream",
     "text": [
      "Uneven number, bigger than 10.\n"
     ]
    }
   ],
   "source": [
    "number = 11\n",
    "\n",
    "if number % 2 == 0:\n",
    "    print(\"Even number.\")\n",
    "elif number > 10:\n",
    "    print(\"Uneven number, bigger than 10.\")\n",
    "else:\n",
    "    print(\"Uneven number.\")\n"
   ]
  },
  {
   "cell_type": "code",
   "execution_count": 311,
   "metadata": {},
   "outputs": [
    {
     "name": "stdout",
     "output_type": "stream",
     "text": [
      "Uneven number.\n"
     ]
    }
   ],
   "source": [
    "number = 9\n",
    "\n",
    "if number % 2 == 0:\n",
    "    print(\"Even number.\")\n",
    "elif number > 10:\n",
    "    print(\"Uneven number, bigger than 10.\")\n",
    "else:\n",
    "    print(\"Uneven number.\")"
   ]
  },
  {
   "cell_type": "markdown",
   "metadata": {},
   "source": [
    "What did we do here?\n",
    "\n",
    "Notice the fat-green keywords for \"if\", \"elif\" and \"else\". Notice the colon \":\". Also notice the indents (tab).\n",
    "\n",
    "Let talk about the conditions. The \"if\" condition here is \"number % 2 == 0\". There are two sides and a \"comparison operator\". The double \"==\" operator means \"equal to\". If the variable \"number\" is 13 then it evaluates to False. The \"elif\" condition is \"number > 10\". If the variable number is 13 then it evaluates to True.\n",
    "\n",
    "A condition always evaluates to either True or False.\n",
    "\n",
    "Lets talk about the \"if elif else\" statement. If the condition is True then the code block that belongs to If is executed, Else If the elif condition is True then the code block that belongs to elif is executed, Else the code block that belongs to Else is executed. \n",
    "\n",
    "You always must use 1 If statement.\n",
    "\n",
    "You may use 1 Else statement optional.\n",
    "\n",
    "You may use many Elif statements. "
   ]
  },
  {
   "cell_type": "markdown",
   "metadata": {},
   "source": [
    "**Question:** What will be printed for the numbers 3, 5, 12, 15?\n",
    "<br>\n",
    "\n",
    "**Answer:**"
   ]
  },
  {
   "cell_type": "markdown",
   "metadata": {},
   "source": [
    "### If else inside a For loop"
   ]
  },
  {
   "cell_type": "markdown",
   "metadata": {},
   "source": [
    "Now, let's get the total value of the \"even numbers\" and the \"uneven numbers\"."
   ]
  },
  {
   "cell_type": "code",
   "execution_count": 312,
   "metadata": {},
   "outputs": [
    {
     "data": {
      "text/plain": [
       "[1, 2, 3, 5, 8, 13]"
      ]
     },
     "execution_count": 312,
     "metadata": {},
     "output_type": "execute_result"
    }
   ],
   "source": [
    "numbers = [1,2,3,5,8,13]\n",
    "numbers"
   ]
  },
  {
   "cell_type": "code",
   "execution_count": 313,
   "metadata": {},
   "outputs": [
    {
     "name": "stdout",
     "output_type": "stream",
     "text": [
      "number= 1  total_even= 0  total_uneven= 1\n",
      "number= 2  total_even= 2  total_uneven= 1\n",
      "number= 3  total_even= 2  total_uneven= 4\n",
      "number= 5  total_even= 2  total_uneven= 9\n",
      "number= 8  total_even= 10  total_uneven= 9\n",
      "number= 13  total_even= 10  total_uneven= 22\n",
      "\n",
      "\n",
      "total_even= 10\n",
      "total_uneven= 22\n"
     ]
    }
   ],
   "source": [
    "total_even = 0\n",
    "total_uneven = 0\n",
    "\n",
    "for number in numbers:\n",
    "    if number % 2 == 0:\n",
    "        total_even += number\n",
    "    else:\n",
    "        total_uneven += number  \n",
    "        \n",
    "    print(\"number=\", number, \" total_even=\", total_even, \" total_uneven=\", total_uneven)\n",
    "    \n",
    "print(\"\\n\")\n",
    "print(\"total_even=\", total_even)\n",
    "print(\"total_uneven=\", total_uneven)\n"
   ]
  },
  {
   "cell_type": "markdown",
   "metadata": {},
   "source": [
    "What did we do here?\n",
    "\n",
    "We defined two variables \"total_even\" and \"total_uneven\" and set them to 0. \n",
    "\n",
    "We made a for loop to loop over each number in the list \"numbers\". \n",
    "\n",
    "For each number in the list, we check if the number is even using the condition \"number % 2 == 0\". If the number is even, it is added to variable \"total_even\". Else the number is added to variable \"total_uneven\".\n",
    "\n",
    "Notice the idents. The If-Else statement is within the For loop.\n",
    "\n",
    "We added some print statements for understanding."
   ]
  },
  {
   "cell_type": "markdown",
   "metadata": {
    "toc-hr-collapsed": false
   },
   "source": [
    "### Summary Variables"
   ]
  },
  {
   "cell_type": "markdown",
   "metadata": {},
   "source": [
    "> #### variable\n",
    "You can use a variable to store data in the memory and retrieve it later on.\n",
    "```python\n",
    "your_variable = 10\n",
    "```"
   ]
  },
  {
   "cell_type": "markdown",
   "metadata": {},
   "source": [
    "> #### whos\n",
    "Jupyter magic function to show the variables that are available in your current namespace.\n",
    "```python\n",
    "%whos\n",
    "```"
   ]
  },
  {
   "cell_type": "markdown",
   "metadata": {},
   "source": [
    "> #### del\n",
    "The del statement is used to delete things. You can delete a variable from the namespace using del. \"del\" is a Python keyword.\n",
    "```python\n",
    "del your_variable\n",
    "```"
   ]
  },
  {
   "cell_type": "markdown",
   "metadata": {},
   "source": [
    "> #### list\n",
    "A list of items. We can iterate over those items.\n",
    "```python\n",
    "numbers = [1,2,3,4]\n",
    "```"
   ]
  },
  {
   "cell_type": "markdown",
   "metadata": {},
   "source": [
    "> #### for loop\n",
    "Python statement used to iterate over the items of a list. \"for\" and \"in\" are Python keywords. The code that is indented is executed for each item in the list.\n",
    "```python\n",
    "for number in numbers:\n",
    "    print(number)\n",
    "```"
   ]
  },
  {
   "cell_type": "markdown",
   "metadata": {},
   "source": [
    "> #### condition\n",
    "Python statement that evaluates to either True or False. \">\", \"==\" and \"!=\" are comparison operators.\n",
    "```python\n",
    "a > 10\n",
    "a >= 10\n",
    "b % 2 == 0\n",
    "b % 2 != 0\n",
    "```"
   ]
  },
  {
   "cell_type": "markdown",
   "metadata": {},
   "source": [
    "> #### if elif else\n",
    "Python statement used to choose between which code gets executed. \"if\" \"elif\" \"else\" are Python keywords. If the \"if condition\" is True then the code that belongs to the if is executed and the other codes that belong to elif and else are ignored. In an if elif else statement there is always 1 \"if\", optionally 1 to many \"elif\" and optionally 1 \"else\".\n",
    "```python\n",
    "if number % 2 == 0:\n",
    "    print(\"Even number.\")\n",
    "elif number > 10:\n",
    "    print(\"Uneven number, bigger than 10.\")\n",
    "else:\n",
    "    print(\"Uneven number.\")\n",
    "```"
   ]
  },
  {
   "cell_type": "markdown",
   "metadata": {
    "toc-hr-collapsed": false
   },
   "source": [
    "### Exercises"
   ]
  },
  {
   "cell_type": "markdown",
   "metadata": {},
   "source": [
    "#### Exercise 1 - Seconds in course\n",
    "\n",
    "How many seconds will you spend in this 3-days course? \n",
    "\n",
    "Each course day has 8 hours."
   ]
  },
  {
   "cell_type": "code",
   "execution_count": 314,
   "metadata": {},
   "outputs": [
    {
     "name": "stdout",
     "output_type": "stream",
     "text": [
      "86400 seconds\n"
     ]
    }
   ],
   "source": [
    "hour=3*8 #hours #3days for 8hours\n",
    "second=60*60*hour #convert unit from hrs to sec\n",
    "print(second, \"seconds\")\n",
    "\n",
    "#farah"
   ]
  },
  {
   "cell_type": "markdown",
   "metadata": {},
   "source": [
    "#### Exercise 2 - Teambuilding\n",
    "\n",
    "How many groups can be made during teambuilding?\n",
    "\n",
    "You are on a company team building event with a total of 57 people. The host of the day asks you all to form groups of 6 people. How many groups will there be? And how many people will be leftovers without a group?\n",
    "\n",
    "- Define variable \"people\"\n",
    "- Define variable \"group_size\"\n",
    "- Define and calculate \"groups\" using floor division.\n",
    "- Define and calculate \"leftovers\" using modulo.\n",
    "- Print groups and leftovers"
   ]
  },
  {
   "cell_type": "code",
   "execution_count": 315,
   "metadata": {},
   "outputs": [
    {
     "name": "stdout",
     "output_type": "stream",
     "text": [
      "groups= 9 \n",
      "people leftover= 3\n"
     ]
    }
   ],
   "source": [
    "people=57\n",
    "group_size=6\n",
    "groups=people//group_size\n",
    "leftovers=people%group_size\n",
    "\n",
    "print(\"groups=\", groups, \"\\npeople leftover=\", leftovers)\n",
    "\n",
    "#farah"
   ]
  },
  {
   "cell_type": "markdown",
   "metadata": {},
   "source": [
    "#### Exercise 3 - Total value\n",
    "\n",
    "What is the total value of the numbers in this list?\n",
    "\n",
    "Numbers: 1, 10, 15, 44, 22, 5, 6, 9\n",
    "\n",
    "- Define a variable called \"numbers\" which contains the numbers. \n",
    "- Define a variable \"total_value\" with value 0. \n",
    "- Loop over the numbers and add to total_value."
   ]
  },
  {
   "cell_type": "code",
   "execution_count": 316,
   "metadata": {},
   "outputs": [
    {
     "name": "stdout",
     "output_type": "stream",
     "text": [
      "1\n",
      "11\n",
      "26\n",
      "70\n",
      "92\n",
      "97\n",
      "103\n",
      "112\n",
      "\n",
      "total all value = 112\n"
     ]
    }
   ],
   "source": [
    "numbers=[1, 10, 15, 44, 22, 5, 6, 9]\n",
    "total_value=0\n",
    "\n",
    "for n in numbers:\n",
    "    total_value+=n\n",
    "    print(total_value)\n",
    "    \n",
    "print(\"\\ntotal all value =\",total_value)"
   ]
  },
  {
   "cell_type": "code",
   "execution_count": 317,
   "metadata": {},
   "outputs": [
    {
     "name": "stdout",
     "output_type": "stream",
     "text": [
      "1\n",
      "11\n",
      "26\n",
      "70\n",
      "92\n",
      "97\n",
      "103\n",
      "112\n",
      "\n",
      "total all value =  112\n"
     ]
    }
   ],
   "source": [
    "numbers=[1,10, 15, 44, 22, 5, 6, 9]\n",
    "total_value=0\n",
    "\n",
    "for num in numbers:\n",
    "    total_value += num\n",
    "    print (total_value)\n",
    "    \n",
    "print (\"\\ntotal all value = \", total_value)\n",
    "\n",
    "#farah"
   ]
  },
  {
   "cell_type": "markdown",
   "metadata": {},
   "source": [
    "#### Exercise 4 - Uneven numbers \n",
    "\n",
    "How many uneven numbers are there in this list?\n",
    "\n",
    "Numbers: 1,10, 15, 44, 22, 5, 6, 9\n",
    "\n",
    "- Define a variable called \"numbers\" which contains the numbers. \n",
    "- Define a variable called \"count_uneven\" with value 0.\n",
    "- Loop over the numbers and add +1 to count_uneven if the number is uneven."
   ]
  },
  {
   "cell_type": "code",
   "execution_count": 318,
   "metadata": {},
   "outputs": [
    {
     "name": "stdout",
     "output_type": "stream",
     "text": [
      "uneven count= 4\n"
     ]
    }
   ],
   "source": [
    "numbers=[1,10, 15, 44, 22, 5, 6, 9]\n",
    "count_uneven=0\n",
    "\n",
    "for n in numbers:\n",
    "    if n%2!=0:\n",
    "        count_uneven+=1\n",
    "    \n",
    "print(\"uneven count=\",count_uneven)"
   ]
  },
  {
   "cell_type": "code",
   "execution_count": 319,
   "metadata": {},
   "outputs": [
    {
     "name": "stdout",
     "output_type": "stream",
     "text": [
      "uneven count =  4\n"
     ]
    }
   ],
   "source": [
    "numbers=[1,10, 15, 44, 22, 5, 6, 9]\n",
    "count_uneven=0\n",
    "\n",
    "for num in numbers:\n",
    "    if num%2!=0: #odd numbers only\n",
    "        count_uneven += 1\n",
    "    \n",
    "print (\"uneven count = \", count_uneven)\n",
    "    \n",
    "#farah"
   ]
  },
  {
   "cell_type": "markdown",
   "metadata": {},
   "source": [
    "#### Exercise 5 - Even numbers\n",
    "\n",
    "Print out the even numbers in this list\n",
    "\n",
    "Numbers: 1,10, 15, 44, 22, 5, 6, 9\n",
    "\n",
    "- Define a variable called \"numbers\" which contains the numbers. \n",
    "- Loop over the numbers and print the number if it is an even number."
   ]
  },
  {
   "cell_type": "code",
   "execution_count": 320,
   "metadata": {},
   "outputs": [
    {
     "name": "stdout",
     "output_type": "stream",
     "text": [
      "10\n",
      "44\n",
      "22\n",
      "6\n"
     ]
    }
   ],
   "source": [
    "numbers=[1,10, 15, 44, 22, 5, 6, 9]\n",
    "\n",
    "for n in numbers:\n",
    "    if n%2==0:\n",
    "        print(n)\n"
   ]
  },
  {
   "cell_type": "code",
   "execution_count": 321,
   "metadata": {},
   "outputs": [
    {
     "name": "stdout",
     "output_type": "stream",
     "text": [
      "10\n",
      "44\n",
      "22\n",
      "6\n"
     ]
    }
   ],
   "source": [
    "numbers=[1,10, 15, 44, 22, 5, 6, 9]\n",
    "count_uneven=0\n",
    "\n",
    "for num in numbers:\n",
    "    if num % 2 == 0:\n",
    "        print (num)\n",
    "\n",
    "#farah"
   ]
  },
  {
   "cell_type": "markdown",
   "metadata": {},
   "source": [
    "#### Exercise 6 - Find the maximum\n",
    "\n",
    "Find the maximum number in this list (without using the max function)\n",
    "\n",
    "Numbers: 90, -100, 11, 2, 400, 5, 66, 7\n",
    "\n",
    "- Define a variable called \"numbers\" which contains the numbers. \n",
    "- Define a variable \"max_value\" and initialize it with the first number in numbers\n",
    "- Loop over the numbers and do something so that at the end of the loop we are left with the max value.\n",
    "\n",
    "```python\n",
    "# hint:\n",
    "# initialize with the first number, value will be 90\n",
    "max_value = numbers[0]\n",
    "```"
   ]
  },
  {
   "cell_type": "code",
   "execution_count": 322,
   "metadata": {},
   "outputs": [
    {
     "name": "stdout",
     "output_type": "stream",
     "text": [
      "max number= 400\n"
     ]
    }
   ],
   "source": [
    "numbers=[90, -100, 11, 2, 400, 5, 66, 7]\n",
    "#if use max function\n",
    "\n",
    "max_number=max (numbers)\n",
    "print(\"max number=\",max_number)"
   ]
  },
  {
   "cell_type": "code",
   "execution_count": 323,
   "metadata": {},
   "outputs": [
    {
     "name": "stdout",
     "output_type": "stream",
     "text": [
      "max number= 400\n"
     ]
    }
   ],
   "source": [
    "numbers=[90, -100, 11, 2, 400, 5, 66, 7]\n",
    "max_value=numbers[0] #number index 0, first number\n",
    "\n",
    "for v in numbers:\n",
    "    if v>max_value:\n",
    "        max_value=v #assign current number as max number\n",
    "\n",
    "print(\"max number=\",max_value)"
   ]
  },
  {
   "cell_type": "code",
   "execution_count": 324,
   "metadata": {},
   "outputs": [
    {
     "name": "stdout",
     "output_type": "stream",
     "text": [
      "Max value =  400\n"
     ]
    }
   ],
   "source": [
    "numbers=[90, -100, 11, 2, 400, 5, 66, 7]\n",
    "\n",
    "max_value=numbers[0]\n",
    "\n",
    "for x in numbers:\n",
    "    if x > max_value:\n",
    "        max_value = x\n",
    "        \n",
    "print(\"Max value = \", max_value)\n",
    "    \n",
    "#farah"
   ]
  },
  {
   "cell_type": "markdown",
   "metadata": {
    "toc-hr-collapsed": false
   },
   "source": [
    "## In Python everything is object\n",
    "\n",
    "Everything in Python is an object that has an identity and a value. \n",
    "\n",
    "And a value always has a <font color=green>type</font>.\n",
    "\n",
    "A **number** is an object, a **string** is an object, the <font color=green>**print( )**</font> function is an object, the **condition** in your `if` statement is an object.\n",
    "\n",
    "We can show the <u>identity</u> with <font color=green>id( )</font>\n",
    "\n",
    "We can show the <u>type</u> with <font color=green>type( )</font>"
   ]
  },
  {
   "cell_type": "code",
   "execution_count": 325,
   "metadata": {},
   "outputs": [
    {
     "name": "stdout",
     "output_type": "stream",
     "text": [
      "A\n",
      "A\n",
      "2094277209520\n",
      "2094277209520\n",
      "<class 'str'>\n",
      "<class 'str'>\n"
     ]
    }
   ],
   "source": [
    "a = 'A'\n",
    "print (a)\n",
    "print('A')\n",
    "\n",
    "print (id(a))\n",
    "print(id('A'))\n",
    "\n",
    "print (type(a))\n",
    "print(type('A'))"
   ]
  },
  {
   "cell_type": "code",
   "execution_count": 326,
   "metadata": {},
   "outputs": [
    {
     "data": {
      "text/plain": [
       "2094269937280"
      ]
     },
     "execution_count": 326,
     "metadata": {},
     "output_type": "execute_result"
    }
   ],
   "source": [
    "id(print)"
   ]
  },
  {
   "cell_type": "code",
   "execution_count": 327,
   "metadata": {},
   "outputs": [
    {
     "data": {
      "text/plain": [
       "builtin_function_or_method"
      ]
     },
     "execution_count": 327,
     "metadata": {},
     "output_type": "execute_result"
    }
   ],
   "source": [
    "type(print)"
   ]
  },
  {
   "cell_type": "code",
   "execution_count": 328,
   "metadata": {},
   "outputs": [
    {
     "data": {
      "text/plain": [
       "bool"
      ]
     },
     "execution_count": 328,
     "metadata": {},
     "output_type": "execute_result"
    }
   ],
   "source": [
    "type(10>12)"
   ]
  },
  {
   "cell_type": "code",
   "execution_count": 329,
   "metadata": {},
   "outputs": [
    {
     "name": "stdout",
     "output_type": "stream",
     "text": [
      "10 2094269622864\n",
      "10 2094269622864\n",
      "\n",
      "11 2094269622896\n",
      "10 2094269622864\n"
     ]
    }
   ],
   "source": [
    "a=10\n",
    "b=a\n",
    "\n",
    "print(a, id(a))\n",
    "print(b, id(b))\n",
    "\n",
    "a+=1\n",
    "\n",
    "print()\n",
    "print(a, id(a))\n",
    "print(b, id(b))"
   ]
  },
  {
   "cell_type": "markdown",
   "metadata": {},
   "source": [
    "What did we do here?\n",
    "\n",
    "We defined variable `a` to be 10. Then we defined variable `b` to be variable `a`. In other word we defined variable `b` to be the object that variable `a` refers to. Variable `a` and `b` <u>refer to the same object</u> and <u>have the same id</u>.\n",
    "\n",
    "Then we re-assigned variable `a` to be the value of `a` <font color=purple>**+**</font> <font color=green>1</font>. This is <u>a new object with a new id</u>."
   ]
  },
  {
   "cell_type": "markdown",
   "metadata": {
    "toc-hr-collapsed": true
   },
   "source": [
    "### Types\n",
    "\n",
    "Let's go over the types that will be used during this course. These will our building blocks\n",
    "- <font color=green>int</font> -- Integer. Round number.\n",
    "- <font color=green>float</font> -- Float. Number with decimals\n",
    "- <font color=green>str</font> -- String. A sequence of characters.\n",
    "- <font color=green>bool</font> -- Boolean. Either True or False\n",
    "- <font color=green>list</font> -- List. A sequence of items.\n",
    "- <font color=green>tuple</font> -- Tuple. An immutable list.\n",
    "- <font color=green>dict</font> -- Dictionary. Collection of key-value pairs. Used to look up things.\n",
    "- <font color=green>**None**</font> -- NoneType.\n",
    "\n",
    "Today we will practice with `int`, `float`, `str` and `bool`. In Day-2 we get into the details of `list` and `dict`. "
   ]
  },
  {
   "cell_type": "markdown",
   "metadata": {},
   "source": [
    "### Integer and Float"
   ]
  },
  {
   "cell_type": "markdown",
   "metadata": {},
   "source": [
    "We have seen numbers int and float before. Integer is a rounded value and Float is a decimal value."
   ]
  },
  {
   "cell_type": "code",
   "execution_count": 330,
   "metadata": {},
   "outputs": [
    {
     "data": {
      "text/plain": [
       "int"
      ]
     },
     "execution_count": 330,
     "metadata": {},
     "output_type": "execute_result"
    }
   ],
   "source": [
    "type(10)"
   ]
  },
  {
   "cell_type": "code",
   "execution_count": 331,
   "metadata": {},
   "outputs": [
    {
     "data": {
      "text/plain": [
       "float"
      ]
     },
     "execution_count": 331,
     "metadata": {},
     "output_type": "execute_result"
    }
   ],
   "source": [
    "type(10.1)"
   ]
  },
  {
   "cell_type": "code",
   "execution_count": 332,
   "metadata": {},
   "outputs": [
    {
     "data": {
      "text/plain": [
       "float"
      ]
     },
     "execution_count": 332,
     "metadata": {},
     "output_type": "execute_result"
    }
   ],
   "source": [
    "a=10.111\n",
    "type(a)"
   ]
  },
  {
   "cell_type": "code",
   "execution_count": 333,
   "metadata": {},
   "outputs": [
    {
     "data": {
      "text/plain": [
       "float"
      ]
     },
     "execution_count": 333,
     "metadata": {},
     "output_type": "execute_result"
    }
   ],
   "source": [
    "round(a) #still same type but only rounded, not int\n",
    "type(a)"
   ]
  },
  {
   "cell_type": "code",
   "execution_count": 334,
   "metadata": {},
   "outputs": [
    {
     "name": "stdout",
     "output_type": "stream",
     "text": [
      "10\n"
     ]
    }
   ],
   "source": [
    "print(round(a))"
   ]
  },
  {
   "cell_type": "markdown",
   "metadata": {},
   "source": [
    "We can round numbers using round()"
   ]
  },
  {
   "cell_type": "code",
   "execution_count": 335,
   "metadata": {},
   "outputs": [
    {
     "data": {
      "text/plain": [
       "11"
      ]
     },
     "execution_count": 335,
     "metadata": {},
     "output_type": "execute_result"
    }
   ],
   "source": [
    "b=10.56789\n",
    "round(b)"
   ]
  },
  {
   "cell_type": "code",
   "execution_count": 336,
   "metadata": {},
   "outputs": [
    {
     "data": {
      "text/plain": [
       "10.568"
      ]
     },
     "execution_count": 336,
     "metadata": {},
     "output_type": "execute_result"
    }
   ],
   "source": [
    "round(b,3) #3d.p"
   ]
  },
  {
   "cell_type": "code",
   "execution_count": null,
   "metadata": {},
   "outputs": [],
   "source": []
  },
  {
   "cell_type": "markdown",
   "metadata": {},
   "source": [
    "### String"
   ]
  },
  {
   "cell_type": "markdown",
   "metadata": {},
   "source": [
    "We have also seen the string type before, it's text. \n",
    "\n",
    "You can use single or double quotes. And with triple quotes you can define a string that spans over multiple lines.\n",
    "\n",
    "Notice how you can single quotes in double quotes and the other ways around."
   ]
  },
  {
   "cell_type": "code",
   "execution_count": 337,
   "metadata": {},
   "outputs": [
    {
     "name": "stdout",
     "output_type": "stream",
     "text": [
      "I have a cat\n",
      "His name is Yoshi\n",
      "Yoshi likes to eat wetpud\n",
      "Yoshi likes to sleep\n"
     ]
    }
   ],
   "source": [
    "a = \"Yoshi\"\n",
    "b = \"I have a cat\"\n",
    "c = \"His name is\"\n",
    "d = \"likes to eat wetpud\"\n",
    "e = \"likes to sleep\"\n",
    "\n",
    "print(b)\n",
    "print(c,a)\n",
    "print(a,d)\n",
    "print(a,e)"
   ]
  },
  {
   "cell_type": "markdown",
   "metadata": {},
   "source": [
    "You can define enter with `\"\\n\"` and a tab with `\"\\t\"`"
   ]
  },
  {
   "cell_type": "code",
   "execution_count": 338,
   "metadata": {},
   "outputs": [
    {
     "name": "stdout",
     "output_type": "stream",
     "text": [
      "Hi \n",
      "There\n"
     ]
    }
   ],
   "source": [
    "print(\"Hi \\nThere\")"
   ]
  },
  {
   "cell_type": "code",
   "execution_count": 339,
   "metadata": {},
   "outputs": [
    {
     "name": "stdout",
     "output_type": "stream",
     "text": [
      "Hi \tThere\n"
     ]
    }
   ],
   "source": [
    "print(\"Hi \\tThere\")"
   ]
  },
  {
   "cell_type": "code",
   "execution_count": 340,
   "metadata": {},
   "outputs": [
    {
     "name": "stdout",
     "output_type": "stream",
     "text": [
      "Yahoo\n",
      "  Ya       hoo    \n",
      "Yahoo LOL\n"
     ]
    }
   ],
   "source": [
    "print(          \"Yahoo\") #ignore space outside \"\"\n",
    "print(\"  Ya       hoo    \")\n",
    "print(\"Yahoo\"    ,      \"LOL\")"
   ]
  },
  {
   "cell_type": "markdown",
   "metadata": {},
   "source": [
    "String can be concatenated using the + operator."
   ]
  },
  {
   "cell_type": "markdown",
   "metadata": {},
   "source": [
    "Here is how you can format a string. \"format\" is a method of the string class."
   ]
  },
  {
   "cell_type": "code",
   "execution_count": 341,
   "metadata": {},
   "outputs": [
    {
     "name": "stdout",
     "output_type": "stream",
     "text": [
      "yesno\n",
      "yes no\n",
      "yesno\n",
      "yes no\n"
     ]
    }
   ],
   "source": [
    "a=\"yes\"\n",
    "b=\"no\"\n",
    "\n",
    "print (a+b) #print concatenated string\n",
    "print (a,b) #print two string\n",
    "print (\"yes\"+b) #print concatenated string\n",
    "print (a,\"no\") #print two string"
   ]
  },
  {
   "cell_type": "code",
   "execution_count": 342,
   "metadata": {},
   "outputs": [],
   "source": [
    "name='ali'\n",
    "age= 31"
   ]
  },
  {
   "cell_type": "code",
   "execution_count": 343,
   "metadata": {},
   "outputs": [
    {
     "name": "stdout",
     "output_type": "stream",
     "text": [
      "Name:31, Age:31\n"
     ]
    }
   ],
   "source": [
    "print(\"Name:{}, Age:{}\".format(age,age))"
   ]
  },
  {
   "cell_type": "code",
   "execution_count": 344,
   "metadata": {},
   "outputs": [
    {
     "name": "stdout",
     "output_type": "stream",
     "text": [
      "Name:ali, Age:31\n"
     ]
    }
   ],
   "source": [
    "print(\"Name:{}, Age:{}\".format(name,age))"
   ]
  },
  {
   "cell_type": "code",
   "execution_count": 345,
   "metadata": {},
   "outputs": [
    {
     "name": "stdout",
     "output_type": "stream",
     "text": [
      "Name:Jeremy, Age:32\n"
     ]
    }
   ],
   "source": [
    "print(\"Name:{}, Age:{}\".format(\"Jeremy\",32))"
   ]
  },
  {
   "cell_type": "code",
   "execution_count": 346,
   "metadata": {},
   "outputs": [
    {
     "name": "stdout",
     "output_type": "stream",
     "text": [
      "Name:ali, Age:31\n"
     ]
    }
   ],
   "source": [
    "print(\"Name:{}, Age:{}\".format(name,age))"
   ]
  },
  {
   "cell_type": "code",
   "execution_count": 347,
   "metadata": {},
   "outputs": [
    {
     "name": "stdout",
     "output_type": "stream",
     "text": [
      "Name: 31, Age: Jeremy\n",
      "Name: Jeremy, Age: 31\n",
      "Name: Jeremy, Age: Jeremy\n"
     ]
    }
   ],
   "source": [
    "print(\"Name: {}, Age: {}\".format(age, \"Jeremy\")) \n",
    "\n",
    "print(\"Name: {1}, Age: {0}\".format(age, \"Jeremy\")) #format(0,1)\n",
    "\n",
    "print(\"Name: {1}, Age: {1}\".format(age, \"Jeremy\")) #format(0,1)"
   ]
  },
  {
   "cell_type": "code",
   "execution_count": 348,
   "metadata": {},
   "outputs": [
    {
     "name": "stdout",
     "output_type": "stream",
     "text": [
      "Name: Jeremy, Age: 31\n",
      "Name: Jeremy, Age: 31\n"
     ]
    }
   ],
   "source": [
    "print(\"Name: \" + \"Jeremy, \" + \"Age: \"+\"31\") #concatination ++++\n",
    "print(\"Name:\",\"Jeremy,\",\"Age:\",\"31\") #if this form, xperlu add space"
   ]
  },
  {
   "cell_type": "code",
   "execution_count": 349,
   "metadata": {},
   "outputs": [
    {
     "name": "stdout",
     "output_type": "stream",
     "text": [
      "Name: Farah, Track: JDS\n",
      "Name: Farah, Track: JDS\n"
     ]
    }
   ],
   "source": [
    "print(\"Name: \" + \"Farah, \"+\"Track: \"+\"JDS\")\n",
    "print(\"Name:\",\"Farah,\",\"Track:\",\"JDS\") "
   ]
  },
  {
   "cell_type": "code",
   "execution_count": 350,
   "metadata": {},
   "outputs": [
    {
     "name": "stdout",
     "output_type": "stream",
     "text": [
      "Name: Farah, Father's Name: Zhaini, Track: JDS\n"
     ]
    }
   ],
   "source": [
    "print(\"Name: {}, Father's Name: {}, Track: {}\".format(\"Farah\",\"Zhaini\",\"JDS\"))"
   ]
  },
  {
   "cell_type": "code",
   "execution_count": null,
   "metadata": {},
   "outputs": [],
   "source": []
  },
  {
   "cell_type": "markdown",
   "metadata": {},
   "source": [
    "A string is <u>a sequence of characters</u>. We can access a character by *indexing*.\n",
    "\n",
    "The index *starts at zero* [ <font color=green>0</font> ]. Also we can use negative indexes to start at the end. "
   ]
  },
  {
   "cell_type": "markdown",
   "metadata": {},
   "source": [
    "|P|y|t|h|o|n|\n",
    "|--:|--:|--:|--:|--:|--:|\n",
    "|0|1|2|3|4|5|\n",
    "|-6|-5|-4|-3|-2|-1|\n"
   ]
  },
  {
   "cell_type": "markdown",
   "metadata": {},
   "source": [
    "With slicing we can access subsets of the string.\n",
    "\n",
    "The subset starts at and includes the first index and it ends before but NOT including the second index. \n",
    "\n",
    "If you want to slice from the beginning or to the end you can leave it open with on index number."
   ]
  },
  {
   "cell_type": "code",
   "execution_count": 351,
   "metadata": {},
   "outputs": [
    {
     "name": "stdout",
     "output_type": "stream",
     "text": [
      "P\n",
      "n\n"
     ]
    }
   ],
   "source": [
    "text = 'Python'\n",
    "print(text[0]) #+ve index\n",
    "print(text[-1]) #-ve index, no need to count from front"
   ]
  },
  {
   "cell_type": "markdown",
   "metadata": {},
   "source": [
    "|P|y|t|h|o|n|\n",
    "|--:|--:|--:|--:|--:|--:|\n",
    "|0|1|2|3|4|5|\n",
    "|-6|-5|-4|-3|-2|-1|\n"
   ]
  },
  {
   "cell_type": "code",
   "execution_count": 352,
   "metadata": {},
   "outputs": [
    {
     "name": "stdout",
     "output_type": "stream",
     "text": [
      "Pyt\n",
      "Pyt\n",
      "hon\n",
      "thon\n",
      "yt\n",
      "Python\n"
     ]
    }
   ],
   "source": [
    "print(text[0:3]) #start 0, until before 3\n",
    "print(text[:3]) #by default start from 0, until before 3\n",
    "print(text[3:]) #start from 3 till end\n",
    "print(text[-4:]) #start -4 till end\n",
    "print(text[1:3]) #from 1, till before 3\n",
    "print(text[:]) #none"
   ]
  },
  {
   "cell_type": "markdown",
   "metadata": {},
   "source": [
    "Let's see if \"Python\" contains \"yth\""
   ]
  },
  {
   "cell_type": "code",
   "execution_count": 353,
   "metadata": {},
   "outputs": [
    {
     "data": {
      "text/plain": [
       "True"
      ]
     },
     "execution_count": 353,
     "metadata": {},
     "output_type": "execute_result"
    }
   ],
   "source": [
    "\"yth\" in text #yes, 'yth'present in Python"
   ]
  },
  {
   "cell_type": "markdown",
   "metadata": {},
   "source": [
    "### Boolean\n",
    "\n",
    "True or False Value. The outcome of a condition."
   ]
  },
  {
   "cell_type": "code",
   "execution_count": 354,
   "metadata": {},
   "outputs": [
    {
     "name": "stdout",
     "output_type": "stream",
     "text": [
      "False\n"
     ]
    },
    {
     "data": {
      "text/plain": [
       "bool"
      ]
     },
     "execution_count": 354,
     "metadata": {},
     "output_type": "execute_result"
    }
   ],
   "source": [
    "a=10>12\n",
    "\n",
    "print(a)\n",
    "type(a)"
   ]
  },
  {
   "cell_type": "markdown",
   "metadata": {},
   "source": [
    "We can apply logical operators on booleans. With \"and\" and \"or\" we can chain booleans, with \"not\" can reverse. "
   ]
  },
  {
   "cell_type": "code",
   "execution_count": 355,
   "metadata": {},
   "outputs": [
    {
     "name": "stdout",
     "output_type": "stream",
     "text": [
      "True\n",
      "False\n",
      "True\n",
      "False\n"
     ]
    }
   ],
   "source": [
    "print(10>5 and 10>6)\n",
    "print(10>5 and 10>12)\n",
    "print(10>5 or 10>12)\n",
    "print(not 10>6)"
   ]
  },
  {
   "cell_type": "markdown",
   "metadata": {},
   "source": [
    "### List\n",
    "\n",
    "A sequence of values. You can iterate over a list. \n",
    "\n",
    "We assign a new value to index zero. Notice that the list is a mutable type. Notice the [ ] squared brackets."
   ]
  },
  {
   "cell_type": "code",
   "execution_count": 356,
   "metadata": {},
   "outputs": [
    {
     "name": "stdout",
     "output_type": "stream",
     "text": [
      "list initialized\n",
      "[1, 2, 3, 4]\n",
      "<class 'list'>\n",
      "\n",
      "new value assigned to an element in the list\n",
      "[100, 2, 3, 4]\n",
      "<class 'list'>\n"
     ]
    }
   ],
   "source": [
    "numbers = [1,2,3,4]\n",
    "\n",
    "print('list initialized')\n",
    "print(numbers)\n",
    "print(type(numbers))\n",
    "\n",
    "numbers[0] = 100\n",
    "\n",
    "print('\\nnew value assigned to an element in the list')\n",
    "print(numbers)\n",
    "print(type(numbers))\n"
   ]
  },
  {
   "cell_type": "markdown",
   "metadata": {},
   "source": [
    "### Tuple\n",
    "\n",
    "An immutable list. It has no flexibility and less functionality but more efficiency. Notice that the tuple is an immutable type. Notice the ( ) round brackets."
   ]
  },
  {
   "cell_type": "code",
   "execution_count": 357,
   "metadata": {},
   "outputs": [
    {
     "data": {
      "text/plain": [
       "1"
      ]
     },
     "execution_count": 357,
     "metadata": {},
     "output_type": "execute_result"
    }
   ],
   "source": [
    "a = (1,2,3) #tuple list use (), variable list use []\n",
    "a[0]"
   ]
  },
  {
   "cell_type": "code",
   "execution_count": 358,
   "metadata": {},
   "outputs": [
    {
     "ename": "TypeError",
     "evalue": "'tuple' object does not support item assignment",
     "output_type": "error",
     "traceback": [
      "\u001b[1;31m---------------------------------------------------------------------------\u001b[0m",
      "\u001b[1;31mTypeError\u001b[0m                                 Traceback (most recent call last)",
      "Input \u001b[1;32mIn [358]\u001b[0m, in \u001b[0;36m<cell line: 1>\u001b[1;34m()\u001b[0m\n\u001b[1;32m----> 1\u001b[0m a[\u001b[38;5;241m0\u001b[39m]\u001b[38;5;241m=\u001b[39m\u001b[38;5;241m100\u001b[39m\n",
      "\u001b[1;31mTypeError\u001b[0m: 'tuple' object does not support item assignment"
     ]
    }
   ],
   "source": [
    "a[0]=100 #tuple fixed, cant change"
   ]
  },
  {
   "cell_type": "markdown",
   "metadata": {},
   "source": [
    "Stay calm."
   ]
  },
  {
   "cell_type": "code",
   "execution_count": null,
   "metadata": {},
   "outputs": [],
   "source": []
  },
  {
   "cell_type": "markdown",
   "metadata": {},
   "source": [
    "Because a tuple is immutable you cannot assign an item to it."
   ]
  },
  {
   "cell_type": "markdown",
   "metadata": {},
   "source": [
    "### Dictionary\n",
    "\n",
    "A dictionary is a collection of key-value pairs. It is used to look up things and a very common used type. Notice the { } curly brackets and the \"key\": \"value\" notation. Notice the squared bracket for looking up."
   ]
  },
  {
   "cell_type": "code",
   "execution_count": 359,
   "metadata": {},
   "outputs": [
    {
     "name": "stdout",
     "output_type": "stream",
     "text": [
      "{'apple': 1.5, 'orange': 3.25}\n"
     ]
    }
   ],
   "source": [
    "prices = {\"apple\":1.5,\"orange\":3.25} #key,value\n",
    "print (prices)"
   ]
  },
  {
   "cell_type": "code",
   "execution_count": 360,
   "metadata": {},
   "outputs": [
    {
     "data": {
      "text/plain": [
       "1.5"
      ]
     },
     "execution_count": 360,
     "metadata": {},
     "output_type": "execute_result"
    }
   ],
   "source": [
    "prices[\"apple\"]"
   ]
  },
  {
   "cell_type": "code",
   "execution_count": 361,
   "metadata": {},
   "outputs": [
    {
     "data": {
      "text/plain": [
       "3.25"
      ]
     },
     "execution_count": 361,
     "metadata": {},
     "output_type": "execute_result"
    }
   ],
   "source": [
    "prices[\"orange\"]"
   ]
  },
  {
   "cell_type": "code",
   "execution_count": 362,
   "metadata": {},
   "outputs": [
    {
     "name": "stdout",
     "output_type": "stream",
     "text": [
      "dict_values([1.5, 3.25])\n",
      "dict_keys(['apple', 'orange'])\n"
     ]
    },
    {
     "data": {
      "text/plain": [
       "dict"
      ]
     },
     "execution_count": 362,
     "metadata": {},
     "output_type": "execute_result"
    }
   ],
   "source": [
    "print(prices.values())\n",
    "print(prices.keys())\n",
    "\n",
    "type(prices)"
   ]
  },
  {
   "cell_type": "code",
   "execution_count": 363,
   "metadata": {},
   "outputs": [
    {
     "name": "stdout",
     "output_type": "stream",
     "text": [
      "{'apple': 1.25, 'orange': 3.25, 'melon': 5.67}\n"
     ]
    }
   ],
   "source": [
    "prices.update({\"melon\":5.67,\"apple\":1.25})\n",
    "\n",
    "print(prices)"
   ]
  },
  {
   "cell_type": "code",
   "execution_count": 364,
   "metadata": {},
   "outputs": [
    {
     "name": "stdout",
     "output_type": "stream",
     "text": [
      "{'apple': 1.25, 'orange': 4, 'melon': 5.67, 'banana': 3.33}\n"
     ]
    }
   ],
   "source": [
    "#alternative update method\n",
    "\n",
    "prices[\"banana\"] = 3.33\n",
    "prices[\"orange\"] = 4\n",
    "\n",
    "print(prices)"
   ]
  },
  {
   "cell_type": "markdown",
   "metadata": {},
   "source": [
    "The dictionary is  mutable like a list. This is how we can update the dictionary with a new value."
   ]
  },
  {
   "cell_type": "markdown",
   "metadata": {},
   "source": [
    "### None"
   ]
  },
  {
   "cell_type": "markdown",
   "metadata": {},
   "source": [
    "It is possible to assign an empty value to a variable. Or when you assign the output of a function that does not have an returned value to a variable the value will also be None."
   ]
  },
  {
   "cell_type": "code",
   "execution_count": 365,
   "metadata": {},
   "outputs": [],
   "source": [
    "a= None"
   ]
  },
  {
   "cell_type": "code",
   "execution_count": 366,
   "metadata": {},
   "outputs": [
    {
     "name": "stdout",
     "output_type": "stream",
     "text": [
      "None\n"
     ]
    }
   ],
   "source": [
    "print(a)"
   ]
  },
  {
   "cell_type": "code",
   "execution_count": 367,
   "metadata": {},
   "outputs": [
    {
     "data": {
      "text/plain": [
       "NoneType"
      ]
     },
     "execution_count": 367,
     "metadata": {},
     "output_type": "execute_result"
    }
   ],
   "source": [
    "type(a)"
   ]
  },
  {
   "cell_type": "markdown",
   "metadata": {},
   "source": [
    "### Mutable and Immutable objects\n",
    "\n",
    "It is good to understand the difference between mutable and immutable objects. \n",
    "\n",
    "Mutable object can change. It means the value can change and the object still holds the same identity, which we can see with id(). \n",
    "\n",
    "Immutable objects cannot change. For an immutable object to change, the new value has to be assigned to a new object.\n",
    "\n",
    "Immutable objects: int, str, tuple\n",
    "\n",
    "Mutable objects: list, dict"
   ]
  },
  {
   "cell_type": "code",
   "execution_count": 368,
   "metadata": {},
   "outputs": [
    {
     "name": "stdout",
     "output_type": "stream",
     "text": [
      "list intialized\n",
      "[1, 2, 3] 2094385581568 2094269622576\n",
      "\n",
      "list updated\n",
      "[100, 2, 3] 2094385581568 2094269814224\n"
     ]
    }
   ],
   "source": [
    "a = [1,2,3]\n",
    "print('list intialized')\n",
    "print(a, id(a), id(a[0]))\n",
    "\n",
    "a[0]=100\n",
    "\n",
    "print('\\nlist updated')\n",
    "print(a, id(a), id(a[0])) #id list constant, id index 0 change\n"
   ]
  },
  {
   "cell_type": "markdown",
   "metadata": {},
   "source": [
    "See, id stays the same while the value has changed. This is possible because the list object is mutable."
   ]
  },
  {
   "cell_type": "markdown",
   "metadata": {},
   "source": [
    "### Avoid overwriting built-in function\n",
    "\n",
    "One mistake that one can make is to overwrite the built-in function. Let's see example below:\n"
   ]
  },
  {
   "cell_type": "code",
   "execution_count": 369,
   "metadata": {},
   "outputs": [],
   "source": [
    "list = [1,2,3] #variable jgn nama sama macam function, AVOID"
   ]
  },
  {
   "cell_type": "markdown",
   "metadata": {},
   "source": [
    "Above, we created a variable called list. This is really bad as list() is a built-in function. Let's see what is \"list\" in our namespace."
   ]
  },
  {
   "cell_type": "code",
   "execution_count": 370,
   "metadata": {},
   "outputs": [
    {
     "name": "stdout",
     "output_type": "stream",
     "text": [
      "Variable        Type        Data/Info\n",
      "-------------------------------------\n",
      "L               list        n=4\n",
      "M               list        n=4\n",
      "a               list        n=3\n",
      "add             function    <function add at 0x000001E7A3256700>\n",
      "age             int         31\n",
      "amount_frozen   int         15\n",
      "amount_total    int         15\n",
      "answer          NoneType    None\n",
      "b               str         no\n",
      "bigger          function    <function bigger at 0x000001E7A31704C0>\n",
      "block_list      list        n=5\n",
      "both_ends       function    <function both_ends at 0x000001E7A326E820>\n",
      "c               str         His name is\n",
      "contains        function    <function contains at 0x000001E7A2FBA940>\n",
      "count_uneven    int         0\n",
      "d               str         likes to eat wetpud\n",
      "donuts          function    <function donuts at 0x000001E7A3256DC0>\n",
      "e               str         likes to sleep\n",
      "group_size      int         6\n",
      "groups          int         9\n",
      "hour            int         24\n",
      "ice_block       list        n=5\n",
      "ice_flake       int         5\n",
      "leftovers       int         3\n",
      "list            list        n=3\n",
      "max_number      int         400\n",
      "max_value       int         400\n",
      "n               int         9\n",
      "name            str         ali\n",
      "num             int         9\n",
      "number          int         13\n",
      "numbers         list        n=4\n",
      "numbers_chain   list        n=5\n",
      "obj             NoneType    None\n",
      "object_info     function    <function object_info at 0x000001E7A31E00D0>\n",
      "objects         list        n=8\n",
      "people          int         57\n",
      "pointer         int         5\n",
      "prices          dict        n=4\n",
      "second          int         86400\n",
      "show_name       function    <function show_name at 0x000001E7A3256820>\n",
      "starts_with_B   function    <function starts_with_B at 0x000001E7A31E0AF0>\n",
      "sub             function    <function sub at 0x000001E7A30FF820>\n",
      "test            function    <function test at 0x000001E7A31A33A0>\n",
      "text            str         Python\n",
      "total           int         15\n",
      "total_even      int         10\n",
      "total_uneven    int         22\n",
      "total_value     int         112\n",
      "v               int         7\n",
      "x               int         7\n"
     ]
    }
   ],
   "source": [
    "%whos"
   ]
  },
  {
   "cell_type": "code",
   "execution_count": 371,
   "metadata": {},
   "outputs": [
    {
     "ename": "TypeError",
     "evalue": "'list' object is not callable",
     "output_type": "error",
     "traceback": [
      "\u001b[1;31m---------------------------------------------------------------------------\u001b[0m",
      "\u001b[1;31mTypeError\u001b[0m                                 Traceback (most recent call last)",
      "Input \u001b[1;32mIn [371]\u001b[0m, in \u001b[0;36m<cell line: 1>\u001b[1;34m()\u001b[0m\n\u001b[1;32m----> 1\u001b[0m \u001b[38;5;28;43mlist\u001b[39;49m\u001b[43m(\u001b[49m\u001b[43m(\u001b[49m\u001b[38;5;241;43m1\u001b[39;49m\u001b[43m,\u001b[49m\u001b[38;5;241;43m2\u001b[39;49m\u001b[43m,\u001b[49m\u001b[38;5;241;43m3\u001b[39;49m\u001b[43m)\u001b[49m\u001b[43m)\u001b[49m\n",
      "\u001b[1;31mTypeError\u001b[0m: 'list' object is not callable"
     ]
    }
   ],
   "source": [
    "list((1,2,3))"
   ]
  },
  {
   "cell_type": "markdown",
   "metadata": {},
   "source": [
    "If you want to use list() function, you will get an error: \"TypeError: 'list' object is not callable\".\n",
    "\n",
    "When the error says something is not callable it means that we try to use it as a function but it is not a function. In this case list is a list container we created and it overwrites the built-in function list()."
   ]
  },
  {
   "cell_type": "markdown",
   "metadata": {},
   "source": [
    "### Show types using a function and a loop"
   ]
  },
  {
   "cell_type": "markdown",
   "metadata": {},
   "source": [
    "Now let's print some info for a number of objects. Since we don't want to repeat ourselves we will use the convenience of a function and a for loop.\n",
    "\n",
    "Let's define a function that prints the value, id and type of an object given."
   ]
  },
  {
   "cell_type": "code",
   "execution_count": 372,
   "metadata": {},
   "outputs": [],
   "source": [
    "def object_info(obj): #define object info \n",
    "    print(\"Value: {}, Type: {}, Id: {}\".format(obj, type(obj), id(obj)))\n"
   ]
  },
  {
   "cell_type": "markdown",
   "metadata": {},
   "source": [
    "What did we do here?\n",
    "\n",
    "We have defined the function \"object_info\". Notice the fat-green keyword def. Also notice the parameter obj and the indent. The code within the function is not executed yet, only when the function is called. Notice the function is a variable and object by itself and is now in our namespace."
   ]
  },
  {
   "cell_type": "code",
   "execution_count": 373,
   "metadata": {},
   "outputs": [
    {
     "name": "stdout",
     "output_type": "stream",
     "text": [
      "Variable        Type        Data/Info\n",
      "-------------------------------------\n",
      "L               list        n=4\n",
      "M               list        n=4\n",
      "a               list        n=3\n",
      "add             function    <function add at 0x000001E7A3256700>\n",
      "age             int         31\n",
      "amount_frozen   int         15\n",
      "amount_total    int         15\n",
      "answer          NoneType    None\n",
      "b               str         no\n",
      "bigger          function    <function bigger at 0x000001E7A31704C0>\n",
      "block_list      list        n=5\n",
      "both_ends       function    <function both_ends at 0x000001E7A326E820>\n",
      "c               str         His name is\n",
      "contains        function    <function contains at 0x000001E7A2FBA940>\n",
      "count_uneven    int         0\n",
      "d               str         likes to eat wetpud\n",
      "donuts          function    <function donuts at 0x000001E7A3256DC0>\n",
      "e               str         likes to sleep\n",
      "group_size      int         6\n",
      "groups          int         9\n",
      "hour            int         24\n",
      "ice_block       list        n=5\n",
      "ice_flake       int         5\n",
      "leftovers       int         3\n",
      "list            list        n=3\n",
      "max_number      int         400\n",
      "max_value       int         400\n",
      "n               int         9\n",
      "name            str         ali\n",
      "num             int         9\n",
      "number          int         13\n",
      "numbers         list        n=4\n",
      "numbers_chain   list        n=5\n",
      "obj             NoneType    None\n",
      "object_info     function    <function object_info at 0x000001E7A313ED30>\n",
      "objects         list        n=8\n",
      "people          int         57\n",
      "pointer         int         5\n",
      "prices          dict        n=4\n",
      "second          int         86400\n",
      "show_name       function    <function show_name at 0x000001E7A3256820>\n",
      "starts_with_B   function    <function starts_with_B at 0x000001E7A31E0AF0>\n",
      "sub             function    <function sub at 0x000001E7A30FF820>\n",
      "test            function    <function test at 0x000001E7A31A33A0>\n",
      "text            str         Python\n",
      "total           int         15\n",
      "total_even      int         10\n",
      "total_uneven    int         22\n",
      "total_value     int         112\n",
      "v               int         7\n",
      "x               int         7\n"
     ]
    }
   ],
   "source": [
    "%whos"
   ]
  },
  {
   "cell_type": "code",
   "execution_count": 374,
   "metadata": {},
   "outputs": [
    {
     "name": "stdout",
     "output_type": "stream",
     "text": [
      "Value: Hello, Type: <class 'str'>, Id: 2094355405680\n"
     ]
    }
   ],
   "source": [
    "object_info(\"Hello\")"
   ]
  },
  {
   "cell_type": "code",
   "execution_count": 375,
   "metadata": {},
   "outputs": [
    {
     "name": "stdout",
     "output_type": "stream",
     "text": [
      "Value: 1, Type: <class 'int'>, Id: 2094269622576\n",
      "Value: 2.0, Type: <class 'float'>, Id: 2094385659248\n",
      "Value: Hello, Type: <class 'str'>, Id: 2094355405680\n",
      "Value: True, Type: <class 'bool'>, Id: 140727708473448\n",
      "Value: [1, 2, 3], Type: <class 'list'>, Id: 2094386530688\n",
      "Value: (1, 2, 3), Type: <class 'tuple'>, Id: 2094385932928\n",
      "Value: {'a': 1, 'b': 2}, Type: <class 'dict'>, Id: 2094385451712\n",
      "Value: None, Type: <class 'NoneType'>, Id: 140727708523736\n"
     ]
    }
   ],
   "source": [
    "objects = [1, 2.0, \"Hello\", 10>5, [1,2,3], \n",
    "           (1,2,3), {\"a\":1, \"b\":2}, None]\n",
    "\n",
    "for obj in objects:\n",
    "    object_info(obj)\n"
   ]
  },
  {
   "cell_type": "markdown",
   "metadata": {},
   "source": [
    "What did we do here?\n",
    "\n",
    "We made a list of objects in variable \"objects\". In Python you can make a list with different object types.\n",
    "\n",
    "We loop over each object in the list and for each object we call the function \"object_info\" that prints out the info.\n"
   ]
  },
  {
   "cell_type": "code",
   "execution_count": 376,
   "metadata": {},
   "outputs": [
    {
     "data": {
      "text/plain": [
       "'Python'"
      ]
     },
     "execution_count": 376,
     "metadata": {},
     "output_type": "execute_result"
    }
   ],
   "source": [
    "text"
   ]
  },
  {
   "cell_type": "markdown",
   "metadata": {},
   "source": [
    "Function \"object_info\" is a void function. It means the function has no output, no returned value.\n",
    "\n",
    "We can also define a function with mutiple input parameters and a returned value.\n",
    "\n",
    "In this context we call \"a,b\" the input parameters of function \"add\" and we call \"10,5\" the arguments with which the function is called."
   ]
  },
  {
   "cell_type": "code",
   "execution_count": 377,
   "metadata": {},
   "outputs": [
    {
     "name": "stdout",
     "output_type": "stream",
     "text": [
      "108\n"
     ]
    }
   ],
   "source": [
    "def add (a, b):\n",
    "    return a+b\n",
    "\n",
    "print(add(100,8))"
   ]
  },
  {
   "cell_type": "code",
   "execution_count": 378,
   "metadata": {},
   "outputs": [
    {
     "name": "stdout",
     "output_type": "stream",
     "text": [
      "92\n"
     ]
    }
   ],
   "source": [
    "def sub (a, b):\n",
    "    return a-b\n",
    "\n",
    "print(sub(100,8))"
   ]
  },
  {
   "cell_type": "markdown",
   "metadata": {},
   "source": [
    "### Getting help on objects"
   ]
  },
  {
   "cell_type": "markdown",
   "metadata": {},
   "source": [
    "As a programmer you don't have know all the functionalities of each object by heart. You just have to know how to look it up. There are these built-in functions that provide you with information whenever needed.\n",
    "\n",
    "help() for documentation\n",
    "\n",
    "dir() for the available methods\n",
    "\n",
    "isinstance() to check if your object is an instance of a class"
   ]
  },
  {
   "cell_type": "code",
   "execution_count": 379,
   "metadata": {},
   "outputs": [
    {
     "name": "stdout",
     "output_type": "stream",
     "text": [
      "\n",
      "Welcome to Python 3.9's help utility!\n",
      "\n",
      "If this is your first time using Python, you should definitely check out\n",
      "the tutorial on the Internet at https://docs.python.org/3.9/tutorial/.\n",
      "\n",
      "Enter the name of any module, keyword, or topic to get help on writing\n",
      "Python programs and using Python modules.  To quit this help utility and\n",
      "return to the interpreter, just type \"quit\".\n",
      "\n",
      "To get a list of available modules, keywords, symbols, or topics, type\n",
      "\"modules\", \"keywords\", \"symbols\", or \"topics\".  Each module also comes\n",
      "with a one-line summary of what it does; to list the modules whose name\n",
      "or summary contain a given string such as \"spam\", type \"modules spam\".\n",
      "\n",
      "help> \n",
      "\n",
      "You are now leaving help and returning to the Python interpreter.\n",
      "If you want to ask for help on a particular object directly from the\n",
      "interpreter, you can type \"help(object)\".  Executing \"help('string')\"\n",
      "has the same effect as typing a particular string at the help> prompt.\n"
     ]
    }
   ],
   "source": [
    "help()"
   ]
  },
  {
   "cell_type": "code",
   "execution_count": 384,
   "metadata": {},
   "outputs": [
    {
     "data": {
      "text/plain": [
       "['__add__',\n",
       " '__class__',\n",
       " '__contains__',\n",
       " '__delattr__',\n",
       " '__dir__',\n",
       " '__doc__',\n",
       " '__eq__',\n",
       " '__format__',\n",
       " '__ge__',\n",
       " '__getattribute__',\n",
       " '__getitem__',\n",
       " '__getnewargs__',\n",
       " '__gt__',\n",
       " '__hash__',\n",
       " '__init__',\n",
       " '__init_subclass__',\n",
       " '__iter__',\n",
       " '__le__',\n",
       " '__len__',\n",
       " '__lt__',\n",
       " '__mod__',\n",
       " '__mul__',\n",
       " '__ne__',\n",
       " '__new__',\n",
       " '__reduce__',\n",
       " '__reduce_ex__',\n",
       " '__repr__',\n",
       " '__rmod__',\n",
       " '__rmul__',\n",
       " '__setattr__',\n",
       " '__sizeof__',\n",
       " '__str__',\n",
       " '__subclasshook__',\n",
       " 'capitalize',\n",
       " 'casefold',\n",
       " 'center',\n",
       " 'count',\n",
       " 'encode',\n",
       " 'endswith',\n",
       " 'expandtabs',\n",
       " 'find',\n",
       " 'format',\n",
       " 'format_map',\n",
       " 'index',\n",
       " 'isalnum',\n",
       " 'isalpha',\n",
       " 'isascii',\n",
       " 'isdecimal',\n",
       " 'isdigit',\n",
       " 'isidentifier',\n",
       " 'islower',\n",
       " 'isnumeric',\n",
       " 'isprintable',\n",
       " 'isspace',\n",
       " 'istitle',\n",
       " 'isupper',\n",
       " 'join',\n",
       " 'ljust',\n",
       " 'lower',\n",
       " 'lstrip',\n",
       " 'maketrans',\n",
       " 'partition',\n",
       " 'removeprefix',\n",
       " 'removesuffix',\n",
       " 'replace',\n",
       " 'rfind',\n",
       " 'rindex',\n",
       " 'rjust',\n",
       " 'rpartition',\n",
       " 'rsplit',\n",
       " 'rstrip',\n",
       " 'split',\n",
       " 'splitlines',\n",
       " 'startswith',\n",
       " 'strip',\n",
       " 'swapcase',\n",
       " 'title',\n",
       " 'translate',\n",
       " 'upper',\n",
       " 'zfill']"
      ]
     },
     "execution_count": 384,
     "metadata": {},
     "output_type": "execute_result"
    }
   ],
   "source": [
    "dir(text)"
   ]
  },
  {
   "cell_type": "code",
   "execution_count": null,
   "metadata": {},
   "outputs": [],
   "source": []
  },
  {
   "cell_type": "code",
   "execution_count": 385,
   "metadata": {},
   "outputs": [
    {
     "name": "stdout",
     "output_type": "stream",
     "text": [
      "Help on built-in function startswith:\n",
      "\n",
      "startswith(...) method of builtins.str instance\n",
      "    S.startswith(prefix[, start[, end]]) -> bool\n",
      "    \n",
      "    Return True if S starts with the specified prefix, False otherwise.\n",
      "    With optional start, test S beginning at that position.\n",
      "    With optional end, stop comparing S at that position.\n",
      "    prefix can also be a tuple of strings to try.\n",
      "\n"
     ]
    }
   ],
   "source": [
    "help(text.startswith)"
   ]
  },
  {
   "cell_type": "markdown",
   "metadata": {},
   "source": [
    "When you need certain string functionalities you can read through them."
   ]
  },
  {
   "cell_type": "code",
   "execution_count": 386,
   "metadata": {},
   "outputs": [
    {
     "data": {
      "text/plain": [
       "True"
      ]
     },
     "execution_count": 386,
     "metadata": {},
     "output_type": "execute_result"
    }
   ],
   "source": [
    "text.startswith(\"Pyth\") #text Python"
   ]
  },
  {
   "cell_type": "code",
   "execution_count": 387,
   "metadata": {},
   "outputs": [
    {
     "name": "stdout",
     "output_type": "stream",
     "text": [
      "Help on built-in function isinstance in module builtins:\n",
      "\n",
      "isinstance(obj, class_or_tuple, /)\n",
      "    Return whether an object is an instance of a class or of a subclass thereof.\n",
      "    \n",
      "    A tuple, as in ``isinstance(x, (A, B, ...))``, may be given as the target to\n",
      "    check against. This is equivalent to ``isinstance(x, A) or isinstance(x, B)\n",
      "    or ...`` etc.\n",
      "\n"
     ]
    }
   ],
   "source": [
    "help(isinstance)"
   ]
  },
  {
   "cell_type": "markdown",
   "metadata": {},
   "source": [
    "Let's say we want to determine if the string text starts with string 'Python'. \n",
    "\n",
    "We can use the dir() built-in function to list available methods. "
   ]
  },
  {
   "cell_type": "code",
   "execution_count": 388,
   "metadata": {},
   "outputs": [
    {
     "data": {
      "text/plain": [
       "['In',\n",
       " 'L',\n",
       " 'M',\n",
       " 'Out',\n",
       " '_',\n",
       " '_103',\n",
       " '_104',\n",
       " '_105',\n",
       " '_106',\n",
       " '_109',\n",
       " '_111',\n",
       " '_112',\n",
       " '_115',\n",
       " '_116',\n",
       " '_119',\n",
       " '_122',\n",
       " '_123',\n",
       " '_124',\n",
       " '_129',\n",
       " '_138',\n",
       " '_142',\n",
       " '_144',\n",
       " '_146',\n",
       " '_148',\n",
       " '_149',\n",
       " '_150',\n",
       " '_16',\n",
       " '_162',\n",
       " '_163',\n",
       " '_18',\n",
       " '_19',\n",
       " '_204',\n",
       " '_213',\n",
       " '_217',\n",
       " '_218',\n",
       " '_219',\n",
       " '_22',\n",
       " '_226',\n",
       " '_227',\n",
       " '_24',\n",
       " '_266',\n",
       " '_268',\n",
       " '_269',\n",
       " '_27',\n",
       " '_272',\n",
       " '_274',\n",
       " '_277',\n",
       " '_279',\n",
       " '_281',\n",
       " '_282',\n",
       " '_283',\n",
       " '_284',\n",
       " '_285',\n",
       " '_286',\n",
       " '_287',\n",
       " '_288',\n",
       " '_29',\n",
       " '_290',\n",
       " '_291',\n",
       " '_292',\n",
       " '_293',\n",
       " '_302',\n",
       " '_303',\n",
       " '_304',\n",
       " '_305',\n",
       " '_306',\n",
       " '_31',\n",
       " '_312',\n",
       " '_32',\n",
       " '_326',\n",
       " '_327',\n",
       " '_328',\n",
       " '_33',\n",
       " '_330',\n",
       " '_331',\n",
       " '_332',\n",
       " '_333',\n",
       " '_335',\n",
       " '_336',\n",
       " '_34',\n",
       " '_35',\n",
       " '_353',\n",
       " '_354',\n",
       " '_357',\n",
       " '_36',\n",
       " '_360',\n",
       " '_361',\n",
       " '_362',\n",
       " '_367',\n",
       " '_37',\n",
       " '_376',\n",
       " '_38',\n",
       " '_380',\n",
       " '_382',\n",
       " '_384',\n",
       " '_386',\n",
       " '_40',\n",
       " '_41',\n",
       " '_42',\n",
       " '_43',\n",
       " '_52',\n",
       " '_53',\n",
       " '_54',\n",
       " '_55',\n",
       " '_56',\n",
       " '_62',\n",
       " '_76',\n",
       " '_77',\n",
       " '_78',\n",
       " '_80',\n",
       " '_81',\n",
       " '_82',\n",
       " '_83',\n",
       " '_85',\n",
       " '_86',\n",
       " '__',\n",
       " '___',\n",
       " '__builtin__',\n",
       " '__builtins__',\n",
       " '__doc__',\n",
       " '__loader__',\n",
       " '__name__',\n",
       " '__package__',\n",
       " '__spec__',\n",
       " '_dh',\n",
       " '_i',\n",
       " '_i1',\n",
       " '_i10',\n",
       " '_i100',\n",
       " '_i101',\n",
       " '_i102',\n",
       " '_i103',\n",
       " '_i104',\n",
       " '_i105',\n",
       " '_i106',\n",
       " '_i107',\n",
       " '_i108',\n",
       " '_i109',\n",
       " '_i11',\n",
       " '_i110',\n",
       " '_i111',\n",
       " '_i112',\n",
       " '_i113',\n",
       " '_i114',\n",
       " '_i115',\n",
       " '_i116',\n",
       " '_i117',\n",
       " '_i118',\n",
       " '_i119',\n",
       " '_i12',\n",
       " '_i120',\n",
       " '_i121',\n",
       " '_i122',\n",
       " '_i123',\n",
       " '_i124',\n",
       " '_i125',\n",
       " '_i126',\n",
       " '_i127',\n",
       " '_i128',\n",
       " '_i129',\n",
       " '_i13',\n",
       " '_i130',\n",
       " '_i131',\n",
       " '_i132',\n",
       " '_i133',\n",
       " '_i134',\n",
       " '_i135',\n",
       " '_i136',\n",
       " '_i137',\n",
       " '_i138',\n",
       " '_i139',\n",
       " '_i14',\n",
       " '_i140',\n",
       " '_i141',\n",
       " '_i142',\n",
       " '_i143',\n",
       " '_i144',\n",
       " '_i145',\n",
       " '_i146',\n",
       " '_i147',\n",
       " '_i148',\n",
       " '_i149',\n",
       " '_i15',\n",
       " '_i150',\n",
       " '_i151',\n",
       " '_i152',\n",
       " '_i153',\n",
       " '_i154',\n",
       " '_i155',\n",
       " '_i156',\n",
       " '_i157',\n",
       " '_i158',\n",
       " '_i159',\n",
       " '_i16',\n",
       " '_i160',\n",
       " '_i161',\n",
       " '_i162',\n",
       " '_i163',\n",
       " '_i164',\n",
       " '_i165',\n",
       " '_i166',\n",
       " '_i167',\n",
       " '_i168',\n",
       " '_i169',\n",
       " '_i17',\n",
       " '_i170',\n",
       " '_i171',\n",
       " '_i172',\n",
       " '_i173',\n",
       " '_i174',\n",
       " '_i175',\n",
       " '_i176',\n",
       " '_i177',\n",
       " '_i178',\n",
       " '_i179',\n",
       " '_i18',\n",
       " '_i180',\n",
       " '_i181',\n",
       " '_i182',\n",
       " '_i183',\n",
       " '_i184',\n",
       " '_i185',\n",
       " '_i186',\n",
       " '_i187',\n",
       " '_i188',\n",
       " '_i189',\n",
       " '_i19',\n",
       " '_i190',\n",
       " '_i191',\n",
       " '_i192',\n",
       " '_i193',\n",
       " '_i194',\n",
       " '_i195',\n",
       " '_i196',\n",
       " '_i197',\n",
       " '_i198',\n",
       " '_i199',\n",
       " '_i2',\n",
       " '_i20',\n",
       " '_i200',\n",
       " '_i201',\n",
       " '_i202',\n",
       " '_i203',\n",
       " '_i204',\n",
       " '_i205',\n",
       " '_i206',\n",
       " '_i207',\n",
       " '_i208',\n",
       " '_i209',\n",
       " '_i21',\n",
       " '_i210',\n",
       " '_i211',\n",
       " '_i212',\n",
       " '_i213',\n",
       " '_i214',\n",
       " '_i215',\n",
       " '_i216',\n",
       " '_i217',\n",
       " '_i218',\n",
       " '_i219',\n",
       " '_i22',\n",
       " '_i220',\n",
       " '_i221',\n",
       " '_i222',\n",
       " '_i223',\n",
       " '_i224',\n",
       " '_i225',\n",
       " '_i226',\n",
       " '_i227',\n",
       " '_i228',\n",
       " '_i229',\n",
       " '_i23',\n",
       " '_i230',\n",
       " '_i231',\n",
       " '_i232',\n",
       " '_i233',\n",
       " '_i234',\n",
       " '_i235',\n",
       " '_i236',\n",
       " '_i237',\n",
       " '_i238',\n",
       " '_i239',\n",
       " '_i24',\n",
       " '_i240',\n",
       " '_i241',\n",
       " '_i242',\n",
       " '_i243',\n",
       " '_i244',\n",
       " '_i245',\n",
       " '_i246',\n",
       " '_i247',\n",
       " '_i248',\n",
       " '_i249',\n",
       " '_i25',\n",
       " '_i250',\n",
       " '_i251',\n",
       " '_i252',\n",
       " '_i253',\n",
       " '_i254',\n",
       " '_i255',\n",
       " '_i256',\n",
       " '_i257',\n",
       " '_i258',\n",
       " '_i259',\n",
       " '_i26',\n",
       " '_i260',\n",
       " '_i261',\n",
       " '_i262',\n",
       " '_i263',\n",
       " '_i264',\n",
       " '_i265',\n",
       " '_i266',\n",
       " '_i267',\n",
       " '_i268',\n",
       " '_i269',\n",
       " '_i27',\n",
       " '_i270',\n",
       " '_i271',\n",
       " '_i272',\n",
       " '_i273',\n",
       " '_i274',\n",
       " '_i275',\n",
       " '_i276',\n",
       " '_i277',\n",
       " '_i278',\n",
       " '_i279',\n",
       " '_i28',\n",
       " '_i280',\n",
       " '_i281',\n",
       " '_i282',\n",
       " '_i283',\n",
       " '_i284',\n",
       " '_i285',\n",
       " '_i286',\n",
       " '_i287',\n",
       " '_i288',\n",
       " '_i289',\n",
       " '_i29',\n",
       " '_i290',\n",
       " '_i291',\n",
       " '_i292',\n",
       " '_i293',\n",
       " '_i294',\n",
       " '_i295',\n",
       " '_i296',\n",
       " '_i297',\n",
       " '_i298',\n",
       " '_i299',\n",
       " '_i3',\n",
       " '_i30',\n",
       " '_i300',\n",
       " '_i301',\n",
       " '_i302',\n",
       " '_i303',\n",
       " '_i304',\n",
       " '_i305',\n",
       " '_i306',\n",
       " '_i307',\n",
       " '_i308',\n",
       " '_i309',\n",
       " '_i31',\n",
       " '_i310',\n",
       " '_i311',\n",
       " '_i312',\n",
       " '_i313',\n",
       " '_i314',\n",
       " '_i315',\n",
       " '_i316',\n",
       " '_i317',\n",
       " '_i318',\n",
       " '_i319',\n",
       " '_i32',\n",
       " '_i320',\n",
       " '_i321',\n",
       " '_i322',\n",
       " '_i323',\n",
       " '_i324',\n",
       " '_i325',\n",
       " '_i326',\n",
       " '_i327',\n",
       " '_i328',\n",
       " '_i329',\n",
       " '_i33',\n",
       " '_i330',\n",
       " '_i331',\n",
       " '_i332',\n",
       " '_i333',\n",
       " '_i334',\n",
       " '_i335',\n",
       " '_i336',\n",
       " '_i337',\n",
       " '_i338',\n",
       " '_i339',\n",
       " '_i34',\n",
       " '_i340',\n",
       " '_i341',\n",
       " '_i342',\n",
       " '_i343',\n",
       " '_i344',\n",
       " '_i345',\n",
       " '_i346',\n",
       " '_i347',\n",
       " '_i348',\n",
       " '_i349',\n",
       " '_i35',\n",
       " '_i350',\n",
       " '_i351',\n",
       " '_i352',\n",
       " '_i353',\n",
       " '_i354',\n",
       " '_i355',\n",
       " '_i356',\n",
       " '_i357',\n",
       " '_i358',\n",
       " '_i359',\n",
       " '_i36',\n",
       " '_i360',\n",
       " '_i361',\n",
       " '_i362',\n",
       " '_i363',\n",
       " '_i364',\n",
       " '_i365',\n",
       " '_i366',\n",
       " '_i367',\n",
       " '_i368',\n",
       " '_i369',\n",
       " '_i37',\n",
       " '_i370',\n",
       " '_i371',\n",
       " '_i372',\n",
       " '_i373',\n",
       " '_i374',\n",
       " '_i375',\n",
       " '_i376',\n",
       " '_i377',\n",
       " '_i378',\n",
       " '_i379',\n",
       " '_i38',\n",
       " '_i380',\n",
       " '_i381',\n",
       " '_i382',\n",
       " '_i383',\n",
       " '_i384',\n",
       " '_i385',\n",
       " '_i386',\n",
       " '_i387',\n",
       " '_i388',\n",
       " '_i39',\n",
       " '_i4',\n",
       " '_i40',\n",
       " '_i41',\n",
       " '_i42',\n",
       " '_i43',\n",
       " '_i44',\n",
       " '_i45',\n",
       " '_i46',\n",
       " '_i47',\n",
       " '_i48',\n",
       " '_i49',\n",
       " '_i5',\n",
       " '_i50',\n",
       " '_i51',\n",
       " '_i52',\n",
       " '_i53',\n",
       " '_i54',\n",
       " '_i55',\n",
       " '_i56',\n",
       " '_i57',\n",
       " '_i58',\n",
       " '_i59',\n",
       " '_i6',\n",
       " '_i60',\n",
       " '_i61',\n",
       " '_i62',\n",
       " '_i63',\n",
       " '_i64',\n",
       " '_i65',\n",
       " '_i66',\n",
       " '_i67',\n",
       " '_i68',\n",
       " '_i69',\n",
       " '_i7',\n",
       " '_i70',\n",
       " '_i71',\n",
       " '_i72',\n",
       " '_i73',\n",
       " '_i74',\n",
       " '_i75',\n",
       " '_i76',\n",
       " '_i77',\n",
       " '_i78',\n",
       " '_i79',\n",
       " '_i8',\n",
       " '_i80',\n",
       " '_i81',\n",
       " '_i82',\n",
       " '_i83',\n",
       " '_i84',\n",
       " '_i85',\n",
       " '_i86',\n",
       " '_i87',\n",
       " '_i88',\n",
       " '_i89',\n",
       " '_i9',\n",
       " '_i90',\n",
       " '_i91',\n",
       " '_i92',\n",
       " '_i93',\n",
       " '_i94',\n",
       " '_i95',\n",
       " '_i96',\n",
       " '_i97',\n",
       " '_i98',\n",
       " '_i99',\n",
       " '_ih',\n",
       " '_ii',\n",
       " '_iii',\n",
       " '_oh',\n",
       " 'a',\n",
       " 'add',\n",
       " 'age',\n",
       " 'amount_frozen',\n",
       " 'amount_total',\n",
       " 'answer',\n",
       " 'b',\n",
       " 'bigger',\n",
       " 'block_list',\n",
       " 'both_ends',\n",
       " 'c',\n",
       " 'contains',\n",
       " 'count_uneven',\n",
       " 'd',\n",
       " 'donuts',\n",
       " 'e',\n",
       " 'exit',\n",
       " 'get_ipython',\n",
       " 'group_size',\n",
       " 'groups',\n",
       " 'hour',\n",
       " 'ice_block',\n",
       " 'ice_flake',\n",
       " 'leftovers',\n",
       " 'list',\n",
       " 'max_number',\n",
       " 'max_value',\n",
       " 'n',\n",
       " 'name',\n",
       " 'num',\n",
       " 'number',\n",
       " 'numbers',\n",
       " 'numbers_chain',\n",
       " 'obj',\n",
       " 'object_info',\n",
       " 'objects',\n",
       " 'people',\n",
       " 'pointer',\n",
       " 'prices',\n",
       " 'quit',\n",
       " 'second',\n",
       " 'show_name',\n",
       " 'starts_with_B',\n",
       " 'sub',\n",
       " 'test',\n",
       " 'text',\n",
       " 'total',\n",
       " 'total_even',\n",
       " 'total_uneven',\n",
       " 'total_value',\n",
       " 'v',\n",
       " 'x']"
      ]
     },
     "execution_count": 388,
     "metadata": {},
     "output_type": "execute_result"
    }
   ],
   "source": [
    "dir()"
   ]
  },
  {
   "cell_type": "markdown",
   "metadata": {},
   "source": [
    "**Question:** Which function can help us to see if text starts with \"Python\"\n",
    "<br>\n",
    "**Answer:**"
   ]
  },
  {
   "cell_type": "markdown",
   "metadata": {},
   "source": [
    "Now let's get a description on that method."
   ]
  },
  {
   "cell_type": "code",
   "execution_count": null,
   "metadata": {},
   "outputs": [],
   "source": []
  },
  {
   "cell_type": "code",
   "execution_count": null,
   "metadata": {},
   "outputs": [],
   "source": []
  },
  {
   "cell_type": "markdown",
   "metadata": {},
   "source": [
    "We can check wheter variable \"text\" is a string."
   ]
  },
  {
   "cell_type": "code",
   "execution_count": 389,
   "metadata": {},
   "outputs": [
    {
     "data": {
      "text/plain": [
       "False"
      ]
     },
     "execution_count": 389,
     "metadata": {},
     "output_type": "execute_result"
    }
   ],
   "source": [
    "isinstance(text,int) #check type"
   ]
  },
  {
   "cell_type": "code",
   "execution_count": 390,
   "metadata": {},
   "outputs": [
    {
     "data": {
      "text/plain": [
       "True"
      ]
     },
     "execution_count": 390,
     "metadata": {},
     "output_type": "execute_result"
    }
   ],
   "source": [
    "isinstance(text, str)"
   ]
  },
  {
   "cell_type": "markdown",
   "metadata": {},
   "source": [
    "We can also check if an object is either int or float."
   ]
  },
  {
   "cell_type": "code",
   "execution_count": 391,
   "metadata": {},
   "outputs": [
    {
     "name": "stdout",
     "output_type": "stream",
     "text": [
      "Help on built-in function isinstance in module builtins:\n",
      "\n",
      "isinstance(obj, class_or_tuple, /)\n",
      "    Return whether an object is an instance of a class or of a subclass thereof.\n",
      "    \n",
      "    A tuple, as in ``isinstance(x, (A, B, ...))``, may be given as the target to\n",
      "    check against. This is equivalent to ``isinstance(x, A) or isinstance(x, B)\n",
      "    or ...`` etc.\n",
      "\n"
     ]
    }
   ],
   "source": [
    "help(isinstance)"
   ]
  },
  {
   "cell_type": "code",
   "execution_count": 392,
   "metadata": {},
   "outputs": [
    {
     "name": "stdout",
     "output_type": "stream",
     "text": [
      "True\n",
      "False\n"
     ]
    }
   ],
   "source": [
    "number = 10.0 #float\n",
    "\n",
    "print(isinstance(number,(int,float))) #OR True\n",
    "print(isinstance(number,(str,int)))"
   ]
  },
  {
   "cell_type": "markdown",
   "metadata": {
    "toc-hr-collapsed": false
   },
   "source": [
    "### Summary Objects"
   ]
  },
  {
   "cell_type": "markdown",
   "metadata": {},
   "source": [
    "> #### object\n",
    "Everything in Python is objects. An object has a unique id() and a value. The value always has type(). You can check whether the object is of a certain type with isinstance(). There is help() for document and dir() for a list of the methods of the object.\n",
    "```python\n",
    "text = \"hello\"\n",
    "id(text)\n",
    "type(text)\n",
    "isinstance(text, str)\n",
    "help(str)\n",
    "dir(text)\n",
    "```"
   ]
  },
  {
   "cell_type": "markdown",
   "metadata": {},
   "source": [
    "> #### function\n",
    "A block of code that can be reused. The code inside the function is execute when the function is called. A function can take input arguments and can return a value.\n",
    "```python\n",
    "def greet(name):\n",
    "    print(\"Hello there:\", name)\n",
    "greet(\"Jeremy\")\n",
    "```\n",
    "\n",
    ">```python\n",
    "def add_numbers(a, b):\n",
    "    return a+b\n",
    "add_numbers(a,b)\n",
    "```"
   ]
  },
  {
   "cell_type": "markdown",
   "metadata": {},
   "source": [
    "> #### method\n",
    "Function within an object/class.\n",
    "```python\n",
    "str.format\n",
    "```"
   ]
  },
  {
   "cell_type": "markdown",
   "metadata": {},
   "source": [
    "> #### int\n",
    "Integer. Round number.\n",
    "```python\n",
    "number = 10\n",
    "```"
   ]
  },
  {
   "cell_type": "markdown",
   "metadata": {},
   "source": [
    "> #### float\n",
    "Float. Decimal number.\n",
    "```python\n",
    "number = 10.1234\n",
    "round(number)\n",
    "round(number, 2)\n",
    "```"
   ]
  },
  {
   "cell_type": "markdown",
   "metadata": {},
   "source": [
    "> #### str\n",
    "String. A sequence of characters. The str class provides many methods with functionalities. The str is an immutable object.\n",
    "```python\n",
    "text = \"Python is nice.\"\n",
    "text[0]\n",
    "text[-3:]\n",
    "\"yes\"+\"no\"\n",
    "\"Name: {}, Grade: {}\".format(\"Jeremy\", 10)\n",
    "text.startswith(\"Python\")\n",
    "\"yth\" in text\n",
    "```"
   ]
  },
  {
   "cell_type": "markdown",
   "metadata": {},
   "source": [
    "> #### bool\n",
    "Boolean. Either True or False. The outcome of a condition.\n",
    "```python\n",
    "True\n",
    "False\n",
    "10 != 15\n",
    "10 > 5 and 10 > 12\n",
    "10 > 5 or 10 > 12\n",
    "not 10 > 5\n",
    "```"
   ]
  },
  {
   "cell_type": "markdown",
   "metadata": {},
   "source": [
    "> #### list\n",
    "List. A sequence of items. The str class provides many methods with functionalities. The list is a mutable object.\n",
    "```python\n",
    "numbers = [1,2,3,4]\n",
    "numbers[0]\n",
    "numbers[-1]\n",
    "numbers[0] = 100\n",
    "```"
   ]
  },
  {
   "cell_type": "markdown",
   "metadata": {},
   "source": [
    "> #### tuple\n",
    "Tuple. A sequence of items. The tuple is an immutable object. It has no flexibility and less functionality than a list but it is more efficient.\n",
    "```python\n",
    "numbers = (1,2,3)\n",
    "numbers[0]\n",
    "numbers[-1]\n",
    "```"
   ]
  },
  {
   "cell_type": "markdown",
   "metadata": {},
   "source": [
    "> #### dict\n",
    "Dictionary. A collection of key-value pairs. Used to look up things. The dict class provides many functionalities. The dict is a mutable object.\n",
    "```python\n",
    "prices = {\"apple\": 1.5, \"orange\":3.5, \"banana\":2.5}\n",
    "prices[\"orange\"]\n",
    "```"
   ]
  },
  {
   "cell_type": "markdown",
   "metadata": {},
   "source": [
    "> #### None\n",
    "NoneType. An empty value. You can initaliaze a variable with a None value.\n",
    "```python\n",
    "your_var = None\n",
    "```"
   ]
  },
  {
   "cell_type": "markdown",
   "metadata": {
    "toc-hr-collapsed": false
   },
   "source": [
    "### RUN ME\n",
    "\n",
    "Please run the below code snippet. It is required for running tests for your solution."
   ]
  },
  {
   "cell_type": "code",
   "execution_count": 393,
   "metadata": {},
   "outputs": [],
   "source": [
    "def test(got, expected):\n",
    "    if got == expected:\n",
    "        prefix = ' OK '\n",
    "    else:\n",
    "        prefix = '  FAIL '\n",
    "    print(('%s got: %s expected: %s' % (prefix, repr(got), repr(expected))))"
   ]
  },
  {
   "cell_type": "code",
   "execution_count": 394,
   "metadata": {},
   "outputs": [
    {
     "name": "stdout",
     "output_type": "stream",
     "text": [
      "  FAIL  got: 'a' expected: 'ab'\n",
      " OK  got: 'a' expected: 'a'\n"
     ]
    }
   ],
   "source": [
    "test('a', 'ab')\n",
    "test('a', 'a')"
   ]
  },
  {
   "cell_type": "markdown",
   "metadata": {
    "toc-hr-collapsed": false
   },
   "source": [
    "### Practice Exercise together"
   ]
  },
  {
   "cell_type": "markdown",
   "metadata": {},
   "source": [
    "#### Practice Exercise 1 - Starts with B\n",
    "\n",
    "Determine if a string starts with \"B\" and return True/False."
   ]
  },
  {
   "cell_type": "code",
   "execution_count": 395,
   "metadata": {},
   "outputs": [
    {
     "data": {
      "text/plain": [
       "False"
      ]
     },
     "execution_count": 395,
     "metadata": {},
     "output_type": "execute_result"
    }
   ],
   "source": [
    "text = \"Joyce\"\n",
    "text.startswith(\"B\")\n",
    "\n",
    "#\"yth\" in text"
   ]
  },
  {
   "cell_type": "code",
   "execution_count": 396,
   "metadata": {},
   "outputs": [
    {
     "name": "stdout",
     "output_type": "stream",
     "text": [
      "starts_with_b\n",
      " OK  got: True expected: True\n",
      " OK  got: False expected: False\n"
     ]
    }
   ],
   "source": [
    "def starts_with_B(text):\n",
    "    ## your code\n",
    "    return text.startswith(\"B\") #put return at front\n",
    "    \n",
    "    \n",
    "print(\"starts_with_b\")\n",
    "test(starts_with_B(\"Boyce\"), True)\n",
    "test(starts_with_B(\"Joyce\"), False)"
   ]
  },
  {
   "cell_type": "markdown",
   "metadata": {},
   "source": [
    "Here is a tip you may use.\n",
    "\n",
    "Sometimes it is useful to solve the problem first in a separate cell and then fill it into the function.\n",
    "\n",
    "- make a variable called text and fill in for example \"Boyce\"\n",
    "- check if \"Boyce\" starts with \"B\"\n",
    "- if that works fill in the function\n",
    "- make sure the tests work to succeed the exercise"
   ]
  },
  {
   "cell_type": "code",
   "execution_count": null,
   "metadata": {},
   "outputs": [],
   "source": []
  },
  {
   "cell_type": "markdown",
   "metadata": {},
   "source": [
    "Now we can fill in the function above so that the tests run successfully."
   ]
  },
  {
   "cell_type": "code",
   "execution_count": null,
   "metadata": {},
   "outputs": [],
   "source": []
  },
  {
   "cell_type": "markdown",
   "metadata": {
    "toc-hr-collapsed": false
   },
   "source": [
    "### Exercises"
   ]
  },
  {
   "cell_type": "markdown",
   "metadata": {},
   "source": [
    "#### Exercise 1 - My name is\n",
    "\n",
    "Return a formatted string that says \"My name is [name]\""
   ]
  },
  {
   "cell_type": "code",
   "execution_count": 397,
   "metadata": {},
   "outputs": [
    {
     "name": "stdout",
     "output_type": "stream",
     "text": [
      "my_name_is\n",
      "My name is Ting\n",
      "  FAIL  got: None expected: 'My name is Ting'\n",
      "My name is Chong\n",
      "  FAIL  got: None expected: 'My name is Chong'\n"
     ]
    }
   ],
   "source": [
    "def show_name(name):\n",
    "    ## your code\n",
    "    return print(\"My name is\", name) #takyah put print?\n",
    "\n",
    "print(\"my_name_is\")\n",
    "test(show_name(\"Ting\"), \"My name is Ting\")\n",
    "test(show_name(\"Chong\"), \"My name is Chong\")"
   ]
  },
  {
   "cell_type": "code",
   "execution_count": 398,
   "metadata": {},
   "outputs": [
    {
     "name": "stdout",
     "output_type": "stream",
     "text": [
      "my_name_is\n",
      " OK  got: 'My name is Ting' expected: 'My name is Ting'\n",
      " OK  got: 'My name is Chong' expected: 'My name is Chong'\n"
     ]
    }
   ],
   "source": [
    "def show_name(name):\n",
    "    ## your code\n",
    "    name=\"My name is \"+name #takyah put print?\n",
    "    return name\n",
    "\n",
    "print(\"my_name_is\")\n",
    "test(show_name(\"Ting\"), \"My name is Ting\")\n",
    "test(show_name(\"Chong\"), \"My name is Chong\")"
   ]
  },
  {
   "cell_type": "code",
   "execution_count": 399,
   "metadata": {},
   "outputs": [
    {
     "name": "stdout",
     "output_type": "stream",
     "text": [
      "my_name_is\n",
      "My name is Ting\n",
      "  FAIL  got: None expected: 'My name is Ting'\n",
      "My name is Chong\n",
      "  FAIL  got: None expected: 'My name is Chong'\n"
     ]
    }
   ],
   "source": [
    "def show_name(name):\n",
    "    ## your code\n",
    "    return print(\"My name is {}\".format(name)) #takyah put print?\n",
    "\n",
    "print(\"my_name_is\")\n",
    "test(show_name(\"Ting\"), \"My name is Ting\")\n",
    "test(show_name(\"Chong\"), \"My name is Chong\")"
   ]
  },
  {
   "cell_type": "code",
   "execution_count": 400,
   "metadata": {},
   "outputs": [
    {
     "name": "stdout",
     "output_type": "stream",
     "text": [
      "my_name_is\n",
      " OK  got: 'My name is Ting' expected: 'My name is Ting'\n",
      " OK  got: 'My name is Chong' expected: 'My name is Chong'\n"
     ]
    }
   ],
   "source": [
    "def show_name(name):\n",
    "    ## your code\n",
    "    return (\"My name is {}\".format(name)) #takyah put print?\n",
    "\n",
    "print(\"my_name_is\")\n",
    "test(show_name(\"Ting\"), \"My name is Ting\")\n",
    "test(show_name(\"Chong\"), \"My name is Chong\")"
   ]
  },
  {
   "cell_type": "markdown",
   "metadata": {},
   "source": [
    "#### Exercise 2 - Count occurences\n",
    "\n",
    "Define a function which checks how many times string `a` occurs in string `b`. Make it case insensitive. Return a string that says \"The occurence is: [number]\" where [number] is the occurence.\n",
    "\n",
    "Hint: help(str.lower), help(str.count)"
   ]
  },
  {
   "cell_type": "code",
   "execution_count": 401,
   "metadata": {},
   "outputs": [
    {
     "name": "stdout",
     "output_type": "stream",
     "text": [
      "Help on method_descriptor:\n",
      "\n",
      "lower(self, /)\n",
      "    Return a copy of the string converted to lowercase.\n",
      "\n"
     ]
    }
   ],
   "source": [
    "help(str.lower)"
   ]
  },
  {
   "cell_type": "code",
   "execution_count": 402,
   "metadata": {},
   "outputs": [
    {
     "name": "stdout",
     "output_type": "stream",
     "text": [
      "Help on method_descriptor:\n",
      "\n",
      "count(...)\n",
      "    S.count(sub[, start[, end]]) -> int\n",
      "    \n",
      "    Return the number of non-overlapping occurrences of substring sub in\n",
      "    string S[start:end].  Optional arguments start and end are\n",
      "    interpreted as in slice notation.\n",
      "\n"
     ]
    }
   ],
   "source": [
    "help(str.count)"
   ]
  },
  {
   "cell_type": "code",
   "execution_count": 403,
   "metadata": {
    "scrolled": false
   },
   "outputs": [
    {
     "ename": "TypeError",
     "evalue": "descriptor 'count' for 'str' objects doesn't apply to a 'bool' object",
     "output_type": "error",
     "traceback": [
      "\u001b[1;31m---------------------------------------------------------------------------\u001b[0m",
      "\u001b[1;31mTypeError\u001b[0m                                 Traceback (most recent call last)",
      "Input \u001b[1;32mIn [403]\u001b[0m, in \u001b[0;36m<cell line: 6>\u001b[1;34m()\u001b[0m\n\u001b[0;32m      3\u001b[0m     number\u001b[38;5;241m=\u001b[39m \u001b[38;5;28mstr\u001b[39m\u001b[38;5;241m.\u001b[39mcount(\u001b[38;5;28mstr\u001b[39m\u001b[38;5;241m.\u001b[39mlower(a) \u001b[38;5;129;01min\u001b[39;00m b)\n\u001b[0;32m      4\u001b[0m     \u001b[38;5;28;01mreturn\u001b[39;00m (\u001b[38;5;124m\"\u001b[39m\u001b[38;5;124mThe occurence is: \u001b[39m\u001b[38;5;124m\"\u001b[39m, [number])\n\u001b[1;32m----> 6\u001b[0m \u001b[43mcontains\u001b[49m\u001b[43m(\u001b[49m\u001b[38;5;124;43m\"\u001b[39;49m\u001b[38;5;124;43mThis is Python!\u001b[39;49m\u001b[38;5;124;43m\"\u001b[39;49m\u001b[43m,\u001b[49m\u001b[38;5;124;43m\"\u001b[39;49m\u001b[38;5;124;43mIS\u001b[39;49m\u001b[38;5;124;43m\"\u001b[39;49m\u001b[43m)\u001b[49m\n",
      "Input \u001b[1;32mIn [403]\u001b[0m, in \u001b[0;36mcontains\u001b[1;34m(a, b)\u001b[0m\n\u001b[0;32m      1\u001b[0m \u001b[38;5;28;01mdef\u001b[39;00m \u001b[38;5;21mcontains\u001b[39m(a, b):\n\u001b[0;32m      2\u001b[0m     \u001b[38;5;66;03m## your code\u001b[39;00m\n\u001b[1;32m----> 3\u001b[0m     number\u001b[38;5;241m=\u001b[39m \u001b[38;5;28;43mstr\u001b[39;49m\u001b[38;5;241;43m.\u001b[39;49m\u001b[43mcount\u001b[49m\u001b[43m(\u001b[49m\u001b[38;5;28;43mstr\u001b[39;49m\u001b[38;5;241;43m.\u001b[39;49m\u001b[43mlower\u001b[49m\u001b[43m(\u001b[49m\u001b[43ma\u001b[49m\u001b[43m)\u001b[49m\u001b[43m \u001b[49m\u001b[38;5;129;43;01min\u001b[39;49;00m\u001b[43m \u001b[49m\u001b[43mb\u001b[49m\u001b[43m)\u001b[49m\n\u001b[0;32m      4\u001b[0m     \u001b[38;5;28;01mreturn\u001b[39;00m (\u001b[38;5;124m\"\u001b[39m\u001b[38;5;124mThe occurence is: \u001b[39m\u001b[38;5;124m\"\u001b[39m, [number])\n",
      "\u001b[1;31mTypeError\u001b[0m: descriptor 'count' for 'str' objects doesn't apply to a 'bool' object"
     ]
    }
   ],
   "source": [
    "def contains(a, b):\n",
    "    ## your code\n",
    "    number= str.count(str.lower(a) in b)\n",
    "    return (\"The occurence is: \", [number])\n",
    "\n",
    "contains(\"This is Python!\",\"IS\")"
   ]
  },
  {
   "cell_type": "code",
   "execution_count": 404,
   "metadata": {},
   "outputs": [
    {
     "data": {
      "text/plain": [
       "('The occurence is ', 2)"
      ]
     },
     "execution_count": 404,
     "metadata": {},
     "output_type": "execute_result"
    }
   ],
   "source": [
    "def contains(a, b):\n",
    "    ## your code\n",
    "    number= a.lower().count(b.lower())\n",
    "    return \"The occurence is \", number\n",
    "            \n",
    "contains(\"This is Python!\",\"IS\")"
   ]
  },
  {
   "cell_type": "code",
   "execution_count": 405,
   "metadata": {},
   "outputs": [],
   "source": [
    "# MC answer\n",
    "\n",
    "def contains(a, b):\n",
    "    occurence = a.lower().count(b.lower())\n",
    "    return \"The occurence is {}\".format(occurence)"
   ]
  },
  {
   "cell_type": "code",
   "execution_count": 406,
   "metadata": {},
   "outputs": [],
   "source": [
    "# MC\n",
    "## alternative answer\n",
    "\n",
    "def contains(a, b):\n",
    "    occurence = a.upper().count(b.upper())\n",
    "    return \"The occurence is \" + str(occurence)"
   ]
  },
  {
   "cell_type": "code",
   "execution_count": 407,
   "metadata": {},
   "outputs": [
    {
     "name": "stdout",
     "output_type": "stream",
     "text": [
      "has_string\n",
      " OK  got: 'The occurence is 2' expected: 'The occurence is 2'\n",
      " OK  got: 'The occurence is 12' expected: 'The occurence is 12'\n"
     ]
    }
   ],
   "source": [
    "def contains(a, b):\n",
    "    ## your code\n",
    "    number= a.lower().count(b.lower())\n",
    "    return \"The occurence is \"+ str(number)\n",
    "\n",
    "print(\"has_string\")\n",
    "test(contains(\"This is Python!\",\"IS\"), \"The occurence is 2\")\n",
    "test(contains(\"AAAAh aaaaa aaayooo\",\"a\"), \"The occurence is 12\")"
   ]
  },
  {
   "cell_type": "markdown",
   "metadata": {},
   "source": [
    "#### Exercise 3 - Bigger\n",
    "\n",
    "Determine if a is bigger than b."
   ]
  },
  {
   "cell_type": "code",
   "execution_count": 408,
   "metadata": {},
   "outputs": [
    {
     "name": "stdout",
     "output_type": "stream",
     "text": [
      " OK  got: False expected: False\n",
      " OK  got: False expected: False\n",
      " OK  got: True expected: True\n"
     ]
    }
   ],
   "source": [
    "def bigger(a,b):\n",
    "    ## your code\n",
    "      return a>b\n",
    "    \n",
    "test(bigger(1,2), False)\n",
    "test(bigger(1,1), False)\n",
    "test(bigger(2,1), True)"
   ]
  },
  {
   "cell_type": "code",
   "execution_count": 409,
   "metadata": {},
   "outputs": [
    {
     "name": "stdout",
     "output_type": "stream",
     "text": [
      " OK  got: False expected: False\n",
      " OK  got: False expected: False\n",
      " OK  got: True expected: True\n"
     ]
    }
   ],
   "source": [
    "def bigger(a,b):\n",
    "    ## your code\n",
    "    if a>b:\n",
    "        return True\n",
    "    else:\n",
    "        return False\n",
    "    \n",
    "test(bigger(1,2), False)\n",
    "test(bigger(1,1), False)\n",
    "test(bigger(2,1), True)"
   ]
  },
  {
   "cell_type": "code",
   "execution_count": null,
   "metadata": {},
   "outputs": [],
   "source": []
  },
  {
   "cell_type": "markdown",
   "metadata": {},
   "source": [
    "#### Exercise 4 - Donuts\n",
    "\n",
    "Return a string of the form \"Number of donuts: [count]\". However if the count is 10 or more, then use the word 'many'. So donut(5) returns 'Number of donuts: 5'. And donut(23) returns 'Number of donuts: many'\n",
    "\n",
    "Hints: You may use if-else and string formatting."
   ]
  },
  {
   "cell_type": "code",
   "execution_count": 410,
   "metadata": {},
   "outputs": [
    {
     "name": "stdout",
     "output_type": "stream",
     "text": [
      "donuts\n",
      " OK  got: 'Number of donuts: 4' expected: 'Number of donuts: 4'\n",
      " OK  got: 'Number of donuts: 9' expected: 'Number of donuts: 9'\n",
      " OK  got: 'Number of donuts: many' expected: 'Number of donuts: many'\n",
      " OK  got: 'Number of donuts: many' expected: 'Number of donuts: many'\n",
      " OK  got: 'Number of donuts: illogical' expected: 'Number of donuts: illogical'\n",
      " OK  got: 'Number of donuts: illogical' expected: 'Number of donuts: illogical'\n",
      " OK  got: 'Number of donuts: many' expected: 'Number of donuts: many'\n"
     ]
    }
   ],
   "source": [
    "def donuts(count):\n",
    "    ## your code\n",
    "    if   0<count<10 :\n",
    "        return \"Number of donuts: \" + str(count)\n",
    "    elif count >=10:\n",
    "        return \"Number of donuts: many\"\n",
    "    else:\n",
    "        return \"Number of donuts: illogical\"\n",
    "\n",
    "print(\"donuts\")\n",
    "test(donuts(4), 'Number of donuts: 4')\n",
    "test(donuts(9), 'Number of donuts: 9')\n",
    "test(donuts(10), 'Number of donuts: many')\n",
    "test(donuts(99), 'Number of donuts: many')\n",
    "test(donuts(-3), 'Number of donuts: illogical')\n",
    "test(donuts(-100), 'Number of donuts: illogical')\n",
    "test(donuts(500), 'Number of donuts: many')"
   ]
  },
  {
   "cell_type": "code",
   "execution_count": null,
   "metadata": {},
   "outputs": [],
   "source": []
  },
  {
   "cell_type": "markdown",
   "metadata": {},
   "source": [
    "#### Exercise 5 - Both ends\n",
    "\n",
    "Given a string `s`, return a string made of the first 2 and the last 2 chars of the original string. So <font style=\"font-family:courier\" color=#b82327>'spring'</font> yields <font style=\"font-family:courier\" color=#b82327>'spng'</font>. However, if the string length is less than 2, return instead an empty string <font style=\"font-family:courier\" color=#b82327>''</font>.\n",
    "\n",
    "Hints: you may use <font style=\"font-family:courier\" color=green><strong>if</strong></font>-<font style=\"font-family:courier\" color=green><strong>else</strong></font>, string slicing and concatenating with <font style=\"font-family:courier\" color=purple><strong>+</strong></font>"
   ]
  },
  {
   "cell_type": "code",
   "execution_count": 411,
   "metadata": {},
   "outputs": [
    {
     "ename": "IndentationError",
     "evalue": "expected an indented block (2475560088.py, line 5)",
     "output_type": "error",
     "traceback": [
      "\u001b[1;36m  Input \u001b[1;32mIn [411]\u001b[1;36m\u001b[0m\n\u001b[1;33m    print('both_ends')\u001b[0m\n\u001b[1;37m    ^\u001b[0m\n\u001b[1;31mIndentationError\u001b[0m\u001b[1;31m:\u001b[0m expected an indented block\n"
     ]
    }
   ],
   "source": [
    "def both_ends(s):\n",
    "    ## your code\n",
    "\n",
    "\n",
    "print('both_ends')\n",
    "    \n",
    "test(both_ends('spring'), 'spng')\n",
    "test(both_ends('Hello'), 'Helo')\n",
    "test(both_ends('a'), '')\n",
    "test(both_ends('xyz'), 'xyyz')"
   ]
  },
  {
   "cell_type": "code",
   "execution_count": 424,
   "metadata": {},
   "outputs": [
    {
     "name": "stdout",
     "output_type": "stream",
     "text": [
      "both_ends\n",
      " OK  got: 'spng' expected: 'spng'\n",
      " OK  got: 'Helo' expected: 'Helo'\n",
      " OK  got: '' expected: ''\n",
      " OK  got: 'xyyz' expected: 'xyyz'\n"
     ]
    }
   ],
   "source": [
    "def both_ends(s):\n",
    "    \n",
    "    if len(s)>2:\n",
    "        return s[0:2] + s[-2:]\n",
    "    else:\n",
    "        return ''\n",
    "        \n",
    "\n",
    "print('both_ends')\n",
    "    \n",
    "test(both_ends('spring'), 'spng')\n",
    "test(both_ends('Hello'), 'Helo')\n",
    "test(both_ends('a'), '')\n",
    "test(both_ends('xyz'), 'xyyz')"
   ]
  },
  {
   "cell_type": "markdown",
   "metadata": {},
   "source": [
    "#### Exercise 6 - Fix start\n",
    "\n",
    "Given a string `s`, return a string where all occurences of its first char have been changed to <font style=\"font-family:courier\" color=#b82327>'\\*'</font>, except do not change the first char itself. So <font style=\"font-family:courier\" color=#b82327>'babble'</font>, yields <font style=\"font-family:courier\" color=#b82327>'ba\\*\\*le'</font>.\n",
    "\n",
    "Hints: check <font style=\"font-family:courier\"><font color=green>help</font>(<font color=green>str</font>.replace)</font>, string indexing, string slicing, string concatenation"
   ]
  },
  {
   "cell_type": "markdown",
   "metadata": {},
   "source": [
    "|P|y|t|h|o|n|\n",
    "|--:|--:|--:|--:|--:|--:|\n",
    "|0|1|2|3|4|5|\n",
    "|-6|-5|-4|-3|-2|-1|\n"
   ]
  },
  {
   "cell_type": "code",
   "execution_count": 352,
   "metadata": {},
   "outputs": [
    {
     "name": "stdout",
     "output_type": "stream",
     "text": [
      "Pyt\n",
      "Pyt\n",
      "hon\n",
      "thon\n",
      "yt\n",
      "Python\n"
     ]
    }
   ],
   "source": [
    "print(text[0:3]) #start 0, until before 3\n",
    "print(text[:3]) #by default start from 0, until before 3\n",
    "print(text[3:]) #start from 3 till end\n",
    "print(text[-4:]) #start -4 till end\n",
    "print(text[1:3]) #from 1, till before 3\n",
    "print(text[:]) #all"
   ]
  },
  {
   "cell_type": "code",
   "execution_count": 425,
   "metadata": {},
   "outputs": [
    {
     "name": "stdout",
     "output_type": "stream",
     "text": [
      "Help on method_descriptor:\n",
      "\n",
      "replace(self, old, new, count=-1, /)\n",
      "    Return a copy with all occurrences of substring old replaced by new.\n",
      "    \n",
      "      count\n",
      "        Maximum number of occurrences to replace.\n",
      "        -1 (the default value) means replace all occurrences.\n",
      "    \n",
      "    If the optional argument count is given, only the first count occurrences are\n",
      "    replaced.\n",
      "\n"
     ]
    }
   ],
   "source": [
    " help(str.replace)"
   ]
  },
  {
   "cell_type": "code",
   "execution_count": 435,
   "metadata": {},
   "outputs": [
    {
     "name": "stdout",
     "output_type": "stream",
     "text": [
      "\n",
      "fix_start\n",
      "  FAIL  got: 'b*a**le' expected: 'ba**le'\n",
      "  FAIL  got: 'a**rdv*rk' expected: 'a*rdv*rk'\n",
      "  FAIL  got: 'g*oo*le' expected: 'goo*le'\n",
      "  FAIL  got: 'd*onut' expected: 'donut'\n"
     ]
    }
   ],
   "source": [
    "def fix_start(s):\n",
    "    ## your code\n",
    "    first_char=s[0:1]\n",
    "    babble=s.replace(first_char,'*')\n",
    "    return str(first_char) + str(babble)\n",
    "\n",
    "print()\n",
    "print('fix_start')\n",
    "test(fix_start('babble'), 'ba**le')\n",
    "test(fix_start('aardvark'), 'a*rdv*rk')\n",
    "test(fix_start('google'), 'goo*le')\n",
    "test(fix_start('donut'), 'donut')"
   ]
  },
  {
   "cell_type": "code",
   "execution_count": 438,
   "metadata": {},
   "outputs": [
    {
     "name": "stdout",
     "output_type": "stream",
     "text": [
      "\n",
      "fix_start\n",
      " OK  got: 'ba**le' expected: 'ba**le'\n",
      " OK  got: 'a*rdv*rk' expected: 'a*rdv*rk'\n",
      " OK  got: 'goo*le' expected: 'goo*le'\n",
      " OK  got: 'donut' expected: 'donut'\n"
     ]
    }
   ],
   "source": [
    "def fix_start(s):\n",
    "    ## your code\n",
    "    first_char=s[0:1]\n",
    "    babble=s.replace(first_char,'*')\n",
    "    return str(first_char) + str(babble[1:])\n",
    "\n",
    "print()\n",
    "print('fix_start')\n",
    "test(fix_start('babble'), 'ba**le')\n",
    "test(fix_start('aardvark'), 'a*rdv*rk')\n",
    "test(fix_start('google'), 'goo*le')\n",
    "test(fix_start('donut'), 'donut')"
   ]
  },
  {
   "cell_type": "code",
   "execution_count": 440,
   "metadata": {},
   "outputs": [
    {
     "name": "stdout",
     "output_type": "stream",
     "text": [
      "\n",
      "fix_start\n",
      " OK  got: 'ba**le' expected: 'ba**le'\n",
      " OK  got: 'a*rdv*rk' expected: 'a*rdv*rk'\n",
      " OK  got: 'goo*le' expected: 'goo*le'\n",
      " OK  got: 'donut' expected: 'donut'\n"
     ]
    }
   ],
   "source": [
    "# MC answer\n",
    "## alternative\n",
    "\n",
    "def fix_start(s):\n",
    "    start_char = s[0]\n",
    "    rest_char = s[1:].replace(start_char, \"*\") #replace start from index 1\n",
    "    return start_char + rest_char\n",
    "\n",
    "print()\n",
    "print('fix_start')\n",
    "test(fix_start('babble'), 'ba**le')\n",
    "test(fix_start('aardvark'), 'a*rdv*rk')\n",
    "test(fix_start('google'), 'goo*le')\n",
    "test(fix_start('donut'), 'donut')"
   ]
  },
  {
   "cell_type": "markdown",
   "metadata": {},
   "source": [
    "#### Exercise 7 - Mix up\n",
    "\n",
    "Given strings `a` and `b`, return a single string with `a` and `b` separated by a space <font style=\"font-family:courier\" color=#b82327>'`a` `b`'</font>, except swap the first 2 chars of each string.\n",
    "\n",
    "e.g.\n",
    "\n",
    "<font style=\"font-family:courier\" color=#b82327>'mix'</font>, <font style=\"font-family:courier\" color=#b82327>'pod'</font> &rarr; <font style=\"font-family:courier\" color=#b82327>'pox mid'</font>\n",
    "\n",
    "<font style=\"font-family:courier\" color=#b82327>'dog'</font>, <font style=\"font-family:courier\" color=#b82327>'dinner'</font> &rarr; <font style=\"font-family:courier\" color=#b82327>'dig donner'</font>"
   ]
  },
  {
   "cell_type": "code",
   "execution_count": 447,
   "metadata": {},
   "outputs": [
    {
     "name": "stdout",
     "output_type": "stream",
     "text": [
      "\n",
      "mix_up\n",
      " OK  got: 'pox mid' expected: 'pox mid'\n",
      " OK  got: 'dig donner' expected: 'dig donner'\n",
      " OK  got: 'spash gnort' expected: 'spash gnort'\n",
      " OK  got: 'fizzy perm' expected: 'fizzy perm'\n"
     ]
    }
   ],
   "source": [
    "def mix_up(a, b):\n",
    "    ## your code\n",
    "    a_new = b[0:2]+a[2:]\n",
    "    b_new = a[0:2]+b[2:]\n",
    "    return str(a_new) +\" \"+ str(b_new)\n",
    "\n",
    "print()\n",
    "print('mix_up')\n",
    "test(mix_up('mix', 'pod'), 'pox mid')\n",
    "test(mix_up('dog', 'dinner'), 'dig donner')\n",
    "test(mix_up('gnash', 'sport'), 'spash gnort')\n",
    "test(mix_up('pezzy', 'firm'), 'fizzy perm')"
   ]
  },
  {
   "cell_type": "code",
   "execution_count": 449,
   "metadata": {},
   "outputs": [
    {
     "name": "stdout",
     "output_type": "stream",
     "text": [
      "\n",
      "mix_up\n",
      " OK  got: 'pox mid' expected: 'pox mid'\n",
      " OK  got: 'dig donner' expected: 'dig donner'\n",
      " OK  got: 'spash gnort' expected: 'spash gnort'\n",
      " OK  got: 'fizzy perm' expected: 'fizzy perm'\n"
     ]
    }
   ],
   "source": [
    "# MC answer\n",
    "\n",
    "def mix_up(a, b):\n",
    "    a2 = b[:2] + a[2:]\n",
    "    b2 = a[:2] + b[2:]\n",
    "    return \"{} {}\".format(a2,b2)\n",
    "\n",
    "print()\n",
    "print('mix_up')\n",
    "test(mix_up('mix', 'pod'), 'pox mid')\n",
    "test(mix_up('dog', 'dinner'), 'dig donner')\n",
    "test(mix_up('gnash', 'sport'), 'spash gnort')\n",
    "test(mix_up('pezzy', 'firm'), 'fizzy perm')"
   ]
  },
  {
   "cell_type": "markdown",
   "metadata": {},
   "source": [
    "#### Exercise 8 - Verbing\n",
    "\n",
    "Given a string `s`, if its length is at least 3, add <font style=\"font-family:courier\" color=#b82327>'ing'</font> to its end. Unless it already ends in <font style=\"font-family:courier\" color=#b82327>'ing'</font>, in which case add <font style=\"font-family:courier\" color=#b82327>'ly'</font> instead. If the string length is less than 3, leave it unchanged. Return the resulting string.\n",
    "\n",
    "Hints: <font style=\"font-family:courier\" color=green><strong>if else</strong></font>, <font style=\"font-family:courier\"><font color=green>len</font>()</font>, <font style=\"font-family:courier\"><font color=green>help</font>(<font color=green>str</font>.endswith)</font>, string concatenation"
   ]
  },
  {
   "cell_type": "code",
   "execution_count": 457,
   "metadata": {},
   "outputs": [
    {
     "name": "stdout",
     "output_type": "stream",
     "text": [
      "verbing\n",
      " OK  got: 'hailing' expected: 'hailing'\n",
      " OK  got: 'swimingly' expected: 'swimingly'\n",
      " OK  got: 'do' expected: 'do'\n",
      " OK  got: 'falling' expected: 'falling'\n",
      " OK  got: 'smoothingly' expected: 'smoothingly'\n"
     ]
    }
   ],
   "source": [
    "# text.startswith(\"B\")\n",
    "def verbing(s):\n",
    "    ## your code\n",
    "    if len(s)>=3:\n",
    "        if s.endswith(\"ing\"):\n",
    "            return str(s)+ \"ly\"\n",
    "        else:\n",
    "            return str(s)+ \"ing\"\n",
    "         \n",
    "    else:\n",
    "        return s\n",
    "\n",
    "print('verbing')\n",
    "test(verbing('hail'), 'hailing')\n",
    "test(verbing('swiming'), 'swimingly')\n",
    "test(verbing('do'), 'do')\n",
    "test(verbing('fall'), 'falling')\n",
    "test(verbing('smoothing'), 'smoothingly')"
   ]
  },
  {
   "cell_type": "code",
   "execution_count": null,
   "metadata": {},
   "outputs": [],
   "source": [
    "def verbing(s):\n",
    "    ## your code\n",
    "\n",
    "print('verbing')\n",
    "test(verbing('hail'), 'hailing')\n",
    "test(verbing('swiming'), 'swimingly')\n",
    "test(verbing('do'), 'do')"
   ]
  },
  {
   "cell_type": "markdown",
   "metadata": {},
   "source": [
    "#### Exercise 9 - Weekend\n",
    "\n",
    "Define a procedure weekend which takes a string as input and returns the <font style=\"font-family:courier\" color=green><strong>True</strong></font> if it's <font style=\"font-family:courier\" color=#b82327>'Saturday'</font> <font style=\"font-family:courier\" color=green><strong>or</strong></font> <font style=\"font-family:courier\" color=#b82327>'Sunday'</font> and <font style=\"font-family:courier\" color=green><strong>False</strong></font> otherwise."
   ]
  },
  {
   "cell_type": "code",
   "execution_count": 467,
   "metadata": {},
   "outputs": [
    {
     "name": "stdout",
     "output_type": "stream",
     "text": [
      "weekend\n",
      " OK  got: True expected: True\n",
      " OK  got: True expected: True\n",
      " OK  got: False expected: False\n"
     ]
    }
   ],
   "source": [
    "def weekend(day):\n",
    "    ## your code\n",
    "    if day == 'Saturday':\n",
    "        return True\n",
    "    elif day == 'Sunday':\n",
    "        return True\n",
    "    else:\n",
    "        return False\n",
    "    \n",
    "\n",
    "print('weekend')\n",
    "test(weekend(\"Saturday\"), True)\n",
    "test(weekend(\"Sunday\"), True)\n",
    "test(weekend(\"Monday\"), False)"
   ]
  },
  {
   "cell_type": "code",
   "execution_count": 479,
   "metadata": {},
   "outputs": [
    {
     "name": "stdout",
     "output_type": "stream",
     "text": [
      "weekend\n",
      " OK  got: True expected: True\n",
      " OK  got: True expected: True\n",
      " OK  got: False expected: False\n"
     ]
    }
   ],
   "source": [
    "def weekend(day):\n",
    "    ## your code\n",
    "    if day == 'Saturday' or day == 'Sunday':\n",
    "        return True\n",
    "    else:\n",
    "        return False\n",
    "    \n",
    "\n",
    "print('weekend')\n",
    "test(weekend(\"Saturday\"), True)\n",
    "test(weekend(\"Sunday\"), True)\n",
    "test(weekend(\"Monday\"), False)"
   ]
  },
  {
   "cell_type": "code",
   "execution_count": null,
   "metadata": {},
   "outputs": [],
   "source": []
  }
 ],
 "metadata": {
  "kernelspec": {
   "display_name": "Python 3 (ipykernel)",
   "language": "python",
   "name": "python3"
  },
  "language_info": {
   "codemirror_mode": {
    "name": "ipython",
    "version": 3
   },
   "file_extension": ".py",
   "mimetype": "text/x-python",
   "name": "python",
   "nbconvert_exporter": "python",
   "pygments_lexer": "ipython3",
   "version": "3.9.12"
  },
  "toc-autonumbering": false,
  "toc-showmarkdowntxt": false
 },
 "nbformat": 4,
 "nbformat_minor": 4
}
