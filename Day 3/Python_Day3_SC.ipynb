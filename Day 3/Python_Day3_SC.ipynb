{
 "cells": [
  {
   "cell_type": "markdown",
   "metadata": {},
   "source": [
    "<img src=\"../images/cads-logo.png\" style=\"height: 100px;\" align=left> <img src=\"../images/python-logo.png\" style=\"height: 100px;\" align=right>"
   ]
  },
  {
   "cell_type": "markdown",
   "metadata": {
    "toc-hr-collapsed": false
   },
   "source": [
    "# Python Fundamentals Day 3\n",
    "\n",
    "Welcome to Python Fundamentals Day 3.\n",
    "\n",
    "So what is on the menu for today? \n",
    "\n",
    "We start with reading and writing from files, learn how to transport data objects in the JSON format and how to browse the filesystem.\n",
    "\n",
    "Then we move to Exception handling. We learn about the different types of Exceptions, what they mean and how to resolve them. Then we learn how to handle Exceptions in our code using the try-except statement.\n",
    "\n",
    "Last but not least, we learn about Object Oriented Programming including class inheritance and how to define and use your own classes in your coding.\n",
    "\n",
    "Let's go!"
   ]
  },
  {
   "cell_type": "markdown",
   "metadata": {},
   "source": [
    "## Table of Contents\n",
    "\n",
    "- [File I/O](#File-I/O)\n",
    "    - [Reading and writing lines with open](#Reading-and-writing-lines-with-open)\n",
    "    - [JSON](#JSON)\n",
    "    - [File browsing with glob](#File-browsing-with-glob)\n",
    "    - [Summary](#Summary)\n",
    "        - [open](#open)\n",
    "        - [JSON](#JSON)\n",
    "        - [import](#import)\n",
    "        - [glob](#glob)\n",
    "    - [RUN ME](#RUN-ME)\n",
    "    - [Exercises](#Exercises)\n",
    "        - [Exercise 1 - Read in stocks](#Exercise-1---Read-in-stocks)\n",
    "        - [Exercise 2 - First ten names](#Exercise-2---First-ten-names)\n",
    "        - [Exercise 3 - Inc only](#Exercise-3---Inc-only)\n",
    "        - [Exercise 4 - Average PE](#Exercise-4---Average-PE)\n",
    "- [Exception Handling](#Exception-Handling)\n",
    "    - [Exceptions](#Exceptions)\n",
    "    - [Try except](#Try-except)\n",
    "    - [Summary](#Summary)\n",
    "        - [try except](#try-except)\n",
    "        - [try except else finally](#try-except-else-finally)\n",
    "    - [RUN ME](#RUN-ME)\n",
    "    - [Exercises](#Exercises)\n",
    "        - [Exercise 1 - Fix it Multiply](#Exercise-1---Fix-it-Multiply)\n",
    "        - [Exercise 2 - Fix it Numbers](#Exercise-2---Fix-it-Numbers)\n",
    "        - [Exercise 3 - Fix it Open](#Exercise-3---Fix-it-Open)\n",
    "        - [Exercise 4 - Try salaries](#Exercise-4---Try-salaries)\n",
    "- [Object Oriented Programming](#Object-Oriented-Programming)\n",
    "    - [Summary](#Summary)\n",
    "        - [class](#class)\n",
    "    - [RUN ME](#RUN-ME)\n",
    "    - [Exercises](#Exercises)\n",
    "        - [Exercise 1 - Get pokemon info](#Exercise-1---Get-pokemon-info)\n",
    "        - [Exercise 2 - Create a pokemon class](#Exercise-2---Create-a-pokemon-class)\n",
    "        - [Exercise 3 -  Load all pokemons](#Exercise-3----Load-all-pokemons)\n",
    "        - [Exercise 4 - Provide insights](#Exercise-4---Provide-insights)"
   ]
  },
  {
   "cell_type": "markdown",
   "metadata": {
    "toc-hr-collapsed": false
   },
   "source": [
    "## File I/O"
   ]
  },
  {
   "cell_type": "markdown",
   "metadata": {},
   "source": [
    "### Reading and writing lines with open"
   ]
  },
  {
   "cell_type": "markdown",
   "metadata": {},
   "source": [
    "Communicating with files is quite useful in programming.\n",
    "\n",
    "With the open() built-in function we can read, write and append to files.\n",
    "\n",
    "First check what is your working directory. You will be able to find the file that we will read and write there."
   ]
  },
  {
   "cell_type": "code",
   "execution_count": 1,
   "metadata": {},
   "outputs": [
    {
     "data": {
      "text/plain": [
       "'C:\\\\Users\\\\farah\\\\Downloads\\\\pawah\\\\DATA STAR\\\\Training Material Cohort 2 2022\\\\3 Python for Analytics (Basic)\\\\Day 3'"
      ]
     },
     "execution_count": 1,
     "metadata": {},
     "output_type": "execute_result"
    }
   ],
   "source": [
    "%pwd"
   ]
  },
  {
   "cell_type": "markdown",
   "metadata": {},
   "source": [
    "We now create a file object which we will use to write something to file."
   ]
  },
  {
   "cell_type": "code",
   "execution_count": 2,
   "metadata": {},
   "outputs": [
    {
     "data": {
      "text/plain": [
       "9"
      ]
     },
     "execution_count": 2,
     "metadata": {},
     "output_type": "execute_result"
    }
   ],
   "source": [
    "f= open('test.txt','w')\n",
    "f.write(\"Hey Farah\")"
   ]
  },
  {
   "cell_type": "markdown",
   "metadata": {},
   "source": [
    "Now check the file in your folder. Can you see Hey! in test.txt? \n",
    "\n",
    "No you cannot. Yet.."
   ]
  },
  {
   "cell_type": "code",
   "execution_count": 3,
   "metadata": {},
   "outputs": [],
   "source": [
    "f.close()"
   ]
  },
  {
   "cell_type": "markdown",
   "metadata": {},
   "source": [
    "Check test.txt again. \n",
    "\n",
    "Now it is there.\n",
    "\n",
    "So it is important to not forget to close the file object.\n",
    "\n",
    "There is an elegant construct for this. Let's try it."
   ]
  },
  {
   "cell_type": "code",
   "execution_count": 4,
   "metadata": {},
   "outputs": [],
   "source": [
    "with open('test2.txt','w') as f:\n",
    "    f.write(\"Hello\")"
   ]
  },
  {
   "cell_type": "markdown",
   "metadata": {},
   "source": [
    "Check again. Test test2.txt file is there.\n",
    "\n",
    "So what did we do here?\n",
    "\n",
    "open() returns a file object and it is commonly used with two arguments: open(file, mode)\n",
    "\n",
    "- file is a string containing the filename\n",
    "- mode describes in which way the file will be used: writing, reading, appending.\n",
    "\n",
    "mode can be:\n",
    "- `'r'` read (by default)\n",
    "- `'w'` write\n",
    "- `'a'` append\n",
    "\n",
    "Notice the fat-green with as statement. Within the with statement the file object will be available as f. After the statement the file object will be closed. "
   ]
  },
  {
   "cell_type": "code",
   "execution_count": 5,
   "metadata": {},
   "outputs": [
    {
     "name": "stdout",
     "output_type": "stream",
     "text": [
      "Hello\n"
     ]
    }
   ],
   "source": [
    "with open('test2.txt','r') as f:\n",
    "    print(f.read())"
   ]
  },
  {
   "cell_type": "code",
   "execution_count": 6,
   "metadata": {},
   "outputs": [],
   "source": [
    "with open('test2.txt', 'a') as f:\n",
    "    f.write(\"\\n\")\n",
    "    f.write(\"Hello!\")"
   ]
  },
  {
   "cell_type": "markdown",
   "metadata": {},
   "source": [
    "Now we can check the contents of the file using \n",
    "\n",
    "!cat -- for Mac / Linux users\n",
    "\n",
    "!type -- for Windows users"
   ]
  },
  {
   "cell_type": "code",
   "execution_count": 7,
   "metadata": {},
   "outputs": [
    {
     "name": "stdout",
     "output_type": "stream",
     "text": [
      "Hello\n",
      "Hello!\n"
     ]
    }
   ],
   "source": [
    "!type test2.txt"
   ]
  },
  {
   "cell_type": "markdown",
   "metadata": {},
   "source": [
    "Use **strip()** to remove all whitespace characters from the beginning and the end of the string."
   ]
  },
  {
   "cell_type": "code",
   "execution_count": 8,
   "metadata": {},
   "outputs": [
    {
     "data": {
      "text/plain": [
       "'The names are:\\n\\nJeremy\\nJan\\nAkmal'"
      ]
     },
     "execution_count": 8,
     "metadata": {},
     "output_type": "execute_result"
    }
   ],
   "source": [
    "text = \"\"\"\n",
    "The names are:\n",
    "\n",
    "Jeremy\n",
    "Jan\n",
    "Akmal\n",
    "\"\"\".strip()  #remove all jarak and senggang\n",
    "\n",
    "text"
   ]
  },
  {
   "cell_type": "code",
   "execution_count": 9,
   "metadata": {},
   "outputs": [
    {
     "data": {
      "text/plain": [
       "'..\\\\data\\\\names_raw.txt'"
      ]
     },
     "execution_count": 9,
     "metadata": {},
     "output_type": "execute_result"
    }
   ],
   "source": [
    "import os\n",
    "file_names = os.path.join(\"..\",\"data\", \"names_raw.txt\") \n",
    "file_names #os.path.join path"
   ]
  },
  {
   "cell_type": "markdown",
   "metadata": {},
   "source": [
    "The import statement allows you to import libraries which you can use. \n",
    "\n",
    "Here we use os.path.join to safely join the paths of the data folder and the names_raw. txt file so that it works for any operating system (Windows/Mac).\n",
    "\n",
    "You can iterate over the file object and do something line by line."
   ]
  },
  {
   "cell_type": "code",
   "execution_count": 10,
   "metadata": {},
   "outputs": [
    {
     "name": "stdout",
     "output_type": "stream",
     "text": [
      "The names are:\n",
      "\n",
      "\n",
      "\n",
      "Jeremy\n",
      "\n",
      "Narjes\n",
      "\n",
      "Amin\n"
     ]
    }
   ],
   "source": [
    "with open(file_names, 'r') as f:\n",
    "    for line in f:\n",
    "        print(line)\n",
    "        \n",
    "#with open('test2.txt','r') as f:\n",
    "#    print(f.read())"
   ]
  },
  {
   "cell_type": "markdown",
   "metadata": {},
   "source": [
    "Let's say now we want to transform this file into a list of names. "
   ]
  },
  {
   "cell_type": "markdown",
   "metadata": {},
   "source": [
    "**Question:** How can we transform this into a list of the names?\n"
   ]
  },
  {
   "cell_type": "markdown",
   "metadata": {},
   "source": [
    "Let's parse the contents of this file into a list of names."
   ]
  },
  {
   "cell_type": "code",
   "execution_count": 11,
   "metadata": {},
   "outputs": [
    {
     "data": {
      "text/plain": [
       "['Jeremy', 'Narjes', 'Amin']"
      ]
     },
     "execution_count": 11,
     "metadata": {},
     "output_type": "execute_result"
    }
   ],
   "source": [
    "with open(file_names, 'r') as f:\n",
    "    lines_list = []\n",
    "    for line in f:\n",
    "        lines_list.append(line.strip())\n",
    "        \n",
    "lines_list[2:] #index 0,1,2\n"
   ]
  },
  {
   "cell_type": "markdown",
   "metadata": {},
   "source": [
    "### JSON"
   ]
  },
  {
   "cell_type": "markdown",
   "metadata": {},
   "source": [
    "JSON (JavaScript Object Notation) is an open-standard format that uses human-readable text to transmit data objects consisting of attribute–value pairs. \n",
    "\n",
    "It is used often by API's (Application Programming Interface) to communicate data between programs or to commumnicate data between an applications and users.\n",
    "\n",
    "The notation is almost the same as the dictionary in Python except for:\n",
    "\n",
    "- JSON: **true/false** -- Python: **True/False**\n",
    "- JSON: **null** -- Python: **None**\n",
    "\n",
    "Here is an example JSON from [wikipedia](https://en.wikipedia.org/wiki/JSON#Data_types.2C_syntax_and_example)\n",
    "\n",
    "```json\n",
    "{\n",
    "  \"firstName\": \"John\",\n",
    "  \"lastName\": \"Smith\",\n",
    "  \"isAlive\": true,\n",
    "  \"age\": 25,\n",
    "  \"address\": {\n",
    "    \"streetAddress\": \"21 2nd Street\",\n",
    "    \"city\": \"New York\",\n",
    "    \"state\": \"NY\",\n",
    "    \"postalCode\": \"10021-3100\"\n",
    "  },\n",
    "  \"phoneNumbers\": [\n",
    "    {\n",
    "      \"type\": \"home\",\n",
    "      \"number\": \"212 555-1234\"\n",
    "    },\n",
    "    {\n",
    "      \"type\": \"office\",\n",
    "      \"number\": \"646 555-4567\"\n",
    "    },\n",
    "    {\n",
    "      \"type\": \"mobile\",\n",
    "      \"number\": \"123 456-7890\"\n",
    "    }\n",
    "  ],\n",
    "  \"children\": [],\n",
    "  \"spouse\": null\n",
    "}\n",
    "```"
   ]
  },
  {
   "cell_type": "markdown",
   "metadata": {},
   "source": [
    "First we import the json library to provide us with the functionality. "
   ]
  },
  {
   "cell_type": "code",
   "execution_count": 12,
   "metadata": {},
   "outputs": [],
   "source": [
    "import json"
   ]
  },
  {
   "cell_type": "markdown",
   "metadata": {},
   "source": [
    "We can transform a data object into a json string and transform it back. "
   ]
  },
  {
   "cell_type": "code",
   "execution_count": 13,
   "metadata": {},
   "outputs": [
    {
     "data": {
      "text/plain": [
       "{'name': 'Jeremy', 'grades': [10, 15], 'teacher': True, 'complaints': None}"
      ]
     },
     "execution_count": 13,
     "metadata": {},
     "output_type": "execute_result"
    }
   ],
   "source": [
    "#create dictionary\n",
    "\n",
    "data = {\"name\": \"Jeremy\", \n",
    "        \"grades\": [10, 15], \n",
    "        \"teacher\":True, \n",
    "        \"complaints\":None}\n",
    "data"
   ]
  },
  {
   "cell_type": "code",
   "execution_count": 14,
   "metadata": {},
   "outputs": [
    {
     "data": {
      "text/plain": [
       "'{\"name\": \"Jeremy\", \"grades\": [10, 15], \"teacher\": true, \"complaints\": null}'"
      ]
     },
     "execution_count": 14,
     "metadata": {},
     "output_type": "execute_result"
    }
   ],
   "source": [
    "#dump=save file, 'data',convert dict to json file format\n",
    "\n",
    "data_json = json.dumps(data) #save 'data' into json file\n",
    "data_json\n"
   ]
  },
  {
   "cell_type": "markdown",
   "metadata": {},
   "source": [
    "**Question:** Do you see the difference between a dictionary and a JSON?\n",
    "<br><br><br>\n",
    "**Notice the difference in <u>true</u> and <u>null</u>**. Also notice <u>the addidtional quotes at the start and the end as this is a string.</u>\n",
    "\n",
    "Now we del data. Then load it again from the JSON file."
   ]
  },
  {
   "cell_type": "code",
   "execution_count": 15,
   "metadata": {},
   "outputs": [],
   "source": [
    "del data"
   ]
  },
  {
   "cell_type": "code",
   "execution_count": 16,
   "metadata": {},
   "outputs": [
    {
     "ename": "NameError",
     "evalue": "name 'data' is not defined",
     "output_type": "error",
     "traceback": [
      "\u001b[1;31m---------------------------------------------------------------------------\u001b[0m",
      "\u001b[1;31mNameError\u001b[0m                                 Traceback (most recent call last)",
      "Input \u001b[1;32mIn [16]\u001b[0m, in \u001b[0;36m<cell line: 1>\u001b[1;34m()\u001b[0m\n\u001b[1;32m----> 1\u001b[0m \u001b[43mdata\u001b[49m\n",
      "\u001b[1;31mNameError\u001b[0m: name 'data' is not defined"
     ]
    }
   ],
   "source": [
    "data"
   ]
  },
  {
   "cell_type": "code",
   "execution_count": null,
   "metadata": {},
   "outputs": [],
   "source": [
    "#load data from json format, convert into dict\n",
    "\n",
    "data = json.loads(data_json) #load saved 'data' from json file\n",
    "data\n",
    "\n",
    "#look at different None null"
   ]
  },
  {
   "cell_type": "code",
   "execution_count": null,
   "metadata": {},
   "outputs": [],
   "source": [
    "data[\"name\"]"
   ]
  },
  {
   "cell_type": "code",
   "execution_count": 17,
   "metadata": {},
   "outputs": [
    {
     "ename": "NameError",
     "evalue": "name 'data' is not defined",
     "output_type": "error",
     "traceback": [
      "\u001b[1;31m---------------------------------------------------------------------------\u001b[0m",
      "\u001b[1;31mNameError\u001b[0m                                 Traceback (most recent call last)",
      "Input \u001b[1;32mIn [17]\u001b[0m, in \u001b[0;36m<cell line: 1>\u001b[1;34m()\u001b[0m\n\u001b[1;32m----> 1\u001b[0m \u001b[43mdata\u001b[49m[\u001b[38;5;124m\"\u001b[39m\u001b[38;5;124mgrades\u001b[39m\u001b[38;5;124m\"\u001b[39m]\n",
      "\u001b[1;31mNameError\u001b[0m: name 'data' is not defined"
     ]
    }
   ],
   "source": [
    "data[\"grades\"]"
   ]
  },
  {
   "cell_type": "markdown",
   "metadata": {},
   "source": [
    "Now we can dump and load data from text files that contain json directly."
   ]
  },
  {
   "cell_type": "code",
   "execution_count": 18,
   "metadata": {},
   "outputs": [],
   "source": [
    "data = [{'name': 'Jeremy', 'grades': [10, 15], 'teacher': True, 'complaints': None},\n",
    "        {'name': 'Amin', 'grades': [3, 4], 'teacher': True, 'complaints': \"Many\"},\n",
    "        {'name': 'Narjes', 'grades': [8, 13, 20], 'teacher': True, 'complaints': None},\n",
    "        {'name': 'Laleh', 'grades': [5, 5, 5], 'teacher': False, 'complaints': \"Many, so many!\"}\n",
    "       ]"
   ]
  },
  {
   "cell_type": "code",
   "execution_count": 19,
   "metadata": {},
   "outputs": [],
   "source": [
    "with open('cads.json', 'w') as f:\n",
    "    json.dump(data, f)\n"
   ]
  },
  {
   "cell_type": "markdown",
   "metadata": {},
   "source": [
    "Let's look at the resulting json file using !cat for Mac/Linux and !type for windows"
   ]
  },
  {
   "cell_type": "code",
   "execution_count": 20,
   "metadata": {},
   "outputs": [
    {
     "name": "stdout",
     "output_type": "stream",
     "text": [
      "[{\"name\": \"Jeremy\", \"grades\": [10, 15], \"teacher\": true, \"complaints\": null}, {\"name\": \"Amin\", \"grades\": [3, 4], \"teacher\": true, \"complaints\": \"Many\"}, {\"name\": \"Narjes\", \"grades\": [8, 13, 20], \"teacher\": true, \"complaints\": null}, {\"name\": \"Laleh\", \"grades\": [5, 5, 5], \"teacher\": false, \"complaints\": \"Many, so many!\"}]\n"
     ]
    }
   ],
   "source": [
    "!type cads.json"
   ]
  },
  {
   "cell_type": "markdown",
   "metadata": {},
   "source": [
    "##### "
   ]
  },
  {
   "cell_type": "code",
   "execution_count": 21,
   "metadata": {},
   "outputs": [
    {
     "ename": "NameError",
     "evalue": "name 'New_data' is not defined",
     "output_type": "error",
     "traceback": [
      "\u001b[1;31m---------------------------------------------------------------------------\u001b[0m",
      "\u001b[1;31mNameError\u001b[0m                                 Traceback (most recent call last)",
      "Input \u001b[1;32mIn [21]\u001b[0m, in \u001b[0;36m<cell line: 1>\u001b[1;34m()\u001b[0m\n\u001b[0;32m      1\u001b[0m \u001b[38;5;28;01mwith\u001b[39;00m \u001b[38;5;28mopen\u001b[39m(\u001b[38;5;124m'\u001b[39m\u001b[38;5;124mproduct.json\u001b[39m\u001b[38;5;124m'\u001b[39m, \u001b[38;5;124m'\u001b[39m\u001b[38;5;124mw\u001b[39m\u001b[38;5;124m'\u001b[39m) \u001b[38;5;28;01mas\u001b[39;00m f:\n\u001b[1;32m----> 2\u001b[0m     json\u001b[38;5;241m.\u001b[39mdump(\u001b[43mNew_data\u001b[49m, f)\n",
      "\u001b[1;31mNameError\u001b[0m: name 'New_data' is not defined"
     ]
    }
   ],
   "source": [
    "with open('product.json', 'w') as f:\n",
    "    json.dump(New_data, f)"
   ]
  },
  {
   "cell_type": "code",
   "execution_count": 22,
   "metadata": {},
   "outputs": [],
   "source": [
    "!type product.json"
   ]
  },
  {
   "cell_type": "markdown",
   "metadata": {},
   "source": [
    "Now we can load that data back into a dictionary"
   ]
  },
  {
   "cell_type": "code",
   "execution_count": null,
   "metadata": {},
   "outputs": [],
   "source": []
  },
  {
   "cell_type": "markdown",
   "metadata": {},
   "source": [
    "### File browsing with glob\n",
    "\n",
    "With glob you can easily list files and folders in a directory"
   ]
  },
  {
   "cell_type": "code",
   "execution_count": 23,
   "metadata": {},
   "outputs": [
    {
     "name": "stdout",
     "output_type": "stream",
     "text": [
      "..\\data\\folders\\base_one_file.txt\n",
      "..\\data\\folders\\base_two_file.txt\n"
     ]
    }
   ],
   "source": [
    "import glob\n",
    "\n",
    "folder = os.path.join(\"..\", \"data\", \"folders\")\n",
    "\n",
    "for filename in glob.glob('{}/*.txt'.format(folder)):\n",
    "    print(filename)"
   ]
  },
  {
   "cell_type": "markdown",
   "metadata": {},
   "source": [
    "And recursively."
   ]
  },
  {
   "cell_type": "code",
   "execution_count": 24,
   "metadata": {},
   "outputs": [
    {
     "name": "stdout",
     "output_type": "stream",
     "text": [
      "..\\data\\folders\\base_one_file.txt\n",
      "..\\data\\folders\\base_two_file.txt\n",
      "..\\data\\folders\\folder_1\\one_file.txt\n",
      "..\\data\\folders\\folder_1\\two_file.txt\n",
      "..\\data\\folders\\folder_2\\three_file.txt\n",
      "..\\data\\folders\\folder_3\\five_file.txt\n",
      "..\\data\\folders\\folder_3\\four_file.txt\n"
     ]
    }
   ],
   "source": [
    "import glob\n",
    "\n",
    "folder = os.path.join(\"..\", \"data\", \"folders\")\n",
    "\n",
    "for filename in glob.glob('{}/**/*.txt'.format(folder), recursive=True):\n",
    "    print(filename)\n",
    "    \n",
    "\n",
    "# recursive=True: it will check every single folder that we have in that file"
   ]
  },
  {
   "cell_type": "markdown",
   "metadata": {},
   "source": [
    "You can get the files in a list like this."
   ]
  },
  {
   "cell_type": "code",
   "execution_count": 25,
   "metadata": {},
   "outputs": [
    {
     "data": {
      "text/plain": [
       "['..\\\\data\\\\folders\\\\base_one_file.txt',\n",
       " '..\\\\data\\\\folders\\\\base_two_file.txt',\n",
       " '..\\\\data\\\\folders\\\\folder_1\\\\one_file.txt',\n",
       " '..\\\\data\\\\folders\\\\folder_1\\\\two_file.txt',\n",
       " '..\\\\data\\\\folders\\\\folder_2\\\\three_file.txt',\n",
       " '..\\\\data\\\\folders\\\\folder_3\\\\five_file.txt',\n",
       " '..\\\\data\\\\folders\\\\folder_3\\\\four_file.txt']"
      ]
     },
     "execution_count": 25,
     "metadata": {},
     "output_type": "execute_result"
    }
   ],
   "source": [
    "files = list(glob.glob('{}/**/*.txt'.format(folder), recursive=True))\n",
    "files\n"
   ]
  },
  {
   "cell_type": "markdown",
   "metadata": {},
   "source": [
    "### Summary"
   ]
  },
  {
   "cell_type": "markdown",
   "metadata": {},
   "source": [
    "> #### open\n",
    "Built-in function to open a file object to read/write/append to a file.\n",
    "```python\n",
    "with open('test.txt', 'w') as f:\n",
    "    f.write(\"Hello\")\n",
    "with open('test2.txt', 'r') as f:\n",
    "    data = f.readlines()\n",
    "with open('test2.txt', 'r') as f:\n",
    "    f.readline()\n",
    "    data = []\n",
    "    for line in f:\n",
    "        data.append(line)\n",
    "```"
   ]
  },
  {
   "cell_type": "markdown",
   "metadata": {},
   "source": [
    "> #### JSON\n",
    "JSON (JavaScript Object Notation) is an open-standard format that uses human-readable text to transmit data objects consisting of attribute–value pairs. Used often to communicate data with API's.\n",
    "```python\n",
    "import json\n",
    "json.dumps(data)\n",
    "json.loads(json_str)\n",
    "with open('data.json', 'w') as f:\n",
    "    json.dump(data, f)\n",
    "with open('data.json', 'r') as f:\n",
    "    data = json.load(f)\n",
    "```"
   ]
  },
  {
   "cell_type": "markdown",
   "metadata": {},
   "source": [
    "> #### import\n",
    "import libraries to use the functionality\n",
    "```python\n",
    "import json\n",
    "import os\n",
    "```"
   ]
  },
  {
   "cell_type": "markdown",
   "metadata": {},
   "source": [
    "> #### glob\n",
    "module that is used for file listing\n",
    "```python\n",
    "for filename in glob.glob('{}/*.txt'.format(folder_path)):\n",
    "    print(filename)\n",
    "for filename in glob.glob('{}/**/*.txt'.format(folder_path), recursive=True):\n",
    "    print(filename)\n",
    "```"
   ]
  },
  {
   "cell_type": "markdown",
   "metadata": {
    "toc-hr-collapsed": false
   },
   "source": [
    "### RUN ME\n",
    "\n",
    "Please run the below code snippet. It is required for running tests for your solution."
   ]
  },
  {
   "cell_type": "code",
   "execution_count": 26,
   "metadata": {},
   "outputs": [],
   "source": [
    "def test(got, expected):\n",
    "    if got == expected:\n",
    "        prefix = ' OK '\n",
    "    else:\n",
    "        prefix = '  FAIL '\n",
    "    print((f' {prefix} got: {got} expected: {expected}'))"
   ]
  },
  {
   "cell_type": "code",
   "execution_count": 27,
   "metadata": {},
   "outputs": [
    {
     "name": "stdout",
     "output_type": "stream",
     "text": [
      "   FAIL  got: a expected: ab\n",
      "  OK  got: a expected: a\n"
     ]
    }
   ],
   "source": [
    "test('a', 'ab')\n",
    "test('a', 'a')"
   ]
  },
  {
   "cell_type": "markdown",
   "metadata": {},
   "source": [
    "### Exercises"
   ]
  },
  {
   "cell_type": "markdown",
   "metadata": {},
   "source": [
    "#### Exercise 1 - Read in stocks\n",
    "\n",
    "Read in stocks data in \"data/stocks.json\" and store it into stocks.\n",
    "\n",
    "Each line of this file is a json object, but the whole file content is not a valid json object since the jsons are no separated by a comma and there is no extra brackets surrounding the jsons.\n",
    "\n",
    "So you need to read the file line by line and transform those strings into dict using json.loads.\n",
    "\n",
    "Store the dictionaries into stocks.\n",
    "\n",
    "Hints: import os, os.path.join, import json, json.loads"
   ]
  },
  {
   "cell_type": "code",
   "execution_count": 28,
   "metadata": {},
   "outputs": [
    {
     "name": "stdout",
     "output_type": "stream",
     "text": [
      "read_in_stocks\n",
      "  OK  got: 6756 expected: 6756\n",
      "  OK  got: <class 'dict'> expected: <class 'dict'>\n"
     ]
    }
   ],
   "source": [
    "## your code 2024\n",
    "import os\n",
    "import json\n",
    "\n",
    "stocks_file = os.path.join(\"..\",\"data\", \"stocks.json\") \n",
    "\n",
    "#with open('data.json', 'r') as f:\n",
    "#    data = json.load(f)\n",
    "#with open('test2.txt', 'r') as f:\n",
    "#    data = []\n",
    "#    for line in f:\n",
    "#        data.append(line)\n",
    "\n",
    "with open(stocks_file, 'r') as f:\n",
    "    stocks = []\n",
    "    for line in f:\n",
    "        stocks.append(json.loads(line)) #tmbh2 data bentuk json in stocks list\n",
    "        \n",
    "\n",
    "# TEST\n",
    "print(\"read_in_stocks\")\n",
    "test(len(stocks), 6756)\n",
    "test(type(stocks[0]), dict)"
   ]
  },
  {
   "cell_type": "code",
   "execution_count": 29,
   "metadata": {},
   "outputs": [
    {
     "name": "stdout",
     "output_type": "stream",
     "text": [
      "read_in_stocks\n",
      "  OK  got: 6756 expected: 6756\n",
      "  OK  got: <class 'dict'> expected: <class 'dict'>\n"
     ]
    }
   ],
   "source": [
    "## your code 2024\n",
    "import os\n",
    "import json\n",
    "\n",
    "stocks_file = os.path.join(\"..\",\"data\", \"stocks.json\") \n",
    "\n",
    "with open(stocks_file, 'r') as f:\n",
    "    stocks =[(json.loads(line)) for line in f]\n",
    "\n",
    "# TEST\n",
    "print(\"read_in_stocks\")\n",
    "test(len(stocks), 6756)\n",
    "test(type(stocks[0]), dict)"
   ]
  },
  {
   "cell_type": "code",
   "execution_count": 30,
   "metadata": {},
   "outputs": [
    {
     "name": "stdout",
     "output_type": "stream",
     "text": [
      "read_in_stocks\n",
      "  OK  got: 6756 expected: 6756\n",
      "  OK  got: <class 'dict'> expected: <class 'dict'>\n"
     ]
    }
   ],
   "source": [
    "#exercise 1 - farah\n",
    "\n",
    "import os\n",
    "import json\n",
    "\n",
    "stocks_file=os.path.join(\"..\",\"data\",\"stocks.json\")\n",
    "stocks = []\n",
    "\n",
    "#or with open(os.path.join(\"..\",\"data\",\"stocks.json\"),'r')\n",
    "\n",
    "with open(stocks_file,'r') as f: \n",
    "    for line in f:\n",
    "        stocks.append(json.loads(line))\n",
    "        \n",
    "# TEST\n",
    "print(\"read_in_stocks\")\n",
    "test(len(stocks), 6756)\n",
    "test(type(stocks[0]), dict)"
   ]
  },
  {
   "cell_type": "code",
   "execution_count": 31,
   "metadata": {},
   "outputs": [
    {
     "name": "stdout",
     "output_type": "stream",
     "text": [
      "read_in_stocks\n",
      "  OK  got: 6756 expected: 6756\n",
      "  OK  got: <class 'dict'> expected: <class 'dict'>\n"
     ]
    }
   ],
   "source": [
    "import os\n",
    "import json\n",
    "\n",
    "stocks_file=os.path.join(\"..\",\"data\",\"stocks.json\")\n",
    "stocks = []\n",
    "\n",
    "with open(stocks_file,'r') as f:\n",
    "    stocks = [json.loads(line) for line in f]\n",
    "        \n",
    "# TEST\n",
    "print(\"read_in_stocks\")\n",
    "test(len(stocks), 6756)\n",
    "test(type(stocks[0]), dict)"
   ]
  },
  {
   "cell_type": "markdown",
   "metadata": {},
   "source": [
    "#### Exercise 2 - First ten names\n",
    "\n",
    "What are the names of the first ten companies?\n",
    "\n",
    "Hints: inspect one dict to see which key contains the name."
   ]
  },
  {
   "cell_type": "code",
   "execution_count": 32,
   "metadata": {},
   "outputs": [
    {
     "name": "stdout",
     "output_type": "stream",
     "text": [
      "first_ten_names\n",
      "   FAIL  got: ['Agilent Technologies Inc.', 'Alcoa, Inc.', 'WCM/BNY Mellon Focused Growth ADR ETF', 'iShares MSCI AC Asia Information Tech', 'Altisource Asset Management Corporation', 'Atlantic American Corp.', \"Aaron's, Inc.\", 'Applied Optoelectronics, Inc.', 'AAON Inc.', 'Advance Auto Parts Inc.', 'Apple Inc.', 'American Assets Trust, Inc.', 'Almaden Minerals Ltd.', 'Advantage Oil & Gas Ltd.', 'Atlas Air Worldwide Holdings Inc.', 'iShares MSCI All Country Asia ex Jpn Idx', 'AllianceBernstein Holding L.P.', 'Abaxis Inc.', 'ABB Ltd.', 'AbbVie Inc.', 'AmerisourceBergen Corporation', 'Ameris Bancorp', 'Cambium Learning Group, Inc.', 'Advisory Board Co.', 'Arkansas Best Corporation', 'Asbury Automotive Group, Inc.', 'ARCA biopharma, Inc.', 'ABM Industries Inc.', 'American Bio Medica Corp.', 'Abiomed Inc.', 'Arbor Realty Trust Inc.', 'Abbott Laboratories', 'Autobytel Inc.', 'Companhia de Bebidas Das Americas (AMBEV)', 'Barrick Gold Corporation', 'ACADIA Pharmaceuticals, Inc.', 'American Capital, Ltd.', 'Arctic Cat Inc.', 'American Campus Communities Inc.', 'Accelrys Inc.', 'ACCO Brands Corporation', 'AdvisorShares Accuvest Global Opport ETF', 'ACE Limited', 'Aceto Corp.', 'Atlantic Coast Financial Corporation', 'Acorn Energy, Inc.', 'AllianceBernstein Income Fund, Inc.', 'Arch Capital Group Ltd.', 'Aluminum Corporation Of China Limited', 'Acadia Healthcare Company, Inc.', 'Achillion Pharmaceuticals, Inc.', 'Arch Coal Inc.', 'SPDR MSCI ACWI IMI', 'ACI Worldwide, Inc.', 'Axcelis Technologies Inc.', 'AECOM Technology Corporation', 'Access Midstream Partners, L.P.', 'Accenture plc', 'ACNB Corp.', 'Amcol International Corp.', 'Acorda Therapeutics, Inc.', 'Active Power Inc.', 'Ares Commercial Real Estate Corporation', 'AcelRx Pharmaceuticals, Inc.', 'Acasti Pharma Inc.', 'Actavis plc', 'Acacia Research Corporation', 'Actions Semiconductor Co., Ltd.', 'The Active Network, Inc.', 'Acme United Corp.', 'Acura Pharmaceuticals Inc.', 'Accuride Corp.', 'iShares MSCI ACWI Index', 'iShares MSCI ACWI ex US Index', 'Acxiom Corporation', 'AeroCentury Corp.', 'Authentidate Holding Corp.', 'Adobe Systems Inc.', 'Agree Realty Corp.', 'Adept Technology Inc.', 'ADA-ES, Inc.', 'American DG Energy, Inc.', 'Alcobra Ltd.', 'Analog Devices Inc.', 'AdCare Health Systems Inc.', 'Archer Daniels Midland Company', 'Audience, Inc.', 'Automatic Data Processing, Inc.', 'BLDRS Asia 50 ADR Index', 'BLDRS Developed Markets 100 ADR Index', 'BLDRS Emerging Markets 50 ADR Index', 'BLDRS Europe 100 ADR Index', 'Alliance Data Systems Corporation', 'Autodesk, Inc.', 'The ADT Corporation', 'ADTRAN Inc.', 'Addus HomeCare Corp.', 'Advent Software, Inc.', 'The Adams Express Company', 'Advaxis, Inc.', 'PowerShares DB Agriculture Short ETN', 'Adams Resources & Energy Inc.', 'Associated Estates Realty Corp.', 'Ameren Corporation', 'AEGON N.V.', 'Aegion Corporation', 'Aegerion Pharmaceuticals, Inc.', 'Aehr Test Systems', 'Advanced Energy Industries, Inc.', 'American Equity Investment Life Holding Co.', 'Agnico-Eagle Mines Ltd.', 'American Eagle Outfitters, Inc.', 'American Electric Power Co., Inc.', 'AEP Industries Inc.', 'AerCap Holdings N.V.', 'Applied Energetics, Inc.', 'Aerie Pharmaceuticals, Inc.', 'Advanced Environmental Recycling Technologies, Inc.', 'The AES Corporation', 'Aetna Inc.', 'American Electric Technologies, Inc', 'ADDvantage Technologies Group Inc.', 'AEterna Zentaris Inc. (USA)', 'Astoria Financial Corporation', 'Almost Family Inc.', 'AllianceBernstein National Municipal Income Fund, Inc', 'Athens Bancshares Corporation', 'AFC Enterprises Inc.', 'Affirmative Insurance Holdings Inc.', 'Affymetrix Inc.', 'Affymax, Inc.', 'American Financial Group Inc.', 'Atlas Financial Holdings, Inc.', 'Market Vectors Africa Index ETF', 'AFLAC Inc.', 'Alliance Fiber Optic Products Inc.', 'AmTrust Financial Services, Inc.', 'First Majestic Silver Corp.', 'PowerShares DB Agriculture Dble Shrt ETN', 'AGCO Corporation', 'Alpine Global Dynamic Dividend Fund', 'Agenus Inc.', 'PowerShares DB Agriculture Long ETN', 'iShares Barclays Aggregate Bond', 'Alamos Gold Inc.', 'Argo Group International Holdings, Ltd.', 'Agios Pharmaceuticals, Inc.', 'Accuvest Global Long Short ETF', 'Federal Agricultural Mortgage Corp.', 'Allergan Inc.', 'American Capital Agency Corp.', 'Assured Guaranty Ltd.', 'ProShares Ultra Silver', 'Adecoagro S.A.', 'Agrium Inc.', 'Argan, Inc.', 'Agilysys Inc.', 'iShares Barclays Agency Bond', 'Accretive Health, Inc.', 'A. H. Belo Corporation', 'Alliance Holdings GP, L.P.', 'Armada Hoffler Properties Inc', 'Aspen Insurance Holdings Ltd.', 'Allied Healthcare Products Inc.', 'AMN Healthcare Services Inc.', 'Ashford Hospitality Trust Inc.', 'Arlington Asset Investment Corp.', 'iShares S&P Asia 50 Index', 'American International Group, Inc.', 'Altra Holdings, Inc.', 'Albany International Corp.', 'Apollo Investment Corporation', 'Alliance Healthcare Services, Inc.', 'AAR Corp.', 'Air Industries Group', 'Air Methods Corp.', 'Air T Inc.', 'Applied Industrial Technologies, Inc.', 'Apartment Investment & Management Co.', 'Aixtron SE', 'Assurant Inc.', 'Arthur J Gallagher & Co.', 'Akamai Technologies, Inc.', 'Asanko Gold Inc.', 'Embotelladora Andina S.A.', 'Embotelladora Andina S.A.', 'Alliance California Municipal Income Fund Inc.', 'Acadia Realty Trust', 'Akorn, Inc.', 'AK Steel Holding Corporation', 'Air Lease Corporation', 'Alanco Technologies Inc.', 'Albemarle Corp.', 'Alico Inc.', 'ALCO Stores, Inc.', 'WisdomTree Asia Local Debt ETF', 'Alon USA Partners, LP', 'ALLETE, Inc.', 'Alexander & Baldwin, Inc.', 'AlphaClone Alternative Alpha ETF', 'Alamo Group, Inc.', 'Align Technology Inc.', 'Allegiant Travel Company', 'Alimera Sciences, Inc.', 'Alon USA Energy, Inc.', 'Alaska Air Group, Inc.', 'Alkermes plc', 'The Allstate Corporation', 'Alliance Bancorp Inc of Pennsylvania', 'Allot Communications Ltd.', 'American Lorain Corporation', 'Alnylam Pharmaceuticals, Inc.', 'Analogic Corporation', 'Astro-Med Inc.', 'Alere Inc.', 'Alseres Pharmaceuticals, Inc.', 'Alaska Communications Systems Group Inc.', 'Allison Transmission Holdings, Inc.', 'Altair Nanotechnologies, Inc.', 'Altera Corp.', 'Alteva, Inc.', 'Alcatel-Lucent, S.A.', 'Autoliv, Inc.', 'Alvarion Ltd.', \"Alexander's Inc.\", 'Alexza Pharmaceuticals Inc.', 'Alexion Pharmaceuticals, Inc.', 'AMAG Pharmaceuticals, Inc.', 'AutoNavi Holdings Limited', 'Applied Materials Inc.', 'Ambarella, Inc.', 'Ambac Financial Group, Inc.', 'Ambit Biosciences Corporation', 'Ambient Corporation', 'Applied Micro Circuits Corp.', 'Andatee China Marine Fuel Services Corporation', 'AirMedia Group Inc.', 'Armco Metals Holdings, Inc', 'AMC Networks Inc.', 'Advanced Micro Devices, Inc.', 'Ametek Inc.', 'Amedisys Inc.', 'Affiliated Managers Group Inc.', 'Amgen Inc.', 'American Homes 4 Rent', 'American Independence Corp.', 'American Midstream Partners LP', 'JPMorgan Alerian MLP Index ETN', 'Amkor Technology, Inc.', 'ALPS Alerian MLP ETF', 'American National Bankshares Inc.', 'Allied Motion Technologies Inc.', 'Ameriprise Financial Inc.', 'Ampio Pharmaceuticals, Inc.', 'iShares Utilities Bond ETF', 'American River Bankshares', 'Ameresco, Inc.', 'AmREIT, Inc.', 'Albany Molecular Research Inc.', 'Amarin Corporation plc', 'Amyris, Inc.', 'American Shared Hospital Services', 'American Superconductor Corporation', 'Amerisafe, Inc.', 'AmSurg Corp.', 'American Software, Inc.', 'American Tower Corporation', 'TD Ameritrade Holding Corporation', 'Apollo Residential Mortgage, Inc.', 'Amerityre Corp.', 'UBS E-TRACS Alerian MLP Index ETN', 'American Woodmark Corp.', 'America Movil S.A.B. de C.V.', 'Amazon.com Inc.', 'AutoNation Inc.', 'Anacor Pharmaceuticals, Inc.', 'Anadigics, Inc.', 'American National Insurance Co.', 'Anchor Bancorp', 'American Caresource Holdings, Inc.', 'Access National Corp.', 'Andina Acquisition Corporation', 'The Andersons, Inc.', 'Anaren Inc.', 'Abercrombie & Fitch Co.', \"Angie's List, Inc.\", 'Market Vectors Fallen Angel HY Bond ETF', 'AngioDynamics Inc.', 'Anworth Mortgage Asset Corporation', 'Anika Therapeutics Inc.', 'ANI Pharmaceuticals, Inc.', 'ANN INC', 'Alpha Natural Resources, Inc.', 'Ansys, Inc.', 'Anthera Pharmaceuticals, Inc.', 'Allied Nevada Gold Corp.', 'Aegean Marine Petroleum Network Inc.', 'iShares S&P Aggressive Allocation', 'Alpine Total Dynamic Dividend F', 'Alliance One International, Inc.', 'iShares S&P Conservative Allocation', 'AOL, Inc.', 'iShares S&P Moderate Allocation', 'Aon Corporation', 'iShares S&P Growth Allocation', 'AO Smith Corp.', 'Alpha & Omega Semiconductor, Ltd.', 'Ampco-Pittsburgh Corp.', 'Apache Corp.', 'Apco Oil & Gas International Inc.', 'Artisan Partners Asset Management Inc.', 'Asia Pacific Fund Inc.', 'Anadarko Petroleum Corporation', 'Air Products & Chemicals Inc.', 'American Public Education, Inc.', 'Morgan Stanley Asia-Pacific Fund Inc.', 'American Pacific Corp.', 'Amphenol Corporation', 'Advanced Photonix Inc.', 'Atlas Pipeline Partners LP', 'Apollo Global Management, LLC', 'Apogee Enterprises, Inc.', 'Apollo Group Inc.', 'American Apparel, Inc.', 'AP Pharma Inc.', 'AspenBio Pharma, Inc.', 'Apricus Biosciences, Inc.', 'Alto Palermo S.A.', 'Alpha Pro Tech Ltd.', 'Preferred Apartment Communities', 'AmeriGas Partners LP', 'Asia Pacific Wire & Cable Corp. Ltd.', 'American Spectrum Realty Inc.', 'Aquasition Corp.', 'Antero Resources Corporation', 'Accuray Incorporated', 'American Reprographics Co.', 'Ares Capital Corporation', 'Appliance Recycling Centers of America Inc.', 'Arcos Dorados Holdings Inc. Cla', 'American Realty Capital Properties, Inc.', 'ARC Wireless Solutions Inc.', 'Arden Group Inc.', 'Alexandria Real Estate Equities Inc.', 'Approach Resources, Inc.', 'Airgas Inc.', 'Global X FTSE Argentina 20 ETF', 'Apollo Commercial Real Estate Finance, Inc.', 'Ariad Pharmaceuticals Inc.', 'American Railcar Industries, Inc.', 'BlackRock Senior High Income Fund, Inc.', 'Ark Restaurants Corp.', 'American Realty Investors Inc.', 'Alliance Resource Partners LP', 'ARM Holdings plc', 'Arena Pharmaceuticals, Inc.', 'Aeropostale, Inc.', 'Arrow Financial Corporation', 'Atlas Resource Partners, L.P.', 'American Residential Properties, Inc.', 'ArQule Inc.', 'ARMOUR Residential REIT, Inc.', 'Arris Group Inc.', 'Array BioPharma, Inc.', 'Arabian American Development Company', 'ArthroCare Corporation', 'Artesian Resources Corp.', \"Art's-Way Manufacturing Co. Inc.\", 'Arotech Corp.', 'Aruba Networks, Inc.', 'Arrow Electronics, Inc.', 'Arrowhead Research Corp.', 'Aeroflex Holding Corp.', 'ASA Gold and Precious Metals Limited', 'ASB Bancorp, Inc.', 'Associated Banc-Corp', 'Ameriana Bancorp', 'Ardmore Shipping Corporation', 'Ascent Capital Group, Inc.', 'VelocityShares Emerging Asia DR ETF', 'Global X FTSE ASEAN 40 ETF', 'American Science & Engineering Inc.', 'Asta Funding Inc.', 'Liberty All Star Growth Fund Inc.', 'On Assignment Inc.', 'Ashland Inc.', 'AsiaInfo-Linkage,Inc.', 'Avino Silver & Gold Mines Ltd.', 'ASM International NV', 'ASML Holding NV', 'Ascena Retail Group Inc.', 'American Strategic Income Portfolio Inc.', 'Altisource Portfolio Solutions S.A.', 'Grupo Aeroportuario Del Sureste SA de CV', 'AmeriServ Financial, Inc.', 'Astrotech Corp.', 'Astec Industries, Inc.', 'Ascent Solar Technologies, Inc.', 'Aastrom Biosciences, Inc.', 'Asure Software, Inc.', 'Advanced Semiconductor Engineering Inc.', 'Amtech Systems Inc.', 'Atlantic Power Corporation', 'ATA, Inc.', 'America First Tax Exempt Investors LP', 'Advantest Corp.', 'Astea International Inc.', 'Alphatec Holdings, Inc.', 'AltiGen Communications Inc.', 'Athlon Energy Inc.', 'athenahealth, Inc.', 'Athersys, Inc.', 'Allegheny Technologies Inc.', 'Alliant Techsystems Inc.', 'Atlatsa Resources Corporation', 'Atlanticus Holdings Corporation', 'Ames National Corporation', 'Atlas Energy, L.P', 'ATMI Inc.', 'Atmel Corporation', 'Atlantic Tele-Network, Inc.', 'API Technologies Corp.', 'Atmos Energy Corporation', 'Atossa Genetics, Inc.', 'AptarGroup, Inc.', 'AtriCure, Inc.', 'ATRION Corp.', 'Aetrium Inc.', 'Astronics Corporation', 'Antares Pharma Inc.', 'Air Transport Services Group, Inc.', 'Attunity, Ltd.', 'Actuant Corporation', 'Acorn International, Inc.', 'Activision Blizzard, Inc.', 'Atwood Oceanics, Inc.', 'A.T. Cross Company', 'AngloGold Ashanti Ltd.', 'Auburn National Bancorporation, Inc.', 'PIMCO Australia Bond Index ETF', 'AudioCodes Ltd.', 'Golden Minerals Company', 'WisdomTree Australia & NZ Debt', 'AU Optronics Corp.', 'AuRico Gold Inc.', 'WisdomTree Australia Dividend', 'Auxilium Pharmaceuticals Inc.', 'Yamana Gold, Inc.', 'Aviva plc', 'Avista Corp.', 'AeroVironment, Inc.', 'Avalonbay Communities Inc.', 'American Vanguard Corp.', 'AVEO Pharmaceuticals, Inc.', 'AVG Technologies N.V.', 'Avago Technologies Limited', 'AV Homes, Inc', 'Avid Technology, Inc.', 'Aviv REIT, Inc.', 'Advent Claymore Convertible Securities and Income Fund', 'Avalon Rare Metals Inc.', 'Avanir Pharmaceuticals', 'Aviat Networks, Inc.', 'Avon Products Inc.', 'Avnet Inc.', 'AVX Corp.', 'Avery Dennison Corporation', 'HomeAway, Inc.', 'Alumina Ltd.', 'AllianceBernstein Global High Income Fund, Inc.', 'Allied World Assurance Company Holdings, AG', 'Armstrong World Industries, Inc.', 'American Water Works Company, Inc.', 'Alpine Global Premier Propertie', 'American States Water Company', 'Aware Inc.', 'Avalon Holdings Corp.', 'Abraxas Petroleum Corp.', 'iShares MSCI ACWI ex US Consumer Discret', 'Accelerate Diagnostics, Inc.', 'Anixter International Inc.', 'iShares MSCI ACWI ex US Energy Index', 'iShares MSCI ACWI ex US Financials Index', 'AxoGen, Inc.', 'iShares MSCI ACWI ex US Health Care Idx', 'iShares MSCI ACWI ex US Info Tech Index', 'WisdomTree Asia-Pacific ex-Japan', 'iShares MSCI AC Asia ex Japan Small Cap', 'American Axle & Manufacturing Holdings Inc.', 'Axiall Corporation', 'iShares MSCI ACWI ex US Materials Index', 'Aoxing Pharmaceutical Company, Inc.', 'American Express Company', 'AMREP Corp.', 'Axis Capital Holdings Limited', 'iShares MSCI ACWI ex US Cnsmr Stpls Idx', 'iShares MSCI ACWI ex US Telecom Svc Idx', 'AXT Inc.', 'Alexco Resource Corporation', 'iShares MSCI ACWI ex US Utilities Index', 'Alderon Iron Ore Corp.', 'Acuity Brands, Inc.', 'Alliance New York Municipal Income Fund Inc.', 'Aircastle LTD', 'Barclays GEMS Asia-8 ETN', 'Augusta Resource Corp.', 'Global X Central Asia & Mongolia ETF', 'AstraZeneca PLC', 'AutoZone Inc.', 'Aspen Technology, Inc.', 'AZZ Incorporated', 'Barnes Group Inc.', 'Boeing Co.', 'Banro Corporation', 'PowerShares Build America Bond', 'SPDR Nuveen Barclays Cap Build Amer Bd', 'Natus Medical Inc.', 'PIMCO Build America Bond Strategy ETF', 'Bank of America Corporation', 'BlackRock Insured Municipal Income Investment Trust', 'Einstein Noah Restaurant Group, Inc.', 'Diversified Restaurant Holdings, Inc.', 'Booz Allen Hamilton Inc.', 'Braskem S.A.', 'iPath DJ-UBS Cotton TR Sub-Idx ETN', 'Baltic Trading Limited', 'Brookfield Asset Management Inc.', 'Books-A-Million Inc.', 'First Pactrust Bancorp Inc.', 'BancFirst Corporation', 'Banner Corporation', 'Credicorp Ltd.', 'Basic Energy Services, Inc.', 'Bioanalytical Systems Inc.', 'Baxter International Inc.', 'Baxano Surgical, Inc.', 'Bed Bath & Beyond Inc.', 'BBCN Bancorp, Inc.', 'Banco Bradesco S.A.', 'Banco Bradesco S.A.', 'Breitburn Energy Partners L.P.', 'BlackRock Municipal Income Investment Trust', 'Bill Barrett Corp.', 'Beasley Broadcast Group Inc.', 'Market Vectors Biotech ETF', 'BlackRock Municipal Bond Trust', 'BHP Billiton plc', 'Bridge Capital Holdings', 'Black Box Corp.', 'EGShares Beyond BRICs ETF', 'Bravo Brio Restaurant Group, Inc.', 'Research In Motion Limited', 'Barrett Business Services Inc.', 'BB&T Corporation', 'Banco Bilbao Vizcaya Argentaria, S.A.', 'Build-A-Bear Workshop Inc.', 'BankAtlantic Bancorp, Inc.', 'Best Buy Co. Inc.', 'Brunswick Corporation', 'CorpBanca S.A.', 'Bank of the Carolinas Corp.', 'BCB Bancorp Inc.', 'Boise Cascade Company', 'BCE, Inc.', 'Bonanza Creek Energy, Inc.', 'Blackrock Real Asset Equity Tru', 'Banco de Chile', 'iPath Pure Beta Broad Commodity ETN', 'Brinks Co.', 'B Communications Ltd', 'Blucora, Inc.', 'Brightcove, Inc.', 'Balchem Corp.', 'CR Bard Inc.', 'BioCryst Pharmaceuticals, Inc.', 'Barclays PLC', 'BCSB Bankcorp Inc.', 'Bancroft Fund Ltd.', 'Boulder Brands, Inc.', 'Belden, Inc.', 'UBS E-TRACS Wells Fargo Bus Dev Comp ETN', 'PowerShares DB Base Metals Dble Long ETN', 'Black Diamond, Inc.', 'Bridge Bancorp, Inc.', 'Broadband HOLDRS', 'Blackrock Enhanced Dividend Achievers Trust', \"Flanigan's Enterprises Inc.\", 'Birner Dental Management Services Inc.', 'Brandywine Realty Trust', 'Blonder Tongue Laboratories Inc.', 'BioDelivery Sciences International, Inc.', 'Becton, Dickinson and Company', 'Beam, Inc.', 'CardioNet, Inc.', 'BE Aerospace Inc.', 'Bebe Stores, Inc.', 'Beacon Roofing Supply Inc.', 'Strategic Hotels & Resorts, Inc.', 'Bel Fuse Inc.', 'Franklin Resources Inc.', 'Brookfield Renewable Energy Partners LP', 'Berkshire Bancorp Inc.', 'Berry Plastics Group, Inc.', 'Shiner International, Inc.', 'Brown-Forman Corporation', 'Bright Horizons Family Solutions, Inc.', 'BankFinancial Corp.', 'BlackRock Municipal Income Trust', 'BlackRock Florida Municipal 2020 Term Trust', \"Barron's 400 ETF\", 'BBVA Banco Frances S.A.', 'Saul Centers Inc.', 'BlackRock New York Municipal Income Trust II', 'BlackRock California Municipal Income Trust', 'Bunge Limited', 'General Cable Corp.', 'BGC Partners, Inc.', 'Big 5 Sporting Goods Corp.', 'Briggs & Stratton Corp.', 'Birks & Mayors Inc.', 'BG Medicine, Inc.', 'BlackRock Energy and Resources Trust', 'B&G Foods Inc.', 'BlackRock Floating Rate Income Trust', 'Blackrock International Growth and Income Trust', 'Biglari Holdings Inc.', 'Bar Harbor Bankshares', 'BlackRock Strategic Bond Trust', 'Benchmark Electronics Inc.', 'B2B Internet HOLDRS', 'Baker Hughes Incorporated', 'BlackRock Core Bond Trust', 'Berkshire Hills Bancorp Inc.', 'BHP Billiton Ltd.', 'BlackRock Virginia Municipal Bond Trust', 'BlackRock High Yield Trust', 'ProShares Ultra Nasdaq Biotechnology', 'First Trust BICK Index', \"Sotheby's\", 'Baidu, Inc.', 'BIDZ.com, Inc.', 'BlackRock Municipal Bond Investment Trust', 'Boulder Growth & Income Fund Inc.', 'Big Lots Inc.', 'Biogen Idec Inc.', 'SPDR S&P BRIC 40', 'SPDR Barclays Capital 1-3 Month T-Bill', 'Progressive Waste Solutions Ltd.', 'BIND Therapeutics, Inc.', 'Bio-Rad Laboratories, Inc.', 'BioAmber Inc.', 'Biodel Inc.', 'BioFuel Energy Corp.', 'BIOLASE, Inc.', 'BioScrip Inc.', 'Brookfield Infrastructure Partners L.P.', 'Actuate Corporation', 'ProShares UltraShort Nasdaq Biotech', 'Bitauto Holdings Limited', 'Vanguard Intermediate-Term Bond ETF', 'Market Vectors BDC Income ETF', 'Market Vectors Gaming ETF', \"BJ's Restaurants, Inc.\", 'BlackRock California Municipal 2018 Term Trust', 'The Bank of New York Mellon Corporation', 'Britton & Koontz Capital Corp.', 'BlackRock Kelso Capital Corporation', 'Brookdale Senior Living Inc.', 'Buckle Inc.', 'Blueknight Energy Partners, L.P.', 'iShares MSCI BRIC Index', 'Black Hills Corporation', 'Bancorp Of New Jersey, Inc.', 'BlackRock Municipal 2020 Term Trust', 'PowerShares Senior Loan Port', 'Bank Mutual Corporation', 'BlackRock Investment Quality Municipal Trust Inc.', 'Oak Ridge Financial Services, Inc.', 'Barnes & Noble, Inc.', 'The Bank of South Carolina Corporation', 'BlackRock Income Trust, Inc.', 'BankUnited, Inc.', 'Burger King Worldwide, Inc.', 'Bank of Kentucky Financial Corp.', 'Belo Corp.', 'Ballard Power Systems Inc.', 'Builders FirstSource, Inc.', 'BlackRock Municipal Income Trust II', 'BlackRock New York Municipal 2018 Term Trust', 'Bridgeline Digital, Inc', 'BlackRock New Jersey Municipal Bond Trust', 'BlackRock, Inc.', 'Blackbaud Inc.', 'Ball Corporation', \"Bloomin' Brands, Inc.\", 'BSB Bancorp, Inc. (Maryland)', 'iPath Pure Beta Precious Metals ETN', 'Infoblox Inc.', 'Blount International Inc.', 'bluebird bio, Inc.', 'Vanguard Long-Term Bond Index ETF', 'BlackRock Limited Duration Income Trust', 'Banco Latinoamericano de Comercio Exterior, S.A', 'Banco Macro S.A.', 'BlackRock Health Sciences Trust', 'Badger Meter Inc.', 'Bank of Montreal', 'BioMed Realty Trust Inc.', 'Bank of Marin Bancorp', 'BioMarin Pharmaceutical Inc.', 'Bemis Company, Inc.', 'Bryn Mawr Bank Corp.', 'Bristol-Myers Squibb Company', 'BlackRock Income Opportunity Trust, Inc.', 'Beneficial Mutual Bancorp Inc.', 'BNC Bancorp', 'Vanguard Total Bond Market ETF', 'Vanguard Total Intl Bd Idx ETF', 'Benefitfocus, Inc.', 'BlackRock New Jersey Municipal Income Trust', \"Annie's, Inc.\", 'United States Brent Oil', 'The Bank Of Nova Scotia', 'Bonso Electronics International Inc.', 'BlackRock New York Municipal Income Trust', 'Bob Evans Farms Inc.', 'Bank of Commerce Holdings', 'Body Central Corp.', 'BlackRock Global Opportunities Equity Trust', 'BofI Holding Inc.', 'Bank of Hawaii Corporation', 'ProShares Ultra DJ-UBS Natural Gas', 'BOK Financial Corporation', 'Bolt Technology Corp.', 'PowerShares DB Base Metals Dble Shrt ETN', 'Bona Film Group Limited', 'PIMCO Total Return ETF', 'Bacterin International Holdings, Inc.', 'Market Vectors LatAm Aggregate Bond ETF', 'Bon-Ton Stores Inc.', 'Dynamic Materials Corp.', 'China New Borun Corporation', 'PowerShares DB Base Metals Short ETN', 'B.O.S. Better Online Solutions Ltd.', 'Biota Pharmaceuticals, Inc.', 'Bank of the James Financial Group Inc.', 'Brookfield Office Properties Canada', 'BP plc', 'Boston Private Financial Holdings Inc.', 'BluePhoenix Solutions Ltd.', 'Bridgepoint Education, Inc.', 'BlackRock Municipal 2018 Term Trust', 'Buckeye Partners LP', 'Brookfield Properties Corporation', 'Popular, Inc.', 'BlackRock Pennsylvania Strategic Municipal Trust Fund', 'BP Prudhoe Bay Royalty Trust', 'Brookfield Property Partners L.P.', 'BPZ Resources, Inc.', 'BlackRock New York Municipal Bond Trust', 'BlackRock Ecosolutions Investme', 'BlackRock S&P Quality Rankings Global Equity Managed Trust', 'Broadridge Financial Solutions Inc.', 'Global X Brazil Financials ETF', 'Global X Brazil Consumer ETF', 'Global X Brazil Mid Cap ETF', 'Brady Corp.', 'Brocade Communications Systems, Inc.', 'Broadcom Corp.', 'Brigus Gold Corp', 'BRE Properties Inc.', 'Craft Brew Alliance, Inc.', 'Market Vectors Brazil Small-Cap ETF', 'BRF - Brasil Foods S.A.', 'Bridgford Foods Corp.', 'Berkshire Hathaway Inc.', 'Berkshire Hathaway Inc.', 'Brookline Bancorp, Inc.', 'Bruker Corporation', 'Brooks Automation Inc.', 'Bio-Reference Laboratories Inc.', 'Barnwell Industries Inc.', 'Brown & Brown Inc.', 'Brookfield Residential Properties Inc.', 'Bristow Group, Inc.', 'Global Brass and Copper Holdings, Inc.', 'BRT Realty Trust', 'EGShares Brazil Infrastructure', 'Berry Petroleum Co.', 'Direxion Daily Brazil Bear 3X Shares', 'Direxion Daily Brazil Bull 3X Shares', 'Banco Santander-Chile', 'Banco Santander (Brasil) S.A.', 'ELEMENTS BG Small Cap ETN', 'Guggenheim BulletShares 2013 Corp Bond', 'Guggenheim BulletShares 2014 Corp Bond', 'Guggenheim BulletShares 2015 Corp Bond', 'Guggenheim BulletShares 2016 Corp Bond', 'Guggenheim BulletShares 2017 Corp Bond', 'Guggenheim BulletShares 2018 Corp Bond', 'Guggenheim BulletShares 2019 Corp Bond', 'Guggenheim BulletShares 2020 Corp Bond', 'Guggenheim BulletShares 2021 Corp Bd ETF', 'Guggenheim BulletShares 2022 Corp Bd ETF', 'BlackRock Strategic Municipal Trust', 'BSD Medical Corp.', 'BlackRock New York Insured Municipal Income Trust', 'Bassett Furniture Industries Inc.', 'BroadSoft, Inc.', 'Alon Holdings Blue Square - Israel Ltd', 'Grupo Financiero Santander Mexico, S.A.B. de C.V.', 'American Strategic Income Portfolio Inc. II', 'Biostar Pharmaceuticals, Inc.', 'BSQUARE Corp.', 'Sierra Bancorp', 'BioSpecifics Technologies Corp.', 'Vanguard Short-Term Bond ETF', 'Boston Scientific Corporation', 'BT Group plc', 'BlackRock LT Municipal Advantage Trust', 'QuantShares US Market Neut Anti-Beta ETF', 'Baytex Energy Corp.', 'Boulder Total Return Fund Inc.', 'Blyth, Inc.', 'British American Tobacco plc', 'Ballantyne Strong, Inc', 'John Hancock Bank and Thrift Opportunity Fund', 'Peabody Energy Corp.', 'BTU International Inc.', 'BioTime, Inc.', 'BlackRock Credit Allocation Income Trust IV', 'Anheuser-Busch InBev', 'PIMCO Germany Bond Index ETF', 'Burlington Stores, Inc.', 'First Busey Corporation', 'Bazaarvoice, Inc.', 'Cordia Bancorp Inc.', 'Compania de Minas Buenaventura SA', 'BroadVision, Inc.', 'Bovie Medical Corp.', 'BorgWarner Inc.', 'The Babcock & Wilcox Company', 'Broadwind Energy, Inc.', 'Baldwin & Lyons Inc.', 'Bowl America Inc.', 'Buffalo Wild Wings Inc.', 'Boardwalk Pipeline Partners, LP', 'Brown Shoe Co. Inc.', 'iPath CBOE S&P 500 BuyWrite Index ETN', 'SPDR Barclays Capital Intl Treasury Bond', 'SPDR Barclays Cap S/T Intl Treasury Bond', 'The Blackstone Group', 'Bluelinx Holdings Inc.', 'Barclays Short B Lvgd Inv S&P 500 TR ETN', 'Bellatrix Exploration Ltd.', 'Blackstone Mortgage Trust, Inc.', 'Boston Properties Inc.', 'BancorpSouth, Inc.', 'Barclays Long B Leveraged S&P 500 TR ETN', 'Boyd Gaming Corp.', 'Broadway Financial Corp.', 'Bally Technologies, Inc.', 'Baylake Corp.', 'BlackRock Insured Municipal Income Trust', 'Breeze-Eastern Corporation', 'WisdomTree Dreyfus Brazilian Real', 'Beazer Homes USA Inc.', 'BlackRock Maryland Municipal Bond Trust', 'ProShares UltraShort MSCI Brazil', 'Citigroup, Inc.', 'CA Technologies', 'China Automotive Systems Inc.', \"Cabela's Inc.\", 'Camden National Corp.', 'Cascade Bancorp', 'Credit Acceptance Corp.', 'Chart Acquisition Corp.', 'Cache Inc.', 'CACI International Inc.', 'PIMCO Canada Bond Index ETF', 'China Advanced Construction Materials Group, Inc.', 'Cadence Pharmaceuticals Inc.', 'CAE Inc.', 'Morgan Stanley China A Share Fu', 'iPath Pure Beta Coffee ETN', 'Camco Financial Corp.', 'ConAgra Foods, Inc.', 'Cardinal Health, Inc.', 'Canon Inc.', 'CAMAC Energy Inc.', 'The Cheesecake Factory Incorporated', 'Callidus Software Inc.', 'China Auto Logistic Inc.', 'magicJack VocalTec Ltd.', 'Cal-Maine Foods, Inc.', 'Calix Inc.', 'Cameron International Corporation', 'CalAmp Corp.', 'Camtek Ltd.', 'Teucrium Sugar', 'CAI International Inc.', 'Capstone Therapeutics Corp.', 'Avis Budget Group, Inc.', 'Carbonite, Inc.', 'Carolina Trust Bank', 'Carver Bancorp Inc.', 'First Trust NASDAQ Global Auto Index', 'AM Castle & Co.', 'Meta Financial Group, Inc.', 'CAS Medical Systems Inc.', 'Cass Information Systems Inc.', 'ChinaCast Education Corporation', \"Casey's General Stores Inc.\", 'Caterpillar Inc.', 'Cardtronics Inc.', 'Cato Corp.', 'Cathay General Bancorp', 'Cavium, Inc.', 'CCA Industries Inc.', 'The Chubb Corporation', 'China BAK Battery, Inc.', 'Colony Bankcorp Inc.', 'Cincinnati Bell Inc.', 'Companhia Brasileira de Distribuicao', 'Cbeyond, Inc.', 'Capital Bank Financial Corp.', 'CBRE Group, Inc', 'Chicago Bridge & Iron Company N.V.', 'Community Bank Shares of Indiana Inc.', 'Christopher & Banks Corporation', 'CBL & Associates Properties Inc.', 'Cleveland BioLabs, Inc.', 'Cambrex Corporation.', 'CombiMatrix Corporation', 'SPDR Barclays Cap Issuer Scd Corp Bond', 'Cape Bancorp, Inc.', 'Chicopee Bancorp, Inc.', 'CBOE Holdings, Inc.', 'China Biologic Products, Inc.', 'CIBER, Inc.', 'Cracker Barrel Old Country Store, Inc.', 'Columbia Laboratories Inc.', 'CBS Corporation', 'Commerce Bancshares, Inc.', 'Cubist Pharmaceuticals Inc.', 'Cabot Corp.', 'Community Bank System Inc.', 'CBIZ, Inc.', 'MFS California Insured Municipal Fund', 'Capital City Bank Group Inc.', 'Calgon Carbon Corporation', 'China Ceramics Co., Ltd.', 'China Commercial Credit, Inc.', 'Coca-Cola Enterprises Inc.', 'Chase Corp.', 'Campus Crest Communities, Inc.', 'China CGame, Inc.', 'Coca-Cola Hellenic Bottling Company S.A.', 'Crown Castle International Corp.', 'ChinaCache International Holdings Ltd.', 'Coleman Cable, Inc.', 'Cameco Corp.', 'Crown Holdings Inc.', 'Carnival Corporation', 'Concord Medical Services Holdings Limited', 'Cabot Microelectronics Corp.', 'CNB Financial Corp.', 'Clear Channel Outdoor Holdings Inc.', 'Cogent Communications Group Inc.', 'Cross Country Healthcare, Inc.', 'Country Style Cooking Restaurant Chain Co., Ltd.', 'Compania Cervecerias Unidas S.A.', 'Concurrent Computer Corporation', 'WisdomTree Dreyfus Commodity Currency', 'WisdomTree Commodity Country Equity', 'ChemoCentryx, Inc.', \"Coeur d'Alene Mines Corporation\", 'CDI Corp.', 'China Direct Industries, Inc.', 'Cadence Design Systems Inc.', 'Cedar Realty Trust, Inc.', 'Clean Diesel Technologies Inc.', 'CDW Corporation', 'Codexis, Inc.', 'Cardero Resource Corp.', 'Cadiz Inc.', 'Celanese Corporation', 'China Eastern Airlines Corp. Ltd.', 'Corporate Executive Board Co.', 'CEC Entertainment Inc.', 'CECO Environmental Corp.', 'Career Education Corp.', 'ChinaEdu Corporation', 'Central Europe & Russia Fund Inc.', 'Central Fund of Canada Limited', 'Cellcom Israel Ltd.', 'Celgene Corporation', 'Celsius Holdings, Inc.', 'China Electric Motor, Inc.', 'Chembio Diagnostics, Inc.', 'Cempra, Inc.', 'Central Garden & Pet Co.', 'Century Aluminum Co.', 'CNOOC Ltd.', 'Constellation Energy Partners LLC', 'Crestwood Equity Partners LP', 'Ceres, Inc.', 'Cerner Corporation', 'Cereplast, Inc.', 'Cerus Corporation', 'Central Securities Corp.', 'Central European Media Enterprises Ltd.', 'Eaton Vance California Municipal Income Trust', 'CEVA Inc.', 'WisdomTree Dreyfus Emerging Currency', 'CF Industries Holdings, Inc.', 'Central Federal Corp.', 'C&F Financial Corp.', 'Capitol Federal Financial, Inc.', 'Culp Inc.', 'CareFusion Corporation', 'California First National Bancorp', 'Cardinal Financial Corp.', 'Cornerstone Progressive Return ', 'Cullen/Frost Bankers, Inc.', 'iShares Barclays Credit Bond', 'Colfax Corporation', 'The Carlyle Group LP', 'China Green Agriculture, Inc.', 'Compugen Ltd.', 'CGG SA', 'Celadon Group Inc.', 'Cognex Corporation', 'Calamos Global Total Return Fund', 'Claude Resources, Inc.', 'Guggenheim S&P Global Water Index', 'Consolidated Graphics, Inc.', 'Aberdeen Chile Fund, Inc.', 'China Telecom Corp. Ltd.', 'China Hydroelectric Corporation', 'Comstock Homebuilding Companies Inc.', 'City Holding Co.', 'Church & Dwight Co. Inc.', 'Churchill Downs Inc.', 'Chindex International Inc.', 'Chemed Corp.', \"Chefs' Warehouse Holdings LLC\", 'QuantShares US Market Neutral Value ETF', 'Cheviot Financial Corp.', 'Chemical Financial Corp.', 'Charter Financial Corp.', 'China Gengsheng Minerals, Inc.', 'Choice Hotels International Inc.', 'Calamos Convertible Opportunities & Income Fund', 'Global X China Energy ETF', 'Global X China Industrials ETF', 'Global X China Materials ETF', 'Global X China Consumer ETF', 'Global X China Financials ETF', 'Chesapeake Energy Corporation', 'Cherokee Inc.', 'Check Point Software Technologies Ltd.', 'Chesapeake Granite Wash Trust', 'China Mobile Limited', 'Market Vectors Renminbi Bond ETF', 'China Housing and Land Development, Inc.', 'Chemung Financial Corporation', 'Cherry Hill Mortgage Investment Corporation', 'Champion Industries Inc.', 'Chemtura Corporation', 'The China Fund, Inc.', 'China Natural Resources Inc.', 'iPath Pure Beta Cocoa ETN', 'China Gerui Advanced Materials Group Ltd.', 'Charm Communications Inc.', 'CH Robinson Worldwide Inc.', \"Chico's FAS Inc.\", 'CHS Inc.', 'Chesapeake Lodging Trust', 'Chunghwa Telecom Co. Ltd.', 'Chelsea Therapeutics International Ltd.', 'Charter Communications Inc.', 'China Unicom (Hong Kong) Limited', \"Chuy's Holdings, Inc.\", 'Calamos Global Dynamic Income Fund', 'WisdomTree China Dividend ex-Fincls', 'EGShares China Infrastructure', 'Calamos Convertible & High Income Fund', 'Chyron Corporation', 'Cigna Corp.', 'Citizens Inc.', 'Bancolombia S.A.', 'Cinedigm Digital Cinema Corp.', 'Cobalt International Energy, Inc.', 'CIENA Corp.', 'MFS Intermediate High Income Fund', 'CIFC Corp.', 'Cia Energetica de Minas Gerais', 'BlackRock Enhanced Capital and Income Fund, Inc.', 'Credit Suisse Asset Management Income Fund Inc.', 'Chimera Investment Corporation', 'Cimatron Ltd.', 'Cincinnati Financial Corp.', 'CIRCOR International, Inc.', 'Camelot Information Systems Inc.', 'Cninsure Inc.', 'CIT Group Inc.', 'CFS Bancorp Inc.', 'iShares Barclays Intermediate Credit Bd', 'CompX International Inc.', 'Citizens Holding Company', 'C&J Energy Services, Inc.', 'China Jo-Jo Drugstores, Inc.', 'Carmike Cinemas Inc.', 'Seacor Holdings Inc.', 'Checkpoint Systems Inc.', 'ClickSoftware Technologies Ltd.', 'CKX Lands Inc.', 'Colgate-Palmolive Co.', 'Core Laboratories NV', 'Carolina Bank Holdings Inc.', 'CLARCOR Inc.', 'Collectors Universe Inc.', 'Cloud Peak Energy Inc.', 'Chatham Lodging Trust', 'Celldex Therapeutics, Inc.', 'Cliffs Natural Resources Inc.', 'Clearfield, Inc.', 'CoreLogic, Inc.', 'Clean Harbors, Inc.', 'Mack-Cali Realty Corp.', 'Clearsign Combustion Corp.', 'Cornerstone Strategic Value Fund Inc.', 'Calamos Asset Management Inc.', 'Calumet Specialty Products Partners LP', 'Clean Energy Fuels Corp.', 'Cleantech Solutions International, Inc.', 'Colony Financial, Inc.', 'Continental Resources Inc.', 'ClearOne Communications Inc.', 'CollabRx, Inc.', 'Celestica Inc.', 'Celsion Corp.', 'Town Sports International Holdings Inc.', 'Clovis Oncology, Inc.', 'Clearwater Paper Corporation', 'Euro Tech Holdings Co. Ltd.', 'The Clorox Company', 'iShares 10+ Year Credit Bond', 'Canadian Imperial Bank of Commerce', 'Comerica Incorporated', 'iShares Barclays CMBS Bond', 'Commercial Metals Company', 'Columbus McKinnon Corporation', 'Comcast Corporation', 'ProShares UltraShort DJ-UBS Commodity', 'iShares Dow Jones-UBS Roll Sel Cmdty', 'CME Group Inc.', 'iShares S&P CA AMT-Free Municipal Bd', 'China Marine Food Group Limited', 'Chipotle Mexican Grill, Inc.', 'China Mobile Games and Entertainment Group Limited', 'Cummins Inc.', 'MFS InterMarket Income Trust I', 'Crestwood Midstream Partners LP', 'Cumulus Media Inc.', 'Cantel Medical Corp.', 'Capstead Mortgage Corp.', 'Compass Minerals International Inc.', 'Costamare Inc.', 'Chimerix, Inc.', 'CMS Energy Corp.', 'Cms Bancorp, Inc.', 'Core Molding Technologies Inc.', 'Comtech Telecommunications Corp.', 'MFS High Yield Municipal Trust', 'CNA Financial Corporation', 'Conatus Pharmaceuticals Inc.', 'Center Bancorp Inc.', 'Century Bancorp Inc.', 'Centene Corp.', 'Cencosud S.A.', 'IQ Canada Small Cap ETF', 'Coronado Biosciences, Inc.', 'ChinaNet Online Holdings, Inc.', 'CNH Industrial N.V.', 'Canadian National Railway Company', 'China Information Technology, Inc.', 'Cinemark Holdings Inc.', 'Cleco Corporation', 'CONMED Corporation', 'CNO Financial Group, Inc.', 'ConnectOne Bancorp, Inc.', 'CenterPoint Energy, Inc.', 'Global X Canada Preferred ETF', 'Canadian Natural Resources Limited', 'Concur Technologies, Inc.', 'China Metro-Rural Holdings Limited', 'Cohen & Steers Inc.', 'Comverse, Inc.', 'Consolidated Communications Holdings Inc.', 'China Techfaith Wireless Communication Technology Limited', 'Century Casinos Inc.', 'Con-way Inc.', 'CONSOL Energy Inc.', 'Market Vectors Chinese Renminbi/USD ETN', 'China Yida Holding, Co.', 'China Cord Blood Corporation', 'CommunityOne Bancorp', 'Colonial Financial Services, Inc.', 'Cobra Electronics Corp.', 'CoBiz Financial Inc', 'Corinthian Colleges Inc.', 'Spansion Inc.', 'Compass Diversified Holdings', 'Capital One Financial Corp.', 'Cabot Oil & Gas Corporation', 'Cogo Group, Inc.', 'Coach, Inc.', 'Coherent Inc.', 'Cohu, Inc.', 'Coca-Cola Bottling Co. Consolidated', 'Rockwell Collins Inc.', 'Columbia Banking System Inc.', 'Cole Real Estate Investments, Inc.', 'Columbia Sportswear Company', 'CommScope Holding Company Inc.', 'Cyrusone Inc.', 'Conns Inc.', 'The Cooper Companies Inc.', 'Majesco Entertainment Co.', 'ConocoPhillips', 'Global X Copper Miners ETF', 'CoreSite Realty Corporation', 'Core-Mark Holding Company, Inc.', 'Teucrium Corn', 'PIMCO Investment Grade Corp Bd Index ETF', 'CorEnergy Infrastructure Trust, Inc.', 'Corcept Therapeutics Incorporated', 'Cosi Inc.', 'Costco Wholesale Corporation', 'Cott Corporation', 'Coty Inc.', 'Covidien plc', 'Cover-All Technologies Inc.', 'Covisint Corporation', 'iPath DJ-UBS Livestock TR Sub-Idx ETN', 'Cowen Group, Inc.', 'BlackRock Corporate High Yield Fund, Inc.', 'Canadian Pacific Railway Limited', 'Copa Holdings SA', 'Cementos Pacasmayo SAA', 'Campbell Soup Co.', 'Callon Petroleum Co.', 'United States Copper', 'Central Pacific Financial Corp.', 'China  Shengda Packaging  Group Inc.', 'Canterbury Park Holding Corp.', 'Cepheid', 'China Pharma Holdings, Inc.', 'IQ CPI Inflation Hedge ETF', 'Cumberland Pharmaceuticals, Inc.', 'Chesapeake Utilities Corporation', 'CPFL Energia S.A.', 'Capella Education Co.', 'Capital Product Partners L.P.', 'Calpine Corp.', 'Copart, Inc.', 'Catalyst Pharmaceutical Partners Inc.', 'Cooper-Standard Holdings Inc.', 'Computer Programs & Systems Inc.', 'China Precision Steel, Inc.', 'Consumer Portfolio Services, Inc.', 'Capstone Turbine Corp.', 'Camden Property Trust', 'Capitala Finance Corp.', 'Compuware Corporation', 'Chiquita Brands International Inc.', 'Cheniere Energy Partners LP.', 'Guggenheim China Technology', 'Crane Co.', 'CRA International Inc.', 'Cray Inc.', 'Jefferies TR/J CRB Global Commodity Eq', 'Crawford & Company', 'Cardica Inc.', 'Crossroads Systems, Inc.', 'Cree, Inc.', 'China Recycling Energy Corporation', 'Cresud Sociedad An', 'Cornerstone Total Return Fund Inc.', 'CRH plc', \"Carter's, Inc.\", 'Curis Inc.', 'Comstock Resources Inc.', 'Charles River Laboratories International, Inc.', 'Salesforce.com', 'Crumbs Bake Shop, Inc', 'CorMedix, Inc.', 'Cardiome Pharma Corp.', \"America's Car-Mart Inc.\", 'Ceragon Networks Ltd.', 'Crocs, Inc.', 'CARBO Ceramics Inc.', 'Carrollton Bancorp', 'Courier Corporation', 'Corporate Resource Services, Inc.', 'Carpenter Technology Corp.', 'Cross Timbers Royalty Trust', 'Criteo SA', 'Cornerstone Therapeutics Inc.', 'Teucrium WTI Crude Oil', 'Cirrus Logic Inc.', 'Coast Distribution System Inc.', 'CorVel Corporation', 'Crystal Rock Holdings, Inc.', 'Crown Media Holdings Inc.', 'Crown Crafts Inc.', 'CryoLife Inc.', 'Carrizo Oil & Gas Inc.', 'Credit Suisse Group', 'Clifton Savings Bancorp Inc.', 'Computer Sciences Corporation', 'Cascade Microtech Inc.', 'Cisco Systems, Inc.', 'Guggenheim Spin-Off', 'CapitalSource Inc.', 'CenterState Banks, Inc.', 'The Cash Store Financial Services, Inc.', 'Chambers Street Properties', 'CoStar Group Inc.', 'CSG International, Inc.', 'Cash America International, Inc.', 'Cardiovascular Systems Inc.', 'Canadian Solar Inc.', 'iShares Barclays 1-3 Year Credit Bond', 'Carlisle Companies Inc.', 'Credit Suisse Long/Short Liquid Idx ETN', 'ProShares Credit Suisse 130/30', 'Credit Suisse Merger Arbi Liquid Idx ETN', 'Credit Suisse 2X Merger Arbi Lqd Idx ETN', 'Credit Suisse Market Neut Global Eq ETN', 'Cornerstone OnDemand, Inc.', 'American Strategic Income Portfolio III', 'CSP Inc.', 'Calamos Strategic Total Return Fund', 'CSS Industries Inc.', 'CST Brands, Inc.', 'CaesarStone Sdot-Yam Ltd.', 'Constellium N.V', 'Capital Senior Living Corp.', 'China Sunergy Co. Ltd.', 'Carriage Services Inc.', 'Capital Southwest Corporation', 'CSX Corp.', 'Cintas Corporation', 'Cooper Tire & Rubber Co.', 'Community Trust Bancorp Inc.', 'IFM Investments Limited', 'Commtouch Software Ltd.', 'CTC Media, Inc', 'Constant Contact, Inc.', 'Computer Task Group Inc.', 'Charles & Colvard Ltd.', 'CTI Industries Corp.', 'Cell Therapeutics, Inc.', 'CenturyLink, Inc.', 'iPath Pure Beta Cotton ETN', 'Consolidated Tomoka Land Co.', 'CTPartners', 'Control4 Corporation', 'Citi Trends', 'Ctrip.com International Ltd.', 'Catamaran Corporation', 'CTS Corporation', 'Cognizant Technology Solutions Corporation', 'Connecticut Water Service Inc.', 'Citrix Systems, Inc.', 'First Trust ISE Global Copper Index', 'Cubic Corporation', 'Herzfeld Caribbean Basin Fund Inc.', 'CubeSmart', 'Customers Bancorp, Inc.', 'CUI Global, Inc.', 'Carnival plc', 'CU Bancorp', 'Continental Materials Corp.', 'iPath Pure Beta Copper ETN', 'Neuralstem, Inc.', 'Direxion Daily Healthcare Bull 3X Shares', 'Guggenheim Timber', 'Cutera, Inc.', 'Cousins Properties Inc.', 'Covanta Holding Corporation', 'CVB Financial Corp.', 'Cablevision Systems Corporation', 'Cavco Industries Inc.', 'Central Valley Community Bancorp', 'Covance Inc.', 'Cenovus Energy Inc.', 'Convergys Corporation', 'Commercial Vehicle Group Inc.', 'Calavo Growers Inc.', 'CVR Energy, Inc.', 'CommVault Systems, Inc.', 'Codorus Valley Bancorp Inc.', 'CEL-SCI Corp.', 'Cenveo Inc.', 'C-Tracks Citi Volatility Index TR ETN', 'Chicago Rivet & Machine Co.', 'CVR Refining, LP', 'CVS Caremark Corporation', 'Cvent, Inc.', 'Covenant Transportation Group, Inc.', 'CPI Aerostructures Inc.', 'CVD Equipment Corporation', 'Chevron Corporation', 'Guggenheim Multi-Asset Income', 'Curtiss-Wright Corp.', 'SPDR Barclays Capital Convertible Secs', 'Community West Bancshares', 'Consolidated Water Co. Ltd.', 'Clayton Williams Energy Inc.', 'CommonWealth REIT', 'SPDR MSCI ACWI (ex-US)', 'Casella Waste Systems Inc.', 'California Water Service Group', 'Coldwater Creek Inc.', 'CEMEX, S.A.B. de C.V.', 'SPDR Nuveen Barclays Capital CA Muni Bd', 'China XD Plastics Company Ltd.', 'MFS High Income Municipal Trust', 'MFS Investment Grade Municipal Trust', 'Cardium Therapeutics Inc.', 'Concho Resources, Inc.', 'Columbia Property Trust, Inc.', 'Corrections Corporation of America', 'Cypress Semiconductor Corporation', 'Cyanotech Corp.', 'WisdomTree Dreyfus Chinese Yuan', 'CyberOptics Corp.', 'Cyberonics Inc.', 'Cyclacel Pharmaceuticals, Inc.', 'China Yuchai International Limited', 'BlackRock Corporate High Yield Fund III, Inc.', 'Community Health Systems, Inc.', 'City National Corp.', 'Cyan, Inc.', 'Cynosure, Inc.', 'Changyou.com Limited', 'CYS Investments Inc', 'Cytec Industries Inc.', 'Cytokinetics, Incorporated', 'CytRx Corporation', 'Cytori Therapeutics, Inc.', 'Guggenheim Mid-Cap Core', 'Citizens First Corp.', 'Citizens & Northern Corp.', 'Caesars Entertainment Corporation', 'Citizens Community Bancorp, Inc.', 'Cosan Ltd.', 'Dominion Resources, Inc.', 'Danaos Corporation', 'Daegis Inc.', 'PowerShares DB Agriculture Dble Long ETN', 'Data I/O Corp.', 'Daktronics Inc.', 'Delta Air Lines Inc.', 'Dana Holding Corporation', 'E-Commerce China Dangdang Inc.', 'Darling International Inc.', 'DARA BioSciences, Inc', 'DATATRAK International, Inc.', 'Jiayuan.com International Ltd.', \"Famous Dave's of America Inc.\", 'Deutsche Bank AG', 'PowerShares DB Agriculture', 'db X-Trackers MSCI AC Asia Paci', 'PowerShares DB Base Metals', 'DBX MSCI Brazil Hedged Equity ETF', 'PowerShares DB Commodity Index Tracking', 'Diebold, Incorporated', 'PowerShares DB Energy', 'DBX MSCI EAFE Hedged Equity ETF', 'DBX MSCI Emerging Mkts Hdgd Equity ETF', 'db X-trackers MSCI Europe Hdgd Eq ETF', 'db X-trackers MSCI Germany Hedged Eq ETF', 'AdvisorShares Pring Turner Bus Cycle ETF', 'db X-trackers MSCI Japan Hedged Eq ETF', 'Double Eagle Petroleum Co.', 'PowerShares DB Oil', 'PowerShares DB Precious Metals', 'PowerShares DB Silver', 'WisdomTree Global ex-US Utilities', 'db X-trackers MSCI UK Hdgd Eq ETF', 'PowerShares DB G10 Currency Harvest', 'DCA Total Return Fund', 'Donaldson Company, Inc.', 'Digital Cinema Destinations Corp.', 'Diana Containerships Inc.', 'NTT DOCOMO, Inc.', 'iPath Seasonal Natural Gas ETN', 'Ducommun Inc.', 'Dime Community Bancshares Inc.', 'DCT Industrial Trust Inc.', 'Delcath Systems, Inc.', 'E. I. du Pont de Nemours and Company', 'Dominion Diamond Corporation', '3D Systems Corp.', 'Dover Downs Gaming & Entertainment Inc.', 'Delaware Investments Dividend & Income Fund, Inc.', 'ProShares Short Oil & Gas', 'ProShares Ultra Dow30', 'PowerShares DB Commodity Short ETN', 'DDR Corp.', \"Dillard's Inc.\", 'Deere & Company', 'Dearborn Bancorp Inc.', 'Deckers Outdoor Corp.', 'PowerShares DB Commodity Dble Short ETN', 'Deer Consumer Products, Inc.', 'Guggenheim Defensive Equity', 'Etablissements Delhaize Freres et Cie Le Lion S.A.', 'Douglas Emmett Inc', 'Dejour Energy Inc.', 'Deltic Timber Corp.', 'Dell Inc.', 'WisdomTree Emerging Markets Equity Inc', \"Denny's Corporation\", 'Diageo plc', 'DepoMed Inc.', 'WisdomTree SmallCap Dividend', 'Destination Maternity Corporation', 'WisdomTree Global Equity Income', 'Delaware Enhanced Global Divide', 'Dean Foods Company', 'WisdomTree Europe SmallCap Dividend', 'WisdomTree Japan SmallCap Dividend', \"Del Frisco's Restaurant Group, Inc.\", 'Discover Financial Services', 'DuPont Fabros Technology, Inc.', 'iPath US Treasury 5-year Bear ETN', 'R.G. Barry Corporation', 'Dollar General Corporation', 'Delta Natural Gas Co. Inc.', 'VelocityShares 3x Inv Natural Gas ETN', 'DigitalGlobe, Inc.', 'Donegal Group Inc.', 'Digi International Inc.', 'Digital Generation, Inc.', 'PowerShares DB Gold', 'Digital Ally Inc.', 'PowerShares DB Gold Double Long ETN', 'WisdomTree Emerging Mkts Dividend Gr', 'WisdomTree US Dividend Growth', 'WisdomTree Emerging Mkts SmallCap Div', 'DGSE Companies Inc.', 'SPDR Global Dow ETF', 'Quest Diagnostics Inc.', 'PowerShares DB Gold Short ETN', 'Dreyfus High Yield Strategies Fund', 'DWS High Income Opportunities F', 'DR Horton Inc.', 'Diamond Hill Investment Group Inc.', 'Danaher Corp.', 'Dehaier Medical Systems Limited', 'WisdomTree Equity Income', 'DHT Holdings, Inc.', 'Dice Holdings, Inc.', 'Credit Suisse High Yield Bond Fund', 'SPDR Dow Jones Industrial Average', 'Dial Global, Inc.', 'ProShares Ultra Oil & Gas', 'WisdomTree International MidCap Dividend', 'DineEquity, Inc.', 'Diodes Incorporated', 'iPath Pure Beta Agriculture ETN', 'Walt Disney Co.', 'Discovery Communications, Inc.', 'Dish Network Corp.', 'AMCON Distributing Co.', 'Global X SuperDividend US ETF', 'UBS E-TRACS DJ-UBS Commodity Idx TR ETN', 'Daily Journal Corp.', 'iPath DJ-UBS Commodity Index TR ETN', 'Delek US Holdings Inc.', 'Delek Logistics Partners, LP', \"Dick's Sporting Goods Inc.\", 'China Distance Education Holdings Limited', 'Delta Apparel Inc.', 'Dolby Laboratories, Inc.', 'iPath US Treasury Long Bond Bear ETN', 'Dialogic, Inc.', 'DLH Holdings Corp.', 'dELiA*s, Inc.', 'DFC Global Corp.', 'WisdomTree LargeCap Dividend', 'Delphi Automotive PLC', 'Digital Realty Trust Inc.', 'WisdomTree International SmallCap Div', 'Dollar Tree, Inc.', 'Deluxe Corp.', 'The Dolan Company', 'Demand Media, Inc.', 'Dreyfus Municipal Income Inc.', 'Dorchester Minerals LP', 'Diamond Foods, Inc.', 'Digimarc Corporation', 'Dun & Bradstreet Corp.', 'DNB Financial Corp.', 'Dendreon Corp.', 'Dividend and Income Fund, Inc. ', \"Dunkin' Brands Group, Inc.\", 'WisdomTree Global ex-US Growth', 'Denison Mines Corp.', 'United States Short Oil', 'DNP Select Income Fund Inc.', 'Denbury Resources Inc.', 'The Denali Fund Inc.', 'Diamond Offshore Drilling Inc.', 'Physicians Realty Trust', 'ELEMENTS DJ High Yield Select 10 ETN', 'ProShares Short Dow30', 'VelocityShares 3x Inver Brent Crude ETN', 'WisdomTree International LargeCap Div', 'Dole Food Company Inc.', 'Dominion Resources Black Warrior Trust', 'WisdomTree MidCap Dividend', 'WisdomTree International Div ex-Finncls', 'Masonite International Corporation', 'Dorman Products, Inc.', 'Dover Corp.', 'Dover Saddlery, Inc.', 'The Dow Chemical Company', 'Amdocs Limited', 'Dow 30 Premium & Dividend Income Fund Inc.', 'Direxion Daily Dev Mkts Bear 3X Shrs', 'DCP Midstream Partners LP', 'Dow 30 Premium Dow 30 Enhanced ', 'Dr Pepper Snapple Group, Inc.', 'PowerShares DB Commodity Long ETN', 'Digital Power Corp.', \"Domino's Pizza, Inc.\", 'Daqo New Energy Corp.', 'Digirad Corporation', 'Dataram Corporation', 'Dresser-Rand Group Inc.', 'Dynamics Research Corp.', 'DRDGOLD Ltd.', 'Duke Realty Corp.', 'RBS Global Big Pharma ETN', 'Diamondrock Hospitality Co.', 'Darden Restaurants, Inc.', 'Diamond Resorts International, Inc.', 'Digital River Inc.', 'Doral Financial Corp.', 'Direxion Daily Real Estate Bull 3X Shrs', 'Dril-Quip, Inc.', 'Market Vectors Double Short Euro ETN', 'DURECT Corporation', 'Durata Therapeutics, Inc.', 'Direxion Daily Real Estate Bear 3X Shrs', 'WisdomTree Global ex-US Real Estate', 'DragonWave Inc.', 'DryShips, Inc.', 'Derma Sciences Inc.', 'Discovery Laboratories Inc.', 'Descartes Systems Group Inc.', 'iShares KLD 400 Social Index', 'DS Healthcare Group, Inc.', 'Dreyfus Strategic Municipal Bond Fund Inc.', 'DSP Group Inc.', 'Document Security Systems, Inc.', 'DST Systems Inc.', 'DayStar Technologies Inc.', 'JPMorgan 2X Short US Long Trsy Fut ETN', 'BlackRock Debt Strategies Fund, Inc.', 'PowerShares Chinese Yuan Dim Sum Bond', 'DSW Inc.', 'Deswell Industries Inc.', 'Diana Shipping Inc.', 'WisdomTree Total Dividend', 'DTE Energy Co.', 'DTF Tax-Free Income Inc.', 'WisdomTree DEFA Equity Income', 'Datalink Corp.', 'WisdomTree Dividend ex-Financials', 'PowerShares DB Crude Oil Dble Short ETN', 'DTS Inc.', 'iPath US Treasury 2-year Bear ETN', 'DIRECTV, Inc.', 'iPath US Treasury 10-year Bull ETN', 'iPath US Treasury 10-year Bear ETN', 'Duff & Phelps Utility & Corporate Bond Trust Inc.', 'ProShares UltraShort Oil & Gas', 'Duke Energy Corporation', 'Direxion Daily Gold Miners Bear 3X Shrs', 'DeVry, Inc.', 'DaVita, Inc.', 'Dynavax Technologies Corporation', 'Diversicare Healthcare Services Inc.', 'Dover Motorsports Inc.', 'Cohen & Steers Dividend Majors Fund Inc.', 'Devon Energy Corporation', 'Dynavox Inc.', 'Cal Dive International Inc', 'iShares Dow Jones Select Dividend Index', 'iShares Asia/Pacific Dividend', 'iShares Emerging Markets Dividend', 'UBS E-TRACS Mo Pay 2x DJ Select Div ETN', 'Drew Industries Inc.', 'DreamWorks Animation SKG Inc.', 'Datawatch Corp.', 'WisdomTree DEFA', 'Demandware, Inc.', 'Dawson Geophysical Co.', 'VelocityShares 3x Inverse Crude ETN', 'SPDR S&P International Dividend', 'Dynex Capital Inc.', 'DexCom, Inc.', 'ProShares UltraShort Dow30', 'WisdomTree Japan Hedged Equity', 'Destination XL Group, Inc.', 'Dex Media, Inc.', 'DXP Enterprises, Inc.', 'Daxor Corp.', 'The Dixie Group, Inc.', 'Dycom Industries Inc.', 'Dyax Corp.', 'Dynegy Inc.', 'Dynatronics Corp.', 'Dynasil Corporation of America', 'PowerShares DB Commodity Dble Long ETN', 'Direxion Daily Dev Mkts Bull 3X Shrs', 'PowerShares DB Gold Double Short ETN', 'Eni SpA', 'Electronic Arts Inc.', 'Erickson Air-Crane Incorporated', 'Wells Fargo Advantage Income Opportunities Fund', 'Global Eagle Acquisition Corp.', 'Pax MSCI EAFE ESG Index ETF', 'Ellington Residential Mortgage REIT', 'Brinker International Inc.', 'eBay Inc.', 'Ennis Inc.', 'Ebix Inc.', 'Eagle Bancorp Montana, Inc.', 'SPDR Barclays Capital EM Local Bond ETF', 'Centrais Electricas Brasileiras S.A.', 'Emergent BioSolutions, Inc.', 'Meridian Interstate Bancorp, Inc.', 'Enterprise Bancorp Inc.', 'Ecopetrol SA', 'Encana Corporation', 'Ellsworth Fund Ltd.', 'iShares MSCI Chile Investable Mkt Idx', 'Echo Global Logistics, Inc.', 'Ecolab Inc.', 'iShares MSCI China Small Cap Index', 'US Ecology, Inc.', 'ChannelAdvisor Corporation', 'EGShares Emerging Markets Consumer', 'Encore Capital Group, Inc.', 'ECA Marcellus Trust I', 'Echo Therapeutics, Inc.', 'Endocyte, Inc.', 'Consolidated Edison Inc.', 'EDAP TMS SA', 'Direxion Daily Emrg Mkts Bull 3X Shares', 'Morgan Stanley Emerging Markets', 'Empire District Electric Co.', 'iShares MSCI Denmark Capped', 'Edgen Group Inc.', 'Edgewater Technology Inc.', 'SPDR S&P Emerging Markets Dividend', 'Education Management Corporation', 'Edenor SA', 'Education Realty Trust Inc.', 'Exceed Company Ltd.', 'New Oriental Education & Technology Group', 'Educational Development Corp.', 'Vanguard Extended Dur Trs Idx ETF', 'Direxion Daily Emrg Mkts Bear 3X Shares', 'El Paso Electric Co.', 'European Equity Fund Inc. (The)', 'Guggenheim BRIC', 'Euronet Worldwide Inc.', 'ELEMENTS SPECTRUM Lg Cap U.S. Sector ETN', 'PowerShares S&P Emerging MktsHigh Beta', 'Ecology & Environment, Inc.', 'PowerShares S&P Emerging Markets Low Vol', 'iShares MSCI Emerging Markets Index', 'iShares MSCI Emerging Markets Asia', 'iShares MSCI Emerging Markets EMEA', 'iShares MSCI Emerging Markets Latin Amer', 'Guggenheim EW Euro-Pacific LDRs', 'Enbridge Energy Partners LP', 'Enbridge Energy Management LLC', 'WisdomTree SmallCap Earnings', 'ProShares Ultra MSCI Emerging Markets', 'ProShares UltraShort MSCI Emerging Mkts', 'iShares MSCI EAFE Index', 'Ellington Financial LLC', 'iShares MSCI EAFE Growth Index', 'Electronics for Imaging, Inc.', 'iShares MSCI Finland Capped', 'ProShares Ultra MSCI EAFE', 'Energy Focus, Inc.', 'Eaton Vance Senior Floating Rate Trust', 'Enterprise Financial Services Corp.', 'Eaton Vance Floating-Rate Income Trust', 'ProShares UltraShort MSCI EAFE', 'e-Future Information Technology Inc.', 'iShares MSCI EAFE Value Index', 'Equifax Inc.', 'ProShares Short MSCI EAFE', 'eGain Communications Corp.', 'Gas Natural Inc.', 'Eagle Bancorp, Inc.', 'BlackRock Enhanced Government Fund, Inc.', '8x8 Inc.', 'Entree Gold Inc.', 'Engility Holdings, Inc.', 'Eagle Bulk Shipping, Inc.', 'Energen Corp.', 'Eldorado Gold Corp.', 'NIC Inc.', 'EastGroup Properties Inc.', 'Market Vectors Egypt Index ETF', 'iShares MSCI Emerging Markets Growth', 'Entertainment Gaming Asia Inc.', 'Vaalco Energy Inc.', 'Western Asset Global High Income Fund Inc.', 'eHealth, Inc.', 'Eaton Vance California Municipal Bond Fund II', 'iShares MSCI Indonesia Invstble Mkt Idx', 'Employers Holdings, Inc.', 'Endurance International Group Holdings, Inc.', 'Eastern Insurance Holdings, Inc.', 'Eaton Vance Municipal Bond Fund', 'Eaton Vance Ohio Municipal Bond Fund', 'Eaton Vance Pennsylvania Municipal Bond Fund', 'iShares MSCI Ireland Cppd Invstb Mkt Idx', 'iShares MSCI Israel Cap Invest Mkt Index', 'Eaton Vance Municipal Bond Fund II', 'Edison International', 'E-House (China) Holdings Limited', 'Europe 2001 HOLDRS', 'Estee Lauder Companies Inc.', 'WisdomTree Emerging Markets Local Debt', 'Endologix Inc.', 'Ellie Mae, Inc. Common Stock', 'Ellomay Capital Ltd.', 'Electromed, Inc.', 'Elan Corporation, plc', 'EarthLink Inc.', 'Echelon Corporation', 'Syneron Medical Ltd.', 'Companhia Paranaense de Energia', 'Electro Rent Corp.', 'Equity LifeStyle Properties, Inc.', 'Electro-Sensors Inc.', 'Eltek Ltd.', 'Emulex Corporation', 'Callaway Golf Co.', 'eMagin Corp.', 'iShares JPMorgan USD Emerg Markets Bond', 'EMC Corporation', 'WisdomTree Emer Mkts Corporate Bond', 'SPDR BofA ML EM Corp Bd ETF', 'Emclaire Financial Corp.', 'EMC Insurance Group Inc.', 'Western Asset Emerging Markets Income Fund Inc.', 'EGShares Emerg Mkts Domestic Demand ETF', 'EGShares Emerging Markets Div Gr ETF', 'iShares MSCI Emerging Mkts Cnsmr Discret', 'EMCOR Group Inc.', 'Emerge Energy Services LP Commo', 'iShares MSCI Emerging Mkts Energy Capped', 'Templeton Emerging Markets Fund, Inc.', 'iShares MSCI Emerg Mrkts Financials Idx', 'SPDR MSCI EM 50 ETF', 'EGShares EM Dividend High Income ETF', 'iShares Emerging Markets High Yield Bond', 'Eaton Vance Michigan Municipal Income Trust', 'iShares S&P Emerging Mkts Infrastructure', 'Emisphere Technologies, Inc.', 'Elbit Imaging Ltd.', 'Eaton Vance New Jersey Municipal Bond Fund', 'EMCORE Corporation', 'Eastern Co.', 'Market Vectors EM Local Curr Bond ETF', 'First Trust North American Energy Infras', 'Emmis Communications Corp.', 'iShares MSCI Emerg Mrkts Materials Idx', 'Eastman Chemical Co.', 'Emerson Electric Co.', 'Eurasian Minerals Inc.', 'Enbridge Inc.', 'Endeavour International Corporation', 'Endo Pharmaceuticals Holdings Inc.', 'ENGlobal Corp.', 'iShares Industrials Bond', 'Endurance Specialty Holdings Ltd.', 'Enersis S.A.', 'Reed Elsevier NV', 'EntreMed Inc.', 'EnerNOC, Inc.', 'Enphase Energy, Inc.', 'Energizer Holdings Inc.', 'EnerSys', 'The Ensign Group, Inc.', 'Global Eagle Entertainment Inc.', 'Enanta Pharmaceuticals, Inc.', 'Entegris, Inc.', 'Entropic Communications, Inc.', 'Envestnet, Inc.', 'Envivio, Inc.', 'Eaton Vance New York Municipal Bond Fund', 'Guggenheim Canadian Energy Income', 'Enzo Biochem Inc.', 'iShares MSCI New Zealand Invstb Mkt Idx', 'Enzon Pharmaceuticals Inc.', 'Enzymotec Ltd.', 'Empresa Nacional de Electricidad S.A.', 'Wells Fargo Advantage Global Di', 'EOG Resources, Inc.', 'Eaton Vance Enhanced Equity Income Fund', 'eOn Communications Corp.', 'E2open, Inc.', 'Eaton Vance Enhanced Equity Income Fund II', 'Emerald Oil, Inc.', 'EPAM Systems, Inc.', 'Ambassadors Group Inc.', 'Bottomline Technologies Inc.', 'El Paso Pipeline Partners, L.P.', 'Enterprise Products Partners LP', 'iShares MSCI Philippines Invstb Mkt Idx', 'WisdomTree India Earnings', 'EPIQ Systems, Inc.', 'Energy Partners Ltd.', 'Evolution Petroleum Corp.', 'iShares MSCI Poland Investable Mkt Index', 'iShares MSCI Pacific ex-Japan', 'Entertainment Properties Trust', 'WisdomTree Earnings 500', 'iShares MSCI All Peru Capped Index', 'ProShares UltraShort MSCI Europe', 'Epizyme, Inc.', 'Equinix, Inc.', 'ALPS Equal Sector Weight ETF', 'EQT Midstream Partners, LP', 'Equity Residential', 'Equus Total Return, Inc.', 'EQT Corporation', 'Equal Energy Ltd.', 'Equity One Inc.', 'Era Group Inc.', 'ERBA Diagnostics, Inc.', 'Wells Fargo Advantage Multi-Sector Income Fund', 'Enerplus Corporation', 'Wells Fargo Advantage Utilities and High Income Fund', 'LM Ericsson Telephone Co.', 'Erie Indemnity Co.', 'Energy Recovery, Inc.', 'Embraer SA', 'iPath EUR/USD Exchange Rate ETN', 'Eagle Rock Energy Partners, L.P.', 'Empire Resources Inc.', 'iShares MSCI Russia Capped Index', 'VelocityShares Equal Risk Wtd Lg Cp ETF', 'Direxion Daily Energy Bull 3X Shares', 'Direxion Daily Energy Bear 3X Shares', 'ESB Financial Corp.', 'Elmira Savings Bank', 'Emeritus Corp.', 'Escalade Inc.', 'Legg Mason Partners Income Trust - Western Asset Emerging Markets Debt Portfolio', 'ESCO Technologies Inc.', 'Euroseas, Ltd.', 'Enstar Group Limited', 'ITT Educational Services Inc.', 'Electro Scientific Industries Inc.', 'Esterline Technologies Corp.', 'Elbit Systems Ltd.', 'Escalon Medical Corp.', 'Essent Group Ltd.', 'Espey Manufacturing & Electronics Corp.', 'Esperion Therapeutics, Inc.', 'iShares MSCI Emerg Mkts Eastern Eur Idx', 'Empire State Realty Trust, Inc.', 'Express Scripts Inc.', 'Essex Property Trust Inc.', 'Essa Bancorp, Inc.', 'Essex Rental Corp.', 'Earthstone Energy, Inc.', 'Ensco plc', 'Community Bankers Trust Corporation', 'Elecsys Corporation', 'Elephant Talk Communications Corp.', 'Eaton Vance Tax-Managed BuyWrite Income Fund', 'Energy Transfer Equity, L.P.', 'Aberdeen Emerging Markets Telecommunications Fund, Inc.', 'E*TRADE Financial Corporation', 'Eaton Vance Tax Advantaged Global Dividend Income Fund', 'Ethan Allen Interiors Inc.', 'Eaton Vance Risk-Managed Divers', 'Entercom Communications Corp.', 'Eaton Corporation', 'Eaton Vance Tax-Advantaged Global Dividend Opportunities Fund', 'Energy Transfer Partners LP', 'Entergy Corporation', 'EnteroMedics, Inc.', 'Eaton Vance Tax-Managed Buy-Write Opportunities Fund', 'Eaton Vance Tax-Managed Global Buy-Write Opportunities Fund', 'Eaton Vance Tax-Managed Diversified Equity Income Fund', 'WisdomTree Euro Debt', 'iShares MSCI Europe Financials Index', 'ProShares Short MSCI Emerging Markets', 'ProShares UltraShort Euro', 'iShares MSCI USA Index', 'Eaton Vance Corp.', 'Edwards Group Limited', 'iShares MSCI Emerging Markets Value', 'Evans Bancorp Inc.', 'Eastern Virginia Bankshares Inc.', 'Entravision Communications Corporation', 'EV Energy Partners LP', 'EverBank Financial Corp.', 'Eaton Vance Senior Income Trust', 'Eaton Vance Short Duration Diversified Income Fund', 'Envision Healthcare Holdings, Inc.', 'EnviroStar, Inc.', 'Eaton Vance New Jersey Municipal Income Trust', 'Ever-Glory International Group, Inc.', 'Eaton Vance California Municipal Bond Fund', 'Eaton Vance Municipal Income Trust', 'Eaton Vance Ohio Municipal Income Trust', 'Evoke Pharma, Inc.', 'Evolving Systems Inc.', 'Eaton Vance Pennsylvania Municipal Income Trust', 'Evercore Partners Inc.', 'EveryWare Global, Inc.', 'Eaton Vance Tax-Advantaged Dividend Income Fund', 'EVERTEC, Inc.', 'Eaton Vance Limited Duration Income Fund', 'Market Vectors Environmental Svcs ETF', 'Eaton Vance New York Municipal Income Trust', 'Edwards Lifesciences Corp.', 'iShares MSCI Australia Index', 'iShares MSCI Australia Small-Cap', 'East West Bancorp, Inc.', 'iShares MSCI Canada Index', 'iShares MSCI Canada Small-Cap', 'iShares MSCI Sweden Index', 'Rydex MSCI Emerging Mkt Equal Weight ETF', 'iShares MSCI Germany Index', 'iShares MSCI Germany Small-Cap', 'iShares MSCI Hong Kong Index', 'iShares MSCI Hong Kong Small Cap', 'iShares MSCI Italy Index', 'iShares MSCI Japan Index', 'iShares MSCI Belgium Investable Mkt Idx', 'iShares MSCI Switzerland Index', 'iShares MSCI Malaysia Index', 'iShares MSCI Netherlands Invstbl Mkt Idx', 'iShares MSCI Austria Investable Mkt Idx', 'iShares MSCI Spain Index', 'iShares MSCI France Index', 'Rydex Russell 1000 Equal Weight ETF', 'Rydex Russell MidCap Equal Weight ETF', 'Rydex Russell 2000 Equal Weight ETF', 'iShares MSCI Singapore Index', 'iShares MSCI Singapore Small Cap Fund', 'iShares MSCI Taiwan Index', 'iShares MSCI United Kingdom Index', 'iShares MSCI United Kingdom Small-Cap', 'ProShares UltraShort MSCI Japan', 'iShares MSCI Mexico Investable Mkt Idx', 'SPDR S&P Emerging Markets Small Cap', 'iShares MSCI South Korea Index', 'iShares MSCI Brazil Index', 'iShares MSCI Brazil Small Cap Index', 'Exa Corporation', 'Exactech Inc.', 'ExamWorks Group, Inc.', 'Exar Corp.', 'Exact Sciences Corporation', 'Exelon Corporation', 'Crexendo, Inc.', 'Exelixis, Inc.', 'EXFO Inc', 'Eaton Vance Tax-Managed Global ', 'Exterran Holdings, Inc.', 'iShares S&P Global Industrials', 'Endeavour Silver Corp.', 'Excel Trust, Inc.', 'Exterran Partners, L.P.', 'Exlservice Holdings, Inc.', 'Eagle Materials Inc.', 'Expeditors International of Washington Inc.', 'Expedia Inc.', 'Exponent Inc.', 'Express Inc.', 'Extra Space Storage Inc.', 'WisdomTree Total Earnings', 'Extreme Networks Inc.', 'Energy XXI (Bermuda) Limited', 'iShares MSCI South Africa Index', 'EZchip Semiconductor Ltd.', 'ProShares Ultra MSCI Japan', 'WisdomTree MidCap Earnings', 'EZCORP, Inc.', 'iShares MSCI EMU Index', 'WisdomTree LargeCap Value', 'Ford Motor Co.', 'First Trust Multi Cap Value AlphaDEX', 'First Acceptance Corp.', 'First Trust Multi Cap Growth AlphaDEX', 'First American Financial Corporation', 'Falconstor Software Inc.', 'First Trust/Aberdeen Global Opportunity Income Fund', 'First Trust Global Wind Energy', 'Diamondback Energy, Inc.', 'Farmer Brothers Co.', 'FARO Technologies Inc.', 'Direxion Daily Financial Bull 3X Shares', 'Fastenal Company', 'Fate Therapeutics, Inc.', 'First Trust Australia AlphaDEX', 'First Trust Active Dividend Inc', 'Aberdeen Asia-Pacific Income Fund Inc.', 'Direxion Daily Financial Bear 3X Shares', 'Facebook, Inc.', 'Flagstar Bancorp Inc.', 'UBS Fisher Enhanced Big Cap Growth ETN', 'Fortune Brands Home & Security, Inc.', 'First Business Financial Services, Inc.', 'Firstbank Corporation', 'First Bancshares Inc.', 'First Bancorp', 'First Connecticut Bancorp, Inc.', 'First Bancorp', 'Fibria Celulose SA', 'FBR & Co.', 'Fauquier Bankshares Inc.', 'First Trust NYSE Arca Biotech Index', 'Franklin Covey Co.', 'First Trust Canada AlphaDEX', 'First Capital Inc.', 'First Community Bancshares, Inc. (Bluefield)', 'First Community Corporation', '1st Constitution Bancorp', 'Forest City Enterprises Inc.', 'FuelCell Energy Inc.', 'First Commonwealth Financial Corp.', 'First Cash Financial Services Inc.', 'First Trust ISE-Revere Natural Gas Idx', 'FelCor Lodging Trust Inc.', 'iShares FTSE China (HK Listed) Index', 'Focus Morningstar Consumer Cyclical ETF', 'First Clover Leaf Financial Corp.', 'FTI Consulting, Inc.', 'First Citizens Bancshares Inc.', 'Aberdeen Global Income Fund Inc.', 'Fairchild Semiconductor International Inc.', 'Fibrocell Science, Inc.', 'First Trust Senior Floating Rat', '1st Century Bancshares, Inc.', 'First Capital Bancorp, Inc.', 'Freeport-McMoRan Copper & Gold Inc.', 'First Citizens Banc Corp.', 'First Trust STOXX Euro Select Div Idx', 'First Defiance Financial Corp.', 'Fort Dearborn Income Securities Inc.', 'First Trust Morningstar Div Leaders Idx', 'First Trust Dow Jones Select MicroCp Idx', 'Federal-Mogul Corp.', 'First Trust Dow Jones Internet Index', 'Family Dollar Stores Inc.', 'Fresh Del Monte Produce Inc.', 'FactSet Research Systems Inc.', 'First Trust Dev Markets Ex-US AlphaDEX', 'First Trust Dev Mkts ex-US SC AlphaDEX', 'Fidus Investment Corporation', 'First Trust Strategic Value Index', 'FedEx Corporation', 'FirstEnergy Corp.', 'iShares MSCI Far East Financials', 'FEI Company', 'Frequency Electronics Inc.', 'Franklin Electric Co. Inc.', 'First Trust Emerging Markets SC AlphaDEX', 'Energy Income & Growth Fund', 'Phoenix New Media Limited', 'First Trust/Aberdeen Emerging Opportunity Fund', 'First Trust Europe AlphaDEX', 'Forbes Energy Services Ltd.', 'Forum Energy Technologies, Inc.', 'SPDR STOXX Europe 50', 'First Trust Large Cap Core AlphaDEX', 'FireEye, Inc.', 'SPDR EURO STOXX 50', 'FutureFuel Corp.', 'First Trust Enhanced Equity Income Fund', 'First Financial Bancorp.', 'First Federal Bancshares of Arkansas Inc.', 'Flaherty & Crumrine/Claymore Preferred Securities Income Fund Inc.', 'FedFirst Financial Corp.', 'FBL Financial Group Inc.', 'Fuwei Films (Holdings) Co., Ltd.', 'Flushing Financial Corp.', 'First Financial Bankshares Inc.', 'F5 Networks, Inc.', 'Farmers Capital Bank Corp.', 'First Financial Service Corp.', 'First Federal of Northern Michigan Bancorp, Inc.', 'First Financial Northwest, Inc.', 'First Trust FTSE EN Dev Mkts Rel Est Idx', 'First Trust Specialty Finance a', 'First Trust DJ Global Select Dividend', 'First Trust Germany AlphaDEX', 'Ferrellgas Partners LP', 'Focus Morningstar Health Care ETF', 'The Female Health Company', 'First Trust Hong Kong AlphaDEX', 'First Horizon National Corporation', 'First Trust Strategic High Inco', \"Frank's International N.V.\", 'First Interstate Bancsystem Inc.', 'Fair Isaac Corp.', 'Credit Suisse FI Enhanced Europe 50 ETN', 'Fortress Investment Group LLC', 'Federated Investors, Inc.', 'iShares MSCI Global Energy Producers', 'ProShares Short 30 Year TIPS/TSY Spread', 'Finish Line Inc.', 'Fusion-io, Inc.', 'Fidelity National Information Services, Inc.', 'Marlin Midstream Partners, LP', 'Financial Institutions Inc.', 'Fiserv, Inc.', 'Fifth Third Bancorp', 'Five Below, Inc.', 'PIMCO 3-7 Year U.S. Treasury Index ETF', 'First Trust ISE Water Idx', 'Comfort Systems USA Inc.', 'National Beverage Corp.', 'First Trust United Kingdom AlphaDEX', 'Foot Locker, Inc.', 'Forensic Accounting ETF', 'iPath US Treasury Flattener ETN', 'Flaherty & Crumrine/Claymore Total Return Fund, Inc.', 'Fluidigm Corporation', 'Flextronics International Ltd.', 'First of Long Island Corp.', 'FLIR Systems, Inc.', 'Full House Resorts Inc.', 'First Trust ISE Glbl Engnrg & Const Idx', 'Flamel Technologies SA', 'Flowers Foods, Inc.', 'iShares Floating Rate Note', 'Flow International Corp.', 'Fluor Corporation', 'SPDR Barclays Cap Inv Gr Floating Rt ETF', 'Flowserve Corp.', 'FleetCor Technologies, Inc.', 'Market Vectors Inv Grade Floating Rt ETF', 'Fleetmatics Group PLC', '1-800-Flowers.com Inc.', 'Flexsteel Industries Inc.', 'FLY Leasing Limited', 'iShares MSCI Frontier 100', 'First Mariner Bancorp', 'First Midwest Bancorp Inc.', 'FMC Corp.', 'First Marblehead Corp.', 'FirstMerit Corporation', 'Foundation Medicine, Inc.', 'First Trust Mega Cap Alphadex', 'Federated Premier Municipal Income Fund', 'Farmers National Banc Corp.', 'Fiduciary/Claymore MLP Opportunity Fund', 'Fresenius Medical Care AG & Co. KGAA', 'Fomento Econ', 'First Trust/Fidac Mortgage Income Fund', 'Fabrinet', 'F.N.B. Corporation', 'Schwab Fundamental US Small Company ETF', 'Schwab Fundamental US Broad Market ETF', 'Schwab Fundamental Intl Sm Co ETF', 'Schwab Fundamental Intl Lg Co ETF', 'Schwab Fundamental US Large Company ETF', 'Fidelity National Financial, Inc.', 'First Niagara Financial Group Inc.', 'Financial Engines, Inc.', 'Federated National Holding Company', 'First Trust ISE Chindia Idx', 'iShares FTSE NAREIT Industrl/Offc Cp Idx', 'The First Bancorp, Inc.', 'Fifth & Pacific Companies, Inc.', 'ForceField Energy Inc.', 'Finisar Corp.', 'Franco-Nevada Corporation', 'First Trust Mid Cap Core AlphaDEX', 'Ferro Corp.', 'Cohen & Steers Closed-End Oppor', 'FactorShares 2X: Oil Bull/S&P500 Bear', 'Amicus Therapeutics, Inc.', 'First Trust NASDAQ CEA Smartphone Idx', 'Fonar Corp.', 'Forestar Group Inc.', 'Forward Industries Inc.', 'FormFactor Inc.', 'Forrester Research Inc.', 'Formula Systems (1985) Ltd.', 'PIMCO Foreign Currency Strategy ETF', 'Fossil, Inc.', 'Twenty-First Century Fox, Inc.', 'Fox Factory Holding Corp', 'First Trust Preferred Sec & Inc ETF', 'First Potomac Realty Trust', 'Fieldpoint Petroleum Corp.', 'Five Prime Therapeutics, Inc.', 'Federated Premier Intermediate Municipal Income Fund', 'First Trust US IPO Index', 'First Industrial Realty Trust Inc.', 'BlackRock Floating Rate Income Strategies Fund, Inc.', 'Market Vectors Unconventl Oil & Gas ETF', \"Francesca's Holdings Corporation\", 'Republic First Bancorp Inc.', 'First Republic Bank', 'Friedman Industries Inc.', \"Fred's, Inc.\", 'FreeSeas Inc.', 'Fortegra Financial Corporation', 'Fiesta Restaurant Group, Inc.', 'First Trust S&P REIT Idx', 'Furmanite Corporation', 'First Merchants Corp.', 'Guggenheim Frontier Markets', 'Franklin Financial Corporation', 'Frontline Ltd.', 'Fairpoint Communications, Inc.', \"Frisch's Restaurants Inc.\", 'Federal Realty Investment Trust', 'Forest Laboratories Inc.', 'FactorShares 2X: TBond Bull/S&P500 Bear', 'First South Bancorp Inc.', 'FS Bancorp, Inc.', 'Fifth Street Finance Corp.', 'FactorShares 2X: S&P500 Bull/TBond Bear', 'First Savings Financial Group, Inc.', 'FactorShares 2X: Gold Bull/S&P500 Bear', 'First Security Group, Inc.', 'Flexible Solutions International Inc.', 'Freescale Semiconductor Holdings I, Ltd.', 'First Solar, Inc.', 'Fortuna Silver Mines Inc.', 'Franklin Street Properties Corp.', 'FirstService Corp.', 'Federal Signal Corp.', 'Forest Oil Corp.', 'LB Foster Co.', 'FactorShares 2X: S&P500 Bull/USD Bear', 'Fuel Systems Solutions, Inc.', 'First Trust Switzerland AlphaDEX', 'Franklin Universal Trust', 'First Trust Large Cap Value Opp AlphaDEX', 'Frontier Financial Corporation', 'First Trust Large Cap Gr Opp AlphaDEX', 'FTD Companies, Inc.', 'FTD Companies, Inc.', 'Fuel-Tech, Inc.', 'Franklin Templeton Limited Duration Income Trust', 'FMC Technologies, Inc.', 'Flotek Industries Inc.', 'Fortinet Inc.', 'Frontier Communications Corporation', 'iShares FTSE NAREIT Real Estate 50', 'FAB Universal Corporation', '1st United Bancorp, Inc.', 'UBS E-TRACS CMCI Food TR ETN', 'ELEMENTS MLCX Biofuels Index TR ETN', 'SMF Energy Corporation', 'HB Fuller Co.', 'Full Circle Capital Corporation', 'Fulton Financial Corporation', 'Cedar Fair, L.P.', 'First United Corporation', 'Royce Focus Trust, Inc.', 'Winthrop Realty Trust', 'Furiex Pharmaceuticals, Inc.', 'First Trust Value Line Dividend Index', 'Five Star Quality Care Inc.', 'First Trust Value Line Equity Allc Index', 'First Trust Value Line 100 ETF', 'Madrona Global Bond ETF', 'Madrona Domestic ETF', 'Madrona International ETF', 'Foster Wheeler AG', 'Fairway Group Holdings Corp.', 'Forward Air Corp.', 'First West Virginia Bancorp Inc.', 'CurrencyShares Australian Dollar Trust', 'CurrencyShares British Pound Sterling Tr', 'CurrencyShares Canadian Dollar Trust', 'Fox Chase Bancorp, Inc.', 'CurrencyShares Chinese Renminbi Trust', 'FXCM Inc.', 'First Trust Consumer Disc AlphaDEX', 'CurrencyShares Euro Trust', 'FX Energy Inc.', 'CurrencyShares Swiss Franc Trust', 'First Trust Consumer Staples AlphaDEX', 'First Trust Health Care AlphaDEX', 'iShares FTSE China 25 Index Fund', 'First Trust Technology AlphaDEX', 'First Trust Energy AlphaDEX', 'First Trust Financials AlphaDEX', 'ProShares UltraShort FTSE China 25', 'First Trust Indust/Producer Dur AlphaDEX', 'CurrencyShares Swedish Krona Trust', 'CurrencyShares Singapore Dollar Trust', 'First Trust Utilities AlphaDEX', 'CurrencyShares Japanese Yen Trust', 'First Trust Materials AlphaDEX', 'First Trust Small Cap Core AlphaDEX', 'Genpact Ltd.', 'Giant Interactive Group, Inc.', 'Gabelli Equity Trust, Inc.', 'German American Bancorp Inc.', 'SPDR S&P Emerging Middle East & Africa', 'Le Gaga Holdings Ltd', 'Global-Tech Advanced Innovations Inc.', 'Gaiam Inc.', 'Gladstone Investment Corporation', 'SPDR SSgA Global Allocation ETF', 'Galena Biopharma, Inc.', 'Galectin Therapeutics, Inc.', 'General American Investors Company, Inc.', 'Shanda Games Limited', 'Garrison Capital Inc', 'AGL Resources Inc.', 'Direxion Daily Nat Gas Rltd Bull 3X Shrs', 'StealthGas, Inc.', 'Direxion Daily Nat Gas Rltd Bear 3X Shrs', 'UBS E-TRACS Natural Gas Fut Contango ETN', 'iPath DJ-UBS Natural Gas TR Sub-Idx ETN', 'Greatbatch, Inc.', 'iPath GBP/USD Exchange Rate ETN', 'Glacier Bancorp Inc.', 'Golub Capital BDC LLC', 'iShares Barclays Government/Credit Bond', 'GAMCO Investors, Inc.', 'Global Indemnity plc', 'Guaranty Bancorp', 'New Concept Energy, Inc.', 'Greenbrier Companies', 'Global Cash Access Holdings, Inc.', 'GAIN Capital Holdings, Inc.', 'Greene County Bancorp, Inc.', 'GreenHaven Continuous Commodity Index', 'Claymore CEF GS Connect ETN', 'Granite City Food & Brewery Ltd.', 'The Greater China Fund, Inc.', 'Gannett Co., Inc.', 'Genesco Inc.', 'Globecomm Systems Inc.', 'Gabelli Convertible & Income Securities Fund Inc.', 'General Dynamics Corp.', 'Global Defense & National Security Systems, Inc.', 'Western Asset Global Partners Income Fund Inc.', 'GDL Fund, The Common Shares of ', 'Green Dot Corporation', 'Goodrich Petroleum Corp.', 'Gabelli Dividend & Income Trust', 'Market Vectors Gold Miners ETF', 'Market Vectors Junior Gold Miners ETF', 'General Electric Company', 'Greif, Inc.', 'Genesis Energy LP', 'PureFunds Diamond/Gemstone ETF', 'Gencor Industries Inc.', 'Genetic Technologies Ltd.', 'Gentium S.p.A', 'The GEO Group, Inc.', 'Geospace Technologies Corporation', 'Market Vectors Germany Small-Cap ETF', 'Geron Corporation', \"Guess' Inc.\", 'Synageva BioPharma Corp.', 'Gevo, Inc.', 'Market Vectors Glb Alternatve Energy ETF', 'New Germany Fund Inc.', 'Gafisa S.A.', 'Guaranty Federal Bancshares Inc.', 'Griffon Corporation', 'Gold Fields Ltd.', 'GFI Group Inc.', 'General Finance Corporation', 'Western Asset Variable Rate Strategic Fund Inc.', 'Goldcorp Inc.', 'Grupo Financiero Galicia S.A.', 'Gerdau S.A.', 'Graco Inc.', 'The Gabelli Global Gold, Natural Resources & Income Trust', 'ProShares German Sov / Sub-Sov Debt ETF', 'General Growth Properties Inc.', 'Global Geophysical Services, Inc.', 'Gabelli Global Multimedia Trust Inc.', 'Genomic Health Inc.', 'Global High Income Fund, Inc.', 'Greenhill & Co., Inc.', 'Graham Corp.', 'iShares Global High Yield Corporate Bond', 'CGI Group, Inc.', 'Gulf Island Fabrication Inc.', 'GigOptix, Inc.', 'Giga-tronics Inc.', 'GigaMedia Ltd.', 'SPDR FTSE/Macquarie Global Infra 100', 'G-III Apparel Group, Ltd.', 'Gildan Activewear Inc.', 'Gilead Sciences Inc.', 'Gilat Satellite Networks Ltd.', 'Templeton Global Income Fund, Inc.', 'Gigamon Inc.', 'General Mills, Inc.', 'Given Imaging Ltd.', 'Guggenheim Enhanced Core Bond', 'G&K Services Inc.', 'Geeknet, Inc.', 'Gladstone Capital Corporation', 'Globus Maritime Limited', 'Glen Burnie Bancorp', 'WisdomTree Global Corporate Bond', 'Gleacher & Company, Inc', 'SPDR Gold Shares', 'Golden Enterprises Inc.', 'Great Lakes Dredge & Dock Corporation', 'Credit Suisse Gold Shrs Cov Call Exc ETN', 'Global X Gold Explorers ETF', 'Gulfmark Offshore, Inc.', 'ProShares UltraShort Gold', 'Golar LNG Ltd.', 'GasLog Ltd.', 'Glowpoint, Inc.', 'Global Partners LP', 'Gaming and Leisure Properties, Inc', 'Gaming and Leisure Properties, Inc', 'Global Power Equipment Group Inc.', 'Clough Global Equity Fund', 'Greenlight Capital Re, Ltd.', 'PH Glatfelter Co.', 'ETFS Physical PM Basket Shares', 'The Gabelli Global Utility & Income Trust', 'Glu Mobile, Inc.', 'Clough Global Allocation Fund', 'Corning Inc.', 'General Motors Company', 'Gordmans Stores, Inc.', 'Green Mountain Coffee Roasters Inc.', 'GameStop Corp.', 'Globus Medical, Inc.', 'Geomet, Inc.', 'SPDR S&P Emerging Asia Pacific', 'SPDR S&P Small Cap Em Asia Pacific ETF', 'Gruma S.A.B. de CV', 'SPDR S&P Emerging Latin America', 'Golar LNG Partners LP', 'SPDR S&P Emerging Markets', 'General Moly, Inc.', 'GATX Corp.', 'Columbia Core Bond Strategy Fund', 'WisdomTree Global Natural Resources', 'Generex Biotechnology Corp.', 'GNC Holdings Inc.', 'General Communication Inc.', 'Genie Energy Ltd.', 'Great Northern Iron Ore Properties', 'Genco Shipping & Trading Ltd.', 'iShares GNMA Bond', 'GenMark Diagnostics, Inc.', 'SPDR S&P Global Natural Resources', 'Generac Holdings Inc.', 'Gentex Corp.', 'GenVec, Inc.', 'Genworth Financial Inc.', 'Guggenheim Strategic Opportunit', 'Gogo Inc.', 'GOL Linhas A', 'Randgold Resources Limited', 'Gladstone Commercial Corp.', 'Google Inc.', 'Gold Resource Corp', 'Government Properties Income Trust', 'iShares U.S. Treasury Bond', 'Genuine Parts Company', 'Group 1 Automotive Inc.', 'Gaming Partners International Corporation', 'Graphic Packaging Holding Company', 'Great Panther Silver Ltd', 'Guggenheim Enhanced Equity Income Fund', 'Global Payments Inc.', 'Gulfport Energy Corp.', 'Guanwei Recycling Corp.', 'Green Plains Renewable Energy, Inc.', 'Gap Inc.', 'Gramercy Property Trust Inc.', 'GP Strategies Corp.', 'W.R. Grace & Co.', 'Gra', 'Gorman-Rupp Co.', 'Global X FTSE Greece 20 ETF', 'IQ Global Resources ETF', 'Eagle Capital Growth Fund, Inc.', 'GreenHunter Energy, Inc.', 'Cohen & Steers Global Realty Majors ETF', 'First Trust NASDAQ Cln Edge Smrt Grd Inf', 'Griffin Land & Nurseries Inc.', 'Garmin Ltd.', 'iPath Global Carbon ETN', 'Agria Corporation', 'U.S. Global Investors, Inc.', 'Groupon, Inc.', 'Asia Tigers Fund Inc.', 'Glimcher Realty Trust', 'ELEMENTS MLCX Grains Index TR ETN', 'Gravity Co., Ltd', 'iPath Pure Beta Softs ETN', 'The Goldman Sachs Group, Inc.', 'Globalstar Inc.', 'ALPS/GS Mom Bldr AsExJap Eq & US Trs ETF', 'GlobalSCAPE, Inc.', 'Great Southern Bancorp Inc.', 'GS Connect S&P GSCI Enh Commodity TR ETN', 'GSE Holdings Inc.', 'iShares S&P GSCI Commodity-Indexed Trust', 'ALPS/GS Mom Bldr Gr Mkts Eq& US Trs ETF', 'Guangshen Railway Co. Ltd.', 'General Steel Holdings, Inc.', 'GSI Group Inc.', 'GSI Technology Inc.', 'Compressco Partners, L.P.', 'GlaxoSmithKline plc', 'Global Ship Lease, Inc.', 'Globe Specialty Metals, Inc.', 'ALPS/GS Momentum Builder Multi-Asset ETF', 'Global Sources Ltd.', 'iPath S&P GSCI Total Return Index ETN', 'ALPS/GS Risk-Adjusted Ret US Lrg Cap ETF', 'Golden Star Resources, Ltd.', 'Gastar Exploration, Ltd.', 'Gold Standard Ventures Corp', 'GSV Capital Corp', 'Guggenheim Enhanced Short Dur Bond ETF', 'Goodyear Tire & Rubber Co.', 'Cambria Global Tactical ETF', 'GT Advanced Technologies Inc.', 'Gran Tierra Energy, Inc.', 'GrafTech International Ltd.', 'Good Times Restaurants Inc.', 'iShares Glob Inflation-Linked Bond Fund', 'Gentiva Health Services Inc.', 'Chart Industries Inc.', 'Gray Television Inc.', 'Triple-S Management Corporation', 'Global Telecom & Technology, Inc.', 'Central GoldTrust', 'Georgetown Bancorp Inc.', 'GTX Inc.', 'Getty Realty Corp.', 'Guidance Software, Inc.', 'WisdomTree Middle East Dividend', 'FlexShares Mstar Gbl Upstrm Nat Res ETF', 'SPDR S&P Emerging Europe', 'Gulf Resources, Inc.', 'Global X Top Guru Holdings Index ETF', 'Gabelli Utility Trust', 'Goldfield Corp.', 'Granite Construction Incorporated', 'iShares Barclays Interm Govt/Credit Bond', 'GSE Systems Inc.', 'Columbia Concen Lg Cap Val Strat Fund', 'Greenway Medical Technologies, Inc.', 'SPDR S&P World ex-US', 'GW Pharmaceuticals plc', 'Genesee & Wyoming Inc.', 'Guidewire Software, Inc.', 'W.W. Grainger, Inc.', 'SPDR S&P International Small Cap', 'SPDR S&P China', 'Global X FTSE Nordic Region ETF', 'Global X FTSE Colombia 20 ETF', 'Great Plains Energy Incorporated', 'GenCorp Inc.', 'Arrow Dow Jones Global Yield ETF', 'Gyrodyne Co. of America Inc.', 'Gazit-Globe, Ltd.', 'Hyatt Hotels Corporation', 'Hawaiian Holdings Inc.', 'Haemonetics Corp.', 'Hanmi Financial Corporation', 'The Hain Celestial Group, Inc.', 'Halliburton Company', 'Hallmark Financial Services Inc.', 'Halozyme Therapeutics, Inc.', 'Guggenheim China Small Cap', 'Market Vectors RVE Hard Assets Prod ETF', 'Harman International Industries Inc.', 'Hasbro Inc.', 'Hannon Armstrong Sustainable Infrastructure Capital, Inc.', 'Hastings Entertainment Inc.', 'Hauppauge Digital Inc.', 'Helios Advantage Income Fund, Inc.', 'Blackhawk Network Holdings, Inc.', 'Haynes International Inc.', 'Huntington Bancshares Incorporated', 'HSBC Holdings plc', 'Home Bancorp, Inc.', 'Hancock Holding Co.', 'Hanesbrands Inc.', 'Harvard Bioscience Inc.', 'Hamilton Bancorp, Inc.', 'HudBay Minerals, Inc.', 'Howard Bancorp Inc.', 'Horizon Bancorp.', 'Hampden Bancorp, Inc.', 'Heritage Financial Group, Inc.', 'HCA Holdings, Inc.', 'Harvest Capital Credit Corporation', 'Hudson City Bancorp, Inc.', 'HCC Insurance Holdings Inc.', 'Heritage-Crystal Clean, Inc', 'HCI Group, Inc.', 'The Hackett Group, Inc.', 'Hi-Crush Partners LP', 'Health Care REIT, Inc.', 'Hawaiian Telcom Holdco, Inc.', 'HCP, Inc.', 'Healthcare Services Group Inc.', 'The Home Depot, Inc.', 'HDFC Bank Ltd.', 'ProShares Hedge Replication ETF', 'Active Bear ETF', 'AdvisorShares Athena Intl Bear ETF', 'Hardinge Inc.', 'HD Supply Holdings, Inc.', 'Hudson Technologies Inc.', 'Hyperdynamics Corporation', 'Hawaiian Electric Industries Inc.', 'SmartHeat Inc.', 'Hemispherx Biopharma, Inc.', 'WisdomTree International Hedged Equity', 'H&E Equipment Services Inc.', 'HEICO Corp.', 'Helen of Troy Limited', 'Heritage Oaks Bancorp', 'Holly Energy Partners L.P', 'Hercules Offshore, Inc.', 'Hess Corporation', 'iPath Pure Beta Industrial Metals ETN', 'HFF, Inc.', 'HopFed Bancorp Inc.', 'Home Federal Bancorp, Inc. of Louisiana', 'HollyFrontier Corporation', 'HF Financial Corp.', 'Heritage Financial Corp.', 'hhgregg, Inc.', 'Guggenheim International Multi-Asset Inc', 'Hanger Orthopedic Group Inc.', 'China HGS Real Estate Inc.', 'Hugoton Royalty Trust', 'Hooper Holmes Inc.', 'The Howard Hughes Corporation', 'Internet HOLDRS', 'Harte-Hanks Inc.', 'Helios High Yield Fund Inc.', 'Hillenbrand, Inc.', 'Hibbett Sports, Inc.', 'Hingham Institution for Savings', 'Hartford Financial Services Group Inc.', 'Helios High Income Fund, Inc', 'Highway Holdings Ltd.', 'Huntington Ingalls Industries, Inc.', 'Health Insurance Innovations, Inc.', 'Hill International, Inc.', 'Dot Hill Systems Corp.', 'EGShares Low Volatility EM Dividend ETF', 'Himax Technologies, Inc.', 'Western Asset High Income Opportunity Fund Inc.', 'BlackRock High Income Shares', 'Hi Tech Pharmacal Co. Inc.', 'Hittite Microwave Corporation', 'Highwoods Properties Inc.', 'Western Asset High Income Fund II Inc.', 'Halcon Resources Corp.', 'IQ Hong Kong Small Cap ETF', 'Hecla Mining Co.', 'Herbalife Ltd.', 'Harmonic Inc.', 'HEALTHSOUTH Corp.', 'Home Loan Servicing Solutions, Ltd.', 'Helix Energy Solutions Group, Inc.', 'Health Management Associates Inc.', 'Honda Motor Co., Ltd.', 'Home Properties Inc.', 'HMG/Courtland Properties Inc.', 'Helios Multi-Sector High Income Fund, Inc', 'Home Inns & Hotels Management Inc.', 'Horace Mann Educators Corp.', 'HMN Financial Inc.', 'Helios & Matheson Information Technology, Inc.', 'Hampton Roads Bankshares Inc.', 'HomeStreet, Inc.', 'HMS Holdings Corp.', 'Hemisphere Media Group, Inc.', 'Harmony Gold Mining Co. Ltd.', 'Handy & Harman Ltd.', 'HNI Corp.', 'Huaneng Power International Inc.', 'Harvest Natural Resources Inc.', 'Hallador Energy Company', 'Hansen Medical, Inc.', 'Health Net, Inc.', 'Hooker Furniture Corp.', 'Harley-Davidson, Inc.', 'Hollysys Automation Technologies, Ltd', 'Hollywood Media Corp.', 'Hologic Inc.', 'Home Bancshares, Inc. (Conway, AR)', 'Home Federal Bancorp Inc.', 'Honeywell International Inc.', 'Hornbeck Offshore Services, Inc.', 'Starwood Hotels & Resorts Worldwide Inc.', 'Chanticleer Holdings, Inc.', 'Hovnanian Enterprises Inc.', 'Helmerich & Payne Inc.', 'John Hancock Preferred Income Fund II', 'John Hancock Preferred Income Fund', 'Highpower International, Inc.', 'Harris Interactive Inc.', 'Hudson Pacific Properties, Inc.', 'Hewlett-Packard Company', 'John Hancock Preferred Income Fund III', 'Hospitality Properties Trust', 'Hyperion Therapeutics, Inc.', 'Heartland Payment Systems, Inc.', 'H&Q Healthcare Investors', 'H&Q Life Sciences Investors', 'Healthcare Realty Trust Inc.', 'H&R Block, Inc.', 'Hill-Rom Holdings, Inc.', 'Harbinger Group Inc.', 'Hormel Foods Corp.', 'Harris Corp.', 'Arrhythmia Research Technology Inc.', 'Horizon Technology Finance Corporation', 'Helios Strategic Income Fund, Inc.', 'Harsco Corporation', 'The Hillshire Brands Company', 'Henry Schein, Inc.', 'Heidrick & Struggles International Inc.', 'Heska Corp.', 'HSN, Inc.', 'Hanwha SolarOne Co., Ltd', 'Hudson Global, Inc', 'Hospira Inc.', 'Horizons S&P 500 Covered Call ETF', 'Host Hotels & Resorts Inc.', 'Healthstream Inc.', 'Hershey Co.', 'Hersha Hospitality Trust', 'Healthcare Trust of America, Inc.', 'HomeTrust Bancshares, Inc.', 'Heritage Commerce Corp.', 'Heat Biologics, Inc.', 'Hutchinson Technology Inc.', 'Hickory Tech Corp.', 'John Hancock Tax Advantaged Dividend Income Fund', 'Hercules Technology Growth Capital, Inc.', 'Hilltop Holdings Inc.', 'China Lodging Group, Limited', 'Heartland Express, Inc.', 'Heartland Financial USA Inc.', 'US Geothermal Inc.', 'Helios Total Return Fund, Inc.', 'Hatteras Financial Corp', 'Harris Teeter Supermarkets, Inc.', 'HF2 Financial Management Inc.', 'Heartware International Inc.', 'John Hancock Tax-Advantaged Glo', 'Hertz Global Holdings, Inc.', 'Hubbell Inc.', 'Hub Group Inc.', 'Humana Inc.', 'Huntsman Corporation', 'Hurco Companies Inc.', 'Huron Consulting Group Inc.', 'Houston American Energy Corp.', 'Huntington US Equity Rotation Strat ETF', 'Hudson Valley Holding Corp.', 'ALPS US Equity High Volatility Put Write', 'Haverty Furniture Companies Inc.', 'Headwaters Inc.', 'Healthways Inc.', 'Hawthorn Bancshares, Inc.', 'Houston Wire & Cable Company', 'The Hallwood Group Incorporated', 'Hawkins Inc.', 'Hexcel Corp.', 'Homex Development Corp.', 'Hyster-Yale Materials Handling, Inc.', 'The New America High Income Fund Inc.', 'Market Vectors High-Yield Muni ETF', 'Market Vectors Emer Mkts Hi Yld Bond ETF', 'Managed High Yield Plus Fund Inc.', 'iShares iBoxx $ High Yield Corporate Bd', 'Hydrogenics Corp.', 'ProShares High Yield-Interest Rate Hdgd', 'Peritus High Yield ETF', 'SPDR Nuveen S&P High Yield Municipal Bd', 'PIMCO 0-5 Year Hi Yld Corp Bond Idx ETF', 'BlackRock Corporate High Yield Fund VI, Inc.', 'BlackRock Corporate High Yield Fund V, Inc.', 'iShares Global ex USD High Yield Corp Bd', 'Horizon Pharma, Inc.', 'Marinemax Inc.', 'Intelsat S.A.', 'IAC/InterActiveCorp.', 'ING Asia Pacific High Dividend ', 'Aberdeen Australia Equity Fund Inc.', 'IAMGOLD Corp.', 'Internet Architecture HOLDRS', 'iShares Dow Jones US Broker-Dealers', 'iShares Dow Jones US Insurance', 'Integra LifeSciences Holdings Corporation', 'iShares Dow Jones US Regional Banks', 'iShares Gold Trust', 'Industrias Bachoco S.A.B. de C.V.', 'iShares Nasdaq Biotechnology', 'Intervest Bancshares Corp.', 'iSharesBond 2016 Corp ex-Fincls Term', 'iSharesBond 2018 Corp ex-Fincls Term', 'iSharesBond 2020 Corp ex-Fincls Term', 'iSharesBond 2023 Corp ex-Fincls Term', 'Independent Bank Corporation', 'iSharesBond 2016 Corporate Term', 'iSharesBond 2018 Corporate Term', 'iSharesBond 2020 Corporate Term', 'iSharesBond 2023 Corporate Term', 'iBio, Inc.', 'IberiaBank Corp.', 'Interactive Brokers Group, Inc.', 'International Business Machines Corp.', 'ICICI Bank Ltd.', 'SPDR Barclays Capital Intl Corp Bond', 'International Bancshares Corporation', 'Independent Bank Group, Inc.', 'Empresas ICA, S.A.B. de C.V.', 'icad Inc.', 'Morgan Stanley Income Securities Inc.', 'ImmuCell Corp.', 'IntercontinentalExchange, Inc.', 'Cellular Dynamics International, Inc.', 'iShares Cohen & Steers Realty Majors', 'ICF International Inc.', 'ICG Group, Inc.', 'Investors Capital Holdings, Ltd.', 'iPath Optimized Currency Carry ETN', 'InterCloud Systems, Inc.', 'iShares S&P Global Clean Energy Index', 'ICON plc', 'WisdomTree Dreyfus Indian Rupee', 'iShares MSCI Colombia Capped', 'Iconix Brand Group, Inc.', 'Intercept Pharmaceuticals, Inc.', 'ICU Medical, Inc.', 'IdaCorp, Inc.', 'InterDigital, Inc.', 'PowerShares S&P Intl Dev High Beta', 'PowerShares S&P Intl Dev High Quality', 'SearchMedia Holdings Ltd.', 'Idenix Pharmaceuticals Inc.', 'PowerShares S&P Intl Dev Low Volatility', 'Intellicheck Mobilisa, Inc.', 'ALPS International Sector Div Dogs ETF', 'Idera Pharmaceuticals, Inc.', 'Industrial Services of America, Inc.', 'ID Systems Inc.', 'IDT Corporation', 'Integrated Device Technology, Inc.', 'iShares Dow Jones US Utilities', 'iShares Dow Jones Intl Select Div Idx', 'Market Vectors Indonesia Index ETF', 'Market Vectors Indonesia Small-Cap ETF', 'IDEXX Laboratories, Inc.', 'IEC Electronics Corp.', 'iShares Barclays 7-10 Year Treasury', 'iShares Barclays 3-7 Year Treasury Bond', 'iShares Enhanced US Large-Cap', 'iShares Dow Jones US Oil & Gas Ex Index', 'Icahn Enterprises, L.P.', 'Integrated Electrical Services, Inc.', 'iShares Enhanced US Small-Cap', 'iShares S&P Europe 350 Index', 'IDEX Corporation', 'iShares Dow Jones US Oil Equipment Index', 'Aberdeen Indonesia Fund, Inc.', 'iShares FTSE EPRA/NAREIT Dev Asia Idx', 'iShares FTSE EPRA/NAREIT Dev EU Idx', 'International Flavors & Fragrances Inc.', 'iShares FTSE EPRA/NAREIT Dev RE ex-US', 'Institutional Financial Markets, Inc.', 'India Fund, Inc.', 'iShares FTSE EPRA/NAREIT North America', 'Infinity Energy Resources Inc.', 'Infosonics Corp.', 'iShares FTSE Dev Sm Cap ex-North Amer', 'Imperial Holdings, Inc.', 'IGI, Laboratories, Inc.', 'ING Global Advantage and Premium Opportunity Fund', 'India Globalization Capital, Inc.', 'ING Global Equity Dividend & Premium Opportunity Fund', 'iShares S&P North Amer Natural Resources', 'iShares S&P Global Infrastructure Index', 'Internet Gold Golden Lines Ltd.', 'iShares S&P North Amer Technology', 'iShares S&P North Amer Tech-Multimd Ntwk', 'iGo, Inc.', 'iShares S&P/Citi Intl Treasury Bond', 'ING Clarion Global Real Estate Income Fund', 'International Game Technology', 'iGATE Corporation', 'ProShares Ultra Investment Grade Corp', 'iShares S&P North Amer Tech-Software', 'Independence Holding Co.', 'iShares Dow Jones US Pharmaceuticals', 'iShares Dow Jones US Healthcare Provider', 'Intercontinental Hotels Group plc', 'iShares Dow Jones US Medical Devices', 'IHS Inc.', 'Innsuites Hospitality Trust', 'Market Vectors Intl High Yield Bond ETF', 'ING International High Dividend', 'Morgan Stanley India Investment Fund, Inc.', 'Internet Infrastructure HOLDRS', 'Information Services Group, Inc.', 'Insteel Industries Inc.', 'Internet Initiative Japan Inc.', 'Interval Leisure Group, Inc.', 'Invesco Insured Municipal Income Trust', 'Intricon Corp.', 'II-VI Inc.', 'iShares S&P MidCap 400 Index', 'iShares S&P MidCap 400 Value Index', 'iShares S&P MidCap 400 Growth Index', 'iShares S&P SmallCap 600 Index', 'iShares S&P SmallCap 600 Value Index', 'iShares S&P SmallCap 600 Growth', 'Ikanos Communications, Inc.', 'Iao Kun Group Holding Company Limited', 'Ikonics Corp.', 'IntraLinks Holdings, Inc.', 'PIMCO Global Advantage Infl-Lkd Bd ETF', 'iShares S&P Latin America 40 Index', 'Illumina Inc.', 'iShares Core Long-Term US Bond ETF', 'Ingram Micro Inc.', 'IMAX Corporation', 'Intermountain Community Bancorp', 'Western Asset Inflation Management Fund Inc.', 'Immunogen Inc.', 'Impac Mortgage Holdings Inc.', 'Intermolecular, Inc.', 'Ingles Markets Inc.', 'Immersion Corporation', 'Immunomedics Inc.', 'Imprimis Pharmaceuticals, Inc.', 'Imation Corp.', 'Imperial Oil Ltd.', 'ChipMOS TECHNOLOGIES (Bermuda) LTD.', 'Imperva Inc.', 'IMRIS, Inc.', 'ImmunoCellular Therapeutics, Ltd.', 'Internap Network Services Corp.', 'Cohen & Steers Global Income Builder, Inc.', 'First Internet Bancorp', 'EGShares India Consumer', 'Incyte Corporation', 'iShares MSCI India', 'Independent Bank Corp.', 'Direxion Daily India Bull 3X Shares', 'iShares S&P India Nifty 50 Index', 'Informatica Corporation', 'Infinity Pharmaceuticals, Inc.', 'PowerShares DB US Inflation ETN', 'Infinera Corporation', 'InfuSystem Holdings, Inc.', 'Infosys Ltd.', 'ING Groep NV', 'Ingredion Incorporated', 'Interactive Intelligence, Inc.', 'SPDR SSgA Income Allocation ETF', 'Summit Hotel Properties, Inc.', 'Inovio Pharmaceuticals, Inc.', 'Innotrac Corp.', 'Innodata Isogen Inc.', 'iPath MSCI India Index ETN', 'Interphase Corp.', 'Market Vectors Indian Rupee/USD ETN', 'Intelligent Systems', 'Insmed Incorporated', 'INSYS Therapeutics, Inc.', 'World Fuel Services Corp.', 'Intel Corporation', 'InterGroup Corp.', 'INTL FCStone Inc.', 'inTEST Corp.', 'Intuit Inc.', 'Intersections Inc.', 'Inuvo, Inc.', 'Identive Group, Inc.', 'InvenSense, Inc.', 'InnerWorkings Inc.', 'Interxion Holding NV', 'EGShares India Infrastructure', 'SPDR Nuveen Barclays Capital NY Muni Bd', 'ION Geophysical Corporation', 'InterOil Corporation', 'IQ Global Oil Small Cap Equity ETF', 'iShares S&P Global 100 Index', 'Innospec Inc.', 'Income Opportunity Realty Investors Inc.', 'International Paper Co.', 'Inter Parfums Inc.', 'iPass Inc.', 'Infinity Property and Casualty Corp.', 'IntelliPharmaCeutics International Inc.', 'IPC The Hospitalist Company, Inc.', 'SPDR S&P International Cons Disc Sector', 'Professional Diversity Network LLC', 'SPDR Barclays Capital TIPS', 'SPDR S&P International Financial Sector', 'iShares S&P Intl Preferred Stock Index', 'The Interpublic Group of Companies, Inc.', 'IPG Photonics Corporation', 'Inphi Corporation', 'Innophos Holdings Inc', 'Intrepid Potash, Inc.', 'SPDR S&P International Technology Sector', 'SPDR S&P International Industrial Sector', 'SPDR S&P International Cons Stapl Sector', 'SPDR S&P International Utilities Sector', 'SPDR S&P International Energy Sector', 'Impax Laboratories Inc.', 'FlexShares International Qual Div Dfnsv', 'FlexShares International Qual Div', 'FlexShares International Qual Div Dyn', 'Invesco Quality Municipal Income Trust', 'Inteliquent, Inc.', 'Ingersoll-Rand Plc', 'iRobot Corporation', 'Inland Real Estate Corp.', 'Iridium Communications Inc.', 'The Governor and Company of The Bank of Ireland', 'Investors Real Estate Trust', 'International Rectifier Corporation', 'Ignite Restaurant Group, Inc.', 'IRIDEX Corporation', 'The New Ireland Fund, Inc.', 'Iron Mountain Inc.', 'IF Bancorp, Inc.', 'ING Risk Managed Natural Resour', 'IRSA Investments and Representations Inc.', 'Independence Realty Trust, Inc.', 'SPDR S&P International Materials Sector', 'Ironwood Pharmaceuticals Inc.', 'SPDR S&P International HealthCare Sector', 'Investors Bancorp Inc.', 'International Speedway Corp.', 'International Shipholding Corp.', 'iShares S&P/Citi 1-3 Yr Intl Treasury Bd', 'iShares S&P 1500 Index', 'Insignia Systems Inc.', 'Intersil Corporation', 'Isis Pharmaceuticals, Inc.', 'Aberdeen Israel Fund Inc.', 'Isle of Capri Casinos, Inc.', 'Image Sensing Systems, Inc.', 'IsoRay, Inc.', 'Market Vectors Israel ETF', 'Intuitive Surgical, Inc.', 'Isramco Inc.', 'Isoftstone Holdings Limited', 'Innovative Solutions & Support Inc.', 'Integrated Silicon Solution Inc.', 'SPDR S&P International Telecom Sector', 'Gartner Inc.', 'iShares Dow Jones US Aerospace & Defense', 'iShares Dow Jones US Home Construction', 'ITC Holdings Corp.', 'SPDR Barclays Capital Interm Term Trs', 'iShares S&P/TOPIX 150 Index', 'Investment Technology Group Inc.', 'Iteris, Inc.', 'Investors Title Co.', 'iShares Intnl Inflation-Linked Bond Fund', 'Market Vectors Intermediate Muni ETF', 'InterMune Inc.', 'iShares Core S&P Total US Stock Mkt ETF', 'SPDR Barclays Cap Interm Term Corp Bnd', 'Itron, Inc.', 'Ituran Location & Control Ltd.', 'ITT Corporation', 'Itau Unibanco Holding S.A.', 'Illinois Tool Works Inc.', 'Intevac Inc.', 'Ivanhoe Energy Inc.', 'Invacare Corporation', 'iShares S&P 500 Value Index', 'Vanguard S&P Mid-Cap 400 Growth Idx ETF', 'Vanguard S&P Mid-Cap 400 Index ETF', 'iPath Inverse S&P 500 VIX ST Fut ETN II', 'Vanguard S&P Mid-Cap 400 Value Index ETF', 'Invesco Mortgage Capital Inc.', 'iShares S&P 500 Index', 'iShares S&P 500 Growth Index', 'Invesco Ltd.', 'iShares Russell 1000 Index', 'iShares Russell Microcap Index', 'iShares Russell 1000 Value Index', 'iShares Russell 1000 Growth Index', 'iShares Russell Top 200 Index', 'iShares Russell 2000 Index', 'iShares Russell 2000 Value Index', 'iShares Russell 2000 Growth Index', 'iShares Russell Midcap Growth Index', 'iShares Russell Midcap Index', 'iShares Russell Midcap Value Index', 'iShares Russell 3000 Index', 'iShares Russell 3000 Value Index', 'iShares Russell Top 200 Value Index', 'iShares Russell Top 200 Growth Index', 'iShares Russell 3000 Growth Index', 'ORIX Corp.', 'iShares S&P Global Energy', 'iShares S&P Global Financials', 'iShares S&P Global Healthcare', 'iShares S&P Global Technology', 'iShares S&P Global Telecommunications', 'IXYS Corp.', 'iShares Dow Jones US Consumer Services', 'iShares Dow Jones US Energy', 'iShares Dow Jones US Financial Sector', 'iShares Dow Jones US Financial Services', 'iShares Dow Jones US Healthcare', 'iShares Dow Jones US Industrial', 'iShares Dow Jones US Consumer Goods', 'iShares Morningstar Multi-Asset Income', 'iShares Dow Jones US Basic Materials', 'iShares Dow Jones US Real Estate', 'iShares Dow Jones Transportation Average', 'iShares Dow Jones US Technology', 'iShares Dow Jones U.S. Index', 'iShares Dow Jones US Telecom', 'Jack in the Box Inc.', 'Collabrium Japan Acquisition Corporation', 'Jarden Corp.', 'JAKKS Pacific, Inc.', 'JA Solar Holdings Co., Ltd.', 'Jacksonville Bancorp, Inc.', 'Jazz Pharmaceuticals plc', 'JB Hunt Transport Services Inc.', 'Jabil Circuit Inc.', 'JetBlue Airways Corporation', 'John B Sanfilippo & Son Inc.', 'John Bean Technologies Corporation', 'Nuveen Core Equity Alpha Fund N', 'Johnson Controls Inc.', 'j2 Global, Inc.', 'J. C. Penney Company, Inc.', 'Communications Systems Inc.', 'Jewett-Cameron Trading Co. Ltd.', 'Nuveen Diversified Dividend & Income Fund', 'JDS Uniphase Corporation', 'Just Energy Group Inc.', 'Jacobs Engineering Group Inc.', 'iPath GEMS Index ETN', 'Japan Equity Fund Inc.', 'Jeffersonville Bancorp', 'Jefferson Bancshares Inc.', 'JF China Region Fund, Inc.', 'Nuveen Floating Rate Income Fund', 'Powershares DB 3x Inver Jap Gov Bond ETN', 'Powershares DB Inverse Jap Gov Bond ETN', 'Nuveen Global Government Enhanc', 'Nuveen Global Value Opportuniti', 'John Hancock Investors Trust', 'Nuveen Quality Preferred Income Fund 3', 'John Hancock Income Securities Trust', 'James Hardie Industries SE', 'Jive Software, Inc.', 'iPath DJ-UBS Agriculture TR Sub-Idx ETN', 'iPath DJ-UBS Copper TR Sub-Idx ETN', 'iPath DJ-UBS Energy TR Sub-Idx ETN', 'iPath DJ-UBS Grains TR Sub-Idx ETN', 'iPath DJ-UBS Ind Metals TR Sub-Idx ETN', 'iPath DJ-UBS Nickel TR Sub-Idx ETN', 'iPath DJ-UBS Prec Metals TR Sub-Idx ETN', 'iPath DJ-UBS Softs TR Sub-Idx ETN', 'J&J Snack Foods Corp.', 'iPath DJ-UBS Tin TR Sub-Idx ETN', 'iPath DJ-UBS Aluminum TR Sub-Idx ETN', 'iShares Morningstar Large Core Index', 'iShares Morningstar Large Growth Index', 'iShares Morningstar Large Value Index', 'iShares Morningstar Mid Core Index', 'iShares Morningstar Mid Growth Index', 'Jack Henry & Associates Inc.', 'iShares Morningstar Mid Value Index', 'iShares Morningstar Small Core Index', 'iShares Morningstar Small Growth Index', 'iShares Morningstar Small Value Index', 'JinkoSolar Holding Co., Ltd.', 'Nuveen Equity Premium Advantage Fund', 'Jones Lang Lasalle Inc.', 'Jamba, Inc.', 'Javelin Mortgage Investment Corp', 'JMP Group Inc.', 'Johnson & Johnson', 'SPDR Barclays Capital High Yield Bond', 'Juniper Networks, Inc.', 'Janus Capital Group, Inc.', 'The Jones Group Inc.', 'iPath DJ-UBS Coffee TR Sub-Idx ETN', 'General Employment Enterprises Inc.', '51job Inc.', 'The St. Joe Company', \"Joe's Jeans Inc.\", 'Japan Smaller Capitalization Fund Inc.', 'Jones Energy, Inc.', 'Jos. A Bank Clothiers Inc.', 'Johnson Outdoors Inc.', 'Joy Global, Inc.', 'Nuveen Multi-Strategy Income & Growth Fund', 'Nuveen Equity Premium and Growth Fund', 'JPMorgan Chase & Co.', 'Direxion Daily Japan Bull 3X Shares', 'Direxion Daily Japan Bear 3X Shares', 'SPDR Russell/Nomura PRIME Japan', 'Nuveen Quality Preferred Income Fund 2', 'ProShares UltraShort MSCI Pacific ex-Jpn', 'Nuveen Equity Premium Income Fund', 'Nuveen Multi-Strategy Income & Growth Fund 2', 'James River Coal Co.', 'China Finance Online Co. Ltd.', 'Journal Communications Inc.', 'Nuveen Floating Rate Income Opportunity Fund', 'Nuveen Real Estate Income Fund', 'SPDR Russell/Nomura Small Cap Japan', 'Jones Soda Co.', 'Nuveen Equity Premium Opportunity Fund', 'Jinpan International Ltd.', 'Nuveen Tax Advantaged Total Return Strategy Fund', 'Nuveen Tax-Advantaged Dividend Growth Fund', 'Nuveen Quality Preferred Income Fund', 'Global X Junior Miners ETF', 'Coffee Holding Co.Inc.', 'John Wiley & Sons Inc.', 'Nordstrom Inc.', 'iShares S&P Global Utilities', 'Jacksonville Bancorp Inc.', 'Kellogg Company', 'Kadant Inc.', 'Kaiser Aluminum Corporation', 'Kaman Corporation', 'KAR Auction Services, Inc.', 'KB Financial Group, Inc.', 'Kimball International, Inc.', 'SPDR S&P Bank ETF', 'KB Home', 'KaloBios Pharmaceuticals, Inc.', 'KBR, Inc.', 'PowerShares KBW Bank', 'PowerShares KBW Capital Markets', 'PowerShares KBW Hi Div Yield Financial', 'PowerShares KBW Insurance', 'PowerShares KBW Prop & Casuality Insur', 'PowerShares KBW Regional Banking', 'PowerShares KBW International Financial', 'PowerShares KBW Prem Yield Equity REIT', 'Kimber Resources Inc.', 'Kohlberg Capital Corporation', 'SPDR S&P Capital Markets ETF', 'Knight Capital Group, Inc.', 'Kansas City Life Insurance Company', 'Kayne Anderson Energy Development Company', 'Korea Equity Fund Inc.', 'Key Energy Services Inc.', 'Kelly Services, Inc.', 'KEMET Corp.', 'Korea Electric Power Corp.', 'Kewaunee Scientific Corp.', 'Keryx Biopharmaceuticals Inc.', 'Kirby Corporation', 'KeyCorp', 'The KEYW Holding Corporation', 'The Korea Fund Inc.', 'Kentucky First Federal Bancorp, Inc.', 'KKR Financial Holdings LLC', 'Kforce Inc.', 'Kingsway Financial Services Inc.', 'Korn/Ferry International', 'KraneShares CSI China Five Year Plan ETF', 'Kinross Gold Corporation', 'Kingold Jewelry, Inc.', 'DWS High Income Trust', 'Kid Brands, Inc.', 'SPDR S&P Insurance ETF', 'Kimco Realty Corporation', 'Kingstone Companies, Inc.', 'KiOR, Inc.', 'Keating Capital, Inc.', 'Kips Bay Medical, Inc.', \"Kirkland's Inc.\", 'Krispy Kreme Doughnuts, Inc.', 'Kohlberg Kravis Roberts & Co.', 'KLA-Tencor Corporation', 'iShares MSCI USA ESG Select Index', 'Kulicke & Soffa Industries Inc.', 'Kimberly-Clark Corporation', 'SPDR S&P Mortgage Finance ETF', 'KMG Chemicals Inc.', 'Kinder Morgan, Inc.', 'DWS Multi-Market Income Trust', 'Kinder Morgan Energy Partners LP', 'Kemper Corporation', 'Kinder Morgan Management LLC', 'Kennametal Inc.', 'CarMax Inc.', 'Kindred Healthcare Inc.', 'Kandi Technologies, Corp', 'Knoll Inc.', 'Konami Corp.', 'KNOT Offshore Partners LP', 'Direxion All Cap Insider Sentiment Shrs', 'Knight Transportation Inc.', 'The Coca-Cola Company', 'Eastman Kodak Co.', 'Coca-Cola FEMSA S.A.B de C.V.', 'Kodiak Oil & Gas Corp.', 'Market Vectors Coal ETF', 'ProShares UltraShort DJ-UBS Natural Gas', 'Kona Grill Inc.', 'Kingtone Wirelessinfo Solution Holding Ltd.', 'Kongzhong Corp.', 'ThermoGenesis Corp.', 'Koppers Holdings Inc.', 'Kopin Corp.', 'Michael Kors Holdings Ltd.', 'Direxion Daily South Korea Bull 3X Shrs', 'Direxion Daily South Korea Bear 3X Shrs', 'Kosmos Energy Ltd', 'Koss Corp.', 'Karyopharm Therapeutics, Inc.', 'The Kroger Co.', 'Kraton Performance Polymers Inc.', 'Kilroy Realty Corp.', 'SPDR S&P Regional Banking ETF', 'Kraft Foods Group, Inc.', 'Kite Realty Group Trust', 'Kearny Financial Corp.', 'Kronos Worldwide Inc.', 'IQ Australia Small Cap ETF', 'ProShares Short KBW Regional Banking', 'ProShares Ultra KBW Regional Banking', 'KapStone Paper and Packaging Corporation', 'DWS Strategic Municipal Income Trust', \"Kohl's Corp.\", 'DWS Strategic Income Trust', 'Kansas City Southern', 'KT Corp.', 'Key Tronic Corp.', 'Key Technology Inc.', 'DWS Municipal Income Trust', 'Kratos Defense & Security Solutions, Inc.', 'Ku6 Media Co., Ltd.', 'KVH Industries Inc.', 'Kennedy-Wilson Holdings, Inc.', 'Quicksilver Resources Inc.', 'Quaker Chemical Corporation', 'Market Vectors Solar Energy ETF', 'iShares S&P Global Consumer Staples', 'Kayne Anderson Energy Total Return Fund', 'Kayne Anderson MLP Investment Company', 'Kyocera Corp.', 'Kythera Biopharmaceuticals, Inc.', 'Loews Corporation', 'Louisiana Bancorp, Inc.', 'Multi-Color Corp.', 'Lakes Entertainment Inc.', 'Lithia Motors Inc.', 'SPDR Barclays Capital Aggregate Bond', 'Lakeland Industries Inc.', 'Lamar Advertising Co.', 'Lancaster Colony Corporation', 'Gladstone Land Corporation', 'Aberdeen Latin America Equity Fund, Inc.', 'Landmark Bancorp Inc.', 'Lentuo International Inc.', 'Market Vectors LatAm Small-Cap Index ETF', 'Lawson Products Inc.', 'Layne Christensen Co.', 'Lazard Ltd.', 'Lakeland Bancorp Inc.', 'DWS Global High Income Fund, Inc.', 'Leading Brands Inc.', 'Direxion Daily Latin America Bull 3X Shs', 'PowerShares DB 3x Lng 25+ Yr Trsy Bd ETN', 'Liberty Global Inc.', 'Libbey Inc.', 'LCA-Vision Inc.', 'US Airways Group, Inc.', 'Lannett Company, Inc.', 'Advent/Claymore Enhanced Growth & Income Fund', 'LCNB Corp.', 'Lifetime Brands, Inc.', 'iPath DJ-UBS Lead TR Sub-Idx ETN', 'Latin American Discovery Fund Inc.', 'LDK Solar Co., Ltd.', 'Lydall Inc.', 'Leidos Holdings, Inc.', 'Landauer Inc.', 'LDR Holding Corporation', 'Lear Corp.', 'Springleaf Holdings, LLC', 'Leap Wireless International Inc.', 'Lincoln Electric Holdings Inc.', 'SemiLEDs Corporation', 'Lee Enterprises Inc.', 'Leggett & Platt, Incorporated', 'Lucas Energy, Inc.', 'Lennar Corp.', 'Dreyfus Strategic Municipals Inc.', 'LeapFrog Enterprises Inc.', 'China Life Insurance Co. Ltd.', 'LAN Airlines S.A.', 'Littelfuse Inc.', 'Lifevantage Corporation', 'Laclede Group Inc.', 'Legacy Reserves Lp', 'Lions Gate Entertainment Corp.', 'Lazard Global Total Return and Income Fund, Inc.', 'The LGL Group, Inc.', 'SPDR Russell 1000 Low Volatility ETF', 'Ligand Pharmaceuticals Incorporated', 'Lehigh Gas Partners LP', 'Laboratory Corp. of America Holdings', 'LHC Group, Inc.', 'LaSalle Hotel Properties', 'Life Technologies Corporation', 'Lennox International, Inc.', 'Lime Energy Co.', 'LIN Media LLC', 'Lincoln Educational Services Corporation', 'Linn Energy, LLC', 'Liberty Interactive, Inc.', 'Fidelity Southern Corporation', 'Lionbridge Technologies Inc.', 'Liquid Holdings Group, LLC', 'Global X Lithium ETF', 'LightInTheBox Holding Co., Ltd.', 'LiveDeal, Inc.', 'Lihua International, Inc.', 'Lakeland Financial Corp.', 'LKQ Corp.', 'Lumber Liquidators Holdings, Inc.', 'L & L Energy, Inc.', 'L-3 Communications Holdings Inc.', 'Limelight Networks, Inc.', 'Linear Technology Corp.', 'Eli Lilly & Co.', 'Legg Mason Inc.', 'LeMaitre Vascular, Inc.', 'Liberty Capital Group', 'LMI Aerospace Inc.', 'Limoneira Company', 'Luminex Corporation', 'Lumos Networks Corp.', 'Lockheed Martin Corporation', 'LNB Bancorp Inc.', 'Lincoln National Corp.', \"Snyder's-Lance, Inc.\", 'Linn Co, LLC', 'Brasilagro Companhia Brasileira de Propriedades Agr', 'Landec Corp.', 'Cheniere Energy, Inc.', 'LinkedIn Corporation', 'Lindsay Corporation', 'Alliant Energy Corporation', 'Lorillard, Inc.', 'Manhattan Bridge Capital, Inc.', 'LifeLock, Inc.', 'Local.com Corp.', 'Comstock Mining, Inc.', 'Logitech International SA', 'LogMeIn, Inc.', 'LoJack Corp.', 'eLong Inc.', 'LookSmart, Ltd.', 'Grand Canyon Education, Inc.', 'Lazard World Dividend & Income Fund Inc.', 'Loral Space & Communications, Inc.', 'Spark Networks, Inc.', \"Lowe's Companies Inc.\", 'LipoScience, Inc.', 'Life Partners Holdings, Inc.', 'Laredo Petroleum Holdings, Inc.', 'LG Display Co., Ltd.', 'LPL Investment Holdings Inc.', 'Lifepoint Hospitals Inc.', 'Lender Processing Services, Inc.', 'Laporte Bancorp, Inc.', 'LivePerson Inc.', 'LightPath Technologies Inc.', 'Lpath Inc.', 'Louisiana-Pacific Corp.', 'iShares iBoxx $ Invest Grade Corp Bond', 'Liquidity Services, Inc.', 'LRAD Corporation', 'Lam Research Corporation', 'LRR Energy, L.P.', 'K12, Inc.', 'Liberty Property Trust', 'LSB Financial Corp.', 'Lake Shore Bancorp Inc.', 'ELEMENTS S&P CTI ETN', 'Lattice Semiconductor Corporation', 'CapLease, Inc.', 'Lake Shore Gold Corp.', 'LSI Corporation', 'iPath Pure Beta Livestock ETN', 'Landstar System Inc.', 'Lightbridge Corp.', 'LTC Properties Inc.', 'Limited Brands, Inc.', 'ProShares Ultra Telecommunications', 'Life Time Fitness Inc.', 'Linktone Ltd.', 'PIMCO 15+ Year US TIPS Index ETF', 'Learning Tree International Inc.', 'Lantronix, Inc.', 'Ladenburg Thalmann Financial Services Inc.', 'LTX-Credence Corporation', \"Luby's Inc.\", 'Leucadia National Corp.', 'Lululemon Athletica Inc.', 'Luna Innovations Incorporated', 'Southwest Airlines Co.', 'Luxottica Group SpA', 'Guggenheim S&P Global Dividend Opps Idx', 'Level 3 Communications Inc.', 'Liberty Ventures', 'Las Vegas Sands Corp.', 'Lifeway Foods Inc.', 'SPDR Barclays Capital Long CorpTerm Bd', 'Luxfer Holdings PLC', 'Luxoft Holding, Inc.', 'Lexmark International Inc.', 'Lexington Realty Trust', 'Lexicon Pharmaceuticals, Inc.', 'LSB Industries Inc.', 'LyondellBasell Industries NV', 'Lloyds Banking Group plc', 'LSI Industries Inc.', 'Live Nation Entertainment, Inc.', 'La-Z-Boy Inc.', \"Macy's, Inc.\", 'Mastercard Incorporated', 'Mid-America Apartment Communities Inc.', 'Eaton Vance Massachusetts Municipal Bond Fund', 'Macerich Co.', 'Mace Security International Inc.', 'Merrimack Pharmaceuticals, Inc.', 'Magnetek Inc.', 'Magal Security Systems Ltd.', 'Main Street Capital Corporation', 'MAKO Surgical Corp.', 'MAM Software Group, Inc.', 'ManpowerGroup', 'Manhattan Associates, Inc.', 'ManTech International Corporation', 'Manchester United plc', 'Marriott International, Inc.', 'Remark Media, Inc.', 'Marine Petroleum Trust', 'Masco Corporation', 'Material Sciences Corp.', 'Masimo Corporation', 'Mattel Inc.', 'Meidell Tactical Advantage ETF', 'Direxion Daily Basic Matls Bull 3X Shrs', 'Mattersight Corporation', 'Matthews International Corporation', 'Matson, Inc.', 'Pioneer Municipal High Income Advantage Trust', 'JW Mays Inc.', 'iShares Barclays MBS Bond', 'MB Financial Inc.', 'SPDR Barclays Cap Mortgage Backed Bond', 'MBIA Inc.', 'Marrone Bio Innovations, Inc.', 'Mediabistro Inc.', 'Metabolix, Inc.', 'Middleburg Financial Corporation', 'Mobile Telesystems OJSC', 'MBT Financial Corp.', 'Merchants Bancshares Inc.', 'Mercantile Bank Corp.', 'Blackrock MuniYield California Insured Fund, Inc.', 'Macatawa Bank Corp.', 'Metrocorp Bancshares Inc.', 'Madison County Financial, Inc.', 'Medley Capital Corporation', \"McDonald's Corp.\", 'Mid-Con Energy Partners, LP', 'Contango Oil & Gas Co.', 'MCG Capital Corporation', 'Microchip Technology Inc.', 'Marchex, Inc.', 'MassMutual Corporate Investors', 'McKesson Corporation', 'Madison/Claymore Covered Call & Equity Strategy Fund', \"Moody's Corp.\", 'Mecox Lane Limited', 'Molycorp, Inc.', 'MFS Charter Income Trust', 'Monarch Casino & Resort Inc.', 'Micrel Inc.', 'IQ Hedge Macro Tracker ETF', 'MICROS Systems, Inc.', 'The Marcus Corporation', 'Mercury General Corporation', 'Mad Catz Interactive Inc.', 'MEDNAX, Inc.', 'MedAssets, Inc.', 'MDC Holdings Inc.', 'MDC Partners Inc.', 'Medical Action Industries Inc.', 'Medicines Co.', 'SPDR S&P International Mid Cap', 'First Trust Multi-Asset Diversified Inc', 'Mondelez International, Inc.', 'Mountain Province Diamonds Inc.', 'Meredith Corp.', 'McDermott International Inc.', 'Allscripts Healthcare Solutions, Inc.', 'Medidata Solutions, Inc.', 'Medtronic, Inc.', 'MDU Resources Group Inc.', 'Medivation, Inc.', 'Midway Gold Corp.', 'MiMedx Group, Inc.', 'SPDR S&P MidCap 400', 'SPDR S&P 400 Mid Cap Growth ETF', 'SPDR S&P 400 Mid Cap Value ETF', 'Metalico Inc.', 'Measurement Specialties Inc.', 'Medifast Inc.', 'MeetMe, Inc.', 'Media General, Inc.', 'Methode Electronics Inc.', 'Methes Energies International Ltd.', 'MEI Pharma, Inc.', 'MELA Sciences, Inc.', 'Mercadolibre, Inc.', 'Memorial Production Partners LP', 'BlackRock MuniEnhanced Fund, Inc.', 'Mentor Graphics Corp.', 'Methanex Corp.', 'Mercer International Inc.', 'Meru Networks, Inc.', 'Market Vectors Gulf States Index ETF', 'MetLife, Inc.', 'Metro Bancorp, Inc.', 'MFA Financial, Inc.', 'Manulife Financial Corporation', 'Macquarie/First Trust Global Infrastructure/Utilities Dividend & Income Fund', 'Mizuho Financial Group, Inc.', 'MicroFinancial Inc.', 'BlackRock MuniHoldings Insured Investment Fund', 'Mayflower Bancorp, Inc.', 'Multi-Fineline Electronix Inc.', 'MFS Municipal Income Trust', 'Mackinac Financial Corp.', 'MFRI Inc.', 'Mattress Firm Holding Corp.', 'Mutualfirst Financial Inc.', 'BlackRock MuniYield Insured Investment Fund', 'MFS Special Value Trust', 'Mistras Group, Inc.', 'Magna International, Inc.', 'Multimedia Games Inc.', 'Vanguard Mega Cap 300 Index ETF', 'MGC Diagnostics Corporation', 'MGE Energy Inc.', 'MFS Government Markets Income Trust', 'Minco Gold Corporation', 'Moneygram International Inc.', 'Magic Software Enterprises Ltd.', 'Vanguard Mega Cap 300 Gr Index ETF', 'Magellan Health Services Inc.', 'MGM Resorts International', 'Mines Management, Inc.', 'MacroGenics, Inc.', 'MGP Ingredients Inc.', 'McGrath Rentcorp', 'MGT Capital Investments, Inc.', 'Macquarie Global Infrastructure Total Return Fund Inc.', 'Vanguard Mega Cap 300 Value Index ETF', 'Magyar Bancorp, Inc.', 'Blackrock MuniHoldings Fund, Inc.', 'BlackRock Massachusetts Health and Education Tax-Exempt Trust', 'Western Asset Municipal High Income Fund Inc.', 'McGraw Hill Financial, Inc.', 'Morgans Hotel Group Co.', 'Mastech Holdings, Inc.', 'Pioneer Municipal High Income Trust', 'Mohawk Industries Inc.', 'Maiden Holdings, Ltd.', 'BlackRock MuniHoldings New York Insured Fund, Inc.', 'M/I Homes, Inc.', 'Magnum Hunter Resources Corp.', 'Western Asset Managed High Income Fund Inc.', 'Macquarie Infrastructure Company LLC', 'Micronet Enertec Technologies, Inc.', 'Middleby Corp.', 'Direxion Daily Mid Cap Bull 3X Shares', 'Direxion Daily Mid Cap Bear 3X Shares', 'Meadowbrook Insurance Group Inc.', 'MFC Industrial Ltd', 'Miller Energy Resources, Inc.', 'MFS Intermediate Income Trust', 'AdvisorShares Newfleet Mult-Sect Inc ETF', 'Mitcham Industries Inc.', 'Mobile Mini, Inc.', 'PIMCO Enhanced Short Maturity Strgy ETF', 'Mitek Systems Inc.', 'Mitel Networks Corp.', 'Mitsui & Co. Ltd.', 'AG Mortgage Investment Trust, Inc.', 'Eaton Vance Michigan Municipal Bond Fund', 'MiX Telematics Limited', 'BlackRock MuniYield Michigan Insured Fund, Inc.', 'BlackRock Muniyield New Jersey Insured Fund, Inc.', 'Mead Johnson Nutrition Company', 'McCormick & Co. Inc.', 'Market 2000 HOLDRS', 'Markel Corp.', 'MKS Instruments Inc.', 'Makita Corp.', 'Responsys, Inc.', 'Marketo, Inc.', 'MarketAxess Holdings Inc.', 'Mechanical Technology Inc.', 'Mesa Laboratories Inc.', 'Herman Miller Inc.', 'Mueller Industries Inc.', 'Martin Marietta Materials Inc.', 'Market Vectors Long Municipal Index ETF', 'ModusLink Global Solutions, Inc.', 'Mellanox Technologies, Ltd.', 'Maui Land & Pineapple Company, Inc.', 'UBS E-TRACS Alerian Natural Gas MLP ETN', 'UBS E-TRACS Alerian MLP Infrastrctr ETN', 'Global X Junior MLP ETF', 'UBS E-TRACS 2x Long Alerian MLP Infr ETN', 'Credit Suisse Cushing 30 MLP Index ETN', 'UBS E-TRACS MLP Wells Fargo ETN', 'Global X MLP & Energy Infrastructure ETF', 'Morgan Stanley Cushing MLP Hi Income ETN', 'Miller Industries Inc.', 'Malvern Federal Bancorp, Inc.', 'Millennial Media Inc.', 'Marsh & McLennan Companies, Inc.', 'Motorola Mobility Holdings, Inc.', 'Martin Midstream Partners LP', '3M Co.', 'Magellan Midstream Partners LP', 'MAXIMUS, Inc.', 'Merit Medical Systems, Inc.', 'MFS Multimarket Income Trust', 'Western Asset Managed Municipals Fund Inc.', 'Eaton Vance Massachusetts Municipal Income Trust', 'MakeMyTrip Limited', 'Manning & Napier, Inc.', 'IQ Merger Arbitrage ETF', 'Mandalay Digital Group, Inc', 'MIND C.T.I., Ltd.', 'BlackRock Muni New York Intermediate Duration Fund, Inc.', 'Magnegas Corporation', 'The McClatchy Company', 'Mallinckrodt plc', 'MannKind Corp.', 'MediciNova Inc.', 'Western Asset Municipal Partners Fund Inc.', 'Monmouth Real Estate Investment Corp.', 'Monarch Financial Holdings, Inc.', 'Monro Muffler Brake Inc.', 'Monster Beverage Corporation', 'Momenta Pharmaceuticals Inc.', 'MTR Gaming Group, Inc.', 'Manitex International, Inc.', 'Altria Group Inc.', 'Sky-mobi Limited', 'Command Security Corp.', 'MOCON Inc.', 'Modine Manufacturing Company', 'MidWest One Financial Group, Inc.', 'Moog Inc.', 'Molina Healthcare Inc.', 'Molex Inc.', 'Monsanto Co.', 'Montage Technology Group Limited', 'iShares Financials Bond ETF', 'Market Vectors Agribusiness ETF', 'Morningstar Inc.', 'The Mosaic Company', 'MoSys, Inc.', 'Movado Group, Inc.', 'Move, Inc.', 'BlackRock Muniyield Pennsylvania Insured Fund', 'Motorcar Parts of America Inc.', 'Mid Penn Bancorp Inc.', 'Marathon Petroleum Corporation', 'Melco Crown Entertainment Ltd.', 'Magellan Petroleum Corporation', 'MPLX LP', 'Midstates Petroleum Company, Inc.', 'MassMutual Participation Investors', 'Medical Properties Trust Inc.', 'Monolithic Power Systems Inc.', 'Marine Products Corp.', 'BlackRock MuniYield Quality Fund II, Inc.', 'BlackRock MuniYield Quality Fund, Inc.', 'Mindray Medical International Limited', 'MRC Global Inc.', 'Mercury Computer Systems, Inc.', 'American Income Fund Inc.', 'Merge Healthcare Incorporated', 'Montpelier Re Holdings Ltd.', 'Marin Software Incorporated', 'Merck & Co. Inc.', 'Marlin Business Services Corp.', 'Marina Biotech, Inc.', 'Marathon Oil Corporation', 'Marten Transport Ltd.', 'Marvell Technology Group Ltd.', 'Morgan Stanley', 'Mine Safety Appliances Co.', 'Mesabi Trust', 'MSB Financial Corp.', 'Microsemi Corp.', 'MSCI Inc.', 'Morgan Stanley Emerging Markets Debt Fund Inc.', 'Middlesex Water Co.', 'Morgan Stanley Emerging Markets Fund Inc.', 'Mainsource Financial Group', 'Microsoft Corporation', 'The Madison Square Garden Company', 'Motorola Solutions, Inc.', 'Midsouth Bancorp Inc.', 'MSC Industrial Direct Co. Inc.', 'Emerson Radio Corp.', 'Martha Stewart Living Omnimedia Inc.', 'Misonix Inc.', 'Madison Strategic Sector Premium Fund', 'Mindspeed Technologies Inc.', 'MicroStrategy Inc.', 'Mast Therapeutics, Inc.', 'PureFunds ISE Mining Service ETF', 'Arcelor Mittal', 'M&T Bank Corporation', 'Mettler-Toledo International, Inc.', 'Matador Resources Company', 'Mannatech Inc.', 'MGIC Investment Corp.', 'American Capital Mortgage Investment Crp', 'Meritage Homes Corporation', 'SPDR Morgan Stanley Technology', 'Mechel OAO', 'Vail Resorts Inc.', 'Meritor, Inc.', 'Mesa Royalty Trust', 'Materion Corporation', 'Matrix Service Co.', 'Montgomery Street Income Securities Inc.', 'MTS Systems Corp.', 'M/A-Com Technology Solutions Holdings, Inc.', 'MER Telemanagement Solutions Ltd.', 'Mattson Technology Inc.', 'Mitsubishi UFJ Financial Group, Inc.', 'iShares MSCI USA Momentum Factor', 'Manitowoc Co. Inc.', 'Minerals Technologies Inc.', 'MasTec, Inc.', 'Micron Technology Inc.', 'BlackRock MuniAssets Fund, Inc.', 'iShares 2014 S&P AMT-Free Municipal Ser', 'iShares 2015 S&P AMT-Free Municipal Ser', 'iShares 2016 S&P AMT-Free Municipal Ser', 'iShares 2017 S&P AMT-Free Municipal Ser', 'iShares 2018 AMT-Free Muni Term ETF', 'iShares S&P National AMT-Free Muni Bd', 'BlackRock MuniHoldings California Insured Fund, Inc.', 'BlackRock MuniHoldings Insured Fund II, Inc.', 'BlackRock MuniHoldings Fund II, Inc.', 'BlackRock Muni Intermediate Duration Fund, Inc.', 'BlackRock MuniHoldings New Jersey Insured Fund, Inc.', 'PIMCO Intermediate Muni Bond Strgy ETF', 'Murphy Oil Corporation', 'BlackRock MuniHoldings Insured Fund, Inc.', 'Metals USA Holdings Corp.', 'McEwen Mining Inc.', 'MVC Capital, Inc.', 'BlackRock MuniVest Fund, Inc.', 'Mag Silver Corp.', 'Microvision Inc.', 'MV Oil Trust', 'BlackRock MuniVest Fund II, Inc.', 'ProShares Ultra MidCap400', \"The Men's Wearhouse, Inc.\", 'Mueller Water Products, Inc.', 'MarkWest Energy Partners LP', 'MWI Veterinary Supply, Inc.', 'Medworth Acquisition Corp.', 'MeadWestvaco Corporation', 'Monster Worldwide, Inc.', 'MagnaChip Semiconductor Corporation', 'Minnesota Municipal Income Portfolio Inc.', 'Mexco Energy Corporation', 'Mexico Equity & Income Fund Inc.', 'The Mexico Fund, Inc.', 'iShares S&P Global Materials', 'Maxim Integrated Products Inc.', 'MaxLinear, Inc.', 'First American Minnesota Municipal Income Fund II Inc.', 'Maxcom Telecomunicaciones S.A.B. de C.V.', 'Maxwell Technologies Inc.', 'China Ming Yang Wind Power Group Limited', 'Blackrock MuniYield California Fund, Inc.', 'ClubCorp Holdings, Inc.', 'Blackrock MuniYield Fund, Inc.', 'Myers Industries Inc.', 'BlackRock MuniYield Investment Fund', 'Myriad Genetics Inc.', 'Blackrock MuniYield Insured Fund, Inc.', 'BlackRock MuniYield New Jersey Fund, Inc.', 'Mylan, Inc.', 'BlackRock MuniYield Michigan Insured Fund II, Inc.', 'BlackRock MuniYield New York Insured Fund, Inc.', 'MYR Group, Inc.', 'Myrexis, Inc.', 'ProShares Short MidCap400', 'BlackRock Muniyield Arizona Fund, Inc.', 'Managed Duration Investment Grade Municipal Fund', 'ProShares UltraShort MidCap400', 'NetSuite Inc.', 'Nuveen California Dividend Advantage Municipal Fund', 'Nuveen Dividend Advantage Municipal Fund', 'Nash Finch Co.', 'Natural Alternatives International Inc.', 'Northern Dynasty Minerals Ltd.', 'Nuveen New York Dividend Advantage Municipal Fund', 'Nanometrics Incorporated', 'NASB Financial Inc.', 'LocalShares Nashville Area ETF', 'Pax MSCI North America ESG Index ETF', 'Nordic American Tankers Limited', \"Nathan's Famous Inc.\", 'National Instruments Corporation', 'National Interstate Corporation', \"Nature's Sunshine Products Inc.\", 'National American University Holdings, Inc.', 'Navistar International Corporation', 'Navidea Biopharmaceuticals, Inc', 'Navigators Group Inc.', 'Nuveen Arizona Premium Income Municipal Fund, Inc.', 'NewBridge Bancorp', 'First NBC Bank Holding Company', 'National Bank of Greece SA', 'Neuberger Berman Intermediate Municipal Fund Inc.', 'National Bank Holdings Corp.', 'Neurocrine Biosciences Inc.', 'Noble Energy, Inc.', 'Northeast Bancorp', 'Neuberger Berman New York Intermediate Municipal Fund Inc.', 'Nabors Industries Ltd.', 'Neostem, Inc.', 'NBT Bancorp, Inc.', 'NB&T Financial Group Inc.', 'Neuberger Berman California Intermediate Municipal Fund Inc.', 'NovaBay Pharmaceuticals, Inc.', 'Nacco Industries Inc.', 'Nuveen California Municipal Value Fund, Inc.', 'New Century Bancorp Inc.', 'Norcraft Companies, Inc. Common', 'Navigant Consulting Inc.', 'NCI, Inc.', 'National CineMedia, Inc.', 'Nuveen California Municipal Market Opportunity Fund, Inc.', 'Nuveen California Performance Plus Municipal Fund, Inc.', 'NovaCopper Inc.', 'NCR Corp.', 'NCI Building Systems Inc.', 'Newcastle Investment Corp.', 'The9 Limited', 'Nuveen California Premium Income Municipal Fund', 'AGIC Convertible & Income Fund', 'AGIC Convertible & Income Fund II', 'Nasdaq OMX Group Inc.', 'Noodles & Company', 'Enduro Royalty Trust', 'Nordson Corporation', 'Nordion Inc.', 'Noble Corp.', 'Nuveen Insured Tax-Free Advantage Municipal Fund', 'iShares Short Maturity Bond', 'Northeast Community Bancorp, Inc.', 'Noah Education Holdings Ltd.', 'NextEra Energy, Inc.', 'Newmont Mining Corp.', 'New England Realty Associates LP', 'Neogenomics Inc.', 'Neogen Corp.', 'Neonode, Inc.', 'Nuverra Environmental Solutions, Inc.', 'Net Servi', 'Net Element International Inc.', 'NewMarket Corp.', 'NewLead Holdings Ltd.', 'New Energy Systems Group', 'Newport Corp.', 'NewStar Financial, Inc.', 'Newtek Business Services Inc.', 'Northfield Bancorp, Inc. (Staten Island, NY)', 'NF Energy Saving Corp.', 'National Fuel Gas Co.', 'NFJ Dividend, Interest & Premium Strategy Fund', 'Netflix, Inc.', 'Guggenheim Insider Sentiment', 'Newfield Exploration Co.', 'NovaGold Resources Inc.', 'New Gold, Inc.', 'Global X Nigeria Index ETF', 'National Grid plc', 'NGL Energy Partners LP', 'Targa Resources Partners LP', 'NGP Capital Resources Company', 'Natural Gas Services Group Inc.', 'Natural Grocers by Vitamin Cottage, Inc.', 'Nuveen Insured Massachusetts Tax-Free Advantage Municipal Fund', 'AGIC Global Equity & Convertibl', 'National Healthcare Corp.', 'National Health Investors Inc.', 'Neuberger Berman High Yield Strategies Fund', 'New Hampshire Thrift Bancshares Inc.', 'NiSource Inc.', 'iPath DJ-UBS Cocoa TR Sub-Idx ETN', 'NICE Systems Ltd.', 'Nicholas Financial Inc.', 'NII Holdings Inc.', 'Blue Nile Inc.', 'Nuveen Select Maturities Municipal Fund', 'Ninetowns Internet Technology Group Company Limited', 'iPath Pure Beta Nickel ETN', 'Nuveen Insured Municipal Opportunity Fund, Inc.', 'Nidec Corp.', 'New Jersey Resources Corp.', 'Niska Gas Storage Partners LLC', 'Nike Inc.', 'Nuveen Georgia Dividend Advantage Municipal Fund 2', 'National Bankshares Inc.', 'Nektar Therapeutics', 'Nuveen Insured California Tax Free Advantage Municipal Fund', 'MAXIS Nikkei 225 Index ETF', 'NL Industries Inc.', 'NewLink Genetics Corporation', 'NTS Realty Holdings LP', 'Market Vectors Uranium+Nuclear Enrgy ETF', 'Nautilus Inc.', 'Nielsen Holdings N.V.', 'Netlist Inc.', 'Nile Therapeutics, Inc', 'Annaly Capital Management, Inc.', 'Navios Maritime Holdings Inc.', 'Nuveen Municipal Advantage Fund, Inc.', 'Nuveen Massachusetts Dividend Advantage Municipal Fund', 'New Mountain Finance Corporation', 'Nuveen Municipal Income Fund, Inc.', 'Navios Maritime Partners L.P.', 'Nuveen Municipal Market Opportunity Fund, Inc.', 'Nomura Holdings, Inc.', 'Numerex Corp.', 'Nuveen Massachusetts Premium Income Municipal Fund', 'Nuveen Maryland Premium Income Municipal Fund', 'Nuveen Municipal High Income Opportunity Fund', 'Navios Maritime Acquisition Corporation', 'NN Inc.', 'Nuveen North Carolina Premium Income Municipal Fund', 'Nelnet Inc.', 'Nuveen New Jersey Premium Income Municipal Fund, Inc.', 'National Retail Properties, Inc.', 'Nuveen New York Performance Plus Municipal Fund, Inc.', 'NanoViricides, Inc.', 'Nuveen New York Municipal Value Fund, Inc.', 'North American Energy Partners Inc.', 'Noah Holdings Limited', 'ProShares S&P 500 Aristocrats E', 'Northrop Grumman Corporation', 'Northern Oil and Gas, Inc.', 'Nokia Corporation', 'Nuveen Missouri Premium Income Municipal Fund', 'Noranda Aluminum Holding Corp.', 'Global X Norway ETF', 'National Oilwell Varco, Inc.', 'North Valley Bancorp', 'ServiceNow, Inc.', 'Neenah Paper, Inc.', 'National Penn Bancshares Inc.', 'China Nepstar Chain Drugstore Ltd.', 'Nuveen Premier Municipal Income Fund, Inc.', 'Nuveen Premium Income Municipal Fund, Inc.', 'National Presto Industries Inc.', 'Nuveen Premium Income Municipal Fund 2, Inc.', 'EnPro Industries, Inc.', 'Nuveen Performance Plus Municipal Fund, Inc.', 'NPS Pharmaceuticals, Inc.', 'Nuveen Premium Income Municipal Fund 4, Inc.', 'NeoPhotonics Corporation', 'Nuveen Virginia Premium Income Municipal Fund', 'Nuveen Pennsylvania Premium Income Municipal Fund 2', 'NetQin Mobile Inc.', 'Nuveen California Investment Quality Municipal Fund, Inc.', 'Nuveen Insured Quality Municipal Fund, Inc.', 'Nuveen New Jersey Investment Quality Municipal Fund, Inc.', 'Nuveen Investment Quality Municipal Fund, Inc.', 'Nuveen Pennsylvania Investment Quality Municipal Fund Inc.', 'Nuveen Select Quality Municipal Fund, Inc.', 'Nuveen Quality Income Municipal Fund, Inc.', 'Newpark Resources Inc.', 'National Research Corp.', 'NorthStar Realty Finance Corp.', 'NRG Energy, Inc.', 'Northrim Bancorp Inc.', 'Nuveen Insured New York Tax-Free Advantage Municipal Fund', 'Neuberger Berman Real Estate Securities Income Fund Inc.', 'Natural Resource Partners LP', 'North European Oil Royalty Trust', 'New Residential Investment Corp.', 'NuStar Energy L.P.', 'Nissan Motor Co., Ltd.', 'Norfolk Southern Corp.', 'National Security Group Inc.', 'NuStar GP Holdings, LLC', 'Insight Enterprises Inc.', 'Nuveen Senior Income Fund', 'New Source Energy Partners L.P.', 'Nationstar Mortgage Holdings Inc.', 'Insperity, Inc.', 'Nanosphere, Inc.', 'InspireMD, Inc.', 'NeuStar, Inc.', 'Napco Security Technologies, Inc.', 'NanoString Technologies, Inc.', 'Nevsun Resources Ltd.', 'Nortech Systems Inc.', 'NetApp, Inc.', 'Nuveen Connecticut Premium Income Municipal Fund', 'NetScout Systems, Inc.', 'Nam Tai Electronics, Inc.', 'NetEase.com, Inc.', 'Netgear Inc.', 'Northern Tier Energy LP', 'Northern Technologies International Corp.', 'Nortek Inc.', 'Nortel Inversora S.A.', 'NTELOS Holdings Corp.', 'NTN Buzztime Inc.', 'Nutrisystem, Inc.', 'Northern Trust Corporation', 'NTS, Inc', 'National Technical Systems Inc.', 'Nippon Telegraph & Telephone Corp.', 'NetSol Technologies, Inc.', 'Nuveen Texas Quality Income Municipal Fund', 'Natuzzi SpA', 'Northeast Utilities', 'Nuance Communications, Inc.', 'Nuveen California Quality Income Municipal Fund, Inc.', 'iShares S&P Global Nuclear Energy Index', 'Nucor Corporation', 'Direxion Daily Gold Miners Bull 3X Shrs', 'Nuveen New Jersey Dividend Advantage Municipal Fund 2', 'Nuveen Michigan Quality Income Municipal Fund, Inc.', 'Nuveen Ohio Quality Income Municipal Fund, Inc.', 'NeuroMetrix Inc.', 'Nu Skin Enterprises Inc.', 'Nutraceutical International Corp.', 'Nuveen Municipal Value Fund, Inc.', 'NuVasive, Inc.', 'Novavax, Inc.', 'Nuveen California Select Quality Municipal Fund, Inc.', 'NVIDIA Corporation', 'Novadaq Technologies Inc.', 'NV Energy, Inc.', 'NVE Corp.', 'Nuveen Insured Dividend Advantage Municipal Fund', 'Novogen Limited', 'Nova Measuring Instruments Ltd.', 'Novo Nordisk A/S', 'NVR Inc.', 'Novartis AG', 'Naugatuck Valley Financial Corp.', 'Novatel Wireless Inc.', 'Nuveen California Dividend Advantage Municipal Fund 2', 'Nuveen Pennsylvania Dividend Advantage Municipal Fund 2', 'Northwest Bancshares, Inc.', 'Northwest Biotherapeutics, Inc.', 'Northwestern Corp.', 'Norwood Financial Corp.', 'Newell Rubbermaid Inc.', 'National Western Life Insurance Company', 'Northwest Natural Gas Company', 'Northwest Pipe Co.', 'News Corp.', 'New York & Company Inc.', 'Quanex Building Products Corporation', 'Nuveen California Select Tax-Free Income Portfolio', 'Nuveen New Jersey Dividend Advantage Municipal Fund', 'Nuveen New York Dividend Advantage Municipal Fund 2', 'Nuveen Pennsylvania Dividend Advantage Municipal Fund', 'Nuveen New York Select Tax-Free Income Portfolio', 'Nuveen Select Tax-Free Income Portfolio', 'NXP Semiconductors NV', 'Nuveen Select Tax-Free Income Portfolio 2', 'Nuveen Select Tax-Free Income Portfolio 3', 'Nexstar Broadcasting Group Inc.', 'Nxstage Medical, Inc.', 'Nuveen Dividend Advatage Municipal Fund 2', 'iShares NYSE 100 Index', 'iShares NYSE Composite Index', 'New York Community Bancorp Inc.', 'iShares S&P NY AMT-Free Municipal Bd', 'Eaton Vance New York Municipal Bond Fund II', 'NRG Yield, Inc.', 'New York Mortgage Trust Inc.', 'Nymox Pharmaceutical Corporation', 'Empire Resorts Inc.', 'The New York Times Company', 'NYSE Euronext, Inc.', 'Nuveen Dividend Advantage Municipal Fund 3', 'Nuveen California Dividend Advantage Municipal Fund 3', 'Realty Income Corp.', 'Omniamerican Bancorp, Inc.', 'Oaktree Capital Group, LLC', 'Five Oaks Investment Corp.', 'Oasis Petroleum Inc.', 'OneBeacon Insurance Group, Ltd.', 'OBA Financial Services, Inc.', 'Optibase Ltd.', 'Ocean Bio-Chem Inc.', 'Orbital Corp. Ltd.', 'Owens Corning', 'OceanFirst Financial Corp.', 'OCI Partners LP', 'OCI Resources LP', 'Oclaro, Inc.', 'Oculus Innovative Sciences, Inc.', 'Ocwen Financial Corp.', 'Omnicare Inc.', 'Ocera Therapeutics, Inc.', 'OCZ Technology Group, Inc.', 'Oil-Dri Corp. of America', 'Old Dominion Freight Line Inc.', 'Office Depot, Inc.', 'iShares S&P 100 Index', 'Orient-Express Hotels Ltd.', 'Orion Energy Systems, Inc', 'Corporate Office Properties Trust', 'Oconee Federal Financial Corp.', 'UBS E-TRACS Fisher-Gartman Risk Off ETN', 'Oriental Financial Group Inc.', 'Orthofix International N.V.', 'OmegaFlex, Inc.', 'Orchard First Source Capital, Inc.', 'OGE Energy Corp.', 'Oragenics Inc.', 'OncoGenex Pharmaceuticals, Inc.', 'Omega Healthcare Investors Inc.', 'Ohr Pharmaceutical, Inc.', 'Owens-Illinois, Inc.', 'Invesco Municipal Income Opportunities Trust', 'Oi SA', 'Oi SA', 'Market Vectors Oil Services ETF', 'Oceaneering International, Inc.', 'O2Micro International Ltd.', 'iPath S&P GSCI Crude Oil TR Index ETN', 'Oiltanking Partners, L.P.', 'UBS E-TRACS Oil Futures Contango ETN', 'Tianli Agritech, Inc.', 'Oil States International Inc.', 'ONEOK Inc.', 'ONEOK Partners, L.P.', 'Southwest Bancorp Inc.', 'Old Line Bancshares Inc.', 'Universal Display Corp.', 'iPath Pure Beta Crude Oil ETN', 'Olin Corp.', 'PowerShares DB Crude Oil Long ETN', 'One Liberty Properties Inc.', 'Grupo Aeroportuario Centro Norte, S.A. de C.V.', 'Omnicom Group Inc.', 'Omnicell Inc.', 'Omega Protein Corp.', 'OncoMed Pharmaceuticals, Inc.', 'Omeros Corporation', 'Odyssey Marine Exploration Inc.', 'OM Group Inc.', 'Owens & Minor Inc.', 'OMNOVA Solutions Inc.', 'OfficeMax Incorporated', 'Old National Bancorp.', 'Oncolytics Biotech Inc.', 'Higher One Inc.', 'Russell Equity ETF', 'SPDR Russell 1000', 'Fidelity Nasdaq Composite Index Tracking', 'Oneida Financial Corp.', 'UBS E-TRACS Fisher-Gartman Risk On ETN', 'ON Semiconductor Corp.', 'Orient Paper, Inc.', 'Onstream Media Corp.', 'Onconova Therapeutics, Inc.', 'Oncothyreon Inc', 'Onvia Inc.', 'Organovo Holdings, Inc.', 'Official Payments Holdings, Inc.', 'OpenTable, Inc.', 'OptimumBank Holdings Inc.', 'Ophthotech Corporation', 'Opko Health, Inc.', 'Oplink Communications Inc.', 'Old Point Financial Corporation', 'Ocean Power Technologies, Inc', 'Opexa Therapeutics, Inc.', 'Oppenheimer Holdings Inc.', 'Ormat Technologies Inc.', 'Orange', 'Orbital Sciences Corp.', 'ORBCOMM, Inc.', 'Orbotech Ltd.', 'Orbit International Corp.', 'Oracle Corporation', 'Orckit Communications Ltd.', 'Orexigen Therapeutics, Inc.', 'Old Republic International Corp.', 'Ocean Rig UDW Inc.', 'Oritani Financial Corp.', \"O'Reilly Automotive Inc.\", 'Owens Realty Mortgage, Inc.', 'Oramed Pharmaceuticals Inc.', 'Orion Marine Group, Inc', 'Orrstown Financial Services Inc.', 'Old Second Bancorp Inc.', 'Ocean Shore Holding Co.', 'Osiris Therapeutics, Inc.', 'OSI Systems, Inc.', 'Oshkosh Corporation', 'Ossen Innovation Co., Ltd.', 'Overstock.com Inc.', 'OraSure Technologies Inc.', 'Otelco Inc.', 'Open Text Corp.', 'On Track Innovations Ltd.', 'Guggenheim Ocean Tomo Patent', 'Guggenheim Ocean Tomo Growth Index', 'Otter Tail Corporation', 'Outerwall Inc.', 'OvaScience, Inc.', 'Ohio Valley Banc Corp.', 'Oak Valley Bancorp', 'Overland Storage Inc.', 'OmniVision Technologies Inc.', 'Orbitz Worldwide, Inc.', 'Oxygen Biotherapeutics, Inc.', 'Oxford Resource Partners, L.P.', 'OXiGENE, Inc.', 'Oxford Industries Inc.', 'Occidental Petroleum Corporation', 'Och-Ziff Capital Management Group LLC', 'Bank of the Ozarks, Inc.', 'Pandora Media, Inc.', 'Plains All American Pipeline, L.P.', 'Pan American Silver Corp.', 'Grupo Aeroportuario del Pacifico S.A.B. de CV', 'Pacific Biosciences of California, Inc.', 'Pacific Drilling S.A.', 'Pacer International Inc.', 'Pactera Technology International Ltd.', 'PacWest Bancorp', 'PowerShares FTSE RAFI Asia Pacific ex-Jp', 'Penske Automotive Group, Inc.', 'PowerShares Global Agriculture', 'Plains GP Holdings, L.P.', 'Western Asset Income Fund', 'North American Palladium Ltd.', 'ETFS Physical Palladium Shares', 'Pampa Energia SA', 'Parametric Sound Corp.', 'Palo Alto Networks, Inc.', 'PAR Technology Corp.', 'NuPathe, Inc.', 'Patrick Industries Inc.', 'Patriot Transportation Holding Inc.', 'VeriFone Systems, Inc', 'Paychex, Inc.', 'Prosperity Bancshares Inc.', 'Pembina Pipeline Corporation', 'Polonia Bancorp, Inc.', \"People's United Financial Inc.\", 'PowerShares Global Clean Energy', 'PowerShares Dynamic Biotech & Genome', 'PBF Energy Inc.', 'Prestige Brands Holdings, Inc.', 'Pathfinder Bancorp Inc.', 'Pitney Bowes Inc.', 'Porter Bancorp Inc.', 'Pressure BioSciences, Inc.', 'Prudential Bancorp Inc. Of Pennsylvania', 'PowerShares Dynamic Food & Beverage', 'Pacific Booker Minerals Inc.', 'Prima Biomed Ltd.', 'Provident New York Bancorp', 'PowerShares S&P 500 BuyWrite', 'Potbelly Corporation', 'Petroleo Brasileiro', 'Petroleo Brasileiro', 'PowerShares Dynamic Media', 'Poage Bankshares, Inc.', 'Permian Basin Royalty Trust', 'PowerShares WilderHill Clean Energy', 'Pep Boys - Manny, Moe & Jack', 'Puma Biotechnology, Inc.', 'PACCAR Inc.', 'Pacific Continental Corp.', 'PMC Commercial Trust', 'PC Connection, Inc.', 'PowerShares CEF Income Composite', 'Putnam High Income Securities Fund', 'PG&E Corp.', 'Potlatch Corporation', 'PIMCO California Municipal Income Fund II', 'Plum Creek Timber Co. Inc.', 'priceline.com Incorporated', 'PCM Fund Inc.', 'PCM, Inc.', 'PIMCO Corporate Income Fund', 'Pendrell Corporation', 'Precision Castparts Corp.', 'PIMCO California Municipal Income Fund', 'Pacira Pharmaceuticals Inc.', 'PCTEL, Inc.', 'PowerShares Emerging Mkts Sovereign Debt', 'Pharmacyclics Inc.', 'Park City Group Inc.', 'Pure Cycle Corp.', 'PDC Energy, Inc.', 'Patterson Companies Inc.', 'Pro-Dex Inc.', 'PDF Solutions Inc.', 'PetroLogistics LP', 'PDI, Inc.', 'PDL BioPharma, Inc.', 'Piedmont Office Realty Trust Inc.', 'PowerShares FTSE RAFI Dev Mkts ex-US S/M', 'Pyramid Oil Company', 'PowerShares DWA Technical Leaders', 'Precision Drilling Corporation', 'John Hancock Patriot Premium Dividend Fund II', 'Pebblebrook Hotel Trust', 'Peoples Bancorp of North Carolina Inc.', 'Peoples Bancorp Inc.', 'PEDEVCO Corp.', 'Public Service Enterprise Group Inc.', 'Pegasystems Inc.', 'Pattern Energy Group Inc.', 'Pennsylvania Real Estate Investment Trust', 'Pacific Ethanol, Inc.', 'PowerShares Dynamic Leisure & Entertain', 'Market Vectors China ETF', 'Penn National Gaming Inc.', 'Penford Corporation', 'Petroleum & Resources Corp.', 'Peoples Federal Bancshares, Inc.', 'Pepsico, Inc.', 'SandRidge Permian Trust', 'Perfumania Holdings, Inc.', 'Perion Network Ltd', 'Global X Permanent ETF', 'Perry Ellis International Inc.', 'Pioneer Energy Services Corp.', 'Perma-Fix Environmental Services Inc.', 'PetSmart, Inc.', 'PetMed Express Inc.', 'Aratana Therapeutics, Inc.', 'ProShares Global Listed Private Eq ETF', 'PowerShares Hi-Yield Eq Div Achievers', 'PowerShares Dynamic Consumer Disc', 'Pinnacle Foods Inc.', 'PowerShares Dynamic Developed Intl Opps', 'Preferred Bank', 'Premier Financial Bancorp Inc.', 'Peoples Financial Corp.', 'Flaherty & Crumrine Preferred Income Fund Inc.', 'Pfizer Inc.', 'PowerShares Fdmtl Emerg Mkts Lcl Dbt', 'iShares S&P U.S. Preferred Stock Index', 'Principal Financial Group Inc.', 'PowerShares Dynamic Financials', 'Powershares Fundamental Inv Gr Corp Bond', 'P&F Industries Inc.', 'PIMCO Income Strategy Fund', 'PennantPark Floating Rate Capital Ltd.', 'PowerShares Dividend Achievers', 'Performant Financial Corporation', 'PIMCO Income Strategy Fund II', 'Flaherty & Crumrine Preferred Income Opportunity Fund Incorporated', 'Proofpoint, Inc.', 'Provident Financial Services, Inc.', 'PennyMac Financial Services, In', 'PFSweb Inc.', 'Market Vectors Pref Secs ex Fincls ETF', 'Procter & Gamble Co.', 'Peapack-Gladstone Financial Corp.', 'Barclays Asian & Gulf Currency Reval ETN', 'Ply Gem Holdings, Inc', 'PowerShares Financial Preferred', 'Pengrowth Energy Corporation', 'PowerShares Glbl S/T Hi Yld Bd', 'Premiere Global Services, Inc.', 'PowerShares Gldn Dragon Halter USX China', 'iPath DJ-UBS Platinum TR Sub-Idx ETN', 'Progenics Pharmaceuticals Inc.', 'PIMCO Global Stocksplus & Income Fund', 'Progressive Corp.', 'Prospect Global Resources, Inc.', 'PGT, Inc.', 'PowerShares Preferred', 'Parker Hannifin Corporation', 'PowerShares Fundamental High Yld Corp Bd', 'Pioneer Floating Rate Trust', 'Powershares S&P 500 Downside Hdg', 'Pacholder High Yield Fund Inc.', 'Koninklijke Philips Electronics NV', 'PHH Corporation', 'Philippine Long Distance Telephone Co.', 'PHI Inc.', 'PIMCO High Income Fund', 'PulteGroup, Inc.', 'PhotoMedex, Inc', 'PowerShares Water Resources', 'Pioneer High Income Trust', 'Panhandle Oil and Gas Inc.', 'Sprott Physical Gold Trust ETV', 'PowerShares Dynamic Insurance', 'PowerShares International Corporate Bond', 'iShares MSCI Glbl Metals & Mining Prdcrs', 'PICO Holdings Inc.', 'PowerShares Intl Dividend Achievers', 'PowerShares DWA Em Mkts Technical Ldrs', 'Polaris Industries, Inc.', 'Pike Electric Corporation', 'Putnam Master Intermediate Income Trust', 'PowerShares India', 'Premier, Inc.', 'PowerShares Global Water', 'PharmAthene, Inc.', 'PowerShares Dynamic MagniQuant', 'Pier 1 Imports, Inc.', 'PowerShares S&P 500 High Quality', 'PowerShares DWA Dev Mkts Technical Ldrs', 'PowerShares Dynamic Banking', 'Piper Jaffray Companies', 'PowerShares Dynamic Large Cap', 'PowerShares Dynamic Mid Cap', 'PowerShares Dynamic Small Cap', 'PowerShares Dynamic Pharmaceuticals', 'PowerShares Dynamic Building & Construct', 'Parke Bancorp Inc.', 'Parker Drilling Co.', 'Park Electrochemical Corp.', 'Packaging Corp. of America', 'PerkinElmer Inc.', 'Pimco Income Opportunity Fund C', 'Park-Ohio Holdings Corp.', 'Procera Networks, Inc.', 'PowerShares Buyback Achievers', 'POSCO', 'Parkway Properties Inc.', 'Protective Life Corp.', 'Photronics Inc.', 'Plumas Bancorp', 'Paulson Capital Corp.', 'The Children', 'Polycom, Inc.', 'Prologis, Inc.', 'Platinum Group Metals Ltd.', 'Pall Corp.', 'Polymet Mining Corp.', 'Palmetto Bancshares Inc.', 'Market Vectors Poland ETF', 'Planar Systems Inc.', 'Douglas Dynamics, Inc.', 'Preformed Line Products Co.', 'Plantronics, Inc.', 'First Trust ISE Global Platinum Index', 'Plug Power Inc.', 'ePlus Inc.', 'PowerShares 1-30 Laddered Treasury', 'Protalix BioTherapeutics, Inc.', 'Plexus Corp.', 'PLX Technology Inc.', 'Philip Morris International, Inc.', 'Pacific Mercantile Bancorp', 'PharMerica Corporation', 'PMC-Sierra Inc.', 'Psychemedics Corp.', 'Pingtan Marine Enterprise Ltd.', 'PIMCO Municipal Income Fund', 'PMFG, Inc.', 'PIMCO Municipal Income Fund II', 'Putnam Managed Municipal Income Trust', 'PowerShares MENA Frontier Countries', 'Putnam Municipal Opportunities Trust', 'PowerShares Dynamic Retail', 'PennyMac Mortgage Investment Trust', 'Parametric Technology Corporation', 'PIMCO Municipal Income Fund III', 'Patriot National Bancorp Inc.', 'PNC Financial Services Group Inc.', 'PIMCO New York Municipal Income Fund', 'Pinnacle Financial Partners Inc.', 'PAA Natural Gas Storage, L.P.', 'PIMCO New York Municipal Income Fund II', 'Pinnacle Entertainment Inc.', 'PNM Resources, Inc.', 'PennantPark Investment Corporation', 'PowerShares NASDAQ Internet', 'Pentair, Inc.', 'Panera Bread Co.', 'PrimeEnergy Corp.', 'Pointer Telocation Ltd.', 'Pinnacle West Capital Corporation', 'Phoenix Companies Inc.', 'PowerShares NXQ', 'Piedmont Natural Gas Co. Inc.', 'Insulet Corporation', 'PolyOne Corporation', 'Pepco Holdings, Inc.', 'Pool Corp.', 'Pope Resources LP', 'Portland General Electric Company', 'Post Holdings, Inc.', 'Potash Corp. of Saskatchewan, Inc.', 'Power Integrations Inc.', 'Powell Industries, Inc.', 'PowerSecure International, Inc.', 'POZEN Inc.', 'PowerShares Aerospace & Defense', 'Pacific Premier Bancorp Inc.', \"Pilgrim's Corp.\", 'PPG Industries Inc.', 'Market Vectors Pharmaceutical ETF', 'Peregrine Pharmaceuticals Inc.', 'PPL Corporation', 'ETFS Physical Platinum Shares', 'Polypore International Inc.', 'Primero Mining Corp.', 'ING Prime Rate Trust', 'Post Properties Inc.', 'Putnam Premier Income Trust', 'PetroQuest Energy Inc.', 'PowerShares FTSE NASDAQ Small Cap', 'ProAssurance Corporation', 'Portfolio Recovery Associates Inc.', 'Prana Biotechnology Ltd.', 'Market Vectors Pre-Refunded Muni ETF', 'Perceptron, Inc.', 'PartnerRe Ltd.', 'PowerShares FTSE RAFI US 1000', 'PRFE', 'PRFF', 'PRFG', 'PRFH', 'PRFM', 'PRFN', 'PRFQ', 'PRFS', 'Perficient Inc.', 'PRFU', 'PowerShares FTSE RAFI US 1500 Small-Mid', 'Paragon Shipping Inc.', 'Perrigo Co.', 'Progress Software Corp.', 'PRGX Global, Inc.', 'Primerica, Inc.', 'Primoris Services Corporation', 'Grupo Prisa SA', 'Park National Corp.', 'Parkervision Inc.', 'Proto Labs, Inc.', 'Peerless Systems Corp.', 'Primo Water Corporation', 'PowerShares Dynamic Industrials', 'PROS Holdings, Inc.', 'Provident Financial Holdings Inc.', 'ProPhase Labs, Inc.', 'Providence Service Corp.', 'CafePress Inc.', 'Prothena Corporation plc', 'U.S. Auto Parts Network, Inc.', 'Prudential Financial, Inc.', 'Premier Exhibitions Inc.', 'PAREXEL International Corporation', 'Public Storage', 'PowerShares Global Gold & Prec Metals', 'PS Business Parks Inc.', 'PSB Holdings Inc.', 'PowerShares S&P SmallCap Consumer Stapl', 'PowerShares S&P SmallCap Cnsmr Discret', 'PowerShares S&P SmallCap Energy', 'PowerShares S&P SmallCap Financials', 'PowerShares S&P SmallCap Health Care', 'PowerShares S&P SmallCap Industrials', 'PowerShares S&P SmallCap Materials', 'PowerShares S&P SmallCap Info Tech', 'PowerShares S&P SmallCap Utilities', 'pSivida Corp.', 'Pioneer Southwest Energy Partners L.P.', 'Prospect Capital Corporation', 'Pericom Semiconductor Corp.', 'PowerShares Dynamic Semiconductors', 'Power Solutions International, Inc.', 'PowerShares Dynamic Software', 'SPDR Wells Fargo Preferred Stock', 'PowerShares Dynamic Consumer Staples', 'Peregrine Semiconductor Corporation', 'PriceSmart Inc.', 'Pearson plc', 'PowerShares Global Listed Private Eq', 'ProShares Short QQQ', 'PowerShares Active U.S. Real Estate', 'ProShares UltraShort 7-10 Year Treasury', 'Park Sterling Bank Inc.', 'Pluristem Therapeutics, Inc.', 'PostRock Energy Corporation', 'Pacific Sunwear of California Inc.', 'Phillips 66', 'Phillips 66 Partners LP', 'Portugal Telecom SGPS SA', 'PTC Therapeutics, Inc.', 'PokerTek, Inc.', 'Patterson-UTI Energy Inc.', 'PowerShares Dynamic Technology', 'Primus Telecommunications Group Inc.', 'PowerShares Dynamic Healthcare', 'Pain Therapeutics Inc.', 'Performance Technologies Inc.', 'Portola Pharmaceuticals, Inc.', 'UBS E-TRACS Long Platinum TR ETN', 'Palatin Technologies Inc.', 'Partner Communications Company Ltd.', 'Internet Patents Corporation', 'Platinum Underwriters Holdings Ltd.', 'PetroChina Co. Ltd.', 'Pantry Inc.', 'P.A.M. Transportation Services, Inc.', 'Point.360', 'Pernix Therapeutics Holdings, Inc.', 'PIMCO Corporate Opportunity Fund', 'PowerShares Dynamic Utilities', 'Prudential plc', 'Pulaski Financial Corporation', 'Pulse Electronics Corporation', 'PURE Bioscience, Inc.', 'PowerShares WilderHill Progrsv Energy', 'Penn Virginia Corporation', 'Administradora de Fondos de Pensiones Provida SA', 'Pretium Resources Inc.', 'PVH Corp.', 'PowerShares VRDO Tax-Free Weekly', 'Penn Virginia Resource Partners LP', 'Privatebancorp Inc.', 'Power REIT', 'PowerShares Dynamic Large Cap Growth', 'PowerShares Dynamic Market', 'Penn West Petroleum Ltd.', 'PowerShares Dynamic Mid Cap Growth', 'PowerShares Dynamic OTC', 'Penns Woods Bancorp Inc.', 'PowerShares Dynamic Mid Cap Value', 'Quanta Services, Inc.', 'Perfect World Co., Ltd.', 'PowerShares Dynamic Small Cap Growth', 'PowerShares Dynamic Large Cap Value', 'Providence and Worcester Railroad Company', 'PowerShares Dynamic Small Cap Value', 'PowerShares Insured California Muni Bond', 'Praxair Inc.', 'Pioneer Natural Resources Co.', 'PowerShares Dynamic Energy Explor & Prod', 'PowerShares FTSE RAFI Dev Mkts ex-US', 'PowerShares FTSE RAFI Emerging Markets', 'PowerShares Dynamic Energy', 'PowerShares Dynamic Oil & Gas Services', 'PowerShares Fundamental Pure Large Core', 'PowerShares Fundamental Pure Large Grow', 'PowerShares Fundamental Pure Large Value', 'Pixelworks, Inc.', 'PowerShares Fundamental Pure Mid Core', 'PowerShares Fundamental Pure Mid Growth', 'PowerShares Fundamental Pure Mid Value', 'PowerShares Lux Nanotech', 'PowerShares Dynamic Networking', 'PowerShares Emerg Mks Infrastructure', 'PowerShares Fundamental Pure Small Core', 'PowerShares Fundamental Pure Small Grow', 'PowerShares Fundamental Pure Small Value', 'PowerShares Morningstar StockInvestor Cr', 'PIMCO New York Municipal Income Fund III', 'PowerShares Dynamic Basic Materials', 'PowerShares Insured National Muni Bond', 'PIMCO California Municipal Income Fund III', 'PowerShares Cleantech', 'Petrobras Argentina SA', 'Paramount Gold and Silver Corp.', 'PowerShares Zacks Micro Cap', 'Pzena Investment Management, Inc', 'PowerShares Insured New York Muni Bond', \"Papa John's International Inc.\", 'Pizza Inn Holdings, Inc.', 'Quintiles Transnational Holdings Inc.', 'First Trust NASDAQ ABA Community Bank', 'QAD Inc.', 'IQ Hedge Multi-Strategy Tracker ETF', 'Qualstar Corp.', 'QC Holdings, Inc.', 'First Trust NASDAQ Cln Edg Green En Idx', 'QUALCOMM Incorporated', 'Questcor Pharmaceuticals, Inc.', 'QCR Holdings Inc.', 'FlexShares Quality Dividend Defensive', 'Quidel Corp.', 'FlexShares Quality Dividend', 'FlexShares Quality Dividend Dynamic', 'AdvisorShares QAM Equity Hedge ETF', 'QEP Resources, Inc.', 'QEP Midstream Partners, LP', 'Qiagen NV', 'ProShares UltraShort QQQ', 'Qihoo 360 Technology Co. Ltd', 'Qiwi plc', 'QKL Stores Inc.', 'ProShares Ultra QQQ', 'QLogic Corp.', 'Qlik Technologies, Inc.', 'iShares Aaa - A Rated Corporate Bond', 'iShares Baa - Ba Rated Corporate Bond', 'iShares B - Ca Rated Corporate Bond', 'QLT Inc.', 'Quality Distribution Inc.', 'Qualys, Inc.', 'Quaterra Resources Inc.', 'IQ Hedge Market Neutral ETF', 'QuinStreet, Inc.', 'Quinpario Acquisition Corp.', 'First Trust NASDAQ-100 Equal Weight Idx', 'PowerShares QQQ', 'Global X NASDAQ China Technology ETF', 'Direxion NASDAQ-100 Equal Wtd Idx Shrs', 'NASDAQ Premium Income and Growt', 'First Trust NASDAQ-100 ex-Tech Sec Idx', 'QR Energy, LP', 'Quest Rare Minerals Ltd.', 'Quality Systems Inc.', 'First Trust NASDAQ-100-Tech Index', 'Quantum Corporation', 'QTS Realty Trust, Inc.', 'Quantum Fuel Systems Technologies Worldwide Inc.', 'Quad/Graphics, Inc.', 'QuickLogic Corporation', 'Qumu Corporation', 'Qunar Cayman Islands Limited', 'Ryder System, Inc.', 'Rite Aid Corp.', 'RADA Electronic Industries Ltd.', 'Reynolds American Inc.', 'FreightCar America Inc.', 'ProShares RAFI Long/Short', 'Rally Software Development Corp.', 'Rand Capital Corporation', 'RAIT Financial Trust', 'Bankrate, Inc.', 'FlexShares Ready Access Variable Inc', 'Raven Industries Inc.', 'Rackspace Hosting, Inc.', 'Ritchie Bros. Auctioneers Incorporated', 'Regal Beloit Corporation', 'Republic Bancorp Inc.', 'Rubicon Technology, Inc.', 'SPDR S&P Russia', 'Royal Bancshares of Pennsylvania Inc.', 'The Royal Bank of Scotland Group plc', 'Rubicon Minerals Corporation', 'RCS Capital Corporation', 'Rydex S&P Equal Weight Consumer Disc', 'RENN Global Entrepreneurs Fund, Inc.', 'Rogers Communications Inc.', 'Rent-A-Center Inc.', 'Rockville Financial Inc.', 'Rocky Brands, Inc.', 'Royal Caribbean Cruises Ltd.', 'RCM Technologies Inc.', 'Recon Technology, Ltd.', 'Receptos, Inc.', 'PIMCO Strategic Global Government Fund Inc.', 'RDA Microelectronics, Inc.', 'Rowan Companies Inc.', 'Radcom Ltd.', 'Elizabeth Arden, Inc.', 'Reading International Inc.', 'RevenueShares Ultra Dividend', 'Radian Group Inc.', 'RadNet, Inc.', 'Royal Dutch Shell plc', 'Radware Ltd.', \"Dr. Reddy's Laboratories Ltd.\", 'Everest Re Group Ltd.', 'Resources Connection Inc.', 'Recovery Energy, Inc.', 'Rediff.com India Ltd.', 'Rare Element Resources Ltd.', 'REEDS, Inc.', 'Research Frontiers Inc.', 'Regency Centers Corporation', 'Renewable Energy Group, Inc.', 'Regeneron Pharmaceuticals, Inc.', 'Ring Energy, Inc.', 'Reis, Inc.', 'ProShares Short Real Estate', 'Richardson Electronics Ltd.', 'Reliv International, Inc.', 'iShares FTSE NAREIT Mort Plus Cp Idx', 'Market Vectors Rare Earth/Str Metals ETF', 'Remy International, Inc.', 'Resolute Energy Corporation', 'Renren Inc.', 'Rentrak Corporation', 'RPC Inc.', 'Altisource Residential Corporation', 'Direxion Daily Retail Bull 3X Shares', 'Revlon, Inc.', 'ProShares UltraShort Technology', 'REX American Resources Corporation', 'Resource America, Inc.', 'Rexford Industrial Realty, Inc.', 'Rex Energy Corporation', 'iShares FTSE NAREIT Resid Plus Cp Idx', 'Regions Financial Corp.', 'Rydex S&P Midcap 400 Pure Growth', 'Cohen & Steers Total Return Realty Fund Inc.', 'RF Industries Ltd.', 'RF Micro Devices Inc.', 'Resolute Forest Products Inc.', 'Rydex S&P Midcap 400 Pure Value', 'Reinsurance Group of America Inc.', 'REGAL ENTERTAINMENT GROUP', 'RGC Resources Inc.', 'Response Genetics, Inc', 'Repligen Corporation', 'Rydex S&P Equal Weight Industrials', 'Royal Gold, Inc.', 'Regulus Therapeutics Inc.', 'Regency Energy Partners LP', 'Sturm, Ruger & Co. Inc.', 'Regis Corp.', 'Restoration Hardware Holdings, Inc.', 'Robert Half International Inc.', 'Ryman Hospitality Properties, Inc.', 'Rydex S&P Equal Weight Consumer Staples', 'Red Hat, Inc.', 'Richmont Mines Inc.', \"Rick's Cabaret International Inc.\", 'RMR Real Estate Income Fund', 'Transocean Ltd.', 'Rigel Pharmaceuticals, Inc.', 'ProShares 30 Year TIPS/TSY Spread', 'iShares MSCI Global Gold Miners ETF', 'RINO International Corporation', 'Rio Tinto plc', 'Rio Alto Mining Limited', 'LMP Real Estate Income Fund Inc.', 'RiT Technologies Ltd.', 'River Valley Bancorp', 'ELEMENTS Rogers Intl Commodity Agri ETN', 'Republic Airways Holdings Inc.', 'Raymond James Financial Inc.', 'ELEMENTS Rogers Intl Commodity ETN', 'ELEMENTS Rogers Intl Commodity Engy ETN', 'ELEMENTS Rogers Intl Commodity Metal ETN', 'Market Vectors Bank and Brokerage ETF', 'Rock-Tenn Co.', 'Ruckus Wireless, Inc.', 'Ralph Lauren Corporation', 'RealD Inc.', 'Radiant Logistics, Inc.', 'Realogy Holdings Corp.', 'Red Lion Hotels Corporation', 'RLI Corp.', 'RLJ Lodging Trust', 'RLJ Entertainment, Inc.', 'ReachLocal, Inc.', 'Rand Logistics, Inc.', 'SPDR SSgA Multi-Asset Real Return ETF', 'Regional Management Corp.', 'RE/MAX Holdings, Inc.', 'Rambus Inc.', 'Rocky Mountain Chocolate Factory Inc.', 'ResMed Inc.', 'RMG Networks Holding Corporation', 'Rainmaker Systems Inc.', 'Royce Micro-Cap Trust, Inc.', 'Rockwell Medical Technologies Inc.', 'Prosensa Holding N.V.', \"Roundy's, Inc.\", 'Morgan Stanley Eastern Europe Fund Inc', 'RigNet, Inc.', 'Rentech Nitrogen Partners, L.P.', 'RingCentral, Inc.', 'Wireless Ronin Technologies Inc.', 'Rexahn Pharmaceuticals, Inc.', 'Rhino Resource Partners LP', 'Cohen & Steers REIT & Preferred Income Fund Inc.', 'RenaissanceRe Holdings Ltd.', 'Renasant Corp.', 'RealNetworks Inc.', 'Rockwood Holdings, Inc.', 'Gibraltar Industries, Inc.', 'Rochester Medical Corp.', 'Rogers Corporation', 'Radio One Inc.', 'Radio One Inc.', 'Retail Opportunity Investments Corp.', 'Rockwell Automation Inc.', 'Rollins Inc.', 'iPath Long Extended Russell 1000 TR ETN', 'RBC Bearings Inc.', 'ProShares Ultra Technology', 'Roma Financial Corp.', 'IQ U.S. Real Estate Small Cap ETF', 'Roper Industries Inc.', 'Rosetta Resources, Inc.', 'Rosetta Genomics, Ltd.', 'Ross Stores Inc.', 'Rovi Corporation', 'Castle Brands Inc.', 'Royale Energy Inc.', 'Pacific Coast Oil Trust', 'RealPage, Inc.', 'Retail Properties of America, Inc.', 'Rydex S&P 500 Pure Growth', 'Roberts Realty Investors Inc.', 'RPM International Inc.', 'Repros Therapeutics Inc.', 'Ramco-Gershenson Properties Trust', 'Raptor Pharmaceuticals Corp.', 'Rydex S&P 500 Pure Value', 'Columbia Growth Equity Strategy Fund', 'RPX Corporation', 'Cohen & Steers Quality Income Realty Fund Inc.', 'Range Resources Corporation', 'R.R. Donnelley & Sons Company', 'WisdomTree Global Real Return', 'Red Robin Gourmet Burgers Inc.', 'AdvisorShares Global Alpha & Beta ETF', 'Rose Rock Midstream, L.P.', 'RRSat Global Communications Network Ltd.', 'Roadrunner Transportation Systems, Inc.', 'Reliance Steel & Aluminum Co.', 'SPDR Russell Small Cap Completeness', 'Rouse Properties, Inc.', 'Republic Services, Inc.', 'RadioShack Corp.', 'Resource Capital Corp.', 'Real Goods Solar, Inc.', 'Rydex S&P 500 Equal Weight', 'Rosetta Stone, Inc.', 'Rofin-Sinar Technologies Inc.', 'Rydex 2x S&P 500', 'Rydex Inverse 2x S&P 500', 'Market Vectors Russia ETF', 'Market Vectors Russia Small-Cap ETF', 'RadiSys Corporation', 'Ruby Tuesday, Inc.', 'Rudolph Technologies Inc.', 'Market Vectors Retail ETF', 'RTI International Metals, Inc.', 'RTI Biologics, Inc.', 'Rentech, Inc.', 'iShares FTSE NAREIT Retail Cp Idx', 'iPath Long Extended Russell 2000 TR ETN', 'Rydex S&P Equal Weight Materials', 'Raytheon Co.', 'RevenueShares ADR', 'VelocityShares Russia Select DR ETF', 'Reed Elsevier plc', 'Rush Enterprises, Inc.', 'Direxion Daily Russia Bull 3X Shares', 'Direxion Daily Russia Bear 3X Shares', \"Ruth's Hospitality Group Inc.\", 'Riverbed Technology, Inc.', 'Revolution Lighting Technologies, Inc.', 'Revett Minerals Inc', 'db X-trackers Muni Infras Revn Bd ETF', 'Retractable Technologies Inc.', 'Riverview Bancorp Inc.', 'Royce Value Trust Inc.', 'RELM Wireless Corp.', 'Columbia Lg Cap Growth Equity Strat Fund', 'RevenueShares Small Cap', 'RevenueShares Mid Cap', 'RevenueShares Large Cap', 'ProShares Short Russell2000', 'SPDR Dow Jones Global Real Estate', 'SPDR Dow Jones REIT', 'Redwood Trust Inc.', 'RevenueShares Navellier Overall A-100', 'RevenueShares Financials Sector', 'SPDR Dow Jones Intl Real Estate', 'UBS E-TRACS Mo Pay 2x DJ Intl Rl Est ETN', 'ProShares UltraShort Health Care', 'iShares S&P Global Cons Discretionary', 'ProShares Ultra Health Care', 'Rexnord Corporation', 'Royal Bank of Canada', 'Ryanair Holdings plc', 'Rydex S&P Equal Weight Energy', 'Rydex S&P Equal Weight Financials', 'Rydex S&P Equal Weight Health Care', 'Guggenheim Raymond James SB-1 Equity', 'Ryland Group Inc.', 'Rayonier Inc.', 'Rydex S&P Equal Weight Technology', 'Rydex S&P Equal Weight Utilities', 'Rydex S&P SmallCap 600 Pure Growth', 'Rydex S&P SmallCap 600 Pure Value', 'Sprint Nextel Corp.', 'Seabridge Gold, Inc.', 'ProShares Ultra SmallCap600', 'inContact, Inc.', 'Saba Software, Inc.', 'SAExploration Holdings, Inc.', 'Sanderson Farms, Inc.', 'Safety Insurance Group Inc.', 'Direxion Daily Tot Bd Mkt Bear 1X Shares', 'Sonic Automotive Inc.', 'Saia, Inc.', 'Science Applications International Corporation', 'Salisbury Bancorp Inc.', 'RetailMeNot, Inc.', 'Salem Communications Corp.', 'Boston Beer Co. Inc.', 'Banco Santander-Chile', 'Sandstorm Gold Ltd.', 'Sanmina-SCI Corp.', 'S&W Seed Company', 'SAP AG', 'Sapient Corp.', 'Saratoga Investment Corp.', 'Saratoga Resources Inc.', 'Sandy Spring Bancorp Inc.', 'EchoStar Corp.', 'Spirit Airlines, Inc.', 'Safe Bulkers, Inc.', 'SBA Communications Corp.', 'ProShares Short SmallCap600', 'Sussex Bancorp', 'Seacoast Banking Corp. of Florida', 'SB Financial Group, Inc.', 'Sinclair Broadcast Group Inc.', 'Sibanye Gold Limited', 'Sally Beauty Holdings Inc.', 'Western Asset Intermediate Muni Fund Inc.', 'Star Bulk Carriers Corp.', 'ProShares Short Basic Materials', 'PowerShares DB 3x Sht 25+ Yr Trsy Bd ETN', 'Signature Bank', 'Sabine Royalty Trust', 'Sabra Health Care REIT, Inc.', 'Companhia de Saneamento Basico do Estado de Sao Paulo', 'Spanish Broadcasting System Inc.', 'Southside Bancshares Inc.', 'Starbucks Corporation', 'iPath Pure Beta S&P GSCI-Weighted ETN', 'Western Asset Worldwide Income Fund Inc.', 'Silver Bay Realty Trust Corp.', 'SCBT Financial Corp.', 'ProShares UltraShort Consumer Services', 'Southern Copper Corp.', 'LMP Capital and Income Fund Inc.', 'Sino Clean Energy Inc', 'SCANA Corp.', 'Schwab U.S. Small-Cap ETF', 'Schwab U.S. Broad Market ETF', 'Schwab International Small-Cap Eq ETF', 'Schwab Emerging Markets Equity ETF', 'Schwab International Equity ETF', 'Schwab U.S. Large-Cap Growth ETF', 'Scholastic Corporation', 'Schnitzer Steel Industries Inc.', 'Schwab Short-Term U.S. Treasury ETF', 'Schwab U.S. TIPS ETF', 'Schwab Intermediate-Term U.S. Trsy ETF', 'Schwab U.S. Large-Cap Value ETF', 'The Charles Schwab Corporation', 'Schwab U.S. Large-Cap ETF', 'Schwab U.S. Aggregate Bond ETF', 'Service Corp. International', 'Market Vectors India Small-Cap ETF', 'Scientific Learning Corp.', 'EGShares India Small Cap', 'iShares MSCI Japan Small Cap Index', 'Socket Mobile, Inc.', 'Stepan Company', 'SciClone Pharmaceuticals, Inc.', 'Sucampo Pharmaceuticals, Inc.', 'Sycamore Networks Inc.', 'ProShares UltraShort DJ-UBS Crude Oil', 'SinoCoking and Coke Chemical Industries, Inc.', 'Superconductor Technologies Inc.', 'comScore, Inc.', 'SPDR Barclays Capital Short Term Corp Bd', 'Simcere Pharmaceutical Group.', 'Steelcase Inc.', 'ScanSource, Inc.', 'Select Comfort Corporation', 'SolarCity Corporation', 'Shoe Carnival Inc.', 'LS Starrett Co.', 'iShares MSCI EAFE Small Cap Index', 'SandRidge Energy, Inc.', 'ProShares UltraShort SmallCap600', 'Global X SuperDividend ETF', 'ProShares UltraShort Russell MCap Growth', 'Seadrill Partners LLC', 'ALPS Sector Dividend Dogs ETF', 'ProShares UltraPro Short Dow30', 'ProShares UltraShort Utilities', 'Sandridge Mississippian Trust II', 'SeaDrill Limited', 'ProShares UltraShort S&P500', 'SandRidge Mississippian Trust I', 'SPDR S&P Dividend', 'UBS E-TRACS Mo Pay 2x S&P Dividend ETN', 'Spectra Energy Corp.', 'Guggenheim Shipping', 'SeaChange International Inc.', 'SeaWorld Entertainment, Inc.', 'Seaboard Corp.', 'SED International Holdings, Inc.', 'Sealed Air Corporation', 'Origin Agritech Limited', 'ProShares Short Financials', 'SEI Investments Co.', 'Select Medical Holdings Corporation', 'SemGroup Corporation', 'Seneca Foods Corp.', 'Seneca Foods Corp.', 'Spectra Energy Partners, LP', 'Sevcon, Inc.', 'Stifel Financial Corp.', 'Sound Financial Bancorp, Inc.', 'Safeguard Scientifics, Inc.', 'StanCorp Financial Group Inc.', 'iStar Financial Inc.', 'ProShares UltraShort Russell1000 Growth', 'Ship Finance International Limited', 'Shutterfly, Inc.', 'Sprouts Farmers Market, Inc.', 'Stifel Financial Corp.', 'Simmons First National Corporation', 'Southern First Bancshares, Inc.', 'SouFun Holdings Ltd.', 'SFX Entertainment Inc.', 'Swift Energy Co.', 'Saga Communications Inc.', 'iPath Pure Beta Sugar ETN', 'Southwest Georgia Financial Corp.', 'Superior Uniform Group Inc.', 'Seattle Genetics Inc.', 'The Singapore Fund, Inc.', 'iPath DJ-UBS Sugar TR Sub-Idx ETN', 'Silicon Graphics International Corp.', 'Schawk Inc.', 'Strategic Global Income Fund Inc.', 'Stonegate Mortgage Corporation', 'SigmaTron International Inc.', 'Sangamo Biosciences Inc.', 'Scientific Games Corporation', 'Sagent Pharmaceuticals, Inc.', 'SGOCO Group, Ltd.', 'ETFS Physical Swiss Gold Shares', 'Spar Group Inc.', 'Star Gas Partners, L.P.', 'Stone Energy Corp.', 'Synergy Pharmaceuticals, Inc.', 'ProShares Short S&P500', 'Shore Bancshares, Inc.', 'Shenandoah Telecommunications Co.', 'Shuffle Master Inc.', 'Shinhan Financial Group Company Limited', 'Sinopec Shanghai Petrochemical Co. Ltd.', 'Seanergy Maritime Holdings Corp.', 'Sears Holdings Corporation', 'A. Schulman, Inc.', 'Shiloh Industries Inc.', 'SPDR Nuveen Barclays Capital S/T Muni Bd', 'Sunstone Hotel Investors Inc.', 'Steven Madden, Ltd.', 'ShoreTel, Inc.', 'Sears Hometown and Outlet Stores, Inc.', 'iShares Barclays Short Treasury Bond', 'The Sherwin-Williams Company', 'iShares Barclays 1-3 Year Treasury Bond', 'Siemens AG', 'Sigma-Aldrich Corporation', 'State Investors Bancorp, Inc.', 'Companhia Siderurgica Nacional', 'Siebert Financial Corp.', 'SIFCO Industries Inc.', 'SI Financial Group Inc.', 'Sify Technologies Limited', 'Signet Jewelers Limited', 'SIGA Technologies, Inc.', 'Selective Insurance Group Inc.', 'Sigma Designs, Inc.', 'ProShares UltraShort Industrials', 'Global X Silver Miners ETF', 'Silicom Ltd.', 'PureFunds ISE Jnr Slvr(Sm Cp Mnr/Exp)ETF', 'Grupo Simec S.A.B. de C.V.', 'Silicon Image, Inc.', 'Silicon Motion Technology Corp.', 'Sina Corp.', 'Sino-Global Shipping America, Ltd.', 'Select Income REIT Common Share', 'SIRIUS XM Radio Inc.', 'Sirona Dental Systems Inc.', 'SVB Financial Group', 'ETFS Physical Silver Shares', 'Six Flags Entertainment Corporation', 'QuantShares US Market Neutral Size ETF', 'iShares MSCI USA Size Factor', 'ProShares UltraShort Russell1000 Value', 'ProShares UltraShort Russell2000 Value', 'South Jersey Industries, Inc.', 'ProShares UltraShort Russell MidCap Val', 'The J. M. Smucker Company', 'SPDR BarCap ST High Yield Bond ETF', 'Shaw Communications, Inc.', 'San Juan Basin Royalty Trust', 'SJW Corp.', 'Skystar Bio Pharmaceutical Company', 'ProShares UltraShort Financials', 'Skilled Healthcare Group, Inc.', 'ProShares UltraShort Russell2000 Growth', 'SK Telecom Co. Ltd.', 'Saks Incorporated', 'Tanger Factory Outlet Centers Inc.', 'Skullcandy, Inc.', 'Skechers USA Inc.', 'Skyline Corp.', 'SkyWest Inc.', 'First Trust ISE Cloud Computing Index', 'American Select Portfolio Inc.', 'Silicon Laboratories Inc.', 'Schlumberger Limited', 'U.S. Silica Holdings, Inc.', 'Sun Life Financial Inc.', 'SL Green Realty Corp.', 'Silgan Holdings Inc.', 'Solera Holdings Inc.', 'SL Industries Inc.', 'SLM Corporation', 'Simulations Plus Inc.', 'Solar Capital Ltd.', 'Selectica Inc.', 'Solta Medical, Inc.', 'iShares Silver Trust', 'Credit Suisse Silver Shares Cov Call ETN', 'iShares MSCI Global Silver Miners ETF', 'Silver Wheaton Corp.', 'Market Vectors Steel ETF', 'Salix Pharmaceuticals Ltd.', 'SPDR S&P 600 Small Cap ETF', 'SPDR S&P 600 Small Cap Growth ETF', 'SPDR S&P 600 Small Cap Value ETF', 'SM Energy Company', 'Symmetry Medical, Inc.', 'Market Vectors Short Municipal Index ETF', 'Southern Missouri Bancorp, Inc.', 'Super Micro Computer, Inc.', 'ProShares UltraPro Short MidCap400', 'Sharps Compliance Corp.', 'Sumitomo Mitsui Financial Group Inc.', 'The Scotts Miracle-Gro Company', 'Market Vectors Semiconductor ETF', 'Semiconductor Manufacturing International Corp.', 'iShares MSCI India Small-Cap', 'Schmitt Industries Inc.', 'ProShares UltraShort MSCI Mexico', 'Summit Midstream Partners, LP', 'SPDR Russell 2000 Low Volatility ETF', 'Summit Financial Group Inc.', 'PIMCO Short Term Muni Bond Strgy ETF', 'ProShares UltraShort Basic Materials', 'Standard Motor Products Inc.', 'Simplicity Bancorp, Inc.', 'Stein Mart Inc.', 'Smith Micro Software Inc.', 'Semtech Corp.', 'SMTC Corp.', 'Sanchez Energy Corporation', 'Snap-on Inc.', 'Inventure Foods, Inc.', 'Sun Bancorp Inc.', 'Synchronoss Technologies, Inc.', 'SanDisk Corp.', 'Sony Corporation', 'Security National Financial Corp.', 'Senior Housing Properties Trust', 'Sun Hydraulics Corp.', 'Scripps Networks Interactive, Inc.', 'Highland/iBoxx Senior Loan ETF', 'Senomyx Inc.', 'Smith & Nephew plc', 'China Petroleum & Chemical Corp.', 'Synopsys Inc.', 'Sunesis Pharmaceuticals Inc.', 'Synta Pharmaceuticals Corp.', 'Santarus, Inc.', 'Synovus Financial Corp.', 'SYNNEX Corp.', 'Sanofi', 'Southern Company', 'Southcoast Financial Corp.', 'Global X Social Media Index ETF', 'SodaStream International Ltd.', 'Sonic Foundry Inc.', 'Sotherly Hotels Inc.', 'Sohu.com Inc.', 'Global X Fertilizers/Potash ETF', 'ReneSola Ltd.', 'Sonoco Products Co.', 'Southern National Bancorp of Virginia Inc.', 'Sonic Corp.', 'Sonus Networks, Inc.', 'Sonde Resources Corp.', 'Source Capital, Inc.', 'SORL Auto Parts, Inc.', 'Direxion Daily Semicondct Bull 3X Shares', 'Direxion Daily Semicondct Bear 3X Shares', 'iShares PHLX SOX Semiconductor Sector', 'Teucrium Soybean', 'Sparton Corp.', 'Span-America Medical Systems Inc.', 'Spartan Motors Inc.', 'Spectrum Brands Holdings, Inc.', 'SP Bancorp, Inc.', 'SuperCom Ltd.', 'Sport Chalet Inc.', 'Speed Commerce, Inc.', 'Special Opportunities Fund, Inc.', 'Spherix Inc.', 'Standard Pacific Corp.', 'Simon Property Group Inc.', 'UBS E-TRACS S&P 500 Gold Hedged Idx ETN', 'Suburban Propane Partners LP', 'PowerShares S&P 500 High Beta', 'PowerShares S&P 500 High Quality', 'Sophiris Bio, Inc.', 'Siliconware Precision Industries Co. Ltd.', 'Spire Corp.', 'Splunk, Inc.', 'Steel Partners Holdings L.P', 'Staples, Inc.', 'PowerShares S&P 500 Low Volatility', 'Superior Energy Services, Inc.', 'The Spectranetics Corporation', 'Sapiens International Corp. NV', 'Spectrum Pharmaceuticals, Inc.', 'Supertel Hospitality, Inc.', 'Spirit AeroSystems Holdings Inc', 'Spreadtrum Communications Inc.', 'SmartPros Ltd.', 'Support.com, Inc.', 'SPS Commerce, Inc.', 'Spartan Stores Inc.', 'SkyPeople Fruit Juice, Inc.', 'SPX Corporation', 'SunPower Corporation', 'VelocityShares Volatility Hdgd Lg Cp ETF', 'Direxion Daily S&P500 Bull 3X Shares', 'Direxion Daily S&P500 Bear 3X Shares', 'ProShares UltraPro Short S&P500', 'SPDR S&P 500', 'SPDR S&P 500 Growth ETF', 'SPDR S&P 500 Value ETF', 'Sequential Brands Group, Inc.', 'SciQuest, Inc.', 'Chemical & Mining Co. of Chile Inc.', 'Sequenom Inc.', 'Sequans Communications S.A.', 'ProShares UltraPro Short QQQ', 'The Standard Register Company', 'Spirit Realty Capital, Inc.', '1st Source Corporation', 'Stericycle, Inc.', 'SurModics Inc.', 'Sempra Energy', 'ServiceSource Corporation', 'Stoneridge Inc.', 'SPDR Blackstone/GSO Senior Loan ETF', 'Sprague Resources LP', 'Sorrento Therapeutics, Inc.', 'Sarepta Therapeutics, Inc.', 'ProShares UltraShort Real Estate', 'StarTek, Inc.', 'ProShares UltraPro Short Russell2000', 'The Cushing MLP Total Return Fu', 'Summit State Bank', 'Simpson Manufacturing Co., Inc.', 'Stewardship Financial Corp.', 'ProShares UltraShort Semiconductors', 'Sunshine Heart Inc.', 'Stage Stores Inc.', 'Sasol Ltd.', 'Sesa Sterlite Limited', 'Samson Oil & Gas Limited', 'SS&C Technologies Holdings, Inc.', 'Silver Spring Networks, Inc.', 'ProShares Ultra S&P500', 'The E. W. Scripps Company', 'Silver Standard Resources Inc.', 'Sovran Self Storage Inc.', 'SPDR Barclays Cap Short Term Trsy Bond', 'Shutterstock, Inc.', 'Seaspan Corp.', 'SunLink Health Systems Inc.', 'Stratasys Inc.', 'Sensata Technologies Holding NV', 'STAAR Surgical Company', 'STAG Industrial, Inc.', 'Standard Parking Corp.', 'Student Transportation, Inc.', 'S&T Bancorp Inc.', 'State Bank Financial Corporation', 'Stewart Information Services Corp.', 'Stock Building Supply Holdings, Inc.', 'Steris Corp.', 'Stewart Enterprises Inc.', 'StellarOne Corporation', 'StemCells Inc.', 'State Auto Financial Corp.', 'SunTrust Banks, Inc.', 'iShares Barclays 0-5 Year TIPS Bond', 'St. Jude Medical Inc.', 'SunOpta Inc.', 'Sterling Bancorp', 'Steel Dynamics Inc.', 'Stanley Furniture Co. Inc.', 'STMicroelectronics NV', 'Stemline Therapeutics, Inc.', 'Stamps.com Inc.', 'Stantec Inc.', 'Standard Financial Corp.', 'Scorpio Tankers Inc.', 'Steiner Leisure Ltd.', 'Statoil ASA', 'Stonemor Partners LP', 'Suntech Power Holdings Co. Ltd.', 'iPath US Treasury Steepener ETN', 'PIMCO 1-5 Year US TIPS Index ETF', 'Questar Corporation', 'Strayer Education Inc.', 'STR Holdings, Inc.', 'Sterling Construction Co. Inc.', 'Streamline Health Solutions, Inc.', 'Sutron Corp.', 'Straight Path Communications Inc.', 'Stratus Properties Inc.', 'Strattec Security Corp.', 'Starz', 'Supreme Industries Inc.', 'Sterling Financial Corp.', 'Star Scientific, Inc.', 'State Street Corp.', 'China Digital TV Holding Co., Ltd.', 'Starwood Property Trust, Inc.', 'Seagate Technology PLC', 'Stereotaxis Inc.', 'Constellation Brands Inc.', 'Suncor Energy Inc.', 'iShares S&P S/T Natnl AMT-Free Muni Bd', 'Suffolk Bancorp', 'Sun Communities Inc.', 'Summer Infant, Inc.', 'SunEdison, Inc.', 'Solar Senior Capital Ltd', 'Superior Industries International, Inc.', 'Supernus Pharmaceuticals, Inc.', 'Supertex Inc.', 'Synergetics USA, Inc.', 'Susser Petroleum Partners LP', 'Susquehanna Bancshares, Inc.', 'Susser Holdings Corporation', 'Sutor Technology Group Limited', 'Sinovac Biotech Ltd.', 'Severn Bancorp Inc.', 'Silver Bull Resources, Inc.', 'Silvercrest Mines Inc.', 'Silvercorp Metals Inc.', 'Servotronics Inc.', 'SUPERVALU Inc.', 'ProShares Short VIX Short-Term Fut ETF', 'Stillwater Mining Co.', 'Swift Transportation Company', 'Software HOLDRS', 'Smith & Wesson Holding Corporation', 'SolarWinds, Inc.', 'Sierra Wireless Inc.', 'Stanley Black & Decker, Inc.', 'Skyworks Solutions Inc.', 'Schweitzer-Mauduit International Inc.', 'Southwestern Energy Co.', 'SWS Group, Inc.', 'Swisher Hygiene Inc.', 'Southwest Gas Corporation', 'Safeway Inc.', 'The Swiss Helvetia Fund Inc.', 'SunCoke Energy Inc.', 'Suncoke Energy Partners, L.P.', 'Southcross Energy Partners, L.P.', 'Standex International Corp.', 'Sunoco Logistics Partners L.P.', 'Sensient Technologies Corporation', 'Symetra Financial Corporation', 'SY Bancorp Inc.', 'Stryker Corp.', 'Sykes Enterprises, Incorporated', 'Cambria Shareholder Yield ETF', 'Symantec Corporation', 'Symmetricom Inc.', 'Synthesis Energy Systems, Inc.', 'Synthetic Biologics Inc.', 'Synaptics Inc.', 'Synacor, Inc.', 'Synalloy Corp.', 'Syntroleum Corp.', 'Syntel, Inc.', 'Sypris Solutions Inc.', 'Synergy Resources Corporation', 'Syngenta AG', 'Synutra International Inc.', 'Systemax Inc.', 'Sysco Corp.', 'ProShares UltraShort Consumer Goods', 'PowerShares DB Crude Oil Short ETN', 'Solazyme, Inc.', 'AT&T, Inc.', 'TravelCenters of America LLC', 'TransAlta Corp.', 'TransAct Technologies Incorporated', 'Teucrium Agricultural', 'Tahoe Resources Inc.', 'Transamerica Income Shares Inc.', 'Taitron Components Inc.', 'TAL International Group, Inc.', 'TAM S.A.', 'Guggenheim Solar', 'Guggenheim China Real Estate', 'Taomee Holdings Ltd.', 'Molson Coors Brewing Company', 'Taro Pharmaceutical Industries Ltd.', 'Tasman Metals Ltd.', 'TASER International Inc.', 'Carrols Restaurant Group, Inc.', 'TransAtlantic Petroleum Ltd.', 'TAT Technologies, Ltd.', 'JTH Holding, Inc.', 'Medallion Financial Corp.', 'Taylor Capital Group Inc.', 'Taylor Devices Inc.', 'Tandy Brands Accessories Inc.', 'RBS Gold Trendpilot ETN', 'The Bancorp Inc.', 'ProShares Short 20+ Year Treasury', 'TrueBlue, Inc.', 'Territorial Bancorp Inc.', 'Trunkbow International Holdings, Ltd.', 'ProShares UltraShort 20+ Year Treasury', 'ProShares Short 7-10 Year Treasury', 'ProShares UltraShort 3-7 Year Treasury', 'Thompson Creek Metals Company Inc.', 'Triangle Capital Corporation', 'TCF Financial Corporation', 'Texas Capital BancShares Inc.', 'TriCo Bancshares', 'Technical Communications Corp.', 'The Community Financial Corp.', 'Transcontinental Realty Investors Inc.', 'Teck Resources Limited', 'Tata Communications Limited', 'Taubman Centers Inc.', 'TC Pipelines LP', 'THL Credit, Inc.', 'The Container Store Group, Inc.', 'Tucows Inc.', 'The Toronto-Dominion Bank', 'Tidelands Bancshares Inc.', 'Teradata Corporation', 'db-X 2010 Target Date ETF', 'Templeton Dragon Fund Inc.', 'TransDigm Group Incorporated', 'db-X 2020 Target Date ETF', 'First Trust NASDAQ Technology Dividend', 'db-X 2030 Target Date ETF', 'Telephone & Data Systems Inc.', 'FlexShares iBoxx 5Yr Target Dur TIPS ETF', 'FlexShares iBoxx 3Yr Target Dur TIPS ETF', 'db-X 2040 Target Date ETF', 'Tidewater Inc.', 'db-X In-Target Date ETF', 'Teledyne Technologies Inc.', 'TECO Energy, Inc.', 'TearLab Corporation', 'Tech Data Corp.', 'Techne Corp.', 'Direxion Daily Technology Bull 3X Shares', 'Direxion Daily Technology Bear 3X Shares', 'Tecumseh Products Company', 'Telefonica, S.A.', 'Integrys Energy Group, Inc.', 'Templeton Emerging Markets Income Fund', 'TE Connectivity Ltd.', 'Telik Inc.', 'Tel Offshore Trust', 'Tenneco Inc.', 'PIMCO 7-15 Year U.S. Treasury Index ETF', 'Telecom Argentina S.A.', 'Tallgrass Energy Partners, LP', 'Teradyne Inc.', 'Tesco Corporation', 'TESSCO Technologies Inc.', 'Box Ships Inc.', 'Teva Pharmaceutical Industries Limited', 'Terex Corp.', 'Tufco Technologies Inc.', 'SPDR Nuveen Barclays Capital Muni Bond', 'The Fresh Market, Inc.', 'TFS Financial Corp', 'Teleflex Incorporated', 'Tredegar Corp.', 'TransGlobe Energy Corp.', 'Taseko Mines Ltd.', 'Tengasco Inc.', 'Timmins Gold Corp.', 'TGC Industries Inc.', 'Textainer Group Holdings Limited', 'Triumph Group, Inc.', 'Teekay LNG Partners LP.', 'iShares S&P Target Date Retirement Inc', 'Transportadora de Gas Del Sur S.A.', 'Target Corp.', 'TG Therapeutics, Inc.', 'Theragenics Corp.', 'Tenet Healthcare Corp.', 'iShares MSCI Thailand Invest Mkt Index', 'First Financial Corp.', 'The Hanover Insurance Group Inc.', 'Market Vectors Treasury-Hedged Hi Yld Bd', 'Tim Hortons Inc.', 'Threshold Pharmaceuticals Inc.', 'International Tower Hill Mines Ltd.', 'Thor Industries Inc.', 'Thoratec Corp.', 'Thermon Group Holdings, Inc.', 'TF Financial Corporation', 'Gentherm Incorporated', 'Theravance Inc.', 'Treehouse Foods, Inc.', 'Truett-Hurst, Inc.', 'THT Heat Transfer Technology, Inc.', 'Telecom Italia SpA', 'Telecom Italia SpA', 'TIBCO Software Inc.', 'TICC Capital Corp.', 'Tiffany & Co.', 'TigerLogic Corporation', 'Tel-Instrument Electronics Corp.', 'Interface Inc.', 'FlexShares Mstar US Mkt Factors Tilt ETF', 'Harris & Harris Group, Inc.', 'iShares Barclays TIPS Bond', 'Tiptree Financial Inc.', 'SPDR Barclays 1-10 Year TIPS ETF', 'PIMCO Broad U.S. TIPS Index ETF', 'Orchids Paper Products Company', 'Top Image Systems Ltd.', 'Team Inc.', 'Titan Machinery, Inc.', 'TiVo Inc.', 'The TJX Companies, Inc.', 'Teekay Corporation', 'Turkcell Iletisim Hizmetleri AS', 'Turkish Investment Fund Inc.', 'Timken Co.', 'Tellabs Inc.', 'Tandy Leather Factory, Inc.', 'iShares Barclays 10-20 Year Treasury Bd', 'LMP Corporate Loan Fund Inc.', 'Perusahaan Perseroan (Persero) PT Telekomunikasi Indonesia Tbk.', 'ProShares UltraShort Telecommunications', 'Tesoro Logistics LP', 'Talisman Energy Inc.', 'SPDR Barclays Capital Long Term Treasury', 'Transmontaigne Partners L.P.', 'Timberline Resources Corp.', 'iShares Barclays 20+ Year Treas Bond', 'FlexShares Mstar Dev Mk ex-US Fct Tl Idx', 'FlexShares Mstar Emrg Mkts Fct Tl Idx', \"Tilly's, Inc.\", 'Toyota Motor Corporation', 'Direxion Daily 20+ Yr Trsy Bull 3X Shrs', 'Team Health Holdings, Inc.', 'Taylor Morrison Home Corporation', 'Torchmark Corp.', 'Management Network Group Inc.', 'Thermo Fisher Scientific, Inc.', 'Tompkins Financial Corporation.', 'T-Mobile US, Inc.', 'Direxion Daily 20+ Yr Trsy Bear 3X Shrs', 'Direxion Daily Small Cap Bull 3X Shares', 'TeleNav, Inc.', 'Tennant Company', 'RBS NASDAQ 100 Trendpilot ETN', 'Tengion, Inc.', 'Tangoe, Inc.', 'Terra Nitrogen Company, L.P.', 'Teekay Tankers Ltd.', 'Tsakos Energy Navigation Ltd.', 'Tonix Pharmaceuticals Holding Corp', 'Tofutti Brands Inc.', 'Tower Financial Corporation', 'iShares MSCI Kokusai Index', 'Toll Brothers Inc.', 'Teekay Offshore Partners LP', 'Top Ships Inc.', 'TOR Minerals International Inc.', 'Total SA', 'Direxion Daily Total Mkt Bear 1X Shares', 'Towne Bank', 'Tower International, Inc.', 'Tutor Perini Corporation', 'Thomas Properties Group Inc.', 'TRI Pointe Homes, Inc.', 'Tianyin Pharmaceutical Co., Inc.', 'Texas Pacific Land Trust', 'Triangle Petroleum Corporation', 'Third Point Reinsurance Ltd.', 'ProShares UltraShort TIPs', 'Tempur Pedic International Inc.', 'TriQuint Semiconductor, Inc.', 'ProShares UltraPro QQQ', 'Tootsie Roll Industries Inc.', 'DealerTrack Holdings, Inc.', 'Tejon Ranch Co.', 'Two River Bancorp', 'Tree.Com, Inc.', 'Trex Co. Inc.', 'Templeton Russia and East European Fund Inc.', 'Targa Resources Corp.', 'Targacept, Inc.', 'Thomson Reuters Corporation', 'Trinity Biotech plc', 'TripAdvisor Inc.', 'Tri-Tech Holding, Inc.', 'Speedway Motorsports Inc.', 'Trulia, Inc.', 'Trimble Navigation Limited', 'Trustmark Corporation', 'Tremor Video, Inc.', 'Trinity Industries Inc.', 'RBS US Large Cap Trendpilot ETN', 'RBS US Mid Cap Trendpilot ETN', 'Terreno Realty Corp.', 'Transcat Inc.', 'Tornier N.V.', 'TrovaGene, Inc.', 'T. Rowe Price Group, Inc.', 'Tronox Limited', 'TransCanada Corp.', 'Turquoise Hill Resources Ltd.', 'TRC Companies Inc.', 'TriMas Corporation', 'VelocityShares Tail Risk Hdgd Lg Cp ETF', 'TrustCo Bank Corp. NY', 'Trio-Tech International', 'The Travelers Companies, Inc.', 'TRW Automotive Holdings Corp.', 'Tanzanian Royalty Exploration Corp.', 'Tenaris SA', 'Timberland Bancorp Inc.', 'Tristate Capital Holdings, Inc.', 'Tractor Supply Company', 'Tower Semiconductor Ltd.', 'Teche Holding Company', 'TCW Strategic Income Fund, Inc.', 'Trina Solar Limited', 'Tesla Motors, Inc.', 'Taiwan Semiconductor Manufacturing Co. Ltd.', 'Tyson Foods Inc.', 'Tesoro Corporation', 'Transcept Pharmaceuticals, Inc.', 'Tessera Technologies Inc.', 'Trade Street Residential, Inc.', 'TSR Inc.', 'Tesaro, Inc.', 'Total System Services, Inc.', 'TheStreet, Inc.', 'Telestone Technologies Corp.', 'TIM Participacoes S.A.', 'TeleCommunication Systems Inc.', 'Toro Co.', 'TeleTech Holdings Inc.', 'Tetra Tech Inc.', 'Thai Fund Inc.', 'TrimTabs Float Shrink ETF', 'TechTarget, Inc.', 'Telecom HOLDRS', 'Transition Therapeutics Inc.', 'TETRA Technologies Inc.', 'Tata Motors Ltd.', 'TTM Technologies Inc.', 'Tetraphase Pharmaceuticals, Inc.', 'Tile Shop Holdings, Inc.', 'ProShares UltraPro Short 20+ Year Trsy', 'Take-Two Interactive Software Inc.', 'TELUS Corporation', 'Mac-Gray Corp.', 'Tuesday Morning Corp.', 'Tumi Holdings, Inc.', 'Tupperware Brands Corporation', 'iShares MSCI Turkey Invest Mkt Index', 'PIMCO 1-3 Year US Treasury Index ETF', 'Grupo Televisa, S.A.B.', 'VelocityShares Daily 2x VIX ST ETN', 'VelocityShares Daily 2x VIX Med Term ETN', 'Towers Watson & Co.', 'Time Warner Cable Inc.', 'Towerstream Corporation', 'Tower Group Inc.', 'Titan International Inc.', 'Twin Disc Inc.', 'ProShares UltraShort Russell2000', 'Trans World Entertainment Corporation', 'The Taiwan Fund, Inc.', 'Two Harbors Investment Corp.', 'SPDR Russell 2000 ETF', 'ProShares UltraShort Russell3000', 'TW Telecom Inc.', 'RBS Oil Trendpilot ETN', 'Twitter, Inc.', 'Time Warner Inc.', 'Ternium S.A.', 'TranSwitch Corp.', 'Texas Industries Inc.', 'Tongxin International, Ltd.', 'TherapeuticsMD, Inc.', 'Texas Instruments Inc.', 'Texas Roadhouse Inc.', 'Textron Inc.', 'Textura Corporation', 'Tri-Continental Corporation', 'Direxion Daily 20+ Year Treasury Bear 1X', 'Tyco International Ltd.', 'Direxion Daily 7-10 Yr Trsy Bull 3X Shrs', 'Tortoise Energy Infrastructure Corp.', 'Tyler Technologies, Inc.', 'Tortoise North American Energy Corporation', 'Direxion Daily 7-10 Yr Treasury Bear 1X', 'Direxion Daily 7-10 Yr Trsy Bear 3X Shrs', 'Monotype Imaging Holdings Inc.', 'Tortoise Energy Capital Corp.', 'Direxion Daily Small Cap Bear 3X Shares', 'iShares S&P Target Date 2010', 'iShares S&P Target Date 2015', 'iShares S&P Target Date 2020', 'iShares S&P Target Date 2025', 'iShares S&P Target Date 2030', 'iShares S&P Target Date 2035', 'Travelzoo Inc.', 'iShares S&P Target Date 2040', 'Under Armour, Inc.', 'Universal Truckload Services Inc.', 'UBS E-TRACS CMCI Agriculture TR ETN', 'United Continental Holdings, Inc.', 'Universal American Corp', 'United States Antimony Corp.', 'CVR Partners, LP', 'Urstadt Biddle Properties Inc.', 'UBS E-TRACS CMCI Livestock TR ETN', 'United Bancorp Inc.', 'Claymore U.S. Capital Markets Bond', 'United Security Bancshares', 'UBS E-TRACS CMCI Gold TR ETN', 'UBIC, Inc.', 'UBS E-TRACS CMCI Industrial Mtls TR ETN', 'UBS E-TRACS CMCI Energy TR ETN', 'United Financial Bancorp', 'Ubiquiti Networks, Inc.', 'United Bancshares Inc.', 'ProShares Ultra MSCI Brazil', 'UBS AG', 'Union First Market Bankshares Corporation', 'United Bankshares Inc.', 'ProShares Ultra 20+ Year Treasury', 'United Community Bancorp', 'United Community Banks, Inc.', 'ProShares Ultra Consumer Services', 'ProShares Ultra DJ-UBS Commodity', 'United Community Financial Corp.', 'UBS E-TRACS CMCI TR ETN', 'ProShares Ultra DJ-UBS Crude Oil', 'UCP, Inc.', 'Ultra Clean Holdings Inc.', 'PowerShares DB US Dollar Index Bearish', 'ProShares UltraPro Dow30', 'UDR, Inc.', 'Uranium Energy Corp.', 'Universal Electronics Inc.', 'Net 1 Ueps Technologies Inc.', 'United Fire & Casualty Company', 'Unifi Inc.', 'Universal Forest Products Inc.', 'UFP Technologies Inc.', 'Domtar Corporation', 'United-Guardian Inc.', 'United States Gasoline', 'VelocityShares 3x Long Natural Gas ETN', 'ProShares Ultra Consumer Goods', 'UGI Corp.', 'ProShares Ultra Gold', 'Ultrapar Holdings Inc.', 'AMERCO', 'United States Heating Oil', 'Universal Health Services Inc.', 'Universal Health Realty Income Trust', 'United Insurance Holdings Corp.', 'UIL Holdings Corporation', 'ProShares UltraPro 10 Yr TIPS/TSY Sp', 'Unisys Corporation', 'ProShares Ultra High Yield', 'ProShares Ultra Russell1000 Growth', 'ProShares Ultra Russell2000 Growth', 'ProShares Ultra Russell MidCap Growth', 'Unilever plc', 'Ultralife Corp.', 'ProShares Ultra Euro', 'Urologix, Inc.', 'Claymore U.S. Capital Mkts Micro-Trm F/I', 'Ulta Salon, Cosmetics & Fragrance, Inc.', 'The Ultimate Software Group, Inc.', 'Ultrapetrol (Bahamas) Ltd.', 'UMB Financial Corporation', 'United Microelectronics Corporation', 'ProShares UltraPro MidCap400', 'UMH Properties Inc.', 'Umpqua Holdings Corporation', 'ProShares Ultra MSCI Mexico', 'Unilever NV', 'Unico American Corp.', 'Union Bankshares Inc.', 'UniFirst Corp.', 'United Natural Foods, Inc.', 'United States Natural Gas', 'Unitedhealth Group, Inc.', 'Unilife Corporation', 'United States 12 Month Natural Gas', 'Unum Group', 'Union Pacific Corporation', 'UniSource Energy Corporation', 'Unit Corp.', 'United Online, Inc.', 'UniTek Global Services, Inc.', 'Unity Bancorp Inc.', 'Uni-Pixel Inc.', 'VelocityShares 3x Long Brent Crude ETN', 'Universal Power Group Inc.', 'Uroplasty Inc.', 'Unwired Planet, Inc.', 'Ultra Petroleum Corp.', 'ProShares UltraPro S&P500', 'United Parcel Service, Inc.', 'ProShares Ultra MSCI Europe', 'ProShares Ultra Utilities', 'UQM Technologies Inc.', 'Global X Uranium ETF', 'Urban Outfitters Inc.', 'ProShares Ultra Real Estate', 'UR-Energy Inc.', 'United Rentals, Inc.', 'Uranium Resources, Inc.', 'URS Corporation', 'iShares MSCI World', 'ProShares UltraPro Russell2000', 'Uranerz Energy Corp.', 'Liberty All Star Equity Fund', 'USA Compression Partners, LP', 'United States Agriculture Index', 'USA Truck Inc.', 'Universal Stainless & Alloy Products Inc.', 'USA Technologies Inc.', 'U.S. Bancorp', 'United Security Bancshares Inc.', 'United States Commodity Index', 'US Concrete Inc.', 'ProShares Ultra Semiconductors', 'US Energy Corp.', 'USG Corporation', 'United States 12 Month Oil', 'United States Lime & Minerals, Inc.', 'United States Cellular Corporation', 'USMD Holdings, Inc.', 'United States Metals Index', 'USA Mobility, Inc.', 'USANA Health Sciences Inc.', 'United States Oil', 'US Physical Therapy Inc.', 'ProShares Ultra 7-10 Year Treasury', 'United Stationers Inc.', 'USEC Inc.', 'UBS E-TRACS CMCI Silver TR ETN', 'Ultratech, Inc.', 'Cohen & Steers Infrastructure Fund, Inc', 'Reaves Utility Income Fund', 'Utilities HOLDRS', 'United Therapeutics Corporation', 'Universal Technical Institute, Inc.', 'UTi Worldwide Inc.', 'Unitil Corp.', 'db X-trackers Regulated Utilities', 'Utah Medical Products Inc.', 'UTStarcom Holdings Corp.', 'United Technologies Corp.', 'PowerShares DB US Dollar Index Bullish', 'Universal Security Instruments Inc.', 'Universal Insurance Holdings Inc.', 'ProShares Ultra Russell1000 Value', 'Univest Corp. of Pennsylvania', 'ProShares Ultra Russell2000 Value', 'ProShares Ultra Russell MidCap Value', 'Universal Corp.', 'ProShares Ultra VIX Short-Term Fut ETF', 'ProShares Ultra Russell3000', 'ProShares Ultra Russell2000', 'Nevada Gold & Casinos Inc.', 'VelocityShares 3x Long Crude ETN', 'ProShares Ultra Industrials', 'ProShares Ultra MSCI Pacific ex-Japan', 'ProShares Ultra Financials', 'ProShares Ultra Basic Materials', 'Visa, Inc.', 'Marriott Vacations Worldwide Corp.', 'The Valspar Corporation', 'Vale S.A.', 'Value Line, Inc.', 'Shengkai Innovations, Inc.', 'Varian Medical Systems Inc.', 'Vascular Solutions Inc.', 'Vanguard Materials ETF', 'Vanguard Small Cap ETF', 'Invesco Van Kampen Bond Fund', 'Village Bank & Trust Financial Corp.', 'Vanguard Small Cap Growth ETF', 'Vanguard Small Cap Value ETF', 'Visteon Corp.', 'Virginia Commerce Bancorp Inc.', 'Delaware Investments Colorado Municipal Income Fund, Inc.', 'Valassis Communications Inc.', 'Vanguard Interm-Tm Corp Bd Idx ETF', 'ValueClick, Inc.', 'Vanguard Long-Term Corp Bond Idx ETF', 'Vina Concha y Toro S.A.', 'Vanguard Consumer Discretionary ETF', 'Vocera Communications, Inc.', 'Vanguard Short-Term Corp Bd Idx ETF', 'Invesco Van Kampen California Value Municipal Income Trust', 'Veracyte, Inc.', 'Vanguard Consumer Staples ETF', 'Vanguard Energy ETF', 'VASCO Data Security International Inc.', 'Veolia Environnement S.A.', 'Vanguard MSCI EAFE ETF', 'Veeco Instruments Inc.', 'Veeva Systems Inc.', 'AdvisorShares STAR Global Buy-Write ETF', 'iShares MSCI Glbl Agriculture Producers', 'Velti Plc', 'Vermilion Energy Inc.', 'Vanguard FTSE All-World ex-US ETF', 'V.F. Corporation', 'Vanguard Financials ETF', 'Delaware Investments National Municipal Income Fund', 'Vonage Holdings Corporation', 'Vanguard Interm-Tm Govt Bd Idx ETF', 'Vanguard MSCI Europe ETF', 'Vanguard Long-Term Govt Bd Idx ETF', 'Invesco Van Kampen Trust for Investment Grade Municipals', 'Vector Group Ltd.', 'Vanguard Short-Term Govt Bd Idx ETF', 'Vanguard Information Technology ETF', 'Vista Gold Corp.', 'VirnetX Holding Corp', 'Valhi, Inc.', 'Vanguard Health Care ETF', 'Viacom, Inc.', 'Viasystems Group Inc.', 'Vical Inc.', 'Vicor Corp.', 'Video Display Corp.', 'Food Technology Service Inc.', 'Vanguard Dividend Appreciation ETF', 'Vicon Industries Inc.', 'VelocityShares Long VIX Short Term ETN', 'VelocityShares Long VIX Medium Term ETN', 'Vimicro International Corp.', 'Vanguard S&P Small-Cap 600 Gr Idx ETF', 'Vanguard S&P Small-Cap 600 Index ETF', 'Vanguard S&P Small-Cap 600 Value Idx ETF', 'VimpelCom Ltd.', 'Vipshop Holdings Limited', 'Virco Manufacturing Corp.', 'Vanguard Industrials ETF', 'VisionChina Media Inc.', 'Vitacost.com, Inc.', 'Telefonica Brasil, S.A.', 'Meridian Bioscience Inc.', 'First Trust CBOE S&P 500 VIX Tail Hedge', 'ProShares VIX Mid-Term Futures ETF', 'ProShares VIX Short-Term Futures ETF', 'Voxeljet AG', 'Invesco Van Kampen Advantage Municipal Income Trust II', 'Invesco Van Kampen Municipal Trust', 'Knightsbridge Tankers Limited', 'Village Super Market Inc.', 'Valero Energy Corporation', 'Controladora Vuela Compa', 'Invesco Van Kampen High Income Trust II', 'Voltari Corporation', 'iShares MSCI USA Value Factor', 'Valley National Bancorp', 'Vanguard Mortgage-Backed Sec Idx ETF', 'Vulcan Materials Company', 'Violin Memory, Inc.', 'Valmont Industries, Inc.', 'Delaware Investments Minnesota Municipal Income Fund II', 'Invesco Van Kampen Municipal Opportunity Trust', 'VMware, Inc.', 'Vanda Pharmaceuticals, Inc.', '21Vianet Group, Inc.', 'Market Vectors Vietnam ETF', 'Vornado Realty Trust', 'Vanguard REIT Index ETF', 'Vanguard Global ex-US Real Estate ETF', 'Vanguard Natural Resources, LLC', 'Vantiv, Inc.', 'Vanguard Mid-Cap ETF', 'VOC Energy Trust', 'Vocus Inc.', 'Vodafone Group plc', 'Vanguard Mid-Cap Value ETF', 'Volcano Corporation', 'Vanguard Russell 1000 Index ETF', 'Vanguard Russell 1000 Growth Index ETF', 'Vanguard Russell 1000 Value Index ETF', 'Vanguard S&P 500 ETF', 'Vanguard S&P 500 Growth Index ETF', 'Vanguard S&P 500 Value Index ETF', 'Vanguard Mid-Cap Growth ETF', 'Vanguard Telecom Services ETF', 'VOXX International Corporation', 'ING U.S. Inc.', 'Viewpoint Financial Group', 'Vishay Precision Group, Inc.', 'ViroPharma Inc.', 'Vanguard MSCI Pacific ETF', 'Vistaprint N.V.', 'Vanguard Utilities ETF', 'Invesco Van Kampen Pennsylvania Value Municipal Income Trust', 'Barclays S&P 500 Dynamic VEQTOR ETN', 'Validus Holdings, Ltd.', 'Vera Bradley, Inc.', 'SPDR Nuveen S&P VRDO Municipal Bond', 'Vermillion, Inc.', 'Vringo, Inc.', 'Verenium Corporation', 'Verint Systems Inc.', 'Verso Paper Corp.', 'Verisk Analytics, Inc.', 'VeriSign, Inc.', 'Vestin Realty Mortgage I, Inc', 'Vestin Realty Mortgage II, Inc.', 'Virtus Investment Partners, Inc.', 'Virtusa  Corp.', 'Vertex Pharmaceuticals Incorporated', 'Valeant Pharmaceuticals International, Inc.', 'ViaSat Inc.', 'VantageSouth Bancshares, Inc.', 'VSB Bancorp Inc.', 'Vision-Sciences Inc.', 'VirtualScopics Inc.', 'VSE Corp.', 'Vishay Intertechnology Inc.', 'Vitamin Shoppe, Inc.', 'Direxion S&P 500 RC Volatility Res Shrs', 'Versar Inc.', 'Vanguard FTSE All-Wld ex-US SmCp Idx ETF', 'Verastem, Inc.', 'Vanguard Total World Stock Index ETF', 'Invesco Van Kampen Dynamic Cred', 'Vantage Drilling Company', 'Vanguard Russell 3000 Index ETF', 'Vanguard Total Stock Market ETF', 'Vanguard Shrt-Term Infl-Prot Sec Idx ETF', 'Invesco Van Kampen Trust for Investment Grade New York Municipals', 'Vitran Corp Inc.', 'Vertex Energy, Inc.', 'Ventas, Inc.', 'Vitesse Semiconductor Corp.', 'Ventrus Biosciences Inc.', 'Vanguard Value ETF', 'Vanguard Russell 2000 Growth Index ETF', 'Vanguard Russell 2000 Index ETF', 'Vanguard Russell 2000 Value Index ETF', 'Vanguard Growth ETF', 'Vanguard Large Cap ETF', 'Vectren Corporation', 'Viad Corp', 'Invesco Van Kampen Senior Income Trust', 'ValueVision Media Inc.', 'VIVUS Inc.', 'Vanguard MSCI Emerging Markets ETF', 'Vanguard Emerg Mkts Govt Bd Idx ETF', 'Vanguard Extended Market Index ETF', 'Vanguard Total Intl Stock Idx ETF', 'iPath S&P 500 VIX Short-Term Futures ETN', 'iPath S&P 500 VIX Mid-Term Futures ETN', 'Valley Financial Corporation', 'Vanguard High Dividend Yield Indx ETF', 'Verizon Communications Inc.', 'Westinghouse Air Brake Technologies Corporation', 'Westamerica Bancorp.', 'Walter Investment Management Corp.', 'Wacoal Holdings Corp.', 'Washington Federal Inc.', 'Walgreen Co.', 'WageWorks, Inc.', 'Wesco Aircraft Holdings, Inc.', 'Western Alliance Bancorporation', 'Washington Trust Bancorp Inc.', 'Waters Corp.', 'Wave Systems Corp.', 'Wayne Savings Bancshares Inc.', 'Westbury Bancorp, Inc.', 'WABCO Holdings Inc.', 'Washington Banking Co.', 'Westpac Banking Corporation', 'Wolverine Bancorp, Inc.', 'WebMD Health Corp.', 'Webster Financial Corp.', 'WESCO International Inc.', 'WellCare Health Plans, Inc.', 'Waste Connections Inc.', 'Walker & Dunlop, Inc.', 'Workday, Inc.', 'Western Digital Corp.', 'WD-40 Company', 'SPDR S&P Global Dividend ETF', 'Waddell & Reed Financial Inc.', 'WisdomTree Managed Futures', 'Western Asset Premier Bond Fund', 'Teucrium Wheat', 'Wellesley Bancorp, Inc.', 'Wisconsin Energy Corp.', 'iPath Pure Beta Grains ETN', \"The Wendy's Company\", 'Werner Enterprises Inc.', 'Western Gas Partners LP', 'Westinghouse Solar, Inc.', 'WisdomTree Investments, Inc.', 'Winland Electronics Inc.', 'Weyco Group Inc.', 'Woori Finance Holdings Co., Ltd.', 'WashingtonFirst Bankshares Inc.', 'Wells Fargo & Company', 'Westfield Financial Inc.', 'Whole Foods Market, Inc.', 'Weatherford International Ltd.', 'Willbros Group Inc.', 'Wells-Gardner Electronics Corp.', 'WGL Holdings Inc.', 'Winnebago Industries Inc.', 'Western Gas Equity Partners, LP', 'WSP Holdings Ltd.', 'Westwood Holdings Group Inc.', 'Wheeler Real Estate Investment Trust, Inc.', 'Whirlpool Corp.', 'Whiting USA Trust I', 'Whiting USA Trust II', 'Western Asset/Claymore Inflation-Linked Securities & Income Fund', 'Wilshire Bancorp Inc.', 'Boingo Wireless, Inc.', 'G. Willi Food-International Ltd.', 'Windstream Corporation', 'Winmark Corp.', 'SPDR DB Intl Govt Infl-Protected Bond', 'Encore Wire Corp.', 'Wipro Ltd.', 'ETFS Physical White Metals Basket Shares', 'Western Asset/Claymore Inflation- Linked Opportunities & Income Fund', 'Westmoreland Coal Co.', 'Willdan Group, Inc.', 'Willis Lease Finance Corp.', 'Westlake Chemical Corp.', 'Whiting Petroleum Corp.', 'WellPoint Inc.', 'Walter Energy, Inc.', 'Waste Management, Inc.', 'West Marine Inc.', 'Williams Companies, Inc.', 'Western Asset Mortgage Capital Corporation', 'Wilshire Micro-Cap ETF', 'Wright Medical Group Inc.', 'Wireless HOLDRS', 'Weis Markets, Inc.', 'Wal-Mart Stores Inc.', 'ELEMENTS Morningstar Wide Moat Focus ETN', 'Wabash National Corp.', 'Western Refining Inc.', 'Western Refining Logistics, LP', 'WNS (Holdings) Ltd.', 'iShares S&P Global Timber & Forestry Idx', 'VCA Antech Inc.', 'Worthington Industries, Inc.', 'W. P. Carey & Co. LLC', 'WPCS International Incorporated', 'The Washington Post Company', 'Wausau Paper Corp.', 'WPP plc', 'Westport Innovations Inc.', 'iShares S&P Dev ex-US Property Index', 'WPX Energy, Inc.', 'Williams Partners L.P.', 'Westar Energy, Inc.', 'W.R. Berkley Corporation', 'Washington Real Estate Investment Trust', 'Wilshire US REIT ETF', 'Warren Resources Inc.', 'Weingarten Realty Investors', 'World Acceptance Corp.', 'WesBanco Inc.', 'Waterstone Financial, Inc.', 'WSI Industries Inc.', 'WSFS Financial Corp.', 'Willis Group Holdings Public Limited Company', 'Williams-Sonoma Inc.', 'Watsco Inc.', 'Whitestone REIT', 'West Pharmaceutical Services, Inc.', 'West Corporation', 'Wayside Technology Group, Inc.', 'Westell Technologies Inc.', 'West Bancorp., Inc.', 'Wintrust Financial Corporation', 'W&T Offshore Inc.', 'White Mountains Insurance Group, Ltd.', 'Aqua America Inc.', 'Watts Water Technologies, Inc.', 'Wet Seal Inc.', 'Wireless Telecom Group Inc.', 'Weight Watchers International, Inc.', 'Western Union Co.', '58.com Inc.', 'WVS Financial Corp.', 'Willamette Valley Vineyards Inc.', 'The WhiteWave Foods Company', 'Woodward, Inc.', 'World Wrestling Entertainment Inc.', 'Wolverine World Wide Inc.', 'Web.com Group, Inc.', 'WuXi PharmaTech (Cayman) Inc.', 'Weyerhaeuser Co.', 'Wyndham Worldwide Corporation', 'Wynn Resorts Ltd.', 'WidePoint Corp.', 'United States Steel Corp.', 'American Municipal Income Portfolio Inc.', 'SPDR S&P Biotech', 'Xenith Bankshares, Inc.', 'EXCO Resources Inc.', 'Cimarex Energy Co.', 'Xcel Energy Inc.', 'SPDR S&P Oil & Gas Equipment & Services', 'Guggenheim International Small Cap LDRs', 'SPDR S&P Homebuilders', 'SPDR S&P Health Care Equipment', 'Xinyuan Real Estate Co., Ltd.', 'VelocityShares Daily Inverse VIX ST ETN', 'XL Group plc', 'Materials Select Sector SPDR', 'Energy Select Sector SPDR', 'Financial Select Sector SPDR', 'Rydex Russell Top 50', 'Industrial Select Sector SPDR', 'Technology Select Sector SPDR', 'Xilinx Inc.', 'Consumer Staples Select Sector SPDR', 'Acceleron Pharma, Inc.', 'Exelis, Inc.', 'Utilities Select Sector SPDR', 'Health Care Select Sector SPDR', 'Consumer Discret Select Sector SPDR', 'SPDR S&P Metals & Mining', 'PowerShares S&P MidCap Low Volatility', 'Market Vectors CEF Municipal Income ETF', 'Xenoport, Inc.', 'China Xiniya Fashion Limited', 'Exxon Mobil Corporation', 'XOMA Corporation', 'Intrexon Corporation', 'The ExOne Company', 'Xoom Corporation', 'SPDR S&P Oil & Gas Exploration & Prod', 'SPDR BofA ML Crossover Corp Bond ETF', 'XO Group Inc.', 'SPDR S&P Pharmaceuticals', 'Solitario Exploration & Royalty Corp.', 'Xplore Technologies Corp.', 'XPO Logistics, Inc.', 'ProShares Ultra FTSE China 25', 'Exeter Resource Corporation', 'DENTSPLY International Inc.', 'Xerium Technologies Inc.', 'Guggenheim Sector Rotation', 'TAL Education Group', 'XRS Corporation', 'SPDR S&P Retail', 'Xyratex Ltd.', 'Xerox Corp.', 'SPDR S&P Semiconductor', 'PowerShares S&P SmallCap Low Volatility', 'Crosstex Energy LP', 'SPDR S&P Telecom', 'SPDR S&P Transportation', 'Crosstex Energy Inc.', 'Xueda Education Group', 'UBS E-TRACS Daily Long-Short VIX ETN', 'iPath S&P 500 Dynamic VIX ETN', 'World Energy Solutions, Inc.', 'Ixia', 'iPath Inverse S&P 500 Vix S/T Fut ETN', 'Xylem Inc.', 'Alleghany Corp.', 'Direxion Daily China Bear 3X Shares', 'Guggenheim China All-Cap', 'ProShares Ultra Yen', 'ProShares UltraShort Yen', 'First Trust Intl Multi-Asst Divers Inc', 'Yadkin Financial Corporation', 'Yelp, Inc.', 'Yingli Green Energy Holding Co. Ltd.', 'Yahoo! Inc.', 'Direxion Daily China Bull 3X Shares', 'Yandex N.V.', 'YOU On Demand Holdings, Inc.', 'Youku Inc.', 'Yongye International, Inc.', 'York Water Co.', 'YPF S.A.', 'YRC Worldwide Inc.', 'Yum! Brands, Inc.', 'YuMe, Inc.', 'ProShares Short FTSE China 25', 'YY Inc.', 'YieldShares High Income ETF', 'Yanzhou Coal Mining Co. Ltd.', 'Zillow, Inc.', 'Zuoan Fashion Limited', 'ZAGG Inc.', 'ZaZa Energy Corporation', 'ZBB Energy Corporation', 'Zebra Technologies Corp.', 'Zep, Inc.', 'Olympic Steel Inc.', 'Zweig Fund Inc.', 'ZAIS Financial Corp.', 'Zogenix, Inc.', 'Zhone Technologies Inc.', 'Zygo Corporation', 'Horsehead Holding Corp.', 'Zions Bancorp.', 'ZIOPHARM Oncology, Inc.', 'zipRealty Inc.', 'VelocityShares Daily Inverse VIX MT ETN', 'Zix Corporation', 'Zale Corporation', 'Zalicus Inc.', 'ZELTIQ Aesthetics, Inc.', 'Zimmer Holdings, Inc.', 'Zion Oil & Gas, Inc.', 'Zynga, Inc.', 'China Southern Airlines Co. Ltd.', 'Zoltek Companies Inc.', 'ZOOM Technologies, Inc.', 'Quiksilver Inc.', 'PIMCO 25+ Yr Zero Cpn U.S. Trsy Idx ETF', 'ProShares UltraShort Silver', 'Zweig Total Return Fund Inc.', 'Zoetis Inc.', 'Zumiez, Inc.', 'China Zenix Auto International Ltd.'] expected: ['Agilent Technologies Inc.', 'Alcoa, Inc.', 'WCM/BNY Mellon Focused Growth ADR ETF', 'iShares MSCI AC Asia Information Tech', 'Altisource Asset Management Corporation', 'Atlantic American Corp.', \"Aaron's, Inc.\", 'Applied Optoelectronics, Inc.', 'AAON Inc.', 'Advance Auto Parts Inc.']\n"
     ]
    }
   ],
   "source": [
    "names=[s[\"Company\"] for s in stocks]\n",
    "\n",
    "\n",
    "# TEST\n",
    "print(\"first_ten_names\")\n",
    "from answers import ten_companies        \n",
    "test(names, ten_companies)"
   ]
  },
  {
   "cell_type": "code",
   "execution_count": 33,
   "metadata": {},
   "outputs": [
    {
     "name": "stdout",
     "output_type": "stream",
     "text": [
      "first_ten_names\n",
      "  OK  got: ['Agilent Technologies Inc.', 'Alcoa, Inc.', 'WCM/BNY Mellon Focused Growth ADR ETF', 'iShares MSCI AC Asia Information Tech', 'Altisource Asset Management Corporation', 'Atlantic American Corp.', \"Aaron's, Inc.\", 'Applied Optoelectronics, Inc.', 'AAON Inc.', 'Advance Auto Parts Inc.'] expected: ['Agilent Technologies Inc.', 'Alcoa, Inc.', 'WCM/BNY Mellon Focused Growth ADR ETF', 'iShares MSCI AC Asia Information Tech', 'Altisource Asset Management Corporation', 'Atlantic American Corp.', \"Aaron's, Inc.\", 'Applied Optoelectronics, Inc.', 'AAON Inc.', 'Advance Auto Parts Inc.']\n"
     ]
    }
   ],
   "source": [
    "names=[s[\"Company\"] for s in stocks[0:10]]\n",
    "\n",
    "\n",
    "# TEST\n",
    "print(\"first_ten_names\")\n",
    "from answers import ten_companies        \n",
    "test(names, ten_companies)"
   ]
  },
  {
   "cell_type": "code",
   "execution_count": 34,
   "metadata": {},
   "outputs": [
    {
     "name": "stdout",
     "output_type": "stream",
     "text": [
      "first_ten_names\n",
      "  OK  got: ['Agilent Technologies Inc.', 'Alcoa, Inc.', 'WCM/BNY Mellon Focused Growth ADR ETF', 'iShares MSCI AC Asia Information Tech', 'Altisource Asset Management Corporation', 'Atlantic American Corp.', \"Aaron's, Inc.\", 'Applied Optoelectronics, Inc.', 'AAON Inc.', 'Advance Auto Parts Inc.'] expected: ['Agilent Technologies Inc.', 'Alcoa, Inc.', 'WCM/BNY Mellon Focused Growth ADR ETF', 'iShares MSCI AC Asia Information Tech', 'Altisource Asset Management Corporation', 'Atlantic American Corp.', \"Aaron's, Inc.\", 'Applied Optoelectronics, Inc.', 'AAON Inc.', 'Advance Auto Parts Inc.']\n"
     ]
    }
   ],
   "source": [
    "\n",
    "#dah load semua json file dalam variable stocks(dictionary) from exercise 1\n",
    "\n",
    "names = [stock[\"Company\"] for stock in stocks[0:10]] #slicing from [0:10]\n",
    "#identify mana dalam stock ada [\"Company\"] \n",
    "\n",
    "\n",
    "# TEST\n",
    "print(\"first_ten_names\")\n",
    "from answers import ten_companies        \n",
    "test(names, ten_companies)"
   ]
  },
  {
   "cell_type": "code",
   "execution_count": 35,
   "metadata": {},
   "outputs": [
    {
     "name": "stdout",
     "output_type": "stream",
     "text": [
      "first_ten_names\n",
      "  OK  got: ['Agilent Technologies Inc.', 'Alcoa, Inc.', 'WCM/BNY Mellon Focused Growth ADR ETF', 'iShares MSCI AC Asia Information Tech', 'Altisource Asset Management Corporation', 'Atlantic American Corp.', \"Aaron's, Inc.\", 'Applied Optoelectronics, Inc.', 'AAON Inc.', 'Advance Auto Parts Inc.'] expected: ['Agilent Technologies Inc.', 'Alcoa, Inc.', 'WCM/BNY Mellon Focused Growth ADR ETF', 'iShares MSCI AC Asia Information Tech', 'Altisource Asset Management Corporation', 'Atlantic American Corp.', \"Aaron's, Inc.\", 'Applied Optoelectronics, Inc.', 'AAON Inc.', 'Advance Auto Parts Inc.']\n"
     ]
    }
   ],
   "source": [
    "#exercise 2 - farah\n",
    "\n",
    "names = [stock[\"Company\"] for stock in stocks[0:10]]\n",
    "\n",
    "\n",
    "# TEST\n",
    "print(\"first_ten_names\")\n",
    "from answers import ten_companies        \n",
    "test(names, ten_companies)"
   ]
  },
  {
   "cell_type": "code",
   "execution_count": 36,
   "metadata": {
    "scrolled": true
   },
   "outputs": [
    {
     "data": {
      "text/plain": [
       "['Agilent Technologies Inc.',\n",
       " 'Alcoa, Inc.',\n",
       " 'WCM/BNY Mellon Focused Growth ADR ETF',\n",
       " 'iShares MSCI AC Asia Information Tech',\n",
       " 'Altisource Asset Management Corporation',\n",
       " 'Atlantic American Corp.',\n",
       " \"Aaron's, Inc.\",\n",
       " 'Applied Optoelectronics, Inc.',\n",
       " 'AAON Inc.',\n",
       " 'Advance Auto Parts Inc.']"
      ]
     },
     "execution_count": 36,
     "metadata": {},
     "output_type": "execute_result"
    }
   ],
   "source": [
    "names"
   ]
  },
  {
   "cell_type": "markdown",
   "metadata": {},
   "source": [
    "#### Exercise 3 - Inc only\n",
    "\n",
    "From the top 10 companies, now only show the names that contain the word 'Inc.'"
   ]
  },
  {
   "cell_type": "code",
   "execution_count": 37,
   "metadata": {},
   "outputs": [
    {
     "name": "stdout",
     "output_type": "stream",
     "text": [
      "inc_only\n",
      "  OK  got: ['Agilent Technologies Inc.', 'Alcoa, Inc.', \"Aaron's, Inc.\", 'Applied Optoelectronics, Inc.', 'AAON Inc.', 'Advance Auto Parts Inc.'] expected: ['Agilent Technologies Inc.', 'Alcoa, Inc.', \"Aaron's, Inc.\", 'Applied Optoelectronics, Inc.', 'AAON Inc.', 'Advance Auto Parts Inc.']\n"
     ]
    }
   ],
   "source": [
    "names=[n for n in names if \"Inc.\" in n]\n",
    "\n",
    "\n",
    "# TEST\n",
    "from answers import inc_companies\n",
    "print(\"inc_only\")\n",
    "test(names, inc_companies)"
   ]
  },
  {
   "cell_type": "code",
   "execution_count": 38,
   "metadata": {},
   "outputs": [
    {
     "name": "stdout",
     "output_type": "stream",
     "text": [
      "inc_only\n",
      "  OK  got: ['Agilent Technologies Inc.', 'Alcoa, Inc.', \"Aaron's, Inc.\", 'Applied Optoelectronics, Inc.', 'AAON Inc.', 'Advance Auto Parts Inc.'] expected: ['Agilent Technologies Inc.', 'Alcoa, Inc.', \"Aaron's, Inc.\", 'Applied Optoelectronics, Inc.', 'AAON Inc.', 'Advance Auto Parts Inc.']\n"
     ]
    }
   ],
   "source": [
    "#exercise 3 - farah\n",
    "\n",
    "names = [n for n in names if \"Inc.\" in n]\n",
    "\n",
    "# TEST\n",
    "from answers import inc_companies\n",
    "print(\"inc_only\")\n",
    "test(names, inc_companies)"
   ]
  },
  {
   "cell_type": "code",
   "execution_count": 39,
   "metadata": {},
   "outputs": [
    {
     "data": {
      "text/plain": [
       "['Agilent Technologies Inc.',\n",
       " 'Alcoa, Inc.',\n",
       " \"Aaron's, Inc.\",\n",
       " 'Applied Optoelectronics, Inc.',\n",
       " 'AAON Inc.',\n",
       " 'Advance Auto Parts Inc.']"
      ]
     },
     "execution_count": 39,
     "metadata": {},
     "output_type": "execute_result"
    }
   ],
   "source": [
    "names"
   ]
  },
  {
   "cell_type": "markdown",
   "metadata": {},
   "source": [
    "#### Exercise 4 - Average PE\n",
    "\n",
    "Now show the average P/E for all the data. Round it by 2.\n",
    "\n",
    "Not all the stocks have the P/E reported, so you need to handle that. \n",
    "\n",
    "What percentage of the stocks has P/E reported? Round it by 2."
   ]
  },
  {
   "cell_type": "code",
   "execution_count": 40,
   "metadata": {},
   "outputs": [
    {
     "name": "stdout",
     "output_type": "stream",
     "text": [
      "average_pe\n",
      "  OK  got: 41.71 expected: 41.71\n",
      "  OK  got: 0.5 expected: 0.5\n"
     ]
    }
   ],
   "source": [
    "## your code\n",
    "#[s[\"Company\"] for s in stocks[0:10]]\n",
    "pe = [s[\"P/E\"] for s in stocks if \"P/E\" in s]\n",
    "avg_pe = round(sum(pe)/len(pe),2)\n",
    "perc_with_pe = round(len(pe)/len(stocks),2)\n",
    "\n",
    "# TEST\n",
    "print(\"average_pe\")\n",
    "test(avg_pe, 41.71)\n",
    "test(perc_with_pe, 0.5)"
   ]
  },
  {
   "cell_type": "code",
   "execution_count": 41,
   "metadata": {},
   "outputs": [
    {
     "name": "stdout",
     "output_type": "stream",
     "text": [
      "average_pe\n",
      "  OK  got: 41.71 expected: 41.71\n",
      "  OK  got: 0.5 expected: 0.5\n"
     ]
    }
   ],
   "source": [
    "#exercise 4 - farah\n",
    "\n",
    "pe=[s['P/E'] for s in stocks if 'P/E' in s]\n",
    "\n",
    "avg_pe = round(sum(pe)/len(pe),2)\n",
    "perc_with_pe = round(len(pe)/len(stocks),2)\n",
    "\n",
    "# TEST\n",
    "print(\"average_pe\")\n",
    "test(avg_pe, 41.71)\n",
    "test(perc_with_pe, 0.5)"
   ]
  },
  {
   "cell_type": "code",
   "execution_count": null,
   "metadata": {},
   "outputs": [],
   "source": []
  },
  {
   "cell_type": "markdown",
   "metadata": {},
   "source": [
    "## Exception Handling"
   ]
  },
  {
   "cell_type": "markdown",
   "metadata": {},
   "source": [
    "### Exceptions\n",
    "\n",
    "Here is an example Exception."
   ]
  },
  {
   "cell_type": "code",
   "execution_count": 42,
   "metadata": {
    "slideshow": {
     "slide_type": "subslide"
    }
   },
   "outputs": [
    {
     "ename": "SyntaxError",
     "evalue": "invalid syntax (2884618176.py, line 1)",
     "output_type": "error",
     "traceback": [
      "\u001b[1;36m  Input \u001b[1;32mIn [42]\u001b[1;36m\u001b[0m\n\u001b[1;33m    while True print('Hello world')\u001b[0m\n\u001b[1;37m               ^\u001b[0m\n\u001b[1;31mSyntaxError\u001b[0m\u001b[1;31m:\u001b[0m invalid syntax\n"
     ]
    }
   ],
   "source": [
    "while True print('Hello world')"
   ]
  },
  {
   "cell_type": "markdown",
   "metadata": {
    "slideshow": {
     "slide_type": "subslide"
    }
   },
   "source": [
    "- Arrow ^ pointing at the earliest point in the line where the error was detected\n",
    "- The error is caused by the token preceding the arrow\n",
    "- File name and line number are printed"
   ]
  },
  {
   "cell_type": "markdown",
   "metadata": {
    "slideshow": {
     "slide_type": "fragment"
    }
   },
   "source": [
    "There are different types of Exceptions.\n",
    "\n",
    "Previous one was SyntaxError, other built-in exception types include:\n",
    "- ZeroDivisionError -- division by zero\n",
    "- NameError -- name not defined\n",
    "- TypeError -- incorrect type\n",
    "- KeyError -- key not found in dict\n",
    "- IndexError -- index greater than length in list\n",
    "\n",
    "The last line of the error message indicates what happened. Let's go over them.\n",
    "Find more information [here](https://docs.python.org/3/library/exceptions.html)."
   ]
  },
  {
   "cell_type": "code",
   "execution_count": 43,
   "metadata": {
    "slideshow": {
     "slide_type": "subslide"
    }
   },
   "outputs": [
    {
     "ename": "ZeroDivisionError",
     "evalue": "division by zero",
     "output_type": "error",
     "traceback": [
      "\u001b[1;31m---------------------------------------------------------------------------\u001b[0m",
      "\u001b[1;31mZeroDivisionError\u001b[0m                         Traceback (most recent call last)",
      "Input \u001b[1;32mIn [43]\u001b[0m, in \u001b[0;36m<cell line: 1>\u001b[1;34m()\u001b[0m\n\u001b[1;32m----> 1\u001b[0m \u001b[38;5;241m10\u001b[39m \u001b[38;5;241m*\u001b[39m (\u001b[38;5;241;43m1\u001b[39;49m\u001b[38;5;241;43m/\u001b[39;49m\u001b[38;5;241;43m0\u001b[39;49m)\n",
      "\u001b[1;31mZeroDivisionError\u001b[0m: division by zero"
     ]
    }
   ],
   "source": [
    "10 * (1/0)"
   ]
  },
  {
   "cell_type": "code",
   "execution_count": 44,
   "metadata": {
    "scrolled": true,
    "slideshow": {
     "slide_type": "subslide"
    }
   },
   "outputs": [
    {
     "ename": "NameError",
     "evalue": "name 'result' is not defined",
     "output_type": "error",
     "traceback": [
      "\u001b[1;31m---------------------------------------------------------------------------\u001b[0m",
      "\u001b[1;31mNameError\u001b[0m                                 Traceback (most recent call last)",
      "Input \u001b[1;32mIn [44]\u001b[0m, in \u001b[0;36m<cell line: 1>\u001b[1;34m()\u001b[0m\n\u001b[1;32m----> 1\u001b[0m \u001b[38;5;241m4\u001b[39m \u001b[38;5;241m+\u001b[39m \u001b[43mresult\u001b[49m\u001b[38;5;241m*\u001b[39m\u001b[38;5;241m3\u001b[39m\n",
      "\u001b[1;31mNameError\u001b[0m: name 'result' is not defined"
     ]
    }
   ],
   "source": [
    "4 + result*3"
   ]
  },
  {
   "cell_type": "code",
   "execution_count": 45,
   "metadata": {
    "scrolled": true,
    "slideshow": {
     "slide_type": "subslide"
    }
   },
   "outputs": [
    {
     "ename": "TypeError",
     "evalue": "can only concatenate str (not \"int\") to str",
     "output_type": "error",
     "traceback": [
      "\u001b[1;31m---------------------------------------------------------------------------\u001b[0m",
      "\u001b[1;31mTypeError\u001b[0m                                 Traceback (most recent call last)",
      "Input \u001b[1;32mIn [45]\u001b[0m, in \u001b[0;36m<cell line: 1>\u001b[1;34m()\u001b[0m\n\u001b[1;32m----> 1\u001b[0m \u001b[38;5;124;43m'\u001b[39;49m\u001b[38;5;124;43m1\u001b[39;49m\u001b[38;5;124;43m'\u001b[39;49m\u001b[43m \u001b[49m\u001b[38;5;241;43m+\u001b[39;49m\u001b[43m \u001b[49m\u001b[38;5;241;43m1\u001b[39;49m\n",
      "\u001b[1;31mTypeError\u001b[0m: can only concatenate str (not \"int\") to str"
     ]
    }
   ],
   "source": [
    "'1' + 1"
   ]
  },
  {
   "cell_type": "code",
   "execution_count": 46,
   "metadata": {
    "slideshow": {
     "slide_type": "subslide"
    }
   },
   "outputs": [
    {
     "ename": "KeyError",
     "evalue": "0",
     "output_type": "error",
     "traceback": [
      "\u001b[1;31m---------------------------------------------------------------------------\u001b[0m",
      "\u001b[1;31mKeyError\u001b[0m                                  Traceback (most recent call last)",
      "Input \u001b[1;32mIn [46]\u001b[0m, in \u001b[0;36m<cell line: 2>\u001b[1;34m()\u001b[0m\n\u001b[0;32m      1\u001b[0m d \u001b[38;5;241m=\u001b[39m {}\n\u001b[1;32m----> 2\u001b[0m \u001b[43md\u001b[49m\u001b[43m[\u001b[49m\u001b[38;5;241;43m0\u001b[39;49m\u001b[43m]\u001b[49m\n",
      "\u001b[1;31mKeyError\u001b[0m: 0"
     ]
    }
   ],
   "source": [
    "d = {}\n",
    "d[0]"
   ]
  },
  {
   "cell_type": "code",
   "execution_count": 47,
   "metadata": {
    "slideshow": {
     "slide_type": "subslide"
    }
   },
   "outputs": [
    {
     "ename": "IndexError",
     "evalue": "list index out of range",
     "output_type": "error",
     "traceback": [
      "\u001b[1;31m---------------------------------------------------------------------------\u001b[0m",
      "\u001b[1;31mIndexError\u001b[0m                                Traceback (most recent call last)",
      "Input \u001b[1;32mIn [47]\u001b[0m, in \u001b[0;36m<cell line: 2>\u001b[1;34m()\u001b[0m\n\u001b[0;32m      1\u001b[0m l \u001b[38;5;241m=\u001b[39m []\n\u001b[1;32m----> 2\u001b[0m \u001b[43ml\u001b[49m\u001b[43m[\u001b[49m\u001b[38;5;241;43m0\u001b[39;49m\u001b[43m]\u001b[49m\n",
      "\u001b[1;31mIndexError\u001b[0m: list index out of range"
     ]
    }
   ],
   "source": [
    "l = []\n",
    "l[0]"
   ]
  },
  {
   "cell_type": "markdown",
   "metadata": {
    "slideshow": {
     "slide_type": "slide"
    }
   },
   "source": [
    "The preceding part of the error message shows the context where the exception happened.\n",
    "\n",
    "It contains a stack traceback listing source lines.\n",
    "\n",
    "Here is an example."
   ]
  },
  {
   "cell_type": "code",
   "execution_count": 48,
   "metadata": {
    "slideshow": {
     "slide_type": "subslide"
    }
   },
   "outputs": [
    {
     "ename": "ZeroDivisionError",
     "evalue": "division by zero",
     "output_type": "error",
     "traceback": [
      "\u001b[1;31m---------------------------------------------------------------------------\u001b[0m",
      "\u001b[1;31mZeroDivisionError\u001b[0m                         Traceback (most recent call last)",
      "Input \u001b[1;32mIn [48]\u001b[0m, in \u001b[0;36m<cell line: 10>\u001b[1;34m()\u001b[0m\n\u001b[0;32m      7\u001b[0m \u001b[38;5;28;01mdef\u001b[39;00m \u001b[38;5;21mf\u001b[39m(x, y):\n\u001b[0;32m      8\u001b[0m     \u001b[38;5;28;01mreturn\u001b[39;00m call_divide(x, y)\n\u001b[1;32m---> 10\u001b[0m \u001b[43mf\u001b[49m\u001b[43m(\u001b[49m\u001b[38;5;241;43m1\u001b[39;49m\u001b[43m,\u001b[49m\u001b[43m \u001b[49m\u001b[38;5;241;43m0\u001b[39;49m\u001b[43m)\u001b[49m\n",
      "Input \u001b[1;32mIn [48]\u001b[0m, in \u001b[0;36mf\u001b[1;34m(x, y)\u001b[0m\n\u001b[0;32m      7\u001b[0m \u001b[38;5;28;01mdef\u001b[39;00m \u001b[38;5;21mf\u001b[39m(x, y):\n\u001b[1;32m----> 8\u001b[0m     \u001b[38;5;28;01mreturn\u001b[39;00m \u001b[43mcall_divide\u001b[49m\u001b[43m(\u001b[49m\u001b[43mx\u001b[49m\u001b[43m,\u001b[49m\u001b[43m \u001b[49m\u001b[43my\u001b[49m\u001b[43m)\u001b[49m\n",
      "Input \u001b[1;32mIn [48]\u001b[0m, in \u001b[0;36mcall_divide\u001b[1;34m(x, y)\u001b[0m\n\u001b[0;32m      4\u001b[0m \u001b[38;5;28;01mdef\u001b[39;00m \u001b[38;5;21mcall_divide\u001b[39m(x, y):\n\u001b[1;32m----> 5\u001b[0m     \u001b[38;5;28;01mreturn\u001b[39;00m \u001b[43mdivide\u001b[49m\u001b[43m(\u001b[49m\u001b[43mx\u001b[49m\u001b[43m,\u001b[49m\u001b[43m \u001b[49m\u001b[43my\u001b[49m\u001b[43m)\u001b[49m\n",
      "Input \u001b[1;32mIn [48]\u001b[0m, in \u001b[0;36mdivide\u001b[1;34m(x, y)\u001b[0m\n\u001b[0;32m      1\u001b[0m \u001b[38;5;28;01mdef\u001b[39;00m \u001b[38;5;21mdivide\u001b[39m(x, y):\n\u001b[1;32m----> 2\u001b[0m     \u001b[38;5;28;01mreturn\u001b[39;00m \u001b[43mx\u001b[49m\u001b[38;5;241;43m/\u001b[39;49m\u001b[43my\u001b[49m\n",
      "\u001b[1;31mZeroDivisionError\u001b[0m: division by zero"
     ]
    }
   ],
   "source": [
    "def divide(x, y):\n",
    "    return x/y\n",
    "\n",
    "def call_divide(x, y):\n",
    "    return divide(x, y)\n",
    "\n",
    "def f(x, y):\n",
    "    return call_divide(x, y)\n",
    "\n",
    "f(1, 0)"
   ]
  },
  {
   "cell_type": "markdown",
   "metadata": {},
   "source": [
    "**Question:** What has caused the Error?\n",
    "<br><br><br><br><br><br>\n",
    "**Answer:** We cannot divide by zero! 1/0 gives an Exception."
   ]
  },
  {
   "cell_type": "markdown",
   "metadata": {},
   "source": [
    "### Try except\n",
    "\n",
    "Sometimes exceptions are expected to happen and we want our code to handle those exceptions in a certain way. For this there is the try except statement.\n",
    "\n",
    "Let's try these inputs.\n",
    "\n",
    "- typing a number\n",
    "- typing a non-numeric string\n",
    "- typing a zero\n",
    "- ending the cell by intterupting the kernel"
   ]
  },
  {
   "cell_type": "code",
   "execution_count": 49,
   "metadata": {},
   "outputs": [
    {
     "ename": "NameError",
     "evalue": "name 'var' is not defined",
     "output_type": "error",
     "traceback": [
      "\u001b[1;31m---------------------------------------------------------------------------\u001b[0m",
      "\u001b[1;31mNameError\u001b[0m                                 Traceback (most recent call last)",
      "Input \u001b[1;32mIn [49]\u001b[0m, in \u001b[0;36m<cell line: 1>\u001b[1;34m()\u001b[0m\n\u001b[1;32m----> 1\u001b[0m \u001b[38;5;28mprint\u001b[39m(\u001b[43mvar\u001b[49m)\n",
      "\u001b[1;31mNameError\u001b[0m: name 'var' is not defined"
     ]
    }
   ],
   "source": [
    "print(var)"
   ]
  },
  {
   "cell_type": "code",
   "execution_count": 50,
   "metadata": {},
   "outputs": [
    {
     "name": "stdout",
     "output_type": "stream",
     "text": [
      "An exception occurred\n"
     ]
    }
   ],
   "source": [
    "try:\n",
    "    print(var)\n",
    "except:\n",
    "    print(\"An exception occurred\")"
   ]
  },
  {
   "cell_type": "code",
   "execution_count": 51,
   "metadata": {},
   "outputs": [
    {
     "name": "stdout",
     "output_type": "stream",
     "text": [
      "There was An exception.\n"
     ]
    }
   ],
   "source": [
    "x = [1,3,6,4,7,\"6\", 9,\"5\"]\n",
    "\n",
    "try:\n",
    "    print(sum(x))\n",
    "except:\n",
    "     print(\"There was An exception.\")"
   ]
  },
  {
   "cell_type": "code",
   "execution_count": 52,
   "metadata": {},
   "outputs": [
    {
     "name": "stdout",
     "output_type": "stream",
     "text": [
      "Please enter a number: 0\n",
      "Oops!  That was not a valid number.\n"
     ]
    }
   ],
   "source": [
    "try:\n",
    "    x = float(input(\"Please enter a number: \"))\n",
    "    print(\"inverse is:\",  1/x)\n",
    "except:\n",
    "    print(\"Oops!  That was not a valid number.\")"
   ]
  },
  {
   "cell_type": "markdown",
   "metadata": {},
   "source": [
    "The try statement.\n",
    "\n",
    "1. the __try clause__ (block under try:) is executed\n",
    "1. if __no exception__ occurs, __except clause is skipped__\n",
    "1. if __an exception occurs__, the rest of the try clause is skipped,\n",
    "    - and __the first except__ clause matching the exception __is executed__,\n",
    "    - if __no handler__ is found, execution stops, an error __Traceback is displayed__.\n",
    "    \n",
    "In this case we have used a bare except statement. This means all exception are catched including the KeyboardInterrupt.\n",
    "\n",
    "You can specifiy which exception you want to be catched and you want to handle them.\n",
    "\n",
    "Let's try typing an number, a non-numeric number, a zero and a keyboardintterup again."
   ]
  },
  {
   "cell_type": "code",
   "execution_count": 53,
   "metadata": {},
   "outputs": [
    {
     "name": "stdout",
     "output_type": "stream",
     "text": [
      "Please enter a number: 0\n",
      "Oops! Cannot divide by 0!\n"
     ]
    }
   ],
   "source": [
    "try:\n",
    "    x = float(input(\"Please enter a number: \"))\n",
    "    print(\"inverse is:\",  1/x)\n",
    "except ValueError:\n",
    "    print(\"Oops!  That was no valid number.  Try again...\")\n",
    "except ZeroDivisionError:\n",
    "    print(\"Oops! Cannot divide by 0!\")\n",
    "except:\n",
    "    print(\"Something else went wrong\")\n",
    "    # raise # return error message"
   ]
  },
  {
   "cell_type": "markdown",
   "metadata": {},
   "source": [
    "else and finally are usefull to define clean-up action.\n",
    "- ```else``` statements are executed __only if__ no exceptions occur in ```try``` block.\n",
    "- ```finally``` statements are __always__ executed.\n",
    "\n",
    "else clause avoids accidentally catching an exception."
   ]
  },
  {
   "cell_type": "code",
   "execution_count": 54,
   "metadata": {},
   "outputs": [
    {
     "name": "stdout",
     "output_type": "stream",
     "text": [
      "division by zero!\n",
      "executing finally clause\n"
     ]
    }
   ],
   "source": [
    "def divide(x, y):\n",
    "    try:\n",
    "        result = x / y\n",
    "        \n",
    "    except ZeroDivisionError: #only if ada exception\n",
    "        print(\"division by zero!\")\n",
    "\n",
    "    else:\n",
    "        print(\"result is\", result) #if boleh run\n",
    "    finally:\n",
    "        print(\"executing finally clause\") #always run\n",
    "        \n",
    "divide(2,0)"
   ]
  },
  {
   "cell_type": "code",
   "execution_count": 55,
   "metadata": {},
   "outputs": [
    {
     "name": "stdout",
     "output_type": "stream",
     "text": [
      "result is 2.0\n",
      "executing finally clause\n"
     ]
    }
   ],
   "source": [
    "divide(2,1)"
   ]
  },
  {
   "cell_type": "code",
   "execution_count": 56,
   "metadata": {},
   "outputs": [
    {
     "name": "stdout",
     "output_type": "stream",
     "text": [
      "executing finally clause\n"
     ]
    },
    {
     "ename": "TypeError",
     "evalue": "unsupported operand type(s) for /: 'str' and 'str'",
     "output_type": "error",
     "traceback": [
      "\u001b[1;31m---------------------------------------------------------------------------\u001b[0m",
      "\u001b[1;31mTypeError\u001b[0m                                 Traceback (most recent call last)",
      "Input \u001b[1;32mIn [56]\u001b[0m, in \u001b[0;36m<cell line: 1>\u001b[1;34m()\u001b[0m\n\u001b[1;32m----> 1\u001b[0m \u001b[43mdivide\u001b[49m\u001b[43m(\u001b[49m\u001b[38;5;124;43m\"\u001b[39;49m\u001b[38;5;124;43ma\u001b[39;49m\u001b[38;5;124;43m\"\u001b[39;49m\u001b[43m,\u001b[49m\u001b[38;5;124;43m\"\u001b[39;49m\u001b[38;5;124;43mb\u001b[39;49m\u001b[38;5;124;43m\"\u001b[39;49m\u001b[43m)\u001b[49m\n",
      "Input \u001b[1;32mIn [54]\u001b[0m, in \u001b[0;36mdivide\u001b[1;34m(x, y)\u001b[0m\n\u001b[0;32m      1\u001b[0m \u001b[38;5;28;01mdef\u001b[39;00m \u001b[38;5;21mdivide\u001b[39m(x, y):\n\u001b[0;32m      2\u001b[0m     \u001b[38;5;28;01mtry\u001b[39;00m:\n\u001b[1;32m----> 3\u001b[0m         result \u001b[38;5;241m=\u001b[39m \u001b[43mx\u001b[49m\u001b[43m \u001b[49m\u001b[38;5;241;43m/\u001b[39;49m\u001b[43m \u001b[49m\u001b[43my\u001b[49m\n\u001b[0;32m      5\u001b[0m     \u001b[38;5;28;01mexcept\u001b[39;00m \u001b[38;5;167;01mZeroDivisionError\u001b[39;00m: \u001b[38;5;66;03m#only if ada exception\u001b[39;00m\n\u001b[0;32m      6\u001b[0m         \u001b[38;5;28mprint\u001b[39m(\u001b[38;5;124m\"\u001b[39m\u001b[38;5;124mdivision by zero!\u001b[39m\u001b[38;5;124m\"\u001b[39m)\n",
      "\u001b[1;31mTypeError\u001b[0m: unsupported operand type(s) for /: 'str' and 'str'"
     ]
    }
   ],
   "source": [
    "divide(\"a\",\"b\")"
   ]
  },
  {
   "cell_type": "code",
   "execution_count": 57,
   "metadata": {},
   "outputs": [
    {
     "name": "stdout",
     "output_type": "stream",
     "text": [
      "unrelated input\n",
      "executing finally clause\n"
     ]
    }
   ],
   "source": [
    "def divide(x, y):\n",
    "    try:\n",
    "        result = x / y\n",
    "        \n",
    "    except ZeroDivisionError: #only if ada exception\n",
    "        print(\"division by zero!\")\n",
    "\n",
    "    except TypeError:\n",
    "            print(\"unrelated input\")\n",
    "    else:\n",
    "        print(\"result is\", result) #if boleh run\n",
    "    finally:\n",
    "        print(\"executing finally clause\") #always run\n",
    "        \n",
    "divide(\"a\",\"b\")"
   ]
  },
  {
   "cell_type": "markdown",
   "metadata": {},
   "source": [
    "Let's do another case."
   ]
  },
  {
   "cell_type": "code",
   "execution_count": 58,
   "metadata": {},
   "outputs": [
    {
     "ename": "TypeError",
     "evalue": "unsupported operand type(s) for +=: 'int' and 'str'",
     "output_type": "error",
     "traceback": [
      "\u001b[1;31m---------------------------------------------------------------------------\u001b[0m",
      "\u001b[1;31mTypeError\u001b[0m                                 Traceback (most recent call last)",
      "Input \u001b[1;32mIn [58]\u001b[0m, in \u001b[0;36m<cell line: 4>\u001b[1;34m()\u001b[0m\n\u001b[0;32m      2\u001b[0m numbers \u001b[38;5;241m=\u001b[39m [\u001b[38;5;241m1\u001b[39m,\u001b[38;5;241m2\u001b[39m,\u001b[38;5;241m3\u001b[39m,\u001b[38;5;124m\"\u001b[39m\u001b[38;5;124ma\u001b[39m\u001b[38;5;124m\"\u001b[39m, \u001b[38;5;124m\"\u001b[39m\u001b[38;5;124mb\u001b[39m\u001b[38;5;124m\"\u001b[39m, \u001b[38;5;124m\"\u001b[39m\u001b[38;5;124mc\u001b[39m\u001b[38;5;124m\"\u001b[39m, \u001b[38;5;241m5\u001b[39m, \u001b[38;5;241m6\u001b[39m, \u001b[38;5;241m7\u001b[39m]\n\u001b[0;32m      4\u001b[0m \u001b[38;5;28;01mfor\u001b[39;00m number \u001b[38;5;129;01min\u001b[39;00m numbers:\n\u001b[1;32m----> 5\u001b[0m     total \u001b[38;5;241m+\u001b[39m\u001b[38;5;241m=\u001b[39m number\n\u001b[0;32m      7\u001b[0m total\n",
      "\u001b[1;31mTypeError\u001b[0m: unsupported operand type(s) for +=: 'int' and 'str'"
     ]
    }
   ],
   "source": [
    "total = 0\n",
    "numbers = [1,2,3,\"a\", \"b\", \"c\", 5, 6, 7]\n",
    "\n",
    "for number in numbers:\n",
    "    total += number\n",
    "    \n",
    "total"
   ]
  },
  {
   "cell_type": "markdown",
   "metadata": {},
   "source": [
    "We cannot add up strings to a number.\n",
    "\n",
    "If we want to have the total of the numbers in the list we can ignore the strings."
   ]
  },
  {
   "cell_type": "code",
   "execution_count": 59,
   "metadata": {},
   "outputs": [
    {
     "name": "stdout",
     "output_type": "stream",
     "text": [
      "Something went wrong\n",
      "Something went wrong\n",
      "Something went wrong\n"
     ]
    },
    {
     "data": {
      "text/plain": [
       "24"
      ]
     },
     "execution_count": 59,
     "metadata": {},
     "output_type": "execute_result"
    }
   ],
   "source": [
    "total = 0\n",
    "numbers = [1,2,3,\"a\", \"b\", \"c\", 5, 6, 7]\n",
    "\n",
    "for number in numbers:\n",
    "    try:\n",
    "        total += number\n",
    "    except:\n",
    "        print (\"Something went wrong\")\n",
    "            \n",
    "    \n",
    "total"
   ]
  },
  {
   "cell_type": "code",
   "execution_count": 60,
   "metadata": {},
   "outputs": [
    {
     "name": "stdout",
     "output_type": "stream",
     "text": [
      "Error: unsupported operand type(s) for +=: 'int' and 'str'\n",
      "Error: unsupported operand type(s) for +=: 'int' and 'str'\n",
      "Error: unsupported operand type(s) for +=: 'int' and 'str'\n"
     ]
    },
    {
     "data": {
      "text/plain": [
       "24"
      ]
     },
     "execution_count": 60,
     "metadata": {},
     "output_type": "execute_result"
    }
   ],
   "source": [
    "total = 0\n",
    "numbers = [1,2,3,\"a\", \"b\", \"c\", 5, 6, 7]\n",
    "for number in numbers:\n",
    "    try:\n",
    "        total += number\n",
    "    except TypeError  as e:\n",
    "        print(\"Error: {}\".format(e))\n",
    "    \n",
    "total\n"
   ]
  },
  {
   "cell_type": "markdown",
   "metadata": {},
   "source": [
    "You can use the bare except statement. As long as you are mindful about that it catches all exceptions it's fine. For a script you operate yourself it can be fine."
   ]
  },
  {
   "cell_type": "code",
   "execution_count": 61,
   "metadata": {},
   "outputs": [
    {
     "data": {
      "text/plain": [
       "24"
      ]
     },
     "execution_count": 61,
     "metadata": {},
     "output_type": "execute_result"
    }
   ],
   "source": [
    "total = 0\n",
    "numbers = [1,2,3,\"a\", \"b\", \"c\", 5, 6, 7]\n",
    "\n",
    "\n",
    "for number in numbers:\n",
    "    try:\n",
    "        total += number\n",
    "    except:\n",
    "        pass #skip error, still execute\n",
    "total\n"
   ]
  },
  {
   "cell_type": "markdown",
   "metadata": {},
   "source": [
    "### Summary"
   ]
  },
  {
   "cell_type": "markdown",
   "metadata": {},
   "source": [
    "> #### try except\n",
    "If an error is encountered, a try block code execution is stopped and transferred\n",
    "down to the except block. \n",
    "```python\n",
    "try:\n",
    "    total += number\n",
    "except:\n",
    "    pass\n",
    "```"
   ]
  },
  {
   "cell_type": "markdown",
   "metadata": {},
   "source": [
    "> #### try except else finally\n",
    "In addition to using an except block after the try block, you can also use the\n",
    "finally block. The code in the finally block will be executed regardless of whether an exception\n",
    "occurs. The else code is executed in case the try statement was a succes.\n",
    "```python\n",
    "try:\n",
    "    result = x / y\n",
    "except ZeroDivisionError:\n",
    "    print(\"division by zero!\")\n",
    "else:\n",
    "    print(\"result is\", result)\n",
    "finally:\n",
    "    print(\"executing finally clause\")\n",
    "```"
   ]
  },
  {
   "cell_type": "markdown",
   "metadata": {
    "toc-hr-collapsed": false
   },
   "source": [
    "### RUN ME\n",
    "\n",
    "Please run the below code snippet. It is required for running tests for your solution."
   ]
  },
  {
   "cell_type": "code",
   "execution_count": 62,
   "metadata": {},
   "outputs": [],
   "source": [
    "def test(got, expected):\n",
    "    if got == expected:\n",
    "        prefix = ' OK '\n",
    "    else:\n",
    "        prefix = '  FAIL '\n",
    "    print((f' {prefix} got: {got} expected: {expected}'))"
   ]
  },
  {
   "cell_type": "code",
   "execution_count": 63,
   "metadata": {},
   "outputs": [
    {
     "name": "stdout",
     "output_type": "stream",
     "text": [
      "   FAIL  got: a expected: ab\n",
      "  OK  got: a expected: a\n"
     ]
    }
   ],
   "source": [
    "test('a', 'ab')\n",
    "test('a', 'a')"
   ]
  },
  {
   "cell_type": "markdown",
   "metadata": {
    "toc-hr-collapsed": false
   },
   "source": [
    "### Exercises"
   ]
  },
  {
   "cell_type": "markdown",
   "metadata": {},
   "source": [
    "#### Exercise 1 - Fix it Multiply\n",
    "\n",
    "We want to multiple the values of a and b of the dictionary. \n",
    "\n",
    "Can you help?"
   ]
  },
  {
   "cell_type": "code",
   "execution_count": 64,
   "metadata": {},
   "outputs": [
    {
     "ename": "NameError",
     "evalue": "name 'a' is not defined",
     "output_type": "error",
     "traceback": [
      "\u001b[1;31m---------------------------------------------------------------------------\u001b[0m",
      "\u001b[1;31mNameError\u001b[0m                                 Traceback (most recent call last)",
      "Input \u001b[1;32mIn [64]\u001b[0m, in \u001b[0;36m<cell line: 3>\u001b[1;34m()\u001b[0m\n\u001b[0;32m      1\u001b[0m data \u001b[38;5;241m=\u001b[39m {\u001b[38;5;124m\"\u001b[39m\u001b[38;5;124ma\u001b[39m\u001b[38;5;124m\"\u001b[39m: \u001b[38;5;241m10\u001b[39m, \u001b[38;5;124m\"\u001b[39m\u001b[38;5;124mb\u001b[39m\u001b[38;5;124m\"\u001b[39m: \u001b[38;5;241m20\u001b[39m}\n\u001b[1;32m----> 3\u001b[0m answer \u001b[38;5;241m=\u001b[39m data[\u001b[43ma\u001b[49m] \u001b[38;5;241m*\u001b[39m dala[\u001b[38;5;124m\"\u001b[39m\u001b[38;5;124mb\u001b[39m\u001b[38;5;124m\"\u001b[39m] \n\u001b[0;32m      5\u001b[0m \u001b[38;5;66;03m# TEST\u001b[39;00m\n\u001b[0;32m      6\u001b[0m \u001b[38;5;28mprint\u001b[39m(\u001b[38;5;124m\"\u001b[39m\u001b[38;5;124mfix_it_1\u001b[39m\u001b[38;5;124m\"\u001b[39m)\n",
      "\u001b[1;31mNameError\u001b[0m: name 'a' is not defined"
     ]
    }
   ],
   "source": [
    "data = {\"a\": 10, \"b\": 20}\n",
    "\n",
    "answer = data[a] * dala[\"b\"] \n",
    "\n",
    "# TEST\n",
    "print(\"fix_it_1\")\n",
    "test(answer, 200)"
   ]
  },
  {
   "cell_type": "code",
   "execution_count": 65,
   "metadata": {},
   "outputs": [
    {
     "name": "stdout",
     "output_type": "stream",
     "text": [
      "fix_it_1\n",
      "  OK  got: 200 expected: 200\n"
     ]
    }
   ],
   "source": [
    "data = {\"a\": 10, \"b\": 20}\n",
    "\n",
    "answer = data[\"a\"] * data[\"b\"] \n",
    "\n",
    "# TEST\n",
    "print(\"fix_it_1\")\n",
    "test(answer, 200)"
   ]
  },
  {
   "cell_type": "markdown",
   "metadata": {},
   "source": [
    "#### Exercise 2 - Fix it Numbers\n",
    "\n",
    "We want to extend numbers with another list and then get the sum. \n",
    "\n",
    "Can you help?"
   ]
  },
  {
   "cell_type": "code",
   "execution_count": 66,
   "metadata": {},
   "outputs": [
    {
     "ename": "TypeError",
     "evalue": "'NoneType' object is not iterable",
     "output_type": "error",
     "traceback": [
      "\u001b[1;31m---------------------------------------------------------------------------\u001b[0m",
      "\u001b[1;31mTypeError\u001b[0m                                 Traceback (most recent call last)",
      "Input \u001b[1;32mIn [66]\u001b[0m, in \u001b[0;36m<cell line: 4>\u001b[1;34m()\u001b[0m\n\u001b[0;32m      1\u001b[0m numbers \u001b[38;5;241m=\u001b[39m [\u001b[38;5;241m1\u001b[39m,\u001b[38;5;241m2\u001b[39m,\u001b[38;5;241m3\u001b[39m,\u001b[38;5;241m4\u001b[39m]\n\u001b[0;32m      2\u001b[0m numbers \u001b[38;5;241m=\u001b[39m numbers\u001b[38;5;241m.\u001b[39mextend([\u001b[38;5;241m5\u001b[39m,\u001b[38;5;241m6\u001b[39m,\u001b[38;5;241m7\u001b[39m,\u001b[38;5;241m8\u001b[39m])\n\u001b[1;32m----> 4\u001b[0m answer \u001b[38;5;241m=\u001b[39m \u001b[38;5;28;43msum\u001b[39;49m\u001b[43m(\u001b[49m\u001b[43mnumbers\u001b[49m\u001b[43m)\u001b[49m\n\u001b[0;32m      6\u001b[0m \u001b[38;5;66;03m# TEST\u001b[39;00m\n\u001b[0;32m      7\u001b[0m \u001b[38;5;28mprint\u001b[39m(\u001b[38;5;124m\"\u001b[39m\u001b[38;5;124mfix_it_numbers\u001b[39m\u001b[38;5;124m\"\u001b[39m)\n",
      "\u001b[1;31mTypeError\u001b[0m: 'NoneType' object is not iterable"
     ]
    }
   ],
   "source": [
    "numbers = [1,2,3,4]\n",
    "numbers = numbers.extend([5,6,7,8])\n",
    "\n",
    "answer = sum(numbers)\n",
    "\n",
    "# TEST\n",
    "print(\"fix_it_numbers\")\n",
    "test(answer, 36)"
   ]
  },
  {
   "cell_type": "code",
   "execution_count": 67,
   "metadata": {},
   "outputs": [
    {
     "name": "stdout",
     "output_type": "stream",
     "text": [
      "fix_it_numbers\n",
      "  OK  got: 36 expected: 36\n"
     ]
    }
   ],
   "source": [
    "#exercise 2 - farah\n",
    "\n",
    "numbers = [1,2,3,4]\n",
    "numbers.extend([5,6,7,8])\n",
    "\n",
    "answer = sum(numbers)\n",
    "\n",
    "# TEST\n",
    "print(\"fix_it_numbers\")\n",
    "test(answer, 36)"
   ]
  },
  {
   "cell_type": "markdown",
   "metadata": {},
   "source": [
    "#### Exercise 3 - Fix it Open\n",
    "\n",
    "We try to read the contents of data/names_raw.txt into a string.\n",
    "\n",
    "Can you help?"
   ]
  },
  {
   "cell_type": "code",
   "execution_count": 68,
   "metadata": {},
   "outputs": [],
   "source": [
    "import os"
   ]
  },
  {
   "cell_type": "code",
   "execution_count": 69,
   "metadata": {},
   "outputs": [
    {
     "ename": "TypeError",
     "evalue": "expected str, bytes or os.PathLike object, not dict",
     "output_type": "error",
     "traceback": [
      "\u001b[1;31m---------------------------------------------------------------------------\u001b[0m",
      "\u001b[1;31mTypeError\u001b[0m                                 Traceback (most recent call last)",
      "Input \u001b[1;32mIn [69]\u001b[0m, in \u001b[0;36m<cell line: 1>\u001b[1;34m()\u001b[0m\n\u001b[1;32m----> 1\u001b[0m \u001b[38;5;28;01mwith\u001b[39;00m \u001b[38;5;28mopen\u001b[39m(\u001b[43mos\u001b[49m\u001b[38;5;241;43m.\u001b[39;49m\u001b[43mpath\u001b[49m\u001b[38;5;241;43m.\u001b[39;49m\u001b[43mjoin\u001b[49m\u001b[43m(\u001b[49m\u001b[43mdata\u001b[49m\u001b[43m,\u001b[49m\u001b[43m \u001b[49m\u001b[38;5;124;43m\"\u001b[39;49m\u001b[38;5;124;43mnames_raw.txt\u001b[39;49m\u001b[38;5;124;43m\"\u001b[39;49m\u001b[43m)\u001b[49m, \u001b[38;5;124m'\u001b[39m\u001b[38;5;124ma\u001b[39m\u001b[38;5;124m'\u001b[39m) \u001b[38;5;28;01mas\u001b[39;00m f:\n\u001b[0;32m      2\u001b[0m     content \u001b[38;5;241m=\u001b[39m f\u001b[38;5;241m.\u001b[39mread()\n\u001b[0;32m      4\u001b[0m \u001b[38;5;66;03m# TEST\u001b[39;00m\n",
      "File \u001b[1;32m~\\anaconda3\\lib\\ntpath.py:78\u001b[0m, in \u001b[0;36mjoin\u001b[1;34m(path, *paths)\u001b[0m\n\u001b[0;32m     77\u001b[0m \u001b[38;5;28;01mdef\u001b[39;00m \u001b[38;5;21mjoin\u001b[39m(path, \u001b[38;5;241m*\u001b[39mpaths):\n\u001b[1;32m---> 78\u001b[0m     path \u001b[38;5;241m=\u001b[39m \u001b[43mos\u001b[49m\u001b[38;5;241;43m.\u001b[39;49m\u001b[43mfspath\u001b[49m\u001b[43m(\u001b[49m\u001b[43mpath\u001b[49m\u001b[43m)\u001b[49m\n\u001b[0;32m     79\u001b[0m     \u001b[38;5;28;01mif\u001b[39;00m \u001b[38;5;28misinstance\u001b[39m(path, \u001b[38;5;28mbytes\u001b[39m):\n\u001b[0;32m     80\u001b[0m         sep \u001b[38;5;241m=\u001b[39m \u001b[38;5;124mb\u001b[39m\u001b[38;5;124m'\u001b[39m\u001b[38;5;130;01m\\\\\u001b[39;00m\u001b[38;5;124m'\u001b[39m\n",
      "\u001b[1;31mTypeError\u001b[0m: expected str, bytes or os.PathLike object, not dict"
     ]
    }
   ],
   "source": [
    "with open(os.path.join(data, \"names_raw.txt\"), 'a') as f:\n",
    "    content = f.read()\n",
    "    \n",
    "# TEST\n",
    "print(\"fix_it_open\")\n",
    "test(content, 'The names are:\\n\\nJeremy\\nJan\\nAkmal')"
   ]
  },
  {
   "cell_type": "code",
   "execution_count": 70,
   "metadata": {},
   "outputs": [
    {
     "name": "stdout",
     "output_type": "stream",
     "text": [
      "fix_it_open\n",
      "   FAIL  got: The names are:\n",
      "\n",
      "Jeremy\n",
      "Narjes\n",
      "Amin expected: The names are:\n",
      "\n",
      "Jeremy\n",
      "Jan\n",
      "Akmal\n"
     ]
    }
   ],
   "source": [
    "with open(os.path.join(\"..\",\"data\", \"names_raw.txt\"), 'r') as f:\n",
    "    content = f.read()\n",
    "    \n",
    "# TEST\n",
    "print(\"fix_it_open\")\n",
    "test(content, 'The names are:\\n\\nJeremy\\nJan\\nAkmal')"
   ]
  },
  {
   "cell_type": "code",
   "execution_count": 71,
   "metadata": {},
   "outputs": [
    {
     "name": "stdout",
     "output_type": "stream",
     "text": [
      "fix_it_open\n",
      "   FAIL  got: The names are:\n",
      "\n",
      "Jeremy\n",
      "Narjes\n",
      "Amin expected: The names are:\n",
      "\n",
      "Jeremy\n",
      "Jan\n",
      "Akmal\n"
     ]
    }
   ],
   "source": [
    "#exercise 3 - farah\n",
    "\n",
    "with open(os.path.join(\"..\",\"data\", \"names_raw.txt\"), 'r') as f:\n",
    "    content = f.read()\n",
    "    \n",
    "# TEST\n",
    "print(\"fix_it_open\")\n",
    "test(content, 'The names are:\\n\\nJeremy\\nJan\\nAkmal')"
   ]
  },
  {
   "cell_type": "markdown",
   "metadata": {},
   "source": [
    "#### Exercise 4 - Try salaries\n",
    "\n",
    "Have a look at the data/salaries.txt file\n",
    "\n",
    "Load it into a list of dictionaries and use try catch to handle the non-dictionary lines."
   ]
  },
  {
   "cell_type": "code",
   "execution_count": 72,
   "metadata": {},
   "outputs": [
    {
     "name": "stdout",
     "output_type": "stream",
     "text": [
      "try_salaries\n",
      "   FAIL  got: The data is as following:\n",
      "\n",
      "{\"name\": \"John\", \"salary\": 5000, \"years_employed\": 4} \n",
      "{\"name\": \"Lee\", \"salary\": 4000, \"years_employed\": 3} \n",
      "{\"name\": \"Alex\", \"salary\": 3000, \"years_employed\": 7} \n",
      "\n",
      "Oh yes an these two:\n",
      "\n",
      "{\"name\": \"John\", \"salary\": 3000, \"years_employed\": 8}\n",
      "{\"name\": \"Lauren\", \"salary\": 6000, \"years_employed\": 5}\n",
      "\n",
      "Bye!\n",
      " expected: [{'name': 'John', 'salary': 5000, 'years_employed': 4}, {'name': 'Lee', 'salary': 4000, 'years_employed': 3}, {'name': 'Alex', 'salary': 3000, 'years_employed': 7}, {'name': 'John', 'salary': 3000, 'years_employed': 8}, {'name': 'Lauren', 'salary': 6000, 'years_employed': 5}]\n"
     ]
    }
   ],
   "source": [
    "salaries = []\n",
    "with open(os.path.join(\"..\",\"data\", \"salaries.txt\"), 'r') as f:\n",
    "    salaries = f.read()\n",
    "\n",
    "# TEST\n",
    "print(\"try_salaries\")\n",
    "from answers import the_salaries\n",
    "test(salaries, the_salaries)"
   ]
  },
  {
   "cell_type": "code",
   "execution_count": 73,
   "metadata": {},
   "outputs": [
    {
     "name": "stdout",
     "output_type": "stream",
     "text": [
      "try_salaries\n",
      "  OK  got: [{'name': 'John', 'salary': 5000, 'years_employed': 4}, {'name': 'Lee', 'salary': 4000, 'years_employed': 3}, {'name': 'Alex', 'salary': 3000, 'years_employed': 7}, {'name': 'John', 'salary': 3000, 'years_employed': 8}, {'name': 'Lauren', 'salary': 6000, 'years_employed': 5}] expected: [{'name': 'John', 'salary': 5000, 'years_employed': 4}, {'name': 'Lee', 'salary': 4000, 'years_employed': 3}, {'name': 'Alex', 'salary': 3000, 'years_employed': 7}, {'name': 'John', 'salary': 3000, 'years_employed': 8}, {'name': 'Lauren', 'salary': 6000, 'years_employed': 5}]\n"
     ]
    }
   ],
   "source": [
    "salaries = []\n",
    "with open(os.path.join(\"..\",\"data\", \"salaries.txt\"), 'r') as f:\n",
    "#no need--    salaries = f.read()\n",
    "    \n",
    "    for line in f:\n",
    "        try:\n",
    "            salaries.append(json.loads(line)) # fixed syntax salah sini, put json to only read json format\n",
    "        except:\n",
    "            pass\n",
    "\n",
    "        \n",
    "# TEST\n",
    "print(\"try_salaries\")\n",
    "from answers import the_salaries\n",
    "test(salaries, the_salaries)"
   ]
  },
  {
   "cell_type": "code",
   "execution_count": 74,
   "metadata": {},
   "outputs": [
    {
     "name": "stdout",
     "output_type": "stream",
     "text": [
      "try_salaries\n",
      "  OK  got: [{'name': 'John', 'salary': 5000, 'years_employed': 4}, {'name': 'Lee', 'salary': 4000, 'years_employed': 3}, {'name': 'Alex', 'salary': 3000, 'years_employed': 7}, {'name': 'John', 'salary': 3000, 'years_employed': 8}, {'name': 'Lauren', 'salary': 6000, 'years_employed': 5}] expected: [{'name': 'John', 'salary': 5000, 'years_employed': 4}, {'name': 'Lee', 'salary': 4000, 'years_employed': 3}, {'name': 'Alex', 'salary': 3000, 'years_employed': 7}, {'name': 'John', 'salary': 3000, 'years_employed': 8}, {'name': 'Lauren', 'salary': 6000, 'years_employed': 5}]\n"
     ]
    }
   ],
   "source": [
    "#exercise 4 - farah\n",
    "\n",
    "salaries = []\n",
    "\n",
    "with open(os.path.join(\"..\",\"data\", \"salaries.txt\"), 'r') as f:\n",
    "    for line in f:\n",
    "        try:\n",
    "            salaries.append(json.loads(line)) #add into salaries dictionary\n",
    "        except:\n",
    "            pass\n",
    "    \n",
    "# TEST\n",
    "print(\"try_salaries\")\n",
    "from answers import the_salaries\n",
    "test(salaries, the_salaries)"
   ]
  },
  {
   "cell_type": "markdown",
   "metadata": {
    "toc-hr-collapsed": false
   },
   "source": [
    "## Object Oriented Programming\n",
    "\n",
    "Object-oriented Programming, or OOP for short, is a programming paradigm in which properties and behaviours are bundled into objects.\n",
    "\n",
    "We will define a class _Student_. A class is a blue-print for an object. After defining the class Student there is only one Student class and you can create many Student objects out of that class.\n",
    "\n",
    "Then we create a child class PythonStudent. The child class inherits all the properties from its parent and has it's own functionalities additionally."
   ]
  },
  {
   "cell_type": "markdown",
   "metadata": {},
   "source": [
    "### How to create a class"
   ]
  },
  {
   "cell_type": "code",
   "execution_count": 75,
   "metadata": {},
   "outputs": [],
   "source": [
    "class Student:\n",
    "    \n",
    "    def __init__(self,name,grades=[]):\n",
    "        self.name = name\n",
    "        self.grades = grades"
   ]
  },
  {
   "cell_type": "markdown",
   "metadata": {},
   "source": [
    "### Instantiating objects\n"
   ]
  },
  {
   "cell_type": "code",
   "execution_count": 76,
   "metadata": {},
   "outputs": [],
   "source": [
    "jeremy = Student(\"Jeremy\", [10,4,5]) #object instantiation"
   ]
  },
  {
   "cell_type": "code",
   "execution_count": 77,
   "metadata": {},
   "outputs": [
    {
     "name": "stdout",
     "output_type": "stream",
     "text": [
      "[10, 4, 5]\n",
      "Jeremy\n"
     ]
    }
   ],
   "source": [
    "print(jeremy.grades)\n",
    "print(jeremy.name)"
   ]
  },
  {
   "cell_type": "markdown",
   "metadata": {},
   "source": [
    "### Define methods in a class\n",
    "We will extend this class with an average methods the returns the average grade of the student.\n",
    "\n",
    "You can copy paste again and add the average function."
   ]
  },
  {
   "cell_type": "code",
   "execution_count": 78,
   "metadata": {},
   "outputs": [],
   "source": [
    "class Student:\n",
    "    \n",
    "    def __init__(self, name, grades=[]):\n",
    "        self.name = name\n",
    "        self.grades = grades\n",
    "        \n",
    "    def __repr__(self):\n",
    "        return \"{}:{}\".format(self.name, self.grades)\n",
    "    \n",
    "    def average(self):\n",
    "        return round(sum(self.grades) / len(self.grades), 2)\n"
   ]
  },
  {
   "cell_type": "code",
   "execution_count": 79,
   "metadata": {},
   "outputs": [
    {
     "data": {
      "text/plain": [
       "6.33"
      ]
     },
     "execution_count": 79,
     "metadata": {},
     "output_type": "execute_result"
    }
   ],
   "source": [
    "jeremy = Student(\"Jeremy\", [10,4,5])\n",
    "jeremy.average()"
   ]
  },
  {
   "cell_type": "markdown",
   "metadata": {},
   "source": [
    "In OOP there is the concept of heritance. You can make a class that is the child of another class.\n",
    "\n",
    "We will define a class PythonStudent."
   ]
  },
  {
   "cell_type": "code",
   "execution_count": 80,
   "metadata": {},
   "outputs": [],
   "source": [
    "# MC\n",
    "\n",
    "class PythonStudent(Student):\n",
    "    \n",
    "    def can_program(self):\n",
    "        return True"
   ]
  },
  {
   "cell_type": "code",
   "execution_count": 81,
   "metadata": {},
   "outputs": [
    {
     "data": {
      "text/plain": [
       "Narjes:[10, 20]"
      ]
     },
     "execution_count": 81,
     "metadata": {},
     "output_type": "execute_result"
    }
   ],
   "source": [
    "narjes = PythonStudent(\"Narjes\", [10, 20])\n",
    "narjes"
   ]
  },
  {
   "cell_type": "code",
   "execution_count": 82,
   "metadata": {},
   "outputs": [
    {
     "data": {
      "text/plain": [
       "15.0"
      ]
     },
     "execution_count": 82,
     "metadata": {},
     "output_type": "execute_result"
    }
   ],
   "source": [
    "# MC\n",
    "\n",
    "narjes.average()"
   ]
  },
  {
   "cell_type": "code",
   "execution_count": 83,
   "metadata": {},
   "outputs": [
    {
     "data": {
      "text/plain": [
       "True"
      ]
     },
     "execution_count": 83,
     "metadata": {},
     "output_type": "execute_result"
    }
   ],
   "source": [
    "# MC\n",
    "\n",
    "narjes.can_program()"
   ]
  },
  {
   "cell_type": "code",
   "execution_count": 84,
   "metadata": {},
   "outputs": [],
   "source": [
    "amin = PythonStudent(\"Amin\", [30,20,15])"
   ]
  },
  {
   "cell_type": "code",
   "execution_count": 85,
   "metadata": {},
   "outputs": [
    {
     "data": {
      "text/plain": [
       "[Jeremy:[10, 4, 5], Narjes:[10, 20], Amin:[30, 20, 15]]"
      ]
     },
     "execution_count": 85,
     "metadata": {},
     "output_type": "execute_result"
    }
   ],
   "source": [
    "students = [jeremy, narjes, amin]\n",
    "students"
   ]
  },
  {
   "cell_type": "markdown",
   "metadata": {},
   "source": [
    "We can filter the Python students."
   ]
  },
  {
   "cell_type": "code",
   "execution_count": 86,
   "metadata": {},
   "outputs": [
    {
     "data": {
      "text/plain": [
       "[Narjes:[10, 20], Amin:[30, 20, 15]]"
      ]
     },
     "execution_count": 86,
     "metadata": {},
     "output_type": "execute_result"
    }
   ],
   "source": [
    "# MC\n",
    "\n",
    "[n for n in students if isinstance(n, PythonStudent)]"
   ]
  },
  {
   "cell_type": "markdown",
   "metadata": {},
   "source": [
    "Well done!"
   ]
  },
  {
   "cell_type": "markdown",
   "metadata": {
    "toc-hr-collapsed": false
   },
   "source": [
    "### Summary"
   ]
  },
  {
   "cell_type": "markdown",
   "metadata": {},
   "source": [
    "> #### class \n",
    "Python is an Object Oriented Programming language (OOP). This means that almost all the code is implemented using a special construct called classes. Programmers use classes to keep related things together. When defining a child class it will inherit the methods from the parent class. \n",
    "\n",
    "```python\n",
    "class Student:\n",
    "    \n",
    "    def __init__(self, name, grades=[]):\n",
    "        self.name = name\n",
    "        self.grades = grades\n",
    "      \n",
    "    def average(self):\n",
    "        return round(sum(self.grades) / len(self.grades), 2)\n",
    "    \n",
    "\n",
    "class PythonStudent(Student):\n",
    "    \n",
    "    def can_program(self):\n",
    "        return True\n",
    "```"
   ]
  },
  {
   "cell_type": "markdown",
   "metadata": {
    "toc-hr-collapsed": false
   },
   "source": [
    "### RUN ME\n",
    "\n",
    "Please run the below code snippet. It is required for running tests for your solution."
   ]
  },
  {
   "cell_type": "code",
   "execution_count": 87,
   "metadata": {},
   "outputs": [],
   "source": [
    "def test(got, expected):\n",
    "    if got == expected:\n",
    "        prefix = ' OK '\n",
    "    else:\n",
    "        prefix = '  FAIL '\n",
    "    print((f' {prefix} got: {got} expected: {expected}'))"
   ]
  },
  {
   "cell_type": "code",
   "execution_count": 88,
   "metadata": {},
   "outputs": [
    {
     "name": "stdout",
     "output_type": "stream",
     "text": [
      "   FAIL  got: a expected: ab\n",
      "  OK  got: a expected: a\n"
     ]
    }
   ],
   "source": [
    "test('a', 'ab')\n",
    "test('a', 'a')"
   ]
  },
  {
   "cell_type": "markdown",
   "metadata": {},
   "source": [
    "### Exercises"
   ]
  },
  {
   "cell_type": "markdown",
   "metadata": {},
   "source": [
    "The CEO of your company happens to have a kid who is totally into Pokemon! For this reason he is very interested in finding out more about these Pokemon for himself. The thing is.. all these Pokemons are hidden away in files and spread out over different continents and countries folders. Oh no, what a bummer.\n",
    "\n",
    "Ambitious as you are and on the verge of locking down that next promotion you walk in and say: \n",
    "\n",
    "> _\"Calm down, I have just finished my Python-Fundamentals course, let me handle this.\"_\n",
    "\n",
    "Use your Python skills in browsing folder structure, lists, dictionaries, reading from csv and writing to Excel to provide those insights and totally save the day!\n",
    "\n",
    "Have a look the the pokeworld folder inside the data folder.\n",
    "\n",
    "The folder structure is like this: continent/country/pokemon.txt\n",
    "\n",
    "Each file represents a pokemon and inside the file is the description."
   ]
  },
  {
   "cell_type": "markdown",
   "metadata": {},
   "source": [
    "#### Exercise 1 - Get pokemon info\n",
    "\n",
    "Get the continent, country, name and description for the pokemon in pokeworld/Asia/Malaysia/Wooper.txt\n",
    "\n",
    "Hints: help(str.split), with open()"
   ]
  },
  {
   "cell_type": "code",
   "execution_count": 107,
   "metadata": {},
   "outputs": [
    {
     "data": {
      "text/plain": [
       "'..\\\\data\\\\pokeworld/Asia/Malaysia/Wooper.txt'"
      ]
     },
     "execution_count": 107,
     "metadata": {},
     "output_type": "execute_result"
    }
   ],
   "source": [
    "import os\n",
    "pokefile = os.path.join(\"..\",\"data\", \"pokeworld/Asia/Malaysia/Wooper.txt\")\n",
    "pokefile"
   ]
  },
  {
   "cell_type": "code",
   "execution_count": 108,
   "metadata": {},
   "outputs": [
    {
     "data": {
      "text/plain": [
       "'Wooper'"
      ]
     },
     "execution_count": 108,
     "metadata": {},
     "output_type": "execute_result"
    }
   ],
   "source": [
    "# MC\n",
    "\n",
    "lst = pokefile.split(\"/\")\n",
    "lst[-1].split('.')[0] "
   ]
  },
  {
   "cell_type": "code",
   "execution_count": 109,
   "metadata": {},
   "outputs": [
    {
     "name": "stdout",
     "output_type": "stream",
     "text": [
      "get_pokemon_info\n",
      "  OK  got: Asia expected: Asia\n",
      "  OK  got: Malaysia expected: Malaysia\n",
      "  OK  got: Wooper expected: Wooper\n",
      "  OK  got: Wooper usually lives in water. However, it occasionally comes\n",
      "out onto land in search of food. On land, it coats its body with\n",
      "a gooey, toxic film. expected: Wooper usually lives in water. However, it occasionally comes\n",
      "out onto land in search of food. On land, it coats its body with\n",
      "a gooey, toxic film.\n"
     ]
    }
   ],
   "source": [
    "#2024\n",
    "continent = pokefile.split(\"/\")[-3]\n",
    "country = pokefile.split(\"/\")[-2]\n",
    "name = pokefile.split(\".\")[-2].split(\"/\")[-1] #or pokefile.split(\"/\")[-1].split(\".\")[0]\n",
    "\n",
    "with open(os.path.join(\"..\",\"data\", \"pokeworld/Asia/Malaysia/Wooper.txt\"), 'r') as f:\n",
    "    description = f.read()\n",
    "\n",
    "# TEST\n",
    "print(\"get_pokemon_info\")\n",
    "\n",
    "from answers import wooper_desc\n",
    "test(continent, 'Asia')\n",
    "test(country, 'Malaysia')\n",
    "test(name, 'Wooper')\n",
    "test(description, wooper_desc)"
   ]
  },
  {
   "cell_type": "code",
   "execution_count": 110,
   "metadata": {},
   "outputs": [
    {
     "name": "stdout",
     "output_type": "stream",
     "text": [
      "get_pokemon_info\n",
      "  OK  got: Asia expected: Asia\n",
      "  OK  got: Malaysia expected: Malaysia\n",
      "  OK  got: Wooper expected: Wooper\n",
      "  OK  got: Wooper usually lives in water. However, it occasionally comes\n",
      "out onto land in search of food. On land, it coats its body with\n",
      "a gooey, toxic film. expected: Wooper usually lives in water. However, it occasionally comes\n",
      "out onto land in search of food. On land, it coats its body with\n",
      "a gooey, toxic film.\n"
     ]
    }
   ],
   "source": [
    "# MC\n",
    "\n",
    "#continent = ## your code\n",
    "#country = ## your code\n",
    "#name = ## your code\n",
    "#description = ## your code\n",
    "\n",
    "# TEST\n",
    "print(\"get_pokemon_info\")\n",
    "\n",
    "from answers import wooper_desc\n",
    "test(continent, 'Asia')\n",
    "test(country, 'Malaysia')\n",
    "test(name, 'Wooper')\n",
    "test(description, wooper_desc)"
   ]
  },
  {
   "cell_type": "code",
   "execution_count": 111,
   "metadata": {},
   "outputs": [
    {
     "name": "stdout",
     "output_type": "stream",
     "text": [
      "get_pokemon_info\n",
      "  OK  got: Asia expected: Asia\n",
      "  OK  got: Malaysia expected: Malaysia\n",
      "  OK  got: Wooper expected: Wooper\n",
      "  OK  got: Wooper usually lives in water. However, it occasionally comes\n",
      "out onto land in search of food. On land, it coats its body with\n",
      "a gooey, toxic film. expected: Wooper usually lives in water. However, it occasionally comes\n",
      "out onto land in search of food. On land, it coats its body with\n",
      "a gooey, toxic film.\n"
     ]
    }
   ],
   "source": [
    "continent = pokefile.split(\"/\")[-3] #a\n",
    "country = pokefile.split(\"/\")[-2] #b\n",
    "name = pokefile.split(\"/\")[-1].split(\".\")[0] #c\n",
    "\n",
    "# this is for later test(description, wooper_desc) purpose\n",
    "with open(pokefile, 'r') as f:\n",
    "    description = f.read() #d\n",
    "\n",
    "\n",
    "# TEST\n",
    "print(\"get_pokemon_info\")\n",
    "\n",
    "from answers import wooper_desc\n",
    "\n",
    "test(continent, 'Asia')\n",
    "test(country, 'Malaysia')\n",
    "test(name, 'Wooper')\n",
    "test(description, wooper_desc)"
   ]
  },
  {
   "cell_type": "markdown",
   "metadata": {},
   "source": [
    "#### Exercise 2 - Create a pokemon class"
   ]
  },
  {
   "cell_type": "markdown",
   "metadata": {},
   "source": [
    "Create a pokemon class which has three methods:\n",
    "- \\_\\_init\\_\\_(self, pokefile) -- assign self.name, self.continent, self.country and self.description with contents from the file\n",
    "- \\_\\_repr\\_\\_(self) -- represent a pokemon like 'Wooper from Malaysia, Asia'\n",
    "- is_big_data(self) -- if there is 'Apache' or 'Hadoop' in self.description return True"
   ]
  },
  {
   "cell_type": "code",
   "execution_count": 124,
   "metadata": {},
   "outputs": [
    {
     "name": "stdout",
     "output_type": "stream",
     "text": [
      "create_pokemon_class\n",
      "  OK  got: Wooper from Malaysia, Asia expected: Wooper from Malaysia, Asia\n",
      "  OK  got: False expected: False\n",
      "  OK  got: True expected: True\n"
     ]
    }
   ],
   "source": [
    "## your code here #2024\n",
    "#continent,country,name,description\n",
    "\n",
    "class Pokemon():\n",
    "    \n",
    "    def __init__(self, pokefile):\n",
    "        self.continent = continent #a\n",
    "        self.country = country #b\n",
    "        self.name = name #c\n",
    "        \n",
    "        with open(pokefile, 'r') as f:\n",
    "            self.description = f.read() #d\n",
    "\n",
    "        \n",
    "    def __repr__(self):\n",
    "        return \"{} from {}, {}\".format(self.name, self.country, self.continent)\n",
    "\n",
    "    \n",
    "    def is_big_data(self):\n",
    "        return 'Apache' in self.description or 'Hadoop' in self.description\n",
    "\n",
    "    \n",
    "# TEST\n",
    "print(\"create_pokemon_class\")\n",
    "pokefile = os.path.join(\"data\", \"pokeworld/Asia/Malaysia/Wooper.txt\")\n",
    "pokefile2 = os.path.join(\"data\", \"pokeworld/Asia/Thailand/Hive.txt\")\n",
    "\n",
    "wooper = Pokemon(pokefile)\n",
    "hive = Pokemon(pokefile2)\n",
    "\n",
    "test(wooper.__repr__(), 'Wooper from Malaysia, Asia')\n",
    "test(wooper.is_big_data(), False)\n",
    "test(hive.is_big_data(), True)"
   ]
  },
  {
   "cell_type": "code",
   "execution_count": 123,
   "metadata": {},
   "outputs": [
    {
     "name": "stdout",
     "output_type": "stream",
     "text": [
      "create_pokemon_class\n",
      "  OK  got: Wooper from Malaysia, Asia expected: Wooper from Malaysia, Asia\n",
      "  OK  got: False expected: False\n",
      "  OK  got: True expected: True\n"
     ]
    }
   ],
   "source": [
    "# MC\n",
    "\n",
    "class Pokemon():\n",
    "    \n",
    "    def __init__(self, pokefile):\n",
    "        \n",
    "        self.continent = pokefile.split(\"/\")[-3]\n",
    "        self.country = pokefile.split(\"/\")[-2]\n",
    "        self.name = pokefile.split(\"/\")[-1].split(\".\")[0]\n",
    "\n",
    "        with open(pokefile, 'r') as f:\n",
    "            self.description = f.read()\n",
    "    \n",
    "    def is_big_data(self):\n",
    "        return 'Hadoop' in self.description or 'Apache' in self.description\n",
    "        \n",
    "    def __repr__(self):\n",
    "        return \"{} from {}, {}\".format(self.name, self.country, self.continent)\n",
    "    \n",
    "# TEST\n",
    "print(\"create_pokemon_class\")\n",
    "pokefile = os.path.join(\"data\", \"pokeworld/Asia/Malaysia/Wooper.txt\")\n",
    "pokefile2 = os.path.join(\"data\", \"pokeworld/Asia/Thailand/Hive.txt\")\n",
    "\n",
    "wooper = Pokemon(pokefile)\n",
    "hive = Pokemon(pokefile2)\n",
    "\n",
    "test(wooper.__repr__(), 'Wooper from Malaysia, Asia')\n",
    "test(wooper.is_big_data(), False)\n",
    "test(hive.is_big_data(), True)"
   ]
  },
  {
   "cell_type": "markdown",
   "metadata": {},
   "source": [
    "#### Exercise 3 -  Load all pokemons\n",
    "\n",
    "Now that we have defined the Pokemon class we can make a list of all the pokemon.\n",
    "\n",
    "Hints: glob.glob, Pokemon(pokefile)"
   ]
  },
  {
   "cell_type": "code",
   "execution_count": 118,
   "metadata": {},
   "outputs": [
    {
     "ename": "SyntaxError",
     "evalue": "invalid syntax (3544534655.py, line 3)",
     "output_type": "error",
     "traceback": [
      "\u001b[1;36m  Input \u001b[1;32mIn [118]\u001b[1;36m\u001b[0m\n\u001b[1;33m    pokemons = ## your code here\u001b[0m\n\u001b[1;37m               ^\u001b[0m\n\u001b[1;31mSyntaxError\u001b[0m\u001b[1;31m:\u001b[0m invalid syntax\n"
     ]
    }
   ],
   "source": [
    "## your code here\n",
    "\n",
    "pokemons = ## your code here\n",
    "\n",
    "# TEST\n",
    "print(\"load_all_pokemons\")\n",
    "test(len(pokemons), 750)\n",
    "test(type(pokemons[0]), Pokemon)"
   ]
  },
  {
   "cell_type": "code",
   "execution_count": 183,
   "metadata": {},
   "outputs": [
    {
     "name": "stdout",
     "output_type": "stream",
     "text": [
      "load_all_pokemons\n",
      "   FAIL  got: 293 expected: 750\n",
      "   FAIL  got: <class 'str'> expected: <class '__main__.Pokemon'>\n"
     ]
    }
   ],
   "source": [
    "## your code here\n",
    "import os\n",
    "pokefile = os.path.join(\"..\",\"data\", \"pokeworld\")\n",
    "\n",
    "import glob\n",
    "pokemons = [f for f in glob.glob('{}/**/*.txt'.format(pokefile), recursive=True)]\n",
    "\n",
    "\n",
    "#folder = os.path.join(\"..\", \"data\", \"folders\")\n",
    "#for filename in glob.glob('{}/**/*.txt'.format(folder), recursive=True):\n",
    "#    print(filename)\n",
    "# recursive=True: it will check every single folder that we have in that file\n",
    "\n",
    "# TEST\n",
    "print(\"load_all_pokemons\")\n",
    "test(len(pokemons), 750)\n",
    "test(type(pokemons[0]), Pokemon)"
   ]
  },
  {
   "cell_type": "code",
   "execution_count": 184,
   "metadata": {},
   "outputs": [
    {
     "name": "stdout",
     "output_type": "stream",
     "text": [
      "load_all_pokemons\n",
      "   FAIL  got: 293 expected: 750\n",
      "   FAIL  got: <class 'type'> expected: <class '__main__.Pokemon'>\n"
     ]
    }
   ],
   "source": [
    "# MC\n",
    "import glob\n",
    "\n",
    "folder = \"../data/pokeworld\"\n",
    "pokefiles = glob.glob('{}/**/*.txt'.format(folder), recursive=True)\n",
    "pokemons = [Pokemon for f in pokefiles] # remember that 'Pokemon' is a class defined above.\n",
    "\n",
    "# TEST\n",
    "print(\"load_all_pokemons\")\n",
    "test(len(pokemons), 750)  # pokemons is a list of 750 objects\n",
    "test(type(pokemons[0]), Pokemon) # check if the first item in 'pokemons' has the same characteristics as Pokemon class"
   ]
  },
  {
   "cell_type": "code",
   "execution_count": 185,
   "metadata": {},
   "outputs": [
    {
     "data": {
      "text/plain": [
       "[__main__.Pokemon,\n",
       " __main__.Pokemon,\n",
       " __main__.Pokemon,\n",
       " __main__.Pokemon,\n",
       " __main__.Pokemon,\n",
       " __main__.Pokemon,\n",
       " __main__.Pokemon,\n",
       " __main__.Pokemon,\n",
       " __main__.Pokemon,\n",
       " __main__.Pokemon,\n",
       " __main__.Pokemon,\n",
       " __main__.Pokemon,\n",
       " __main__.Pokemon,\n",
       " __main__.Pokemon,\n",
       " __main__.Pokemon,\n",
       " __main__.Pokemon,\n",
       " __main__.Pokemon,\n",
       " __main__.Pokemon,\n",
       " __main__.Pokemon,\n",
       " __main__.Pokemon,\n",
       " __main__.Pokemon,\n",
       " __main__.Pokemon,\n",
       " __main__.Pokemon,\n",
       " __main__.Pokemon,\n",
       " __main__.Pokemon,\n",
       " __main__.Pokemon,\n",
       " __main__.Pokemon,\n",
       " __main__.Pokemon,\n",
       " __main__.Pokemon,\n",
       " __main__.Pokemon,\n",
       " __main__.Pokemon,\n",
       " __main__.Pokemon,\n",
       " __main__.Pokemon,\n",
       " __main__.Pokemon,\n",
       " __main__.Pokemon,\n",
       " __main__.Pokemon,\n",
       " __main__.Pokemon,\n",
       " __main__.Pokemon,\n",
       " __main__.Pokemon,\n",
       " __main__.Pokemon,\n",
       " __main__.Pokemon,\n",
       " __main__.Pokemon,\n",
       " __main__.Pokemon,\n",
       " __main__.Pokemon,\n",
       " __main__.Pokemon,\n",
       " __main__.Pokemon,\n",
       " __main__.Pokemon,\n",
       " __main__.Pokemon,\n",
       " __main__.Pokemon,\n",
       " __main__.Pokemon,\n",
       " __main__.Pokemon,\n",
       " __main__.Pokemon,\n",
       " __main__.Pokemon,\n",
       " __main__.Pokemon,\n",
       " __main__.Pokemon,\n",
       " __main__.Pokemon,\n",
       " __main__.Pokemon,\n",
       " __main__.Pokemon,\n",
       " __main__.Pokemon,\n",
       " __main__.Pokemon,\n",
       " __main__.Pokemon,\n",
       " __main__.Pokemon,\n",
       " __main__.Pokemon,\n",
       " __main__.Pokemon,\n",
       " __main__.Pokemon,\n",
       " __main__.Pokemon,\n",
       " __main__.Pokemon,\n",
       " __main__.Pokemon,\n",
       " __main__.Pokemon,\n",
       " __main__.Pokemon,\n",
       " __main__.Pokemon,\n",
       " __main__.Pokemon,\n",
       " __main__.Pokemon,\n",
       " __main__.Pokemon,\n",
       " __main__.Pokemon,\n",
       " __main__.Pokemon,\n",
       " __main__.Pokemon,\n",
       " __main__.Pokemon,\n",
       " __main__.Pokemon,\n",
       " __main__.Pokemon,\n",
       " __main__.Pokemon,\n",
       " __main__.Pokemon,\n",
       " __main__.Pokemon,\n",
       " __main__.Pokemon,\n",
       " __main__.Pokemon,\n",
       " __main__.Pokemon,\n",
       " __main__.Pokemon,\n",
       " __main__.Pokemon,\n",
       " __main__.Pokemon,\n",
       " __main__.Pokemon,\n",
       " __main__.Pokemon,\n",
       " __main__.Pokemon,\n",
       " __main__.Pokemon,\n",
       " __main__.Pokemon,\n",
       " __main__.Pokemon,\n",
       " __main__.Pokemon,\n",
       " __main__.Pokemon,\n",
       " __main__.Pokemon,\n",
       " __main__.Pokemon,\n",
       " __main__.Pokemon,\n",
       " __main__.Pokemon,\n",
       " __main__.Pokemon,\n",
       " __main__.Pokemon,\n",
       " __main__.Pokemon,\n",
       " __main__.Pokemon,\n",
       " __main__.Pokemon,\n",
       " __main__.Pokemon,\n",
       " __main__.Pokemon,\n",
       " __main__.Pokemon,\n",
       " __main__.Pokemon,\n",
       " __main__.Pokemon,\n",
       " __main__.Pokemon,\n",
       " __main__.Pokemon,\n",
       " __main__.Pokemon,\n",
       " __main__.Pokemon,\n",
       " __main__.Pokemon,\n",
       " __main__.Pokemon,\n",
       " __main__.Pokemon,\n",
       " __main__.Pokemon,\n",
       " __main__.Pokemon,\n",
       " __main__.Pokemon,\n",
       " __main__.Pokemon,\n",
       " __main__.Pokemon,\n",
       " __main__.Pokemon,\n",
       " __main__.Pokemon,\n",
       " __main__.Pokemon,\n",
       " __main__.Pokemon,\n",
       " __main__.Pokemon,\n",
       " __main__.Pokemon,\n",
       " __main__.Pokemon,\n",
       " __main__.Pokemon,\n",
       " __main__.Pokemon,\n",
       " __main__.Pokemon,\n",
       " __main__.Pokemon,\n",
       " __main__.Pokemon,\n",
       " __main__.Pokemon,\n",
       " __main__.Pokemon,\n",
       " __main__.Pokemon,\n",
       " __main__.Pokemon,\n",
       " __main__.Pokemon,\n",
       " __main__.Pokemon,\n",
       " __main__.Pokemon,\n",
       " __main__.Pokemon,\n",
       " __main__.Pokemon,\n",
       " __main__.Pokemon,\n",
       " __main__.Pokemon,\n",
       " __main__.Pokemon,\n",
       " __main__.Pokemon,\n",
       " __main__.Pokemon,\n",
       " __main__.Pokemon,\n",
       " __main__.Pokemon,\n",
       " __main__.Pokemon,\n",
       " __main__.Pokemon,\n",
       " __main__.Pokemon,\n",
       " __main__.Pokemon,\n",
       " __main__.Pokemon,\n",
       " __main__.Pokemon,\n",
       " __main__.Pokemon,\n",
       " __main__.Pokemon,\n",
       " __main__.Pokemon,\n",
       " __main__.Pokemon,\n",
       " __main__.Pokemon,\n",
       " __main__.Pokemon,\n",
       " __main__.Pokemon,\n",
       " __main__.Pokemon,\n",
       " __main__.Pokemon,\n",
       " __main__.Pokemon,\n",
       " __main__.Pokemon,\n",
       " __main__.Pokemon,\n",
       " __main__.Pokemon,\n",
       " __main__.Pokemon,\n",
       " __main__.Pokemon,\n",
       " __main__.Pokemon,\n",
       " __main__.Pokemon,\n",
       " __main__.Pokemon,\n",
       " __main__.Pokemon,\n",
       " __main__.Pokemon,\n",
       " __main__.Pokemon,\n",
       " __main__.Pokemon,\n",
       " __main__.Pokemon,\n",
       " __main__.Pokemon,\n",
       " __main__.Pokemon,\n",
       " __main__.Pokemon,\n",
       " __main__.Pokemon,\n",
       " __main__.Pokemon,\n",
       " __main__.Pokemon,\n",
       " __main__.Pokemon,\n",
       " __main__.Pokemon,\n",
       " __main__.Pokemon,\n",
       " __main__.Pokemon,\n",
       " __main__.Pokemon,\n",
       " __main__.Pokemon,\n",
       " __main__.Pokemon,\n",
       " __main__.Pokemon,\n",
       " __main__.Pokemon,\n",
       " __main__.Pokemon,\n",
       " __main__.Pokemon,\n",
       " __main__.Pokemon,\n",
       " __main__.Pokemon,\n",
       " __main__.Pokemon,\n",
       " __main__.Pokemon,\n",
       " __main__.Pokemon,\n",
       " __main__.Pokemon,\n",
       " __main__.Pokemon,\n",
       " __main__.Pokemon,\n",
       " __main__.Pokemon,\n",
       " __main__.Pokemon,\n",
       " __main__.Pokemon,\n",
       " __main__.Pokemon,\n",
       " __main__.Pokemon,\n",
       " __main__.Pokemon,\n",
       " __main__.Pokemon,\n",
       " __main__.Pokemon,\n",
       " __main__.Pokemon,\n",
       " __main__.Pokemon,\n",
       " __main__.Pokemon,\n",
       " __main__.Pokemon,\n",
       " __main__.Pokemon,\n",
       " __main__.Pokemon,\n",
       " __main__.Pokemon,\n",
       " __main__.Pokemon,\n",
       " __main__.Pokemon,\n",
       " __main__.Pokemon,\n",
       " __main__.Pokemon,\n",
       " __main__.Pokemon,\n",
       " __main__.Pokemon,\n",
       " __main__.Pokemon,\n",
       " __main__.Pokemon,\n",
       " __main__.Pokemon,\n",
       " __main__.Pokemon,\n",
       " __main__.Pokemon,\n",
       " __main__.Pokemon,\n",
       " __main__.Pokemon,\n",
       " __main__.Pokemon,\n",
       " __main__.Pokemon,\n",
       " __main__.Pokemon,\n",
       " __main__.Pokemon,\n",
       " __main__.Pokemon,\n",
       " __main__.Pokemon,\n",
       " __main__.Pokemon,\n",
       " __main__.Pokemon,\n",
       " __main__.Pokemon,\n",
       " __main__.Pokemon,\n",
       " __main__.Pokemon,\n",
       " __main__.Pokemon,\n",
       " __main__.Pokemon,\n",
       " __main__.Pokemon,\n",
       " __main__.Pokemon,\n",
       " __main__.Pokemon,\n",
       " __main__.Pokemon,\n",
       " __main__.Pokemon,\n",
       " __main__.Pokemon,\n",
       " __main__.Pokemon,\n",
       " __main__.Pokemon,\n",
       " __main__.Pokemon,\n",
       " __main__.Pokemon,\n",
       " __main__.Pokemon,\n",
       " __main__.Pokemon,\n",
       " __main__.Pokemon,\n",
       " __main__.Pokemon,\n",
       " __main__.Pokemon,\n",
       " __main__.Pokemon,\n",
       " __main__.Pokemon,\n",
       " __main__.Pokemon,\n",
       " __main__.Pokemon,\n",
       " __main__.Pokemon,\n",
       " __main__.Pokemon,\n",
       " __main__.Pokemon,\n",
       " __main__.Pokemon,\n",
       " __main__.Pokemon,\n",
       " __main__.Pokemon,\n",
       " __main__.Pokemon,\n",
       " __main__.Pokemon,\n",
       " __main__.Pokemon,\n",
       " __main__.Pokemon,\n",
       " __main__.Pokemon,\n",
       " __main__.Pokemon,\n",
       " __main__.Pokemon,\n",
       " __main__.Pokemon,\n",
       " __main__.Pokemon,\n",
       " __main__.Pokemon,\n",
       " __main__.Pokemon,\n",
       " __main__.Pokemon,\n",
       " __main__.Pokemon,\n",
       " __main__.Pokemon,\n",
       " __main__.Pokemon,\n",
       " __main__.Pokemon,\n",
       " __main__.Pokemon,\n",
       " __main__.Pokemon,\n",
       " __main__.Pokemon,\n",
       " __main__.Pokemon,\n",
       " __main__.Pokemon,\n",
       " __main__.Pokemon]"
      ]
     },
     "execution_count": 185,
     "metadata": {},
     "output_type": "execute_result"
    }
   ],
   "source": [
    "pokemons"
   ]
  },
  {
   "cell_type": "markdown",
   "metadata": {},
   "source": [
    "#### Exercise 4 - Provide insights\n",
    "\n",
    "Now that we have a list of pokemon, let's answer some questions!\n",
    "\n",
    "1. In which country is Pikachu?\n",
    "2. How many pokemons in Malaysia?\n",
    "3. How many pokemons in Asia?\n",
    "4. Which continent has the most pokemons?\n",
    "5. Which country has least pokemons?\n",
    "6. Which countries have bigdata?"
   ]
  },
  {
   "cell_type": "markdown",
   "metadata": {},
   "source": [
    "4.1 In which country is Pikachu?"
   ]
  },
  {
   "cell_type": "code",
   "execution_count": 186,
   "metadata": {},
   "outputs": [
    {
     "ename": "IndexError",
     "evalue": "list index out of range",
     "output_type": "error",
     "traceback": [
      "\u001b[1;31m---------------------------------------------------------------------------\u001b[0m",
      "\u001b[1;31mIndexError\u001b[0m                                Traceback (most recent call last)",
      "Input \u001b[1;32mIn [186]\u001b[0m, in \u001b[0;36m<cell line: 3>\u001b[1;34m()\u001b[0m\n\u001b[0;32m      1\u001b[0m \u001b[38;5;66;03m# MC\u001b[39;00m\n\u001b[0;32m      2\u001b[0m \u001b[38;5;66;03m# get the first item which is also a pokemon object from the list\u001b[39;00m\n\u001b[1;32m----> 3\u001b[0m pikachu\u001b[38;5;241m=\u001b[39m \u001b[43m[\u001b[49m\u001b[43mp\u001b[49m\u001b[43m \u001b[49m\u001b[38;5;28;43;01mfor\u001b[39;49;00m\u001b[43m \u001b[49m\u001b[43mp\u001b[49m\u001b[43m \u001b[49m\u001b[38;5;129;43;01min\u001b[39;49;00m\u001b[43m \u001b[49m\u001b[43mpokemons\u001b[49m\u001b[43m \u001b[49m\u001b[38;5;28;43;01mif\u001b[39;49;00m\u001b[43m \u001b[49m\u001b[43mname\u001b[49m\u001b[43m \u001b[49m\u001b[38;5;241;43m==\u001b[39;49m\u001b[43m \u001b[49m\u001b[38;5;124;43m\"\u001b[39;49m\u001b[38;5;124;43mPikachu\u001b[39;49m\u001b[38;5;124;43m\"\u001b[39;49m\u001b[43m]\u001b[49m\u001b[43m[\u001b[49m\u001b[38;5;241;43m0\u001b[39;49m\u001b[43m]\u001b[49m  \n\u001b[0;32m      5\u001b[0m pikachu\u001b[38;5;241m.\u001b[39mcountry\n",
      "\u001b[1;31mIndexError\u001b[0m: list index out of range"
     ]
    }
   ],
   "source": [
    "# MC\n",
    "# get the first item which is also a pokemon object from the list\n",
    "pikachu= [p for p in pokemons if name == \"Pikachu\"][0]  \n",
    "\n",
    "pikachu.country"
   ]
  },
  {
   "cell_type": "markdown",
   "metadata": {},
   "source": [
    "4.2 How many pokemons in Malaysia?"
   ]
  },
  {
   "cell_type": "code",
   "execution_count": 187,
   "metadata": {},
   "outputs": [
    {
     "ename": "AttributeError",
     "evalue": "type object 'Pokemon' has no attribute 'country'",
     "output_type": "error",
     "traceback": [
      "\u001b[1;31m---------------------------------------------------------------------------\u001b[0m",
      "\u001b[1;31mAttributeError\u001b[0m                            Traceback (most recent call last)",
      "Input \u001b[1;32mIn [187]\u001b[0m, in \u001b[0;36m<cell line: 3>\u001b[1;34m()\u001b[0m\n\u001b[0;32m      1\u001b[0m \u001b[38;5;66;03m# MC\u001b[39;00m\n\u001b[1;32m----> 3\u001b[0m malaysians \u001b[38;5;241m=\u001b[39m [p \u001b[38;5;28;01mfor\u001b[39;00m p \u001b[38;5;129;01min\u001b[39;00m pokemons \u001b[38;5;28;01mif\u001b[39;00m p\u001b[38;5;241m.\u001b[39mcountry \u001b[38;5;241m==\u001b[39m \u001b[38;5;124m\"\u001b[39m\u001b[38;5;124mMalaysia\u001b[39m\u001b[38;5;124m\"\u001b[39m] \u001b[38;5;66;03m# remember that 'pokemons' are objects\u001b[39;00m\n\u001b[0;32m      5\u001b[0m \u001b[38;5;28mlen\u001b[39m(malaysians)\n",
      "Input \u001b[1;32mIn [187]\u001b[0m, in \u001b[0;36m<listcomp>\u001b[1;34m(.0)\u001b[0m\n\u001b[0;32m      1\u001b[0m \u001b[38;5;66;03m# MC\u001b[39;00m\n\u001b[1;32m----> 3\u001b[0m malaysians \u001b[38;5;241m=\u001b[39m [p \u001b[38;5;28;01mfor\u001b[39;00m p \u001b[38;5;129;01min\u001b[39;00m pokemons \u001b[38;5;28;01mif\u001b[39;00m \u001b[43mp\u001b[49m\u001b[38;5;241;43m.\u001b[39;49m\u001b[43mcountry\u001b[49m \u001b[38;5;241m==\u001b[39m \u001b[38;5;124m\"\u001b[39m\u001b[38;5;124mMalaysia\u001b[39m\u001b[38;5;124m\"\u001b[39m] \u001b[38;5;66;03m# remember that 'pokemons' are objects\u001b[39;00m\n\u001b[0;32m      5\u001b[0m \u001b[38;5;28mlen\u001b[39m(malaysians)\n",
      "\u001b[1;31mAttributeError\u001b[0m: type object 'Pokemon' has no attribute 'country'"
     ]
    }
   ],
   "source": [
    "# MC\n",
    "\n",
    "malaysians = [p for p in pokemons if p.country == \"Malaysia\"] # remember that 'pokemons' are objects\n",
    "\n",
    "len(malaysians) "
   ]
  },
  {
   "cell_type": "markdown",
   "metadata": {},
   "source": [
    "4.3 How many pokemons in Asia?"
   ]
  },
  {
   "cell_type": "code",
   "execution_count": 188,
   "metadata": {},
   "outputs": [
    {
     "ename": "AttributeError",
     "evalue": "type object 'Pokemon' has no attribute 'continent'",
     "output_type": "error",
     "traceback": [
      "\u001b[1;31m---------------------------------------------------------------------------\u001b[0m",
      "\u001b[1;31mAttributeError\u001b[0m                            Traceback (most recent call last)",
      "Input \u001b[1;32mIn [188]\u001b[0m, in \u001b[0;36m<cell line: 3>\u001b[1;34m()\u001b[0m\n\u001b[0;32m      1\u001b[0m \u001b[38;5;66;03m# MC\u001b[39;00m\n\u001b[1;32m----> 3\u001b[0m asians \u001b[38;5;241m=\u001b[39m [p \u001b[38;5;28;01mfor\u001b[39;00m p \u001b[38;5;129;01min\u001b[39;00m pokemons \u001b[38;5;28;01mif\u001b[39;00m p\u001b[38;5;241m.\u001b[39mcontinent \u001b[38;5;241m==\u001b[39m \u001b[38;5;124m\"\u001b[39m\u001b[38;5;124mAsia\u001b[39m\u001b[38;5;124m\"\u001b[39m]\n\u001b[0;32m      5\u001b[0m \u001b[38;5;28mlen\u001b[39m(asians)\n",
      "Input \u001b[1;32mIn [188]\u001b[0m, in \u001b[0;36m<listcomp>\u001b[1;34m(.0)\u001b[0m\n\u001b[0;32m      1\u001b[0m \u001b[38;5;66;03m# MC\u001b[39;00m\n\u001b[1;32m----> 3\u001b[0m asians \u001b[38;5;241m=\u001b[39m [p \u001b[38;5;28;01mfor\u001b[39;00m p \u001b[38;5;129;01min\u001b[39;00m pokemons \u001b[38;5;28;01mif\u001b[39;00m \u001b[43mp\u001b[49m\u001b[38;5;241;43m.\u001b[39;49m\u001b[43mcontinent\u001b[49m \u001b[38;5;241m==\u001b[39m \u001b[38;5;124m\"\u001b[39m\u001b[38;5;124mAsia\u001b[39m\u001b[38;5;124m\"\u001b[39m]\n\u001b[0;32m      5\u001b[0m \u001b[38;5;28mlen\u001b[39m(asians)\n",
      "\u001b[1;31mAttributeError\u001b[0m: type object 'Pokemon' has no attribute 'continent'"
     ]
    }
   ],
   "source": [
    "# MC\n",
    "\n",
    "asians = [p for p in pokemons if p.continent == \"Asia\"]\n",
    "\n",
    "len(asians)"
   ]
  },
  {
   "cell_type": "markdown",
   "metadata": {},
   "source": [
    "4.4 Which continent has the most pokemons?\n",
    "\n",
    "Hints: \n",
    "- make a dictionary continents for the count\n",
    "- continents.setdefault\n",
    "- sorted(continens.items(), key=... , reverse=True)"
   ]
  },
  {
   "cell_type": "code",
   "execution_count": 189,
   "metadata": {},
   "outputs": [
    {
     "ename": "AttributeError",
     "evalue": "type object 'Pokemon' has no attribute 'continent'",
     "output_type": "error",
     "traceback": [
      "\u001b[1;31m---------------------------------------------------------------------------\u001b[0m",
      "\u001b[1;31mAttributeError\u001b[0m                            Traceback (most recent call last)",
      "Input \u001b[1;32mIn [189]\u001b[0m, in \u001b[0;36m<cell line: 5>\u001b[1;34m()\u001b[0m\n\u001b[0;32m      3\u001b[0m continents \u001b[38;5;241m=\u001b[39m {}\n\u001b[0;32m      5\u001b[0m \u001b[38;5;28;01mfor\u001b[39;00m p \u001b[38;5;129;01min\u001b[39;00m pokemons:\n\u001b[1;32m----> 6\u001b[0m     continents\u001b[38;5;241m.\u001b[39msetdefault(\u001b[43mp\u001b[49m\u001b[38;5;241;43m.\u001b[39;49m\u001b[43mcontinent\u001b[49m, \u001b[38;5;241m0\u001b[39m) \u001b[38;5;66;03m# if p.continent not found, insert 0\u001b[39;00m\n\u001b[0;32m      7\u001b[0m     continents[p\u001b[38;5;241m.\u001b[39mcontinent] \u001b[38;5;241m+\u001b[39m\u001b[38;5;241m=\u001b[39m \u001b[38;5;241m1\u001b[39m\n\u001b[0;32m      9\u001b[0m \u001b[38;5;28msorted\u001b[39m(continents\u001b[38;5;241m.\u001b[39mitems(), key\u001b[38;5;241m=\u001b[39m\u001b[38;5;28;01mlambda\u001b[39;00m x: x[\u001b[38;5;241m-\u001b[39m\u001b[38;5;241m1\u001b[39m], reverse\u001b[38;5;241m=\u001b[39m\u001b[38;5;28;01mTrue\u001b[39;00m)[\u001b[38;5;241m0\u001b[39m]\n",
      "\u001b[1;31mAttributeError\u001b[0m: type object 'Pokemon' has no attribute 'continent'"
     ]
    }
   ],
   "source": [
    "# MC\n",
    "\n",
    "continents = {}\n",
    "\n",
    "for p in pokemons:\n",
    "    continents.setdefault(p.continent, 0) # if p.continent not found, insert 0\n",
    "    continents[p.continent] += 1\n",
    "\n",
    "sorted(continents.items(), key=lambda x: x[-1], reverse=True)[0]"
   ]
  },
  {
   "cell_type": "markdown",
   "metadata": {},
   "source": [
    "4.5 Which country has the least pokemon?"
   ]
  },
  {
   "cell_type": "code",
   "execution_count": 190,
   "metadata": {},
   "outputs": [
    {
     "ename": "AttributeError",
     "evalue": "type object 'Pokemon' has no attribute 'country'",
     "output_type": "error",
     "traceback": [
      "\u001b[1;31m---------------------------------------------------------------------------\u001b[0m",
      "\u001b[1;31mAttributeError\u001b[0m                            Traceback (most recent call last)",
      "Input \u001b[1;32mIn [190]\u001b[0m, in \u001b[0;36m<cell line: 5>\u001b[1;34m()\u001b[0m\n\u001b[0;32m      3\u001b[0m countries \u001b[38;5;241m=\u001b[39m {}\n\u001b[0;32m      5\u001b[0m \u001b[38;5;28;01mfor\u001b[39;00m p \u001b[38;5;129;01min\u001b[39;00m pokemons:\n\u001b[1;32m----> 6\u001b[0m     countries\u001b[38;5;241m.\u001b[39msetdefault(\u001b[43mp\u001b[49m\u001b[38;5;241;43m.\u001b[39;49m\u001b[43mcountry\u001b[49m, \u001b[38;5;241m0\u001b[39m)\n\u001b[0;32m      7\u001b[0m     countries[p\u001b[38;5;241m.\u001b[39mcountry] \u001b[38;5;241m+\u001b[39m\u001b[38;5;241m=\u001b[39m\u001b[38;5;241m1\u001b[39m\n\u001b[0;32m      9\u001b[0m \u001b[38;5;28msorted\u001b[39m(countries\u001b[38;5;241m.\u001b[39mitems(), key\u001b[38;5;241m=\u001b[39m\u001b[38;5;28;01mlambda\u001b[39;00m x:x[\u001b[38;5;241m-\u001b[39m\u001b[38;5;241m1\u001b[39m])[\u001b[38;5;241m0\u001b[39m]\n",
      "\u001b[1;31mAttributeError\u001b[0m: type object 'Pokemon' has no attribute 'country'"
     ]
    }
   ],
   "source": [
    "# MC\n",
    "\n",
    "countries = {}\n",
    "\n",
    "for p in pokemons:\n",
    "    countries.setdefault(p.country, 0)\n",
    "    countries[p.country] +=1\n",
    "    \n",
    "sorted(countries.items(), key=lambda x:x[-1])[0]"
   ]
  },
  {
   "cell_type": "markdown",
   "metadata": {},
   "source": [
    "4.6 Which countries have big data?\n",
    "\n",
    "Hints: set() to get unique values of a list."
   ]
  },
  {
   "cell_type": "code",
   "execution_count": 191,
   "metadata": {},
   "outputs": [
    {
     "ename": "TypeError",
     "evalue": "is_big_data() missing 1 required positional argument: 'self'",
     "output_type": "error",
     "traceback": [
      "\u001b[1;31m---------------------------------------------------------------------------\u001b[0m",
      "\u001b[1;31mTypeError\u001b[0m                                 Traceback (most recent call last)",
      "Input \u001b[1;32mIn [191]\u001b[0m, in \u001b[0;36m<cell line: 3>\u001b[1;34m()\u001b[0m\n\u001b[0;32m      1\u001b[0m \u001b[38;5;66;03m# MC\u001b[39;00m\n\u001b[1;32m----> 3\u001b[0m bigdata \u001b[38;5;241m=\u001b[39m \u001b[38;5;28mset\u001b[39m([p\u001b[38;5;241m.\u001b[39mcountry \u001b[38;5;28;01mfor\u001b[39;00m p \u001b[38;5;129;01min\u001b[39;00m pokemons \u001b[38;5;28;01mif\u001b[39;00m p\u001b[38;5;241m.\u001b[39mis_big_data()])\n\u001b[0;32m      4\u001b[0m bigdata\n",
      "Input \u001b[1;32mIn [191]\u001b[0m, in \u001b[0;36m<listcomp>\u001b[1;34m(.0)\u001b[0m\n\u001b[0;32m      1\u001b[0m \u001b[38;5;66;03m# MC\u001b[39;00m\n\u001b[1;32m----> 3\u001b[0m bigdata \u001b[38;5;241m=\u001b[39m \u001b[38;5;28mset\u001b[39m([p\u001b[38;5;241m.\u001b[39mcountry \u001b[38;5;28;01mfor\u001b[39;00m p \u001b[38;5;129;01min\u001b[39;00m pokemons \u001b[38;5;28;01mif\u001b[39;00m \u001b[43mp\u001b[49m\u001b[38;5;241;43m.\u001b[39;49m\u001b[43mis_big_data\u001b[49m\u001b[43m(\u001b[49m\u001b[43m)\u001b[49m])\n\u001b[0;32m      4\u001b[0m bigdata\n",
      "\u001b[1;31mTypeError\u001b[0m: is_big_data() missing 1 required positional argument: 'self'"
     ]
    }
   ],
   "source": [
    "# MC\n",
    "\n",
    "bigdata = set([p.country for p in pokemons if p.is_big_data()])\n",
    "bigdata"
   ]
  },
  {
   "cell_type": "markdown",
   "metadata": {},
   "source": [
    "# Well done! Congrats on completing Python Fundamentals!"
   ]
  }
 ],
 "metadata": {
  "kernelspec": {
   "display_name": "Python 3 (ipykernel)",
   "language": "python",
   "name": "python3"
  },
  "language_info": {
   "codemirror_mode": {
    "name": "ipython",
    "version": 3
   },
   "file_extension": ".py",
   "mimetype": "text/x-python",
   "name": "python",
   "nbconvert_exporter": "python",
   "pygments_lexer": "ipython3",
   "version": "3.9.12"
  }
 },
 "nbformat": 4,
 "nbformat_minor": 2
}
